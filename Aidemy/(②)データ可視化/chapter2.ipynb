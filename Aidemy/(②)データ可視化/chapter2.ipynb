{
 "cells": [
  {
   "cell_type": "code",
   "execution_count": null,
   "metadata": {},
   "outputs": [],
   "source": [
    "# plt.show()で可視化されない人はこのセルを実行してください。\n",
    "%matplotlib inline"
   ]
  },
  {
   "cell_type": "markdown",
   "metadata": {
    "chapterId": "H1NeLCPx07M",
    "id": "chapter_name"
   },
   "source": [
    "# matplotlibの使い方"
   ]
  },
  {
   "cell_type": "markdown",
   "metadata": {
    "id": "table"
   },
   "source": [
    "- **[2.1 1種類のデータを可視化する](#2.1-1種類のデータを可視化する)**\n",
    "    - **[2.1.1 グラフにデータをプロットする](#2.1.1-グラフにデータをプロットする)**\n",
    "    - **[2.1.2 グラフの表示範囲を設定する](#2.1.2-グラフの表示範囲を設定する)**\n",
    "    - **[2.1.3 グラフの要素に名前を設定する](#2.1.3-グラフの要素に名前を設定する)**\n",
    "    - **[2.1.4 グラフにグリッドを表示する](#2.1.4-グラフにグリッドを表示する)**\n",
    "    - **[2.1.5 グラフの軸にラベルを設定する](#2.1.5-グラフの軸にラベルを設定する)**\n",
    "<br><br>\n",
    "- **[2.2 複数のデータを可視化する1](#2.2-複数のデータを可視化する1)**\n",
    "    - **[2.2.1 1つのグラフに複数のデータをプロットする](#2.2.1-1つのグラフに複数のデータをプロットする)**\n",
    "    - **[2.2.2 系列ラベルを設定する](#2.2.2-系列ラベルを設定する)**\n",
    "<br><br>\n",
    "- **[2.3 複数のデータを可視化する2](#2.3-複数のデータを可視化する2)**\n",
    "    - **[2.3.1 図の大きさを設定する](#2.3.1-図の大きさを設定する)**\n",
    "    - **[2.3.2 サブプロットを作成する](#2.3.2-サブプロットを作成する)**\n",
    "    - **[2.3.3 サブプロットのまわりの余白を調整する](#2.3.3-サブプロットのまわりの余白を調整する)**\n",
    "    - **[2.3.4 サブプロット内のグラフの表示範囲を設定する](#2.3.4-サブプロット内のグラフの表示範囲を設定する)**\n",
    "    - **[2.3.5 サブプロット内のグラフの要素に名前を設定する](#2.3.5-サブプロット内のグラフの要素に名前を設定する)**\n",
    "    - **[2.3.6 サブプロット内のグラフにグリッドを表示する](#2.3.6-サブプロット内のグラフにグリッドを表示する)**\n",
    "    - **[2.3.7 サブプロット内のグラフの軸に目盛りを設定する](#2.3.7-サブプロット内のグラフの軸に目盛りを設定する)**"
   ]
  },
  {
   "cell_type": "markdown",
   "metadata": {},
   "source": [
    "***"
   ]
  },
  {
   "cell_type": "markdown",
   "metadata": {
    "id": "section_name",
    "sectionId": "S1HxUAPlC7M"
   },
   "source": [
    "## 2.1 1種類のデータを可視化する"
   ]
  },
  {
   "cell_type": "markdown",
   "metadata": {
    "courseId": 4040,
    "exerciseId": "r1IgLRDe0mf",
    "id": "code_session_name",
    "important": false,
    "isDL": false,
    "timeoutSecs": 10
   },
   "source": [
    "### 2.1.1 グラフにデータをプロットする"
   ]
  },
  {
   "cell_type": "markdown",
   "metadata": {
    "id": "description"
   },
   "source": [
    "<b>データ分析を行う上でデータを視覚化することはとても有効</b>な手段の一つです。 <br>\n",
    "ライブラリ<b style='color:#AA0000'>Matplotlib</b>（マットプロットリブ）にはデータを視覚化するための機能が豊富に揃っています。<br>\n",
    "<br>\n",
    "`matplotlib.pyplot.plot(x軸に対応するデータ, y軸に対応するデータ)` を用いることでグラフのx軸（横軸）とy軸（縦軸）にデータを対応させて簡単にグラフを作成することができます。<br>\n",
    "作成したグラフを画面に表示するには`matplotlib.pyplot.show()`を使用します。"
   ]
  },
  {
   "cell_type": "markdown",
   "metadata": {},
   "source": [
    "#### 問題"
   ]
  },
  {
   "cell_type": "markdown",
   "metadata": {
    "id": "question"
   },
   "source": [
    "- 最初に`matplotlib.pyplot`を`plt`として`import`してください。\n",
    "- `plt.plot()`を用いてx軸に変数`x` 、y軸に変数`y` のデータを対応させてグラフを作成してください。"
   ]
  },
  {
   "cell_type": "code",
   "execution_count": null,
   "metadata": {
    "id": "index"
   },
   "outputs": [],
   "source": [
    "# matplotlib.pyplotをpltとしてimportしてください\n",
    "import\n",
    "import numpy as np\n",
    "\n",
    "x = np.linspace(0, 2*np.pi)\n",
    "y = np.sin(x)\n",
    "\n",
    "# データx, yをグラフにプロットし、表示してください\n",
    "\n",
    "\n",
    "plt.show()"
   ]
  },
  {
   "cell_type": "markdown",
   "metadata": {},
   "source": [
    "#### ヒント"
   ]
  },
  {
   "cell_type": "markdown",
   "metadata": {
    "id": "hint"
   },
   "source": [
    "- `plt.plot(x軸に対応するデータ, y軸に対応するデータ)` と指定してグラフを作成します\n",
    "- `plt.show()` で表示します"
   ]
  },
  {
   "cell_type": "markdown",
   "metadata": {},
   "source": [
    "#### 解答例"
   ]
  },
  {
   "cell_type": "code",
   "execution_count": null,
   "metadata": {
    "id": "answer"
   },
   "outputs": [],
   "source": [
    "# matplotlib.pyplotをpltとしてimportしてください\n",
    "import matplotlib.pyplot as plt\n",
    "import numpy as np\n",
    "\n",
    "x = np.linspace(0, 2*np.pi)\n",
    "y = np.sin(x)\n",
    "\n",
    "# データx, yをグラフにプロットし、表示してください\n",
    "plt.plot(x, y)\n",
    "\n",
    "plt.show()"
   ]
  },
  {
   "cell_type": "markdown",
   "metadata": {},
   "source": [
    "***"
   ]
  },
  {
   "cell_type": "markdown",
   "metadata": {
    "courseId": 4040,
    "exerciseId": "r1wgUADeAQG",
    "id": "code_session_name",
    "important": false,
    "isDL": false,
    "timeoutSecs": 10
   },
   "source": [
    "### 2.1.2 グラフの表示範囲を設定する"
   ]
  },
  {
   "cell_type": "markdown",
   "metadata": {
    "id": "description"
   },
   "source": [
    "`matplotlib.pyplot`を用いてグラフを作成する際、<b>グラフの表示範囲は自動で設定</b>されます。<br>\n",
    "それぞれの軸に割り当てたデータ（リスト）の`min()`および`max()`が表示範囲の最小値と最大値になるため、<b>データのすべての部分が自動で可視化</b>されます。<br>\n",
    "しかし、グラフの一部だけを表示したい場合もあります。その場合は`matplotlib.pyplot.xlim([始まりの値, 終わりの値])`と指定して、グラフの表示範囲を設定します。<br>\n",
    "`xlim`はx軸の範囲を指定する関数です。y軸の範囲を指定する場合は、`ylim`を使用します。"
   ]
  },
  {
   "cell_type": "markdown",
   "metadata": {},
   "source": [
    "#### 問題"
   ]
  },
  {
   "cell_type": "markdown",
   "metadata": {
    "id": "question"
   },
   "source": [
    "- `plt.plot()`を用いて x軸に変数x、y軸に変数y のデータを対応させてください。また、y軸の表示範囲を`[0, 1]`にしてください。"
   ]
  },
  {
   "cell_type": "code",
   "execution_count": null,
   "metadata": {
    "id": "index"
   },
   "outputs": [],
   "source": [
    "# matplotlib.pyplotをpltとしてimport\n",
    "import matplotlib.pyplot as plt\n",
    "import numpy as np\n",
    "\n",
    "# np.piは円周率を表す\n",
    "x = np.linspace(0, 2*np.pi)\n",
    "y = np.sin(x)\n",
    "\n",
    "# y軸の表示範囲を[0, 1]に指定してください\n",
    "\n",
    "\n",
    "# データx, yをグラフにプロットし、表示する\n",
    "plt.plot(x, y)\n",
    "plt.show()"
   ]
  },
  {
   "cell_type": "markdown",
   "metadata": {},
   "source": [
    "#### ヒント"
   ]
  },
  {
   "cell_type": "markdown",
   "metadata": {
    "id": "hint"
   },
   "source": [
    "- y軸の表示範囲は`plot.ylim([表示範囲])`と指定します。"
   ]
  },
  {
   "cell_type": "markdown",
   "metadata": {},
   "source": [
    "#### 解答例"
   ]
  },
  {
   "cell_type": "code",
   "execution_count": null,
   "metadata": {
    "id": "answer",
    "scrolled": true
   },
   "outputs": [],
   "source": [
    "# matplotlib.pyplotをpltとしてimport\n",
    "import matplotlib.pyplot as plt\n",
    "import numpy as np\n",
    "\n",
    "# np.piは円周率を表す\n",
    "x = np.linspace(0, 2*np.pi)\n",
    "y = np.sin(x)\n",
    "\n",
    "# y軸の表示範囲を[0, 1]に指定してください\n",
    "plt.ylim([0, 1])\n",
    "\n",
    "# データx, yをグラフにプロットし、表示する\n",
    "plt.plot(x, y)\n",
    "plt.show()"
   ]
  },
  {
   "cell_type": "markdown",
   "metadata": {},
   "source": [
    "***"
   ]
  },
  {
   "cell_type": "markdown",
   "metadata": {
    "courseId": 4040,
    "exerciseId": "HJdxU0DgAXf",
    "id": "code_session_name",
    "important": false,
    "isDL": false,
    "timeoutSecs": 10
   },
   "source": [
    "### 2.1.3 グラフの要素に名前を設定する"
   ]
  },
  {
   "cell_type": "markdown",
   "metadata": {
    "id": "description"
   },
   "source": [
    "見やすいグラフにはタイトルがついていたり、それぞれの軸が何を表しているのかラベルが示されています。<br>\n",
    "`matplotlib.pyplot`には、<b>グラフの様々な要素に名前を設定</b>できるメソッドが数多く用意されています。<br>\n",
    "\n",
    "例えば、<br>\n",
    "グラフのタイトルは`matplotlib.pyplot.title(\"タイトル\")`<br>\n",
    "グラフのx軸のラベルは`matplotlib.pyplot.xlabel(\"x軸のラベル\")`<br>\n",
    "などです。"
   ]
  },
  {
   "cell_type": "markdown",
   "metadata": {},
   "source": [
    "#### 問題"
   ]
  },
  {
   "cell_type": "markdown",
   "metadata": {
    "id": "question"
   },
   "source": [
    "- グラフのタイトルに \"y=sin(x)(0 < y < 1)\" と設定してください。\n",
    "- グラフのx軸に \"x-axis\"、y軸に \"y-axis\" とラベルを設定してください。"
   ]
  },
  {
   "cell_type": "code",
   "execution_count": null,
   "metadata": {
    "id": "index"
   },
   "outputs": [],
   "source": [
    "# matplotlib.pyplotをpltとしてimport\n",
    "import matplotlib.pyplot as plt\n",
    "import numpy as np\n",
    "\n",
    "x = np.linspace(0, 2*np.pi)\n",
    "y = np.sin(x)\n",
    "\n",
    "# グラフのタイトルを設定してください\n",
    "\n",
    "\n",
    "# グラフのx軸とy軸にラベルを設定してください\n",
    "\n",
    "\n",
    "\n",
    "# y軸の表示範囲を[0, 1]に指定する\n",
    "plt.ylim([0, 1])\n",
    "# データx, yをグラフにプロットし、表示する\n",
    "plt.plot(x, y)\n",
    "plt.show()"
   ]
  },
  {
   "cell_type": "markdown",
   "metadata": {},
   "source": [
    "#### ヒント"
   ]
  },
  {
   "cell_type": "markdown",
   "metadata": {
    "id": "hint"
   },
   "source": [
    "- `plt.title(\"タイトル\")`でタイトルを設定します\n",
    "- `plt.xlabel(\"x軸のラベル\")`でx軸のラベルを設定します\n",
    "- `plt.ylabel(\"y軸のラベル\")`でy軸のラベルを設定します"
   ]
  },
  {
   "cell_type": "markdown",
   "metadata": {},
   "source": [
    "#### 解答例"
   ]
  },
  {
   "cell_type": "code",
   "execution_count": null,
   "metadata": {
    "id": "answer",
    "scrolled": true
   },
   "outputs": [],
   "source": [
    "# matplotlib.pyplotをpltとしてimport\n",
    "import matplotlib.pyplot as plt\n",
    "import numpy as np\n",
    "\n",
    "x = np.linspace(0, 2*np.pi)\n",
    "y = np.sin(x)\n",
    "\n",
    "# グラフのタイトルを設定してください\n",
    "plt.title(\"y=sin(x)(0 < y < 1)\")\n",
    "\n",
    "# グラフのx軸とy軸にラベルを設定してください\n",
    "plt.xlabel(\"x-axis\")\n",
    "plt.ylabel(\"y-axis\")\n",
    "\n",
    "# y軸の表示範囲を[0, 1]に指定する\n",
    "plt.ylim([0, 1])\n",
    "# データx, yをグラフにプロットし、表示する\n",
    "plt.plot(x, y)\n",
    "plt.show()"
   ]
  },
  {
   "cell_type": "markdown",
   "metadata": {},
   "source": [
    "***"
   ]
  },
  {
   "cell_type": "markdown",
   "metadata": {
    "courseId": 4040,
    "exerciseId": "ryYlL0vxCXz",
    "id": "code_session_name",
    "important": false,
    "isDL": false,
    "timeoutSecs": 10
   },
   "source": [
    "### 2.1.4 グラフにグリッドを表示する"
   ]
  },
  {
   "cell_type": "markdown",
   "metadata": {
    "id": "description"
   },
   "source": [
    "見やすいグラフには<b style='color:#AA0000'>グリッド（目盛線）</b>が表示されています。<br>\n",
    "`matplotlib.pyplot.grid(True)`と指定するとグリッドが表示できます。デフォルトではグリッドは表示されません。"
   ]
  },
  {
   "cell_type": "markdown",
   "metadata": {},
   "source": [
    "#### 問題"
   ]
  },
  {
   "cell_type": "markdown",
   "metadata": {
    "id": "question"
   },
   "source": [
    "- グラフにグリッドを表示してください。"
   ]
  },
  {
   "cell_type": "code",
   "execution_count": null,
   "metadata": {
    "id": "index"
   },
   "outputs": [],
   "source": [
    "# matplotlib.pyplotをpltとしてimport\n",
    "import matplotlib.pyplot as plt\n",
    "import numpy as np\n",
    "\n",
    "x = np.linspace(0, 2*np.pi)\n",
    "y = np.sin(x)\n",
    "\n",
    "# グラフのタイトルを設定する\n",
    "plt.title(\"y=sin(x)\")\n",
    "# グラフのx軸とy軸にラベルを設定する\n",
    "plt.xlabel(\"x-axis\")\n",
    "plt.ylabel(\"y-axis\")\n",
    "\n",
    "# グラフにグリッドを表示してください\n",
    "\n",
    "\n",
    "# データx, yをグラフにプロットし、表示する\n",
    "plt.plot(x, y)\n",
    "plt.show()"
   ]
  },
  {
   "cell_type": "markdown",
   "metadata": {},
   "source": [
    "#### ヒント"
   ]
  },
  {
   "cell_type": "markdown",
   "metadata": {
    "id": "hint"
   },
   "source": [
    "- `plt.grid(True)`でグリッドを表示します"
   ]
  },
  {
   "cell_type": "markdown",
   "metadata": {},
   "source": [
    "#### 解答例"
   ]
  },
  {
   "cell_type": "code",
   "execution_count": null,
   "metadata": {
    "id": "answer",
    "scrolled": true
   },
   "outputs": [],
   "source": [
    "# matplotlib.pyplotをpltとしてimport\n",
    "import matplotlib.pyplot as plt\n",
    "import numpy as np\n",
    "\n",
    "x = np.linspace(0, 2*np.pi)\n",
    "y = np.sin(x)\n",
    "\n",
    "# グラフのタイトルを設定する\n",
    "plt.title(\"y=sin(x)\")\n",
    "# グラフのx軸とy軸にラベルを設定する\n",
    "plt.xlabel(\"x-axis\")\n",
    "plt.ylabel(\"y-axis\")\n",
    "\n",
    "# グラフにグリッドを表示してください\n",
    "plt.grid(True)\n",
    "\n",
    "# データx, yをグラフにプロットし、表示する\n",
    "plt.plot(x, y)\n",
    "plt.show()"
   ]
  },
  {
   "cell_type": "markdown",
   "metadata": {},
   "source": [
    "***"
   ]
  },
  {
   "cell_type": "markdown",
   "metadata": {
    "courseId": 4040,
    "exerciseId": "ByceU0wgAQG",
    "id": "code_session_name",
    "important": false,
    "isDL": false,
    "timeoutSecs": 10
   },
   "source": [
    "### 2.1.5 グラフの軸に目盛りを設定する"
   ]
  },
  {
   "cell_type": "markdown",
   "metadata": {
    "id": "description"
   },
   "source": [
    "Matplotlib でグラフを作成すると、<b>x軸とy軸に自動で目盛りがつきます</b>。<br>\n",
    "それぞれの軸のキリが良い値で目盛りがつきますが、目盛りを設定したい場合は以下のように指定します。<br>\n",
    "\n",
    "例えば、x軸に目盛りを設定する場合<br>\n",
    "`matplotlib.pyplot.xticks(目盛りを挿入する位置, 表示する目盛りの文字列)`\n",
    "\n",
    "```Python\n",
    "import matplotlib.pyplot as plt\n",
    "\n",
    "plt.plot([2,3,9,1,5])\n",
    "plt.xticks([0.7,2.1,3.5], [\"i\",\"ii\",\"iii\"])\n",
    "plt.show()\n",
    "```"
   ]
  },
  {
   "cell_type": "markdown",
   "metadata": {},
   "source": [
    "#### 問題"
   ]
  },
  {
   "cell_type": "markdown",
   "metadata": {
    "id": "question"
   },
   "source": [
    "- グラフのx軸に目盛りを設定してください。<br>\n",
    "目盛りを挿入する位置は変数`positions`、表示する目盛りの文字列は変数`labels`に設定されています。"
   ]
  },
  {
   "cell_type": "code",
   "execution_count": null,
   "metadata": {
    "id": "index"
   },
   "outputs": [],
   "source": [
    "# matplotlib.pyplotをpltとしてimport\n",
    "import matplotlib.pyplot as plt\n",
    "import numpy as np\n",
    "\n",
    "x = np.linspace(0, 2*np.pi)\n",
    "y = np.sin(x)\n",
    "\n",
    "# グラフのタイトルを設定する\n",
    "plt.title(\"y=sin(x)\")\n",
    "# グラフのx軸とy軸にラベルを設定する\n",
    "plt.xlabel(\"x-axis\")\n",
    "plt.ylabel(\"y-axis\")\n",
    "# グラフにグリッドを表示する\n",
    "plt.grid(True)\n",
    "\n",
    "# positionsとlabelsの設定\n",
    "positions = [0, np.pi/2, np.pi, np.pi*3/2, np.pi*2]\n",
    "labels = [\"0°\", \"90°\", \"180°\", \"270°\", \"360°\"]\n",
    "\n",
    "# グラフのx軸に目盛りを設定してください\n",
    "\n",
    "\n",
    "# データx, yをグラフにプロットし、表示する\n",
    "plt.plot(x, y)\n",
    "plt.show()"
   ]
  },
  {
   "cell_type": "markdown",
   "metadata": {},
   "source": [
    "#### ヒント"
   ]
  },
  {
   "cell_type": "markdown",
   "metadata": {
    "id": "hint"
   },
   "source": [
    "- `plt.xticks(目盛りを挿入する位置, 表示する目盛りの文字列)`で設定します。"
   ]
  },
  {
   "cell_type": "markdown",
   "metadata": {},
   "source": [
    "#### 解答例"
   ]
  },
  {
   "cell_type": "code",
   "execution_count": null,
   "metadata": {
    "id": "answer",
    "scrolled": true
   },
   "outputs": [],
   "source": [
    "# matplotlib.pyplotをpltとしてimport\n",
    "import matplotlib.pyplot as plt\n",
    "import numpy as np\n",
    "\n",
    "x = np.linspace(0, 2*np.pi)\n",
    "y = np.sin(x)\n",
    "\n",
    "# グラフのタイトルを設定する\n",
    "plt.title(\"y=sin(x)\")\n",
    "# グラフのx軸とy軸にラベルを設定する\n",
    "plt.xlabel(\"x-axis\")\n",
    "plt.ylabel(\"y-axis\")\n",
    "# グラフにグリッドを表示する\n",
    "plt.grid(True)\n",
    "\n",
    "# positionsとlabelsの設定\n",
    "positions = [0, np.pi/2, np.pi, np.pi*3/2, np.pi*2]\n",
    "labels = [\"0°\", \"90°\", \"180°\", \"270°\", \"360°\"]\n",
    "\n",
    "# グラフのx軸に目盛りを設定してください\n",
    "plt.xticks(positions, labels)\n",
    "\n",
    "# データx, yをグラフにプロットし、表示する\n",
    "plt.plot(x, y)\n",
    "plt.show()"
   ]
  },
  {
   "cell_type": "markdown",
   "metadata": {},
   "source": [
    "***"
   ]
  },
  {
   "cell_type": "markdown",
   "metadata": {
    "id": "section_name",
    "sectionId": "HyjlIRvgAmf"
   },
   "source": [
    "## 2.2 複数のデータを可視化する1"
   ]
  },
  {
   "cell_type": "markdown",
   "metadata": {
    "courseId": 4040,
    "exerciseId": "ry3xU0veA7f",
    "id": "code_session_name",
    "important": false,
    "isDL": false,
    "timeoutSecs": 10
   },
   "source": [
    "### 2.2.1 1つのグラフに複数のデータをプロットする"
   ]
  },
  {
   "cell_type": "markdown",
   "metadata": {
    "id": "description"
   },
   "source": [
    "1つのグラフに複数のデータを表示させたいときがあります。この場合、<b>それぞれのデータをグラフ上で色分けして表示（プロット）する</b>ことができます。<br>\n",
    "\n",
    "`matplotlib.pyplot.plot(x, y, color=\"色指定\")`<br>\n",
    "色を変えて表示したいデータごとに`matplotlib.pyplot.plot()` を記述し、それぞれに異なる変数を指定します。これを実行するごとに、グラフ上にプロットが描画されます。<br>\n",
    "\n",
    "プロットの色は<b>HTMLカラーコード</b>で指定します。<br>\n",
    "<b>HTMLカラーコード</b>とは、`#0000ff`のように、#に続く6桁の16進数（0～9とA～Fの英数字）で色を表したコードです。<br>\n",
    "例えば <b style='color: #AA0000'>この色</b> は `#AA0000`と表すことができます。<br>\n",
    "\n",
    "また、以下の文字でも指定することができます。\n",
    "- `\"b\"` : 青\n",
    "- `\"g\"` : 緑\n",
    "- `\"r\"` : 赤\n",
    "- `\"c\"` : シアン\n",
    "- `\"m\"` : マゼンタ\n",
    "- `\"y\"` : 黄色\n",
    "- `\"k\"` : 黒\n",
    "- `\"w\"` : 白"
   ]
  },
  {
   "cell_type": "markdown",
   "metadata": {},
   "source": [
    "#### 問題"
   ]
  },
  {
   "cell_type": "markdown",
   "metadata": {
    "id": "question"
   },
   "source": [
    "- `plt.plot()`を用いて x軸に変数`x`、y軸に変数`y1`のデータを対応させてください。その際、データを赤でプロットしてください。\n",
    "- `plt.plot()`を用いて x軸に変数`x`、y軸に変数`y2`のデータを対応させてください。その際、データを青でプロットしてください。\n",
    "- 色の指定は、赤は`\"r\"`、青は`\"b\"`を用いてください。"
   ]
  },
  {
   "cell_type": "code",
   "execution_count": null,
   "metadata": {
    "id": "index"
   },
   "outputs": [],
   "source": [
    "# matplotlib.pyplotをpltとしてimport\n",
    "import matplotlib.pyplot as plt\n",
    "import numpy as np\n",
    "\n",
    "x = np.linspace(0, 2*np.pi)\n",
    "y1 = np.sin(x)\n",
    "y2 = np.cos(x)\n",
    "\n",
    "# グラフのタイトルを設定する\n",
    "plt.title(\"graphs of trigonometric functions\")\n",
    "# グラフのx軸とy軸にラベルを設定する\n",
    "plt.xlabel(\"x-axis\")\n",
    "plt.ylabel(\"y-axis\")\n",
    "# グラフにグリッドを表示する\n",
    "plt.grid(True)\n",
    "# positionsとlabelsの設定\n",
    "positions = [np.pi/2, np.pi, np.pi*3/2, np.pi*2]\n",
    "labels = [\"90°\", \"180°\", \"270°\", \"360°\"]\n",
    "# グラフのx軸に目盛りを設定する\n",
    "plt.xticks(positions, labels)\n",
    "\n",
    "# データx, y1 をグラフにプロットし、赤で表示してください\n",
    "\n",
    "\n",
    "# データx, y2 をグラフにプロットし、青で表示してください\n",
    "\n",
    "\n",
    "plt.show()"
   ]
  },
  {
   "cell_type": "markdown",
   "metadata": {},
   "source": [
    "#### ヒント"
   ]
  },
  {
   "cell_type": "markdown",
   "metadata": {
    "id": "hint"
   },
   "source": [
    "- `plt.plot(x, y, color=\"色\")`と記述すると、色を指定してプロットできます。異なるデータソースごとに`plt.plot()`を指定すると、それぞれが同じグラフ内にプロットされます。\n",
    "- 色指定は、赤は`\"r\"`、青は`\"b\"`です。"
   ]
  },
  {
   "cell_type": "markdown",
   "metadata": {},
   "source": [
    "#### 解答例"
   ]
  },
  {
   "cell_type": "code",
   "execution_count": null,
   "metadata": {
    "id": "answer",
    "scrolled": false
   },
   "outputs": [],
   "source": [
    "# matplotlib.pyplotをpltとしてimport\n",
    "import matplotlib.pyplot as plt\n",
    "import numpy as np\n",
    "\n",
    "x = np.linspace(0, 2*np.pi)\n",
    "y1 = np.sin(x)\n",
    "y2 = np.cos(x)\n",
    "\n",
    "# グラフのタイトルを設定する\n",
    "plt.title(\"graphs of trigonometric functions\")\n",
    "# グラフのx軸とy軸にラベルを設定する\n",
    "plt.xlabel(\"x-axis\")\n",
    "plt.ylabel(\"y-axis\")\n",
    "# グラフにグリッドを表示する\n",
    "plt.grid(True)\n",
    "# positionsとlabelsの設定\n",
    "positions = [np.pi/2, np.pi, np.pi*3/2, np.pi*2]\n",
    "labels = [\"90°\", \"180°\", \"270°\", \"360°\"]\n",
    "# グラフのx軸に目盛りを設定する\n",
    "plt.xticks(positions, labels)\n",
    "\n",
    "# データx, y1 をグラフにプロットし、赤で表示してください\n",
    "plt.plot(x, y1, color=\"r\")\n",
    "\n",
    "# データx, y2 をグラフにプロットし、青で表示してください\n",
    "plt.plot(x, y2, color=\"b\")\n",
    "\n",
    "plt.show()"
   ]
  },
  {
   "cell_type": "markdown",
   "metadata": {},
   "source": [
    "***"
   ]
  },
  {
   "cell_type": "markdown",
   "metadata": {
    "courseId": 4040,
    "exerciseId": "S16gICvlRmz",
    "id": "code_session_name",
    "important": false,
    "isDL": false,
    "timeoutSecs": 10
   },
   "source": [
    "### 2.2.2 系列ラベルを設定する"
   ]
  },
  {
   "cell_type": "markdown",
   "metadata": {
    "id": "description"
   },
   "source": [
    "1つのグラフに複数の系列のデータを表示して色で区別することができても、それぞれの系列が何を表しているのかが分からなければ1つのグラフにまとめる意味がありません。この場合は、`matplotlib.pyplot.legend()`を用いて系列ラベル（凡例）を設定して表示します。<br>\n",
    "系列ラベルの設定方法は2通りあります。\n",
    "\n",
    "1.系列ラベルに表示する内容を自動的で判別する\n",
    "```python\n",
    "matplotlib.pyplot.plot(x, y1, label=\"ラベル名1\")\n",
    "matplotlib.pyplot.plot(x, y2, label=\"ラベル名2\")\n",
    "matplotlib.pyplot.legend()\n",
    "```\n",
    "\n",
    "2.すでに存在する要素に系列ラベルを付ける\n",
    "```python\n",
    "matplotlib.pyplot.plot(x, y1)\n",
    "matplotlib.pyplot.plot(x, y2)\n",
    "matplotlib.pyplot.legend([\"ラベル名1\", \"ラベル名2\"])\n",
    "```\n",
    "\n",
    "1.の方法はプロットする要素に対し、ラベルを明示的に指定しています。<br>\n",
    "2.の方法は、要素とラベルとの関係が明示的でなく混乱が起こる可能性があるため、推奨されていません。"
   ]
  },
  {
   "cell_type": "markdown",
   "metadata": {},
   "source": [
    "#### 問題"
   ]
  },
  {
   "cell_type": "markdown",
   "metadata": {
    "id": "question"
   },
   "source": [
    "説明文1. の方法で系列ラベルの設定を行ってください。\n",
    "- `plt.plot()`を用いてx軸に変数`x`、y軸に変数`y1`のデータを対応させてください。その際、\"y=sin(x)\"と系列ラベルを付けて赤でプロットしてください。\n",
    "- `plt.plot()`を用いてx軸に変数`x`、y軸に変数`y2`のデータを対応させてください。その際、\"y=cos(x)\"と系列ラベルを付けて青でプロットしてください。\n",
    "- それぞれの系列ラベルを表示してください。"
   ]
  },
  {
   "cell_type": "code",
   "execution_count": null,
   "metadata": {
    "id": "index"
   },
   "outputs": [],
   "source": [
    "# matplotlib.pyplotをpltとしてimport\n",
    "import matplotlib.pyplot as plt\n",
    "import numpy as np\n",
    "\n",
    "x = np.linspace(0, 2*np.pi)\n",
    "y1 = np.sin(x)\n",
    "y2 = np.cos(x)\n",
    "\n",
    "# グラフのタイトルを設定する\n",
    "plt.title(\"graphs of trigonometric functions\")\n",
    "# グラフのx軸とy軸にラベルを設定する\n",
    "plt.xlabel(\"x-axis\")\n",
    "plt.ylabel(\"y-axis\")\n",
    "# グラフにグリッドを表示する\n",
    "plt.grid(True)\n",
    "# positionsとlabelsの設定\n",
    "positions = [np.pi/2, np.pi, np.pi*3/2, np.pi*2]\n",
    "labels = [\"90°\", \"180°\", \"270°\", \"360°\"]\n",
    "# グラフのx軸に目盛りを設定する\n",
    "plt.xticks(positions, labels)\n",
    "\n",
    "# データx, y1 をグラフにプロットし、\"y=sin(x)\"と系列ラベルを設定して赤で表示してください\n",
    "\n",
    "\n",
    "# データx, y2 をグラフにプロットし、\"y=cos(x)\"と系列ラベルを設定して青で表示してください\n",
    "\n",
    "\n",
    "# 系列ラベルを表示してください\n",
    "\n",
    "\n",
    "plt.show()"
   ]
  },
  {
   "cell_type": "markdown",
   "metadata": {},
   "source": [
    "#### ヒント"
   ]
  },
  {
   "cell_type": "markdown",
   "metadata": {
    "id": "hint"
   },
   "source": [
    "- `matplotlib.pyplot.legend()`で系列ラベルを表示することができます。"
   ]
  },
  {
   "cell_type": "markdown",
   "metadata": {},
   "source": [
    "#### 解答例"
   ]
  },
  {
   "cell_type": "code",
   "execution_count": null,
   "metadata": {
    "id": "answer",
    "scrolled": true
   },
   "outputs": [],
   "source": [
    "# matplotlib.pyplotをpltとしてimport\n",
    "import matplotlib.pyplot as plt\n",
    "import numpy as np\n",
    "\n",
    "x = np.linspace(0, 2*np.pi)\n",
    "y1 = np.sin(x)\n",
    "y2 = np.cos(x)\n",
    "\n",
    "# グラフのタイトルを設定する\n",
    "plt.title(\"graphs of trigonometric functions\")\n",
    "# グラフのx軸とy軸にラベルを設定する\n",
    "plt.xlabel(\"x-axis\")\n",
    "plt.ylabel(\"y-axis\")\n",
    "# グラフにグリッドを表示する\n",
    "plt.grid(True)\n",
    "# positionsとlabelsの設定\n",
    "positions = [np.pi/2, np.pi, np.pi*3/2, np.pi*2]\n",
    "labels = [\"90°\", \"180°\", \"270°\", \"360°\"]\n",
    "# グラフのx軸に目盛りを設定する\n",
    "plt.xticks(positions, labels)\n",
    "\n",
    "# データx, y1 をグラフにプロットし、\"y=sin(x)\"と系列ラベルを設定して赤で表示してください\n",
    "plt.plot(x, y1, color=\"r\", label=\"y=sin(x)\")\n",
    "\n",
    "# データx, y2 をグラフにプロットし、\"y=cos(x)\"と系列ラベルを設定して青で表示してください\n",
    "plt.plot(x, y2, color=\"b\", label=\"y=cos(x)\")\n",
    "\n",
    "# 系列ラベルを表示してください\n",
    "plt.legend()\n",
    "\n",
    "plt.show()"
   ]
  },
  {
   "cell_type": "markdown",
   "metadata": {},
   "source": [
    "***"
   ]
  },
  {
   "cell_type": "markdown",
   "metadata": {
    "id": "section_name",
    "sectionId": "SyCe8Rvx07M"
   },
   "source": [
    "## 2.3 複数のデータを可視化する2"
   ]
  },
  {
   "cell_type": "markdown",
   "metadata": {
    "courseId": 4040,
    "exerciseId": "H11-8AwgCQM",
    "id": "code_session_name",
    "important": false,
    "isDL": false,
    "timeoutSecs": 10
   },
   "source": [
    "### 2.3.1 図の大きさを設定する"
   ]
  },
  {
   "cell_type": "markdown",
   "metadata": {
    "id": "description"
   },
   "source": [
    "このセクションでは<b>複数のグラフを作成し、それらを編集する方法</b>を学びます。<br>\n",
    "\n",
    "Matplotlibは`図`と呼ばれる領域（figure）にグラフや文字などを描画します。まずは<b>大きさを指定してfigureオブジェクトを作成する方法</b>を見ていきます。<br>\n",
    "\n",
    "図の中のすべてを操作できるメソッドである`matplotlib.pyplot.figure()`を使用し、`figsize`で横と縦のサイズを<b>インチ</b>で指定します。省略すると`figsize=(8, 6)`になります。<br>\n",
    "`matplotlib.pyplot.figure(figsize=(横の大きさ, 縦の大きさ))`"
   ]
  },
  {
   "cell_type": "markdown",
   "metadata": {},
   "source": [
    "#### 問題"
   ]
  },
  {
   "cell_type": "markdown",
   "metadata": {
    "id": "question"
   },
   "source": [
    "- figureオブジェクト（図）を 4インチ×4インチ の大きさで作成してください。"
   ]
  },
  {
   "cell_type": "code",
   "execution_count": null,
   "metadata": {
    "id": "index"
   },
   "outputs": [],
   "source": [
    "# matplotlib.pyplotをpltとしてimport\n",
    "import matplotlib.pyplot as plt\n",
    "import numpy as np\n",
    "\n",
    "x = np.linspace(0, 2*np.pi)\n",
    "y = np.sin(x)\n",
    "\n",
    "# figureオブジェクトを 4インチ×4インチ の大きさで作成してください\n",
    "\n",
    "\n",
    "# データx, yをグラフにプロットし、表示する\n",
    "plt.plot(x, y)\n",
    "plt.show()"
   ]
  },
  {
   "cell_type": "markdown",
   "metadata": {},
   "source": [
    "#### ヒント"
   ]
  },
  {
   "cell_type": "markdown",
   "metadata": {
    "id": "hint"
   },
   "source": [
    "- `plt.figure(figsize=(横の大きさ, 縦の大きさ))`で図（figure）のサイズを指定します。単位はインチです。"
   ]
  },
  {
   "cell_type": "markdown",
   "metadata": {},
   "source": [
    "#### 解答例"
   ]
  },
  {
   "cell_type": "code",
   "execution_count": null,
   "metadata": {
    "id": "answer",
    "scrolled": true
   },
   "outputs": [],
   "source": [
    "# matplotlib.pyplotをpltとしてimport\n",
    "import matplotlib.pyplot as plt\n",
    "import numpy as np\n",
    "\n",
    "x = np.linspace(0, 2*np.pi)\n",
    "y = np.sin(x)\n",
    "\n",
    "# figureオブジェクトを 4インチ×4インチ の大きさで作成してください\n",
    "plt.figure(figsize=(4, 4))\n",
    "\n",
    "# データx, yをグラフにプロットし、表示する\n",
    "plt.plot(x, y)\n",
    "plt.show()"
   ]
  },
  {
   "cell_type": "markdown",
   "metadata": {},
   "source": [
    "***"
   ]
  },
  {
   "cell_type": "markdown",
   "metadata": {
    "courseId": 4040,
    "exerciseId": "B1xW8CPx0mz",
    "id": "code_session_name",
    "important": false,
    "isDL": false,
    "timeoutSecs": 10
   },
   "source": [
    "### 2.3.2 サブプロットを作成する"
   ]
  },
  {
   "attachments": {},
   "cell_type": "markdown",
   "metadata": {
    "id": "description"
   },
   "source": [
    "<b style='color: #AA0000'>サブプロット</b>（axes）を使用すると、図（figure）の中に任意の数のグラフを生成して複数のグラフを描画することができます。<br>また、<b>サブプロットごとにグラフの操作</b>が可能です。<br>\n",
    "\n",
    "図（figureオブジェクト）にサブプロット（axesオブジェクト）を追加する際は、figureオブジェクトに対して`add_subplot()`メソッドを指定し、<b>図を分割するレイアウトとその中でのサブプロットの位置を指定</b>します。<br>\n",
    "\n",
    "\n",
    "`add_subplot(行数, 列数, 何番目か)`<br>\n",
    "- 行数：図を何行に分割するのか。\n",
    "- 列数：図を何列に分割するのか。\n",
    "- 何番目：図の左上から右方向に1, 2, 3 ...と数えて何番目に追加するのか。<br>\n",
    "\n",
    "と引数を指定することで図を分割するとともに第三引数で指定した番号のサブプロットを一つのグラフとして操作することができます。\n",
    "\n",
    "例えば、figureオブジェクトの大きさを4インチ×4インチとし、2行×3列のレイアウトに分割（6分割）した時の上から2行目、左から2列目にaxesオブジェクトを追加する場合は次のように指定します。\n",
    "\n",
    "```python\n",
    "import matplotlib.pyplot as plt\n",
    "import numpy as np\n",
    "\n",
    "\n",
    "# figureオブジェクトを作成\n",
    "fig = matplotlib.pyplot.figure(4, 4)\n",
    "# axesオブジェクトを2行３列に分割して右下にグラフを追加\n",
    "ax = fig.add_subplot(2, 3, 6)\n",
    "\n",
    "#  y=xのグラフをaxesオブジェクトに描画\n",
    "x = np.linspace(0, 100)\n",
    "y = x\n",
    "ax.plot(x, y)\n",
    "\n",
    "# グラフの位置をわかりやすくするため空白部分をサブプロットで埋める\n",
    "for i in range(6):\n",
    "    if i == 5:\n",
    "        continue\n",
    "    fig.add_subplot(2, 3, i+1)\n",
    "    \n",
    "\n",
    "plt.show()\n",
    "```\n",
    "\n",
    "<img src=\"https://aidemyexstorage.blob.core.windows.net/aidemycontents/1551752786406117.png\t\" width=\"500\">\n",
    "\n"
   ]
  },
  {
   "cell_type": "markdown",
   "metadata": {},
   "source": [
    "#### 問題"
   ]
  },
  {
   "cell_type": "markdown",
   "metadata": {
    "id": "question"
   },
   "source": [
    "- figureオブジェクトを2×3のレイアウトに分割し、上から2行目、左から2列目にaxesオブジェクトを追加してください。<br>\n",
    "- figureオブジェクトは変数`fig`を用いて作成し、追加するaxesオブジェクトは変数`ax`に代入します。"
   ]
  },
  {
   "cell_type": "code",
   "execution_count": null,
   "metadata": {
    "id": "index"
   },
   "outputs": [],
   "source": [
    "# matplotlib.pyplotをpltとしてimport\n",
    "import matplotlib.pyplot as plt\n",
    "import numpy as np\n",
    "\n",
    "x = np.linspace(0, 2*np.pi)\n",
    "y = np.sin(x)\n",
    "\n",
    "# figureオブジェクトを作成\n",
    "fig = plt.figure(figsize=(9, 6))\n",
    "\n",
    "# figureを2×3に分割し、上から2行目、左から2列目にaxesを追加してください\n",
    "ax =\n",
    "\n",
    "# データx, yをグラフにプロットする\n",
    "ax.plot(x, y)\n",
    "\n",
    "# グラフがどこに追加されるか確認するため空白部分をサブプロットで埋める\n",
    "for i in range(6):\n",
    "    if i == 4:\n",
    "        continue\n",
    "    fig.add_subplot(2, 3, i+1)\n",
    "\n",
    "plt.show()"
   ]
  },
  {
   "cell_type": "markdown",
   "metadata": {},
   "source": [
    "#### ヒント"
   ]
  },
  {
   "cell_type": "markdown",
   "metadata": {
    "id": "hint"
   },
   "source": [
    "- figureオブジェクトを「縦に分割する段数」×「横に分割する列数」に分割します。\n",
    "- 上から2行目、左から2列目は左上から数えて5番目です。"
   ]
  },
  {
   "cell_type": "markdown",
   "metadata": {},
   "source": [
    "#### 解答例"
   ]
  },
  {
   "cell_type": "code",
   "execution_count": null,
   "metadata": {
    "id": "answer",
    "scrolled": false
   },
   "outputs": [],
   "source": [
    "# matplotlib.pyplotをpltとしてimport\n",
    "import matplotlib.pyplot as plt\n",
    "import numpy as np\n",
    "\n",
    "x = np.linspace(0, 2*np.pi)\n",
    "y = np.sin(x)\n",
    "\n",
    "# figureオブジェクトを作成\n",
    "fig = plt.figure(figsize=(9, 6))\n",
    "\n",
    "# figureを2×3に分割し、上から2行目、左から2列目にaxesを追加してください\n",
    "ax = fig.add_subplot(2, 3, 5)\n",
    "\n",
    "# データx, yをグラフにプロットする\n",
    "ax.plot(x, y)\n",
    "\n",
    "# グラフがどこに追加されるか確認するため空白部分をサブプロットで埋める\n",
    "for i in range(6):\n",
    "    if i == 4:\n",
    "        continue\n",
    "    fig.add_subplot(2, 3, i+1)\n",
    "\n",
    "plt.show()"
   ]
  },
  {
   "cell_type": "markdown",
   "metadata": {},
   "source": [
    "***"
   ]
  },
  {
   "cell_type": "markdown",
   "metadata": {
    "courseId": 4040,
    "exerciseId": "BJZW8ADxCQM",
    "id": "code_session_name",
    "important": false,
    "isDL": false,
    "timeoutSecs": 10
   },
   "source": [
    "### 2.3.3 サブプロットのまわりの余白を調整する"
   ]
  },
  {
   "cell_type": "markdown",
   "metadata": {
    "id": "description"
   },
   "source": [
    "図の中にサブプロットを隣り合わせに配置すると、軸のラベルやタイトルの配置が近すぎるなどサブプロット同士が干渉することがあります。その場合は<b>サブプロットの周りの余白を調整</b>します。<br>\n",
    "\n",
    "`matplotlib.pyplot.subplots_adjust(wspace=横間隔を空ける割合, hspace=縦間隔を空ける割合)`<br>\n",
    "指定の単位は割合で、図の左下を起点とします。"
   ]
  },
  {
   "cell_type": "markdown",
   "metadata": {},
   "source": [
    "#### 問題"
   ]
  },
  {
   "cell_type": "markdown",
   "metadata": {
    "id": "question"
   },
   "source": [
    "- 2×3のレイアウトである図の中のサブプロットを、縦横ともに1の割合で間隔を空けてください。"
   ]
  },
  {
   "cell_type": "code",
   "execution_count": null,
   "metadata": {
    "id": "index"
   },
   "outputs": [],
   "source": [
    "# matplotlib.pyplotをpltとしてimport\n",
    "import matplotlib.pyplot as plt\n",
    "import numpy as np\n",
    "\n",
    "x = np.linspace(0, 2*np.pi)\n",
    "y = np.sin(x)\n",
    "\n",
    "# figureオブジェクトを作成\n",
    "fig = plt.figure(figsize=(9, 6))\n",
    "# 2×3のfigureの上から2行目、左から2列目にaxesオブジェクトを追加\n",
    "ax = fig.add_subplot(2, 3, 5)\n",
    "\n",
    "# figure内のaxesを、縦横ともに1の割合で間隔を空けてください。\n",
    "\n",
    "\n",
    "# データx, yをグラフにプロットする\n",
    "ax.plot(x, y)\n",
    "\n",
    "# 空白部分をサブプロットで埋める\n",
    "for i in range(6):\n",
    "    if i == 4:\n",
    "        continue\n",
    "    fig.add_subplot(2, 3, i+1)\n",
    "\n",
    "plt.show()"
   ]
  },
  {
   "cell_type": "markdown",
   "metadata": {},
   "source": [
    "#### ヒント"
   ]
  },
  {
   "cell_type": "markdown",
   "metadata": {
    "id": "hint"
   },
   "source": [
    "- `plt.subplots_adjust(wspace=横間隔を空ける割合, hspace=縦間隔を空ける割合)`でサブプロット間の余白を設定することができます。"
   ]
  },
  {
   "cell_type": "markdown",
   "metadata": {},
   "source": [
    "#### 解答例"
   ]
  },
  {
   "cell_type": "code",
   "execution_count": null,
   "metadata": {
    "id": "answer",
    "scrolled": false
   },
   "outputs": [],
   "source": [
    "# matplotlib.pyplotをpltとしてimport\n",
    "import matplotlib.pyplot as plt\n",
    "import numpy as np\n",
    "\n",
    "x = np.linspace(0, 2*np.pi)\n",
    "y = np.sin(x)\n",
    "\n",
    "# figureオブジェクトを作成\n",
    "fig = plt.figure(figsize=(9, 6))\n",
    "# 2×3のfigureの上から2行目、左から2列目にaxesオブジェクトを追加\n",
    "ax = fig.add_subplot(2, 3, 5)\n",
    "\n",
    "# figure内のaxesを、縦横ともに1の割合で間隔を空けてください。\n",
    "plt.subplots_adjust(wspace=1, hspace=1)\n",
    "\n",
    "# データx, yをグラフにプロットする\n",
    "ax.plot(x, y)\n",
    "\n",
    "# 空白部分をサブプロットで埋める\n",
    "for i in range(6):\n",
    "    if i == 4:\n",
    "        continue\n",
    "    fig.add_subplot(2, 3, i+1)\n",
    "\n",
    "plt.show()"
   ]
  },
  {
   "cell_type": "markdown",
   "metadata": {},
   "source": [
    "***"
   ]
  },
  {
   "cell_type": "markdown",
   "metadata": {
    "courseId": 4040,
    "exerciseId": "ryGWURwxCXf",
    "id": "code_session_name",
    "important": false,
    "isDL": false,
    "timeoutSecs": 10
   },
   "source": [
    "### 2.3.4 サブプロット内のグラフの表示範囲を設定する"
   ]
  },
  {
   "cell_type": "markdown",
   "metadata": {
    "id": "description"
   },
   "source": [
    "本コースの <a href='https://aidemy.net/courses/4040/exercises/r1wgUADeAQG' target='_blank'>2.1.2 グラフの表示範囲を設定する</a> と同様に、サブプロットごとに<b>グラフの表示範囲を設定することができます</b>。また、x軸、y軸それぞれ設定が可能です。<br>\n",
    "\n",
    "サブプロットオブジェクトを変数`ax`とします。<br>\n",
    "- x軸の表示範囲を設定する：`ax.set_xlim([最小値, 最大値])`\n",
    "- y軸の表示範囲を設定する：`ax.set_ylim([最小値, 最大値])`\n",
    "\n",
    "例えばx軸の表示範囲を 0〜1 とする場合は以下のように記述します。<br>\n",
    "`ax.set_xlim([0, 1])`"
   ]
  },
  {
   "cell_type": "markdown",
   "metadata": {},
   "source": [
    "#### 問題"
   ]
  },
  {
   "cell_type": "markdown",
   "metadata": {
    "id": "question"
   },
   "source": [
    "- サブプロット`ax`が用意されています。\n",
    "- `ax`のグラフのy軸の表示範囲を 0〜1 に設定してください。"
   ]
  },
  {
   "cell_type": "code",
   "execution_count": null,
   "metadata": {
    "id": "index"
   },
   "outputs": [],
   "source": [
    "# matplotlib.pyplotをpltとしてimport\n",
    "import matplotlib.pyplot as plt\n",
    "import numpy as np\n",
    "\n",
    "x = np.linspace(0, 2*np.pi)\n",
    "y = np.sin(x)\n",
    "\n",
    "# Figureオブジェクトを作成\n",
    "fig = plt.figure(figsize=(9, 6))\n",
    "# 2×3のfigureの上から2行目、左から2列目にaxesオブジェクトを追加\n",
    "ax = fig.add_subplot(2, 3, 5)\n",
    "# figure内のaxes間を、縦横ともに1の割合で間隔を空ける\n",
    "plt.subplots_adjust(wspace=1, hspace=1)\n",
    "\n",
    "# サブプロットaxのグラフのy軸の表示範囲を 0〜1 に設定してください。\n",
    "\n",
    "\n",
    "# データx, yをグラフにプロットする\n",
    "ax.plot(x, y)\n",
    "\n",
    "# 空白部分をサブプロットで埋める\n",
    "for i in range(6):\n",
    "    if i == 4:\n",
    "        continue\n",
    "    fig.add_subplot(2, 3, i+1)\n",
    "\n",
    "plt.show()"
   ]
  },
  {
   "cell_type": "markdown",
   "metadata": {},
   "source": [
    "#### ヒント"
   ]
  },
  {
   "cell_type": "markdown",
   "metadata": {
    "id": "hint"
   },
   "source": [
    "- サブプロットaxのx軸の表示範囲を0から1とする時は、`ax.set_xlim([0, 1])` とします。y軸に関しても同様です。"
   ]
  },
  {
   "cell_type": "markdown",
   "metadata": {},
   "source": [
    "#### 解答例"
   ]
  },
  {
   "cell_type": "code",
   "execution_count": null,
   "metadata": {
    "id": "answer",
    "scrolled": false
   },
   "outputs": [],
   "source": [
    "# matplotlib.pyplotをpltとしてimport\n",
    "import matplotlib.pyplot as plt\n",
    "import numpy as np\n",
    "\n",
    "x = np.linspace(0, 2*np.pi)\n",
    "y = np.sin(x)\n",
    "\n",
    "# Figureオブジェクトを作成\n",
    "fig = plt.figure(figsize=(9, 6))\n",
    "# 2×3のfigureの上から2行目、左から2列目にaxesオブジェクトを追加\n",
    "ax = fig.add_subplot(2, 3, 5)\n",
    "# figure内のaxes間を、縦横ともに1の割合で間隔を空ける\n",
    "plt.subplots_adjust(wspace=1, hspace=1)\n",
    "\n",
    "# サブプロットaxのグラフのy軸の表示範囲を 0〜1 に設定してください。\n",
    "ax.set_ylim([0, 1])\n",
    "\n",
    "# データx, yをグラフにプロットする\n",
    "ax.plot(x, y)\n",
    "\n",
    "# 空白部分をサブプロットで埋める\n",
    "for i in range(6):\n",
    "    if i == 4:\n",
    "        continue\n",
    "    fig.add_subplot(2, 3, i+1)\n",
    "\n",
    "plt.show()"
   ]
  },
  {
   "cell_type": "markdown",
   "metadata": {},
   "source": [
    "***"
   ]
  },
  {
   "cell_type": "markdown",
   "metadata": {
    "courseId": 4040,
    "exerciseId": "Hkm-I0vxRmf",
    "id": "code_session_name",
    "important": false,
    "isDL": false,
    "timeoutSecs": 10
   },
   "source": [
    "### 2.3.5 サブプロット内のグラフの要素に名前を設定する"
   ]
  },
  {
   "cell_type": "markdown",
   "metadata": {
    "id": "description"
   },
   "source": [
    "本コースの <a href='https://aidemy.net/courses/4040/exercises/HJdxU0DgAXf' target='_blank'>2.1.3 グラフの要素に名前を設定する</a> と同様に、サブプロットごとに<b>タイトルやラベルなど要素を設定することができます</b>。<br>\n",
    "ただし、2.1.3 で行った方法とは少し異なるので注意が必要です。<br>\n",
    "\n",
    "サブプロットオブジェクトを変数`ax`とします。<br>\n",
    "- グラフのタイトルを設定する：`ax.set_title(\"タイトル\")`\n",
    "- x軸のラベルを設定する：`ax.set_xlabel(\"x軸の名前\")`\n",
    "- y軸のラベルを設定する：`ax.set_ylabel(\"y軸の名前\")`"
   ]
  },
  {
   "cell_type": "markdown",
   "metadata": {},
   "source": [
    "#### 問題"
   ]
  },
  {
   "cell_type": "markdown",
   "metadata": {
    "id": "question"
   },
   "source": [
    "サブプロット`ax`が用意されています。\n",
    "- `ax`のグラフのタイトルを \"y=sin(x)\" に設定してください。\n",
    "- `ax`のグラフのx軸のラベルを \"x-axis\"、y軸のラベルを \"y-axis\" に設定してください。"
   ]
  },
  {
   "cell_type": "code",
   "execution_count": null,
   "metadata": {
    "id": "index"
   },
   "outputs": [],
   "source": [
    "# matplotlib.pyplotをpltとしてimport\n",
    "import matplotlib.pyplot as plt\n",
    "import numpy as np\n",
    "\n",
    "x = np.linspace(0, 2*np.pi)\n",
    "y = np.sin(x)\n",
    "\n",
    "# Figureオブジェクトを作成\n",
    "fig = plt.figure(figsize=(9, 6))\n",
    "# 2×3のfigureの上から2行目、左から2列目にaxesオブジェクトを追加\n",
    "ax = fig.add_subplot(2, 3, 5)\n",
    "# figure内のaxes間を、縦横ともに1の割合で間隔を空ける\n",
    "plt.subplots_adjust(wspace=1.0, hspace=1.0)\n",
    "\n",
    "# サブプロットaxのグラフのタイトルを \"y=sin(x)\" に設定してください\n",
    "\n",
    "\n",
    "# サブプロットaxのx軸のラベルを \"x-axis\"、y軸のラベルを \"y-axis\" に設定してください\n",
    "\n",
    "\n",
    "\n",
    "# データx, yをグラフにプロットする\n",
    "ax.plot(x, y)\n",
    "\n",
    "# 空白部分をサブプロットで埋める\n",
    "for i in range(6):\n",
    "    if i == 4:\n",
    "        continue\n",
    "    fig.add_subplot(2, 3, i+1)\n",
    "\n",
    "plt.show()"
   ]
  },
  {
   "cell_type": "markdown",
   "metadata": {},
   "source": [
    "#### ヒント"
   ]
  },
  {
   "cell_type": "markdown",
   "metadata": {
    "id": "hint"
   },
   "source": [
    "サブプロットaxの\n",
    "- グラフのタイトルを設定する：`ax.set_title(\"タイトル\")`\n",
    "- x軸のラベルを設定する：`ax.set_xlabel(\"x軸の名前\")`\n",
    "- y軸のラベルを設定する：`ax.set_ylabel(\"y軸の名前\")`\n",
    "\n",
    "2.1.3 で行った設定方法とは異なります。"
   ]
  },
  {
   "cell_type": "markdown",
   "metadata": {},
   "source": [
    "#### 解答例"
   ]
  },
  {
   "cell_type": "code",
   "execution_count": null,
   "metadata": {
    "id": "answer",
    "scrolled": false
   },
   "outputs": [],
   "source": [
    "# matplotlib.pyplotをpltとしてimport\n",
    "import matplotlib.pyplot as plt\n",
    "import numpy as np\n",
    "\n",
    "x = np.linspace(0, 2*np.pi)\n",
    "y = np.sin(x)\n",
    "\n",
    "# Figureオブジェクトを作成\n",
    "fig = plt.figure(figsize=(9, 6))\n",
    "# 2×3のfigureの上から2行目、左から2列目にaxesオブジェクトを追加\n",
    "ax = fig.add_subplot(2, 3, 5)\n",
    "# figure内のaxes間を、縦横ともに1の割合で間隔を空ける\n",
    "plt.subplots_adjust(wspace=1.0, hspace=1.0)\n",
    "\n",
    "# サブプロットaxのグラフのタイトルを \"y=sin(x)\" に設定してください\n",
    "ax.set_title(\"y=sin(x)\")\n",
    "\n",
    "# サブプロットaxのx軸のラベルを \"x-axis\"、y軸のラベルを \"y-axis\" に設定してください\n",
    "ax.set_xlabel(\"x-axis\")\n",
    "ax.set_ylabel(\"y-axis\")\n",
    "\n",
    "# データx, yをグラフにプロットする\n",
    "ax.plot(x, y)\n",
    "\n",
    "# 空白部分をサブプロットで埋める\n",
    "for i in range(6):\n",
    "    if i == 4:\n",
    "        continue\n",
    "    fig.add_subplot(2, 3, i+1)\n",
    "\n",
    "plt.show()"
   ]
  },
  {
   "cell_type": "markdown",
   "metadata": {},
   "source": [
    "***"
   ]
  },
  {
   "cell_type": "markdown",
   "metadata": {
    "courseId": 4040,
    "exerciseId": "r14WURPxRQG",
    "id": "code_session_name",
    "important": false,
    "isDL": false,
    "timeoutSecs": 10
   },
   "source": [
    "### 2.3.6 サブプロット内のグラフにグリッドを表示する"
   ]
  },
  {
   "cell_type": "markdown",
   "metadata": {
    "id": "description"
   },
   "source": [
    "本コースの <a href='https://aidemy.net/courses/4040/exercises/ryYlL0vxCXz' target='_blank'>2.1.4 グラフにグリッドを表示する</a> と同様に、サブプロットごとに<b>グリッドを表示</b>することができます。<br>\n",
    "\n",
    "サブプロットオブジェクトを変数`ax`とします。<br>\n",
    "```ax.grid(True)```"
   ]
  },
  {
   "cell_type": "markdown",
   "metadata": {},
   "source": [
    "#### 問題"
   ]
  },
  {
   "cell_type": "markdown",
   "metadata": {
    "id": "question"
   },
   "source": [
    "サブプロット`ax`が用意されています。\n",
    "- `ax`のグラフにグリッドを表示してください。"
   ]
  },
  {
   "cell_type": "code",
   "execution_count": null,
   "metadata": {
    "id": "index"
   },
   "outputs": [],
   "source": [
    "# matplotlib.pyplotをpltとしてimport\n",
    "import matplotlib.pyplot as plt\n",
    "import numpy as np\n",
    "\n",
    "x = np.linspace(0, 2*np.pi)\n",
    "y = np.sin(x)\n",
    "\n",
    "# Figureオブジェクトを作成\n",
    "fig = plt.figure(figsize=(9, 6))\n",
    "# 2×3のfigureの上から2行目、左から2列目にaxesオブジェクトを追加\n",
    "ax = fig.add_subplot(2, 3, 5)\n",
    "# figure内のaxes間を、縦横ともに1の割合で間隔を空ける\n",
    "plt.subplots_adjust(wspace=1.0, hspace=1.0)\n",
    "\n",
    "# サブプロットaxのグラフにグリッドを表示してください\n",
    "\n",
    "\n",
    "# サブプロットaxのグラフのタイトルを設定する\n",
    "ax.set_title(\"y=sin(x)\")\n",
    "# サブプロットaxのグラフのx軸、y軸にラベルを設定する\n",
    "ax.set_xlabel(\"x-axis\")\n",
    "ax.set_ylabel(\"y-axis\")\n",
    "\n",
    "# データx, yをグラフにプロットする\n",
    "ax.plot(x, y)\n",
    "\n",
    "# 空白部分をサブプロットで埋める\n",
    "for i in range(6):\n",
    "    if i == 4:\n",
    "        continue\n",
    "    fig.add_subplot(2, 3, i+1)\n",
    "\n",
    "plt.show()"
   ]
  },
  {
   "cell_type": "markdown",
   "metadata": {},
   "source": [
    "#### ヒント"
   ]
  },
  {
   "cell_type": "markdown",
   "metadata": {
    "id": "hint"
   },
   "source": [
    "- サブプロットaxのグリッドを表示するには、`ax.grid(True)`とします。"
   ]
  },
  {
   "cell_type": "markdown",
   "metadata": {},
   "source": [
    "#### 解答例"
   ]
  },
  {
   "cell_type": "code",
   "execution_count": null,
   "metadata": {
    "id": "answer",
    "scrolled": false
   },
   "outputs": [],
   "source": [
    "# matplotlib.pyplotをpltとしてimport\n",
    "import matplotlib.pyplot as plt\n",
    "import numpy as np\n",
    "\n",
    "x = np.linspace(0, 2*np.pi)\n",
    "y = np.sin(x)\n",
    "\n",
    "# Figureオブジェクトを作成\n",
    "fig = plt.figure(figsize=(9, 6))\n",
    "# 2×3のfigureの上から2行目、左から2列目にaxesオブジェクトを追加\n",
    "ax = fig.add_subplot(2, 3, 5)\n",
    "# figure内のaxes間を、縦横ともに1の割合で間隔を空ける\n",
    "plt.subplots_adjust(wspace=1.0, hspace=1.0)\n",
    "\n",
    "# サブプロットaxのグラフにグリッドを表示してください\n",
    "ax.grid(True)\n",
    "\n",
    "# サブプロットaxのグラフのタイトルを設定する\n",
    "ax.set_title(\"y=sin(x)\")\n",
    "# サブプロットaxのグラフのx軸、y軸にラベルを設定する\n",
    "ax.set_xlabel(\"x-axis\")\n",
    "ax.set_ylabel(\"y-axis\")\n",
    "\n",
    "# データx, yをグラフにプロットする\n",
    "ax.plot(x, y)\n",
    "\n",
    "# 空白部分をサブプロットで埋める\n",
    "for i in range(6):\n",
    "    if i == 4:\n",
    "        continue\n",
    "    fig.add_subplot(2, 3, i+1)\n",
    "\n",
    "plt.show()"
   ]
  },
  {
   "cell_type": "markdown",
   "metadata": {},
   "source": [
    "***"
   ]
  },
  {
   "cell_type": "markdown",
   "metadata": {
    "courseId": 4040,
    "exerciseId": "SyS-ICPeAXG",
    "id": "code_session_name",
    "important": false,
    "isDL": false,
    "timeoutSecs": 10
   },
   "source": [
    "### 2.3.7 サブプロット内のグラフの軸に目盛りを設定する"
   ]
  },
  {
   "cell_type": "markdown",
   "metadata": {
    "id": "description"
   },
   "source": [
    "本コースの<a href='https://aidemy.net/courses/4040/exercises/ByceU0wgAQG' target='_blank'>2.1.5 グラフの軸に目盛りを設定する</a>と同様に、サブプロットごとに<b>軸の目盛りを設定</b>することができます。<br>\n",
    "ただし、2.1.5 で行った方法とは少し異なるので注意が必要です。<br>\n",
    "\n",
    "サブプロットオブジェクトを変数`ax`とします。<br>\n",
    "- x軸に挿入する目盛りの位置：`ax.set_xticks([挿入位置のリスト])`\n",
    "- x軸に挿入する目盛りのラベル：`ax.set_xticklabels([目盛りラベルのリスト])`\n",
    "\n",
    "挿入する目盛りの位置、目盛りのラベルともにリスト型で記述します。あらかじめリスト型の変数に変換しておくことも可能です。"
   ]
  },
  {
   "cell_type": "markdown",
   "metadata": {},
   "source": [
    "#### 問題"
   ]
  },
  {
   "cell_type": "markdown",
   "metadata": {
    "id": "question"
   },
   "source": [
    "サブプロット`ax`が用意されています。\n",
    "- `ax`のx軸に目盛りを設定してください。<br>\n",
    "目盛りの挿入位置リストは変数`positions`、目盛りラベルのリストは変数`labels`が用意されています。"
   ]
  },
  {
   "cell_type": "code",
   "execution_count": null,
   "metadata": {
    "id": "index"
   },
   "outputs": [],
   "source": [
    "# matplotlib.pyplotをpltとしてimport\n",
    "import matplotlib.pyplot as plt\n",
    "import numpy as np\n",
    "\n",
    "x = np.linspace(0, 2*np.pi)\n",
    "y = np.sin(x)\n",
    "positions = [0, np.pi/2, np.pi, np.pi*3/2, np.pi*2]\n",
    "labels = [\"0°\", \"90°\", \"180°\", \"270°\", \"360°\"]\n",
    "\n",
    "# Figureオブジェクトを作成\n",
    "fig = plt.figure(figsize=(9, 6))\n",
    "# 2×3のfigureの上から2行目、左から2列目にaxesオブジェクトを追加\n",
    "ax = fig.add_subplot(2, 3, 5)\n",
    "# figure内のaxes間を、縦横ともに1の割合で間隔を空ける\n",
    "plt.subplots_adjust(wspace=1.0, hspace=1.0)\n",
    "# サブプロットaxのグラフにグリッドを表示する\n",
    "ax.grid(True)\n",
    "# サブプロットaxのグラフのタイトルを設定する\n",
    "ax.set_title(\"y=sin(x)\")\n",
    "# サブプロットaxのグラフのx軸、y軸にラベルを設定する\n",
    "ax.set_xlabel(\"x-axis\")\n",
    "ax.set_ylabel(\"y-axis\")\n",
    "\n",
    "# サブプロットaxのグラフのx軸に目盛りを設定してください\n",
    "\n",
    "\n",
    "\n",
    "# データx, yをグラフにプロットする\n",
    "ax.plot(x, y)\n",
    "\n",
    "# 空白部分をサブプロットで埋める\n",
    "for i in range(6):\n",
    "    if i == 4:\n",
    "        continue\n",
    "    fig.add_subplot(2, 3, i+1)\n",
    "\n",
    "plt.show()"
   ]
  },
  {
   "cell_type": "markdown",
   "metadata": {},
   "source": [
    "#### ヒント"
   ]
  },
  {
   "cell_type": "markdown",
   "metadata": {
    "id": "hint"
   },
   "source": [
    "- サブプロットaxのx軸に挿入する目盛りの位置は、`ax.set_xticks([挿入位置のリスト])`で設定します。\n",
    "- サブプロットaxのx軸に挿入する目盛りのラベルは`ax.set_xticklabels([目盛りのリスト])`で設定します。"
   ]
  },
  {
   "cell_type": "markdown",
   "metadata": {},
   "source": [
    "#### 解答例"
   ]
  },
  {
   "cell_type": "code",
   "execution_count": null,
   "metadata": {
    "id": "answer",
    "scrolled": false
   },
   "outputs": [],
   "source": [
    "# matplotlib.pyplotをpltとしてimport\n",
    "import matplotlib.pyplot as plt\n",
    "import numpy as np\n",
    "\n",
    "x = np.linspace(0, 2*np.pi)\n",
    "y = np.sin(x)\n",
    "positions = [0, np.pi/2, np.pi, np.pi*3/2, np.pi*2]\n",
    "labels = [\"0°\", \"90°\", \"180°\", \"270°\", \"360°\"]\n",
    "\n",
    "# Figureオブジェクトを作成\n",
    "fig = plt.figure(figsize=(9, 6))\n",
    "# 2×3のfigureの上から2行目、左から2列目にaxesオブジェクトを追加\n",
    "ax = fig.add_subplot(2, 3, 5)\n",
    "# figure内のaxes間を、縦横ともに1の割合で間隔を空ける\n",
    "plt.subplots_adjust(wspace=1.0, hspace=1.0)\n",
    "# サブプロットaxのグラフにグリッドを表示する\n",
    "ax.grid(True)\n",
    "# サブプロットaxのグラフのタイトルを設定する\n",
    "ax.set_title(\"y=sin(x)\")\n",
    "# サブプロットaxのグラフのx軸、y軸にラベルを設定する\n",
    "ax.set_xlabel(\"x-axis\")\n",
    "ax.set_ylabel(\"y-axis\")\n",
    "\n",
    "# サブプロットaxのグラフのx軸に目盛りを設定してください\n",
    "ax.set_xticks(positions)\n",
    "ax.set_xticklabels(labels)\n",
    "\n",
    "# データx, yをグラフにプロットする\n",
    "ax.plot(x, y)\n",
    "\n",
    "# 空白部分をサブプロットで埋める\n",
    "for i in range(6):\n",
    "    if i == 4:\n",
    "        continue\n",
    "    fig.add_subplot(2, 3, i+1)\n",
    "\n",
    "plt.show()"
   ]
  },
  {
   "cell_type": "markdown",
   "metadata": {},
   "source": [
    "***"
   ]
  },
  {
   "cell_type": "markdown",
   "metadata": {
    "id": "chapter_exam"
   },
   "source": [
    "## まとめ問題(提出不要)"
   ]
  },
  {
   "cell_type": "markdown",
   "metadata": {
    "id": "description"
   },
   "source": [
    "サブプロットのオブジェクトを増やすことで複数のグラフを同時に表示させることができます。"
   ]
  },
  {
   "cell_type": "markdown",
   "metadata": {},
   "source": [
    "#### 問題"
   ]
  },
  {
   "cell_type": "markdown",
   "metadata": {
    "id": "question"
   },
   "source": [
    "- 2×3のグラフレイアウトを作成し、1行目には左から$y=x,y=x^2,y=x^3$、2行目には左から$y=sin(x),y=cos(x),y=tan(x)$のグラフをプロットしてください。\n",
    "- それぞれのサブプロットには適切なタイトルをつけてください。また、グリッドを表示させてください。\n",
    "- 1行目の関数（$y=x,y=x^2,y=x^3$）には\\_upperの付いた変数を、2行目の関数（$y=sin(x),y=cos(x),y=tan(x)$）には\\_lowerの付いた変数を用いてください。\n",
    "- $y=tan(x)$だけ範囲が違うので\\_tanの付いた変数を代わりに使ってください。"
   ]
  },
  {
   "cell_type": "markdown",
   "metadata": {},
   "source": [
    "#### ヒント"
   ]
  },
  {
   "cell_type": "markdown",
   "metadata": {
    "id": "hint"
   },
   "source": [
    "- $x^2,x^3$にはPythonの演算子を用います。\n",
    "- $sin(x),cos(x),tan(x)$は全てnumpyモジュールの中にあります。\n",
    "- グラフのタイトルで$x^2$や$x^3$を表示させるには以下のようにします。 \n",
    "\n",
    "`ax.set_title(\" $x^2$ \")`\n",
    "\n",
    "- for文とリストを組み合わせるとスクリプトがより簡潔になります。"
   ]
  },
  {
   "cell_type": "code",
   "execution_count": null,
   "metadata": {
    "id": "index"
   },
   "outputs": [],
   "source": [
    "# matplotlib.pyplotをpltとしてimport\n",
    "import matplotlib.pyplot as plt\n",
    "import numpy as np\n",
    "\n",
    "%matplotlib inline\n",
    "\n",
    "x_upper = np.linspace(0, 5)\n",
    "x_lower = np.linspace(0, 2 * np.pi)\n",
    "x_tan = np.linspace(-np.pi / 2, np.pi / 2)\n",
    "positions_upper = [i for i in range(5)]\n",
    "positions_lower = [0, np.pi / 2, np.pi, np.pi * 3 / 2, np.pi * 2]\n",
    "positions_tan = [-np.pi / 2, 0, np.pi / 2]\n",
    "labels_upper = [i for i in range(5)]\n",
    "labels_lower = [\"0°\", \"90°\", \"180°\", \"270°\", \"360°\"]\n",
    "labels_tan = [\"-90°\", \"0°\", \"90°\"]\n",
    "\n",
    "# Figureオブジェクトを作成\n",
    "fig = plt.figure(figsize=(9, 6))\n",
    "\n",
    "# 2×3のレイアウトをもつ複数の関数のグラフをプロットしてください\n",
    "\n",
    "\n",
    "plt.show()"
   ]
  },
  {
   "cell_type": "markdown",
   "metadata": {},
   "source": [
    "#### 解答例"
   ]
  },
  {
   "cell_type": "code",
   "execution_count": null,
   "metadata": {
    "id": "answer",
    "scrolled": true
   },
   "outputs": [],
   "source": [
    "# matplotlib.pyplotをpltとしてimport\n",
    "import matplotlib.pyplot as plt\n",
    "import numpy as np\n",
    "\n",
    "%matplotlib inline\n",
    "\n",
    "x_upper = np.linspace(0, 5)\n",
    "x_lower = np.linspace(0, 2 * np.pi)\n",
    "x_tan = np.linspace(-np.pi / 2, np.pi / 2)\n",
    "positions_upper = [i for i in range(5)]\n",
    "positions_lower = [0, np.pi / 2, np.pi, np.pi * 3 / 2, np.pi * 2]\n",
    "positions_tan = [-np.pi / 2, 0, np.pi / 2]\n",
    "labels_upper = [i for i in range(5)]\n",
    "labels_lower = [\"0°\", \"90°\", \"180°\", \"270°\", \"360°\"]\n",
    "labels_tan = [\"-90°\", \"0°\", \"90°\"]\n",
    "\n",
    "# Figureオブジェクトを作成\n",
    "fig = plt.figure(figsize=(9, 6))\n",
    "\n",
    "# 2×3のレイアウトをもつ複数の関数のグラフをプロットしてください\n",
    "# サブプロット同士が重ならないように設定する\n",
    "plt.subplots_adjust(wspace=0.4, hspace=0.4)\n",
    "\n",
    "# 1行目のサブプロット作成\n",
    "for i in range(3):\n",
    "    y_upper = x_upper ** (i + 1)\n",
    "    ax = fig.add_subplot(2, 3, i + 1)\n",
    "    # サブプロットaxのグラフにグリッドを表示する\n",
    "    ax.grid(True)\n",
    "    # サブプロットaxのグラフのタイトルを設定する\n",
    "    ax.set_title(\"$y=x^%i$\" % (i + 1))\n",
    "    # サブプロットaxのグラフのx軸、y軸に名前を設定する\n",
    "    ax.set_xlabel(\"x-axis\")\n",
    "    ax.set_ylabel(\"y-axis\")\n",
    "    # サブプロットaxのグラフのx軸にラベルを設定する\n",
    "    ax.set_xticks(positions_upper)\n",
    "    ax.set_xticklabels(labels_upper)\n",
    "    # データx,yをグラフにプロットし、表示する\n",
    "    ax.plot(x_upper, y_upper)\n",
    "\n",
    "# 2行目のサブプロット作成\n",
    "# あらかじめリストに使う関数とタイトルを入れておくことでfor文による処理を可能にする\n",
    "y_lower_list = [np.sin(x_lower), np.cos(x_lower)]\n",
    "title_list = [\"$y=sin(x)$\", \"$y=cos(x)$\"]\n",
    "for i in range(2):\n",
    "    y_lower = y_lower_list[i]\n",
    "    ax = fig.add_subplot(2, 3, i + 4)\n",
    "    # サブプロットaxのグラフにグリッドを表示する\n",
    "    ax.grid(True)\n",
    "    # サブプロットaxのグラフのタイトルを設定する\n",
    "    ax.set_title(title_list[i])\n",
    "    # サブプロットaxのグラフのx軸、y軸に名前を設定する\n",
    "    ax.set_xlabel(\"x-axis\")\n",
    "    ax.set_ylabel(\"y-axis\")\n",
    "    # サブプロットaxのグラフのx軸にラベルを設定する\n",
    "    ax.set_xticks(positions_lower)\n",
    "    ax.set_xticklabels(labels_lower)\n",
    "    # データx,yをグラフにプロットし、表示する\n",
    "    ax.plot(x_lower, y_lower)\n",
    "\n",
    "# y=tan(x)のグラフのプロット\n",
    "ax = fig.add_subplot(2, 3, 6)\n",
    "# サブプロットaxのグラフにグリッドを表示する\n",
    "ax.grid(True)\n",
    "# サブプロットaxのグラフのタイトルを設定する\n",
    "ax.set_title(\"$y=tan(x)$\")\n",
    "# サブプロットaxのグラフのx軸、y軸に名前を設定する\n",
    "ax.set_xlabel(\"x-axis\")\n",
    "ax.set_ylabel(\"y-axis\")\n",
    "# サブプロットaxのグラフのx軸にラベルを設定する\n",
    "ax.set_xticks(positions_tan)\n",
    "ax.set_xticklabels(labels_tan)\n",
    "# サブプロットaxのグラフのyの範囲を設定する\n",
    "ax.set_ylim(-1, 1)\n",
    "# データx,yをグラフにプロットし、表示する\n",
    "ax.plot(x_tan, np.tan(x_tan))\n",
    "\n",
    "plt.show()"
   ]
  },
  {
   "cell_type": "markdown",
   "metadata": {},
   "source": [
    "今回はmatplotlibを用いたプロットの細かい設定方法を学びました。<br>\n",
    "<br>\n",
    "データをきれいに可視化できるようになれば解析をするときや、他人にデータを見せるときなどに非常に役に立ちます。"
   ]
  },
  {
   "cell_type": "markdown",
   "metadata": {},
   "source": [
    "***"
   ]
  }
 ],
 "metadata": {
  "celltoolbar": "Edit Metadata",
  "kernelspec": {
   "display_name": "Python 3",
   "language": "python",
   "name": "python3"
  },
  "language_info": {
   "codemirror_mode": {
    "name": "ipython",
    "version": 3
   },
   "file_extension": ".py",
   "mimetype": "text/x-python",
   "name": "python",
   "nbconvert_exporter": "python",
   "pygments_lexer": "ipython3",
   "version": "3.6.4"
  },
  "toc": {
   "base_numbering": 1,
   "nav_menu": {},
   "number_sections": true,
   "sideBar": true,
   "skip_h1_title": false,
   "title_cell": "Table of Contents",
   "title_sidebar": "Contents",
   "toc_cell": false,
   "toc_position": {
    "height": "calc(100% - 180px)",
    "left": "10px",
    "top": "150px",
    "width": "317.188px"
   },
   "toc_section_display": true,
   "toc_window_display": true
  }
 },
 "nbformat": 4,
 "nbformat_minor": 2
}