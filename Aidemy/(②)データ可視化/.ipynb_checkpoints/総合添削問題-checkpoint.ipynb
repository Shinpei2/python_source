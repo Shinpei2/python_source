{
 "cells": [
  {
   "cell_type": "code",
   "execution_count": 2,
   "metadata": {},
   "outputs": [],
   "source": [
    "# plt.show()で可視化されない人はこのセルを実行してください。\n",
    "%matplotlib inline"
   ]
  },
  {
   "cell_type": "markdown",
   "metadata": {
    "id": "final_exam"
   },
   "source": [
    "# 総合添削問題"
   ]
  },
  {
   "cell_type": "markdown",
   "metadata": {
    "id": "description"
   },
   "source": [
    "この総合添削問題では、モンテカルロ法による円周率の推定を行っていただきます。\n",
    " \n",
    "**モンテカルロ法**とは、「乱数を用いて何らかの値を見積もる方法」のことを指します。<br>\n",
    " 乱数を用いるため解を正しく出力することもあれば、乱数に依存しているため望ましい出力が得られないことがあります。モンテカルロ法を用いた例で代表的なものの一つに、円周率の近似値を計算するアルゴリズムがあります。<br>\n",
    "\n",
    "\n",
    "1×1の正方形内にランダムに点を打ちます。四分円内、すなわち原点(左下の頂点)からの距離が1以下なら1ポイント追加し、1より大きいなら0ポイントが追加されます。以上の操作をN回(何回繰り返すかは自分で設定する)繰り返します。<br>\n",
    "\n",
    "\n",
    " 総獲得ポイントをXとするとき、四分円内に点が入った確率$\\frac{X}{N}$が四分円の面積$\\frac{π}{4}$となり、 $\\frac{4X}{N}$が円周率の近似値となることがわかります。<br>\n",
    " 試行回数Nを大きくするほど確率が理論値に収束し(**大数の法則**)、近似値が円周率に近くことがわかります。\n",
    " \n",
    "<img src=\"https://aidemyexstorage.blob.core.windows.net/aidemycontents/1549445907178932.png\"　width=300>\n",
    "\n",
    "<b><center>図1 モンテカルロ法による円周率の推定</center></b>"
   ]
  },
  {
   "cell_type": "markdown",
   "metadata": {},
   "source": [
    "#### 問題"
   ]
  },
  {
   "cell_type": "markdown",
   "metadata": {
    "id": "question"
   },
   "source": [
    "- モンテカルロ法による円周率の推定を行うため、以下のコードを完成させてください。\n",
    "- 以下のコードにおけるNの値を適宜変化させ、推定された円周率がどのように変化するかみてみましょう。"
   ]
  },
  {
   "cell_type": "code",
   "execution_count": 3,
   "metadata": {
    "id": "index"
   },
   "outputs": [
    {
     "name": "stderr",
     "output_type": "stream",
     "text": [
      "C:\\Users\\94738\\AppData\\Local\\Continuum\\anaconda3\\lib\\site-packages\\ipykernel_launcher.py:18: DeprecationWarning: time.clock has been deprecated in Python 3.3 and will be removed from Python 3.8: use time.perf_counter or time.process_time instead\n",
      "C:\\Users\\94738\\AppData\\Local\\Continuum\\anaconda3\\lib\\site-packages\\ipykernel_launcher.py:47: DeprecationWarning: time.clock has been deprecated in Python 3.3 and will be removed from Python 3.8: use time.perf_counter or time.process_time instead\n"
     ]
    },
    {
     "name": "stdout",
     "output_type": "stream",
     "text": [
      "円周率:3.160000\n",
      "実行時間:0.000849\n"
     ]
    },
    {
     "data": {
      "image/png": "[encoded data removed]",
      "text/plain": [
       "<Figure size 360x360 with 1 Axes>"
      ]
     },
     "metadata": {
      "needs_background": "light"
     },
     "output_type": "display_data"
    }
   ],
   "source": [
    "import matplotlib.pyplot as plt\n",
    "import numpy as np\n",
    "import math\n",
    "import time\n",
    "\n",
    "#np.random.seed(100)\n",
    "X = 0  # 的に当たった回数です\n",
    "\n",
    "# 試行回数Nを指定してください。\n",
    "N = 100\n",
    "# 四分円の境界の方程式[y=√1-x^2 (0<=x<=1)]を描画しています。\n",
    "circle_x = np.arange(0, 1, 0.001)\n",
    "circle_y = np.sqrt(1 - circle_x * circle_x)\n",
    "plt.figure(figsize=(5, 5))\n",
    "plt.plot(circle_x, circle_y)\n",
    "\n",
    "# N回の試行にかかる時間を計測します。\n",
    "start_time = time.clock()\n",
    "\n",
    "#プロット用の空の配列を用意\n",
    "internal_x = []\n",
    "internal_y = []\n",
    "external_x = []\n",
    "external_y = []\n",
    "\n",
    "# N回の試行を行っています。\n",
    "for i in range(N):\n",
    "    # 0から1の間で一様乱数を発生させ、変数score_xに格納してください。\n",
    "    score_x = np.random.rand()\n",
    "    # 0から1の間で一様乱数を発生させ、変数score_yに格納してください。\n",
    "    score_y = np.random.rand()\n",
    "    if score_x * score_x + score_y * score_y < 1:\n",
    "        # 的に入ったものはinternal_x, internal_yに追加してください。\n",
    "        internal_x.append(score_x)\n",
    "        internal_y.append(score_y)\n",
    "        # 得点Xを1追加してください\n",
    "        X += 1\n",
    "    else:\n",
    "        # 的から外れたものはexternal_x, external_yに追加してください。\n",
    "        external_x.append(score_x)\n",
    "        external_y.append(score_y)\n",
    "\n",
    "# piの近似値をここで計算してください。\n",
    "pi = (4 * X) / N\n",
    "\n",
    "# モンテカルロ法の実行時間を計算しています。\n",
    "end_time = time.clock()\n",
    "time = end_time - start_time\n",
    "\n",
    "# 円周率の結果を表示\n",
    "print(\"円周率:%.6f\" % pi)\n",
    "print(\"実行時間:%f\" % (time))\n",
    "\n",
    "# 散布図を描画してください。四分円内にある点は赤で、四分円外にある点は青で描画してください。\n",
    "plt.scatter(internal_x, internal_y, color=\"r\")\n",
    "plt.scatter(external_x, external_y, color=\"b\")\n",
    "\n",
    "# 結果を表示\n",
    "plt.grid(True)\n",
    "plt.xlabel('X')\n",
    "plt.ylabel('Y')\n",
    "plt.show()"
   ]
  },
  {
   "cell_type": "markdown",
   "metadata": {},
   "source": [
    "#### ヒント"
   ]
  },
  {
   "cell_type": "markdown",
   "metadata": {
    "id": "hint"
   },
   "source": [
    "- 点の座標を(score_x, score_y)と定義しているため、三平方の定理より$x^2+y^2<1$が成り立てば円の中に入っていることになります。\n",
    "- $π$の座標は、$\\frac{4X}{N}$で算出することができます。\n",
    "- 散布図の描画には`plt.scatter()`を使用しましょう。\n",
    "- 配列の追加には`append()`メソッドが便利です。"
   ]
  },
  {
   "cell_type": "markdown",
   "metadata": {},
   "source": [
    "####  解答例"
   ]
  },
  {
   "cell_type": "code",
   "execution_count": null,
   "metadata": {},
   "outputs": [],
   "source": [
    "import matplotlib.pyplot as plt\n",
    "import numpy as np\n",
    "import math\n",
    "import time\n",
    "\n",
    "np.random.seed(100)\n",
    "X = 0  # 的に当たった回数です\n",
    "\n",
    "# 試行回数Nを指定してください。\n",
    "N = 1000\n",
    "# 四分円の境界の方程式[y=√1-x^2 (0<=x<=1)]を描画しています。\n",
    "circle_x = np.arange(0, 1, 0.001)\n",
    "circle_y = np.sqrt(1 - circle_x * circle_x)\n",
    "plt.figure(figsize=(5, 5))\n",
    "plt.plot(circle_x, circle_y)\n",
    "\n",
    "# N回の試行にかかる時間を計測します。\n",
    "start_time = time.clock()\n",
    "\n",
    "#プロット用の空の配列を用意\n",
    "internal_x = []\n",
    "internal_y = []\n",
    "external_x = []\n",
    "external_y = []\n",
    "\n",
    "# N回の試行を行っています。\n",
    "for i in range(N):\n",
    "    # 0から1の間で一様乱数を発生させ、変数score_xに格納してください。\n",
    "    score_x = np.random.rand()\n",
    "    # 0から1の間で一様乱数を発生させ、変数score_yに格納してください。\n",
    "    score_y = np.random.rand()\n",
    "    if score_x * score_x + score_y * score_y < 1:\n",
    "        # 的に入ったものはinternal_x, internal_yに追加してください。\n",
    "        internal_x.append(score_x)\n",
    "        internal_y.append(score_y)\n",
    "        \n",
    "        # 得点Xを1追加してください\n",
    "        X = X + 1\n",
    "    else:\n",
    "        # 的から外れたものはexternal_x, external_yに追加してください。\n",
    "        external_x.append(score_x)\n",
    "        external_y.append(score_y)\n",
    "\n",
    "# piの近似値をここで計算してください。\n",
    "pi = 4*float(X)/float(N)\n",
    "\n",
    "# モンテカルロ法の実行時間を計算しています。\n",
    "end_time = time.clock()\n",
    "time = end_time - start_time\n",
    "\n",
    "# 円周率の結果を表示。\n",
    "print(\"円周率:%.6f\" % pi)\n",
    "print(\"実行時間:%f\" % (time))\n",
    "\n",
    "# 散布図を描画してください。四分円内にある点は赤で、四分円外にある点は青で描画してください。\n",
    "plt.scatter(internal_x, internal_y, color=\"r\")\n",
    "plt.scatter(external_x, external_y, color=\"b\")\n",
    "\n",
    "# 結果を表示\n",
    "plt.grid(True)\n",
    "plt.xlabel('X')\n",
    "plt.ylabel('Y')\n",
    "plt.show()"
   ]
  },
  {
   "cell_type": "markdown",
   "metadata": {
    "collapsed": true,
    "id": "commentary"
   },
   "source": [
    "添削課題の提出は以下のアドレスから提出いただきますようお願いします。<br>\n",
    "\b\n",
    "https://goo.gl/forms/fW7CAspZMwHuWuqk2<br><br>\n",
    "以下のアドレスからアンケートにご協力頂きたく存じます。<br>\n",
    "ご回答のほど、よろしくお願いいたします。\n",
    "\n",
    "https://goo.gl/forms/WHjJQYeodIndRvyz2"
   ]
  }
 ],
 "metadata": {
  "celltoolbar": "Edit Metadata",
  "kernelspec": {
   "display_name": "Python 3",
   "language": "python",
   "name": "python3"
  },
  "language_info": {
   "codemirror_mode": {
    "name": "ipython",
    "version": 3
   },
   "file_extension": ".py",
   "mimetype": "text/x-python",
   "name": "python",
   "nbconvert_exporter": "python",
   "pygments_lexer": "ipython3",
   "version": "3.7.3"
  },
  "toc": {
   "base_numbering": 1,
   "nav_menu": {},
   "number_sections": true,
   "sideBar": true,
   "skip_h1_title": false,
   "title_cell": "Table of Contents",
   "title_sidebar": "Contents",
   "toc_cell": false,
   "toc_position": {},
   "toc_section_display": true,
   "toc_window_display": false
  },
  "varInspector": {
   "cols": {
    "lenName": 16,
    "lenType": 16,
    "lenVar": 40
   },
   "kernels_config": {
    "python": {
     "delete_cmd_postfix": "",
     "delete_cmd_prefix": "del ",
     "library": "var_list.py",
     "varRefreshCmd": "print(var_dic_list())"
    },
    "r": {
     "delete_cmd_postfix": ") ",
     "delete_cmd_prefix": "rm(",
     "library": "var_list.r",
     "varRefreshCmd": "cat(var_dic_list()) "
    }
   },
   "types_to_exclude": [
    "module",
    "function",
    "builtin_function_or_method",
    "instance",
    "_Feature"
   ],
   "window_display": false
  }
 },
 "nbformat": 4,
 "nbformat_minor": 2
}
