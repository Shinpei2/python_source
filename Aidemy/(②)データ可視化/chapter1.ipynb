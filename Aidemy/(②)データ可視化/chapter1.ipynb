{
 "cells": [
  {
   "cell_type": "code",
   "execution_count": null,
   "metadata": {},
   "outputs": [],
   "source": [
    "# plt.show()で可視化されない人はこのセルを実行してください。\n",
    "%matplotlib inline"
   ]
  },
  {
   "cell_type": "markdown",
   "metadata": {
    "chapterId": "SyUAPlA7M",
    "id": "chapter_name"
   },
   "source": [
    "# データ可視化のための準備"
   ]
  },
  {
   "cell_type": "markdown",
   "metadata": {
    "id": "table"
   },
   "source": [
    "- **[1.1 様々なグラフ](#1.1-様々なグラフ)**\n",
    "    - **[1.1.1 折れ線グラフ](#1.1.1-折れ線グラフ)**\n",
    "    - **[1.1.2 棒グラフ](#1.1.2-棒グラフ)**\n",
    "    - **[1.1.3 ヒストグラム](#1.1.3-ヒストグラム)**\n",
    "    - **[1.1.4 散布図](#1.1.4-散布図)**\n",
    "    - **[1.1.5 円グラフ](#1.1.5-円グラフ)**\n",
    "<br><br>\n",
    "- **[1.2 乱数の生成](#1.2-乱数の生成)**\n",
    "    - **[1.2.1 シードを設定する](#1.2.1-シードを設定する)**\n",
    "    - **[1.2.2 正規分布に従う乱数を生成する](#1.2.2-正規分布に従う乱数を生成する)**\n",
    "    - **[1.2.3 二項分布に従う乱数を生成する](#1.2.3-二項分布に従う乱数を生成する)**\n",
    "    - **[1.2.4 リストからランダムに選択する](#1.2.4-リストからランダムに選択する)**\n",
    "<br><br>\n",
    "- **[1.3 時系列データ](#1.3-時系列データ)**\n",
    "    - **[1.3.1 datetime型](#1.3.1-datetime型)**\n",
    "    - **[1.3.2 timedelta型](#1.3.2-timedelta型)**\n",
    "    - **[1.3.3 datetime型とtimedelta型の演算](#1.3.3-datetime型とtimedelta型の演算)**\n",
    "    - **[1.3.4 時を表す文字列からdatetimeオブジェクトを作成する](#1.3.4-時を表す文字列からdatetimeオブジェクトを作成する)**\n",
    "<br><br>\n",
    "- **[1.4 データの操作](#1.4-データの操作)**\n",
    "    - **[1.4.1 文字列型から数値型へ型変換する](#1.4.1-文字列型から数値型へ型変換する)**\n",
    "    - **[1.4.2 等間隔の数列を生成する1](#1.4.2-等間隔の数列を生成する1)**\n",
    "    - **[1.4.3 等間隔の数列を生成する2](#1.4.3-等間隔の数列を生成する2)**"
   ]
  },
  {
   "cell_type": "markdown",
   "metadata": {},
   "source": [
    "***"
   ]
  },
  {
   "cell_type": "code",
   "execution_count": null,
   "metadata": {},
   "outputs": [],
   "source": [
    "# このセルを実行してください。\n",
    "%matplotlib inline"
   ]
  },
  {
   "cell_type": "markdown",
   "metadata": {
    "id": "section_name",
    "sectionId": "BJgIRweRmG"
   },
   "source": [
    "# 1.1 様々なグラフ"
   ]
  },
  {
   "cell_type": "markdown",
   "metadata": {
    "courseId": 4040,
    "exerciseId": "rybIAweCXf",
    "id": "quiz_session_name",
    "important": false,
    "isDL": false,
    "timeoutSecs": 10
   },
   "source": [
    "### 1.1.1 折れ線グラフ"
   ]
  },
  {
   "cell_type": "markdown",
   "metadata": {
    "id": "description"
   },
   "source": [
    "平面上にデータをプロットし、プロットされたデータ間を直線で結んだグラフを<b style='color:#AA0000'>折れ線グラフ</b>と呼びます。<br>\n",
    "<br>\n",
    "折れ線グラフは、<b>時間や位置（距離）によって推移する量</b>を視覚化するのに適しています。例えば、横軸（x軸）に時間、縦軸（y軸）にある商品の販売量を対応させることで販売量の推移を視覚化することができます。<br>\n",
    "<br>\n",
    "下の折れ線グラフは、1960年代のカナダのケベック州における、車の販売台数の変化を表しています。<br>\n",
    "<img src=\"https://aidemyexstorage.blob.core.windows.net/aidemycontents/1526106025305842.png\" width=500>\n",
    "\n",
    "<b><center>図1.1.1-1 折れ線グラフ</center></b>"
   ]
  },
  {
   "cell_type": "markdown",
   "metadata": {},
   "source": [
    "#### 問題"
   ]
  },
  {
   "cell_type": "markdown",
   "metadata": {
    "id": "question"
   },
   "source": [
    "- 次のデータのうち、折れ線グラフで表すのに向いているデータはどれでしょうか。"
   ]
  },
  {
   "cell_type": "markdown",
   "metadata": {
    "id": "choices"
   },
   "source": [
    "- 月別の売上高\n",
    "- 動物の人気投票の結果\n",
    "- あるテストの生徒全員分の点数\n",
    "- 上記のすべて"
   ]
  },
  {
   "cell_type": "markdown",
   "metadata": {},
   "source": [
    "#### ヒント"
   ]
  },
  {
   "cell_type": "markdown",
   "metadata": {
    "id": "hint"
   },
   "source": [
    "- 折れ線グラフに向いているデータとは、時間や距離など連続的な量とそれに依存するデータの組み合わせです。"
   ]
  },
  {
   "cell_type": "markdown",
   "metadata": {},
   "source": [
    "#### 解答"
   ]
  },
  {
   "cell_type": "markdown",
   "metadata": {
    "id": "answer"
   },
   "source": [
    "- 月別の売上高"
   ]
  },
  {
   "cell_type": "markdown",
   "metadata": {},
   "source": [
    "***"
   ]
  },
  {
   "cell_type": "markdown",
   "metadata": {
    "courseId": 4040,
    "exerciseId": "S1fLRDe0QM",
    "id": "quiz_session_name",
    "important": false,
    "isDL": false,
    "timeoutSecs": 10
   },
   "source": [
    "### 1.1.2 棒グラフ"
   ]
  },
  {
   "cell_type": "markdown",
   "metadata": {
    "id": "description"
   },
   "source": [
    "項目を横軸に並べ、その項目が取る値を図形の長さで縦に表したグラフを<b style='color:#AA0000'>棒グラフ</b>と呼びます。<br>\n",
    "<br>\n",
    "棒グラフは、<b>2つ以上の項目がもつ値を比較する際に適している</b>視覚化の方法です。例えば、選挙における候補者別の得票数を視覚化したい場合に適しています。<br>\n",
    "あるデータの可視化に棒グラフが適しているとき、円グラフによる可視化も有効な場合があります。<br>\n",
    "<br>\n",
    "下の棒グラフは国別の人口の比較を表しています。<br>\n",
    "\n",
    "<img src=\"https://aidemyexcontentspic.blob.core.windows.net/contents-pic/4040_data_vis/1_1_2.png\" width=500>\n",
    "\n",
    "<b><center>図1.1.2-1 棒グラフ</center></b>"
   ]
  },
  {
   "cell_type": "markdown",
   "metadata": {},
   "source": [
    "#### 問題"
   ]
  },
  {
   "cell_type": "markdown",
   "metadata": {
    "id": "question"
   },
   "source": [
    "- 次のデータのうち、棒グラフで表すのに向いているデータはどれでしょうか。"
   ]
  },
  {
   "cell_type": "markdown",
   "metadata": {
    "id": "choices"
   },
   "source": [
    "- 月別の売上高を表す時系列データ\n",
    "- 動物の人気投票の結果\n",
    "- マラソンコースのスタート地点からゴールまでの標高を表す高低差\n",
    "- 上記のすべて"
   ]
  },
  {
   "cell_type": "markdown",
   "metadata": {},
   "source": [
    "#### ヒント"
   ]
  },
  {
   "cell_type": "markdown",
   "metadata": {
    "id": "hint"
   },
   "source": [
    "- 棒グラフは、2つ以上の項目を比較する際に有効な視覚化の方法です。"
   ]
  },
  {
   "cell_type": "markdown",
   "metadata": {},
   "source": [
    "#### 解答"
   ]
  },
  {
   "cell_type": "markdown",
   "metadata": {
    "id": "answer"
   },
   "source": [
    "- 動物の人気投票の結果"
   ]
  },
  {
   "cell_type": "markdown",
   "metadata": {},
   "source": [
    "***"
   ]
  },
  {
   "cell_type": "markdown",
   "metadata": {
    "courseId": 4040,
    "exerciseId": "H1QLCveAmf",
    "id": "quiz_session_name",
    "important": false,
    "isDL": false,
    "timeoutSecs": 10
   },
   "source": [
    "### 1.1.3 ヒストグラム"
   ]
  },
  {
   "cell_type": "markdown",
   "metadata": {
    "id": "description"
   },
   "source": [
    "データを階級ごとに分けてから階級内の度数（同じ階級に含まれるデータの個数）を高さで表したグラフを<b style='color:#AA0000'>ヒストグラム</b>と呼びます。ヒストグラムは <b style='color: #AA0000'>度数分布図</b> とも呼びます。<br>\n",
    "<br>\n",
    "ヒストグラムは、<b>1次元のデータ（ある製品の長さを何回も測定したデータなど）の分布を可視化する際に最も適している</b>可視化の方法です。<br>\n",
    "<br>\n",
    "下のヒストグラムは日本人男性（成人）の身長の分布を表しています。<br>\n",
    "\n",
    "<img src=\"https://aidemyexcontentspic.blob.core.windows.net/contents-pic/4040_data_vis/1_1_3.png\" width=500>\n",
    "\n",
    "<b><center>図1.1.3-1 ヒストグラム</center></b>"
   ]
  },
  {
   "cell_type": "markdown",
   "metadata": {},
   "source": [
    "#### 問題"
   ]
  },
  {
   "cell_type": "markdown",
   "metadata": {
    "id": "question"
   },
   "source": [
    "- 次のデータのうち、ヒストグラムで表すのに向いているデータはどれでしょうか。"
   ]
  },
  {
   "cell_type": "markdown",
   "metadata": {
    "id": "choices"
   },
   "source": [
    "-  動物の人気投票の結果\n",
    "- あるテストの生徒全員分の点数\n",
    "- マラソンコースのスタート地点からゴールまでの標高\n",
    "- 上記のすべて"
   ]
  },
  {
   "cell_type": "markdown",
   "metadata": {},
   "source": [
    "#### ヒント"
   ]
  },
  {
   "cell_type": "markdown",
   "metadata": {
    "id": "hint"
   },
   "source": [
    "- ヒストグラムは、1次元のデータの分布を可視化する際に最も適しています。"
   ]
  },
  {
   "cell_type": "markdown",
   "metadata": {},
   "source": [
    "#### 解答"
   ]
  },
  {
   "cell_type": "markdown",
   "metadata": {
    "id": "answer"
   },
   "source": [
    "- あるテストの生徒全員分の点数"
   ]
  },
  {
   "cell_type": "markdown",
   "metadata": {},
   "source": [
    "***"
   ]
  },
  {
   "cell_type": "markdown",
   "metadata": {
    "courseId": 4040,
    "exerciseId": "Hk4UAwxRmM",
    "id": "quiz_session_name",
    "important": false,
    "isDL": false,
    "timeoutSecs": 10
   },
   "source": [
    "### 1.1.4 散布図"
   ]
  },
  {
   "cell_type": "markdown",
   "metadata": {
    "id": "description"
   },
   "source": [
    "あるデータの2つの項目を平面上のx軸とy軸にそれぞれ対応させ、点を打ったグラフを<b style='color:#AA0000'>散布図</b>と呼びます。<br>\n",
    "<br>\n",
    "点の色や大きさを活用することで<b>合計3つの項目を平面上に可視化</b>することもできます。<br>\n",
    "<br>\n",
    "下の散布図は、アイリス(あやめ)の花びらの長さと幅の分布を表しています。<br>\n",
    "\n",
    "<img src=\"https://aidemyexcontentspic.blob.core.windows.net/contents-pic/4040_data_vis/1_1_4.png\" width=500>\n",
    "\n",
    "<b><center>図1.1.4-1 散布図</center></b>"
   ]
  },
  {
   "cell_type": "markdown",
   "metadata": {},
   "source": [
    "#### 問題"
   ]
  },
  {
   "cell_type": "markdown",
   "metadata": {
    "id": "question"
   },
   "source": [
    "- 次のデータのうち、散布図で表すのに向いているデータはどれでしょうか。"
   ]
  },
  {
   "cell_type": "markdown",
   "metadata": {
    "id": "choices"
   },
   "source": [
    "- 走り幅跳びでの助走の距離と幅跳びの飛距離\n",
    "- 1日の脂質の平均摂取量と血圧の値\n",
    "- 最高気温とその日に売れたかき氷の数\n",
    "- 上記のすべて。"
   ]
  },
  {
   "cell_type": "markdown",
   "metadata": {},
   "source": [
    "#### ヒント"
   ]
  },
  {
   "cell_type": "markdown",
   "metadata": {
    "id": "hint"
   },
   "source": [
    "- あるデータの2つの項目を平面上のx軸とy軸にそれぞれ対応させ、点を打ったグラフを散布図といいます。"
   ]
  },
  {
   "cell_type": "markdown",
   "metadata": {},
   "source": [
    "#### 解答"
   ]
  },
  {
   "cell_type": "markdown",
   "metadata": {
    "id": "answer"
   },
   "source": [
    "- 上記のすべて。"
   ]
  },
  {
   "cell_type": "markdown",
   "metadata": {},
   "source": [
    "***"
   ]
  },
  {
   "cell_type": "markdown",
   "metadata": {
    "courseId": 4040,
    "exerciseId": "rkBLRDeC7f",
    "id": "quiz_session_name",
    "important": false,
    "isDL": false,
    "timeoutSecs": 10
   },
   "source": [
    "### 1.1.5 円グラフ"
   ]
  },
  {
   "cell_type": "markdown",
   "metadata": {
    "id": "description"
   },
   "source": [
    "円形の図形に、全体にしめる割合に応じて中心からの角度を割り当てるグラフを<b style='color:#AA0000'>円グラフ</b>と呼びます。<br>\n",
    "<br>\n",
    "円グラフは、<b>ある項目の割合を全体と比較したいときに最も適している</b>可視化の方法です。<br>\n",
    "あるデータの可視化に円グラフが適しているとき、棒グラフによる可視化も有効な場合があります。<br>\n",
    "<br>\n",
    "下のグラフは、好きな果物は何かというアンケート結果を示しています。<br>\n",
    "\n",
    "<img src=\"https://aidemyexstorage.blob.core.windows.net/aidemycontents/1526106673655107.png\" width=500>\n",
    "\n",
    "<b><center>図1.1.5-1 円グラフ</center></b>"
   ]
  },
  {
   "cell_type": "markdown",
   "metadata": {},
   "source": [
    "#### 問題"
   ]
  },
  {
   "cell_type": "markdown",
   "metadata": {
    "id": "question"
   },
   "source": [
    "- 次のデータのうち、円グラフで表すのに向いているデータはどれでしょうか。"
   ]
  },
  {
   "cell_type": "markdown",
   "metadata": {
    "id": "choices"
   },
   "source": [
    "- ある製品の国別のシェア\n",
    "- ある製品の月別販売個数\n",
    "- 最高気温とその日に売れたかき氷の数\n",
    "- 上記のすべて"
   ]
  },
  {
   "cell_type": "markdown",
   "metadata": {},
   "source": [
    "#### ヒント"
   ]
  },
  {
   "cell_type": "markdown",
   "metadata": {
    "id": "hint"
   },
   "source": [
    "- 円グラフは、ある項目の割合を全体と比較したいときに最も適している可視化の方法です。"
   ]
  },
  {
   "cell_type": "markdown",
   "metadata": {},
   "source": [
    "#### 解答"
   ]
  },
  {
   "cell_type": "markdown",
   "metadata": {
    "id": "answer"
   },
   "source": [
    "- ある製品の国別のシェア"
   ]
  },
  {
   "cell_type": "markdown",
   "metadata": {},
   "source": [
    "***"
   ]
  },
  {
   "cell_type": "markdown",
   "metadata": {
    "id": "section_name",
    "sectionId": "HJIL0Dl07G"
   },
   "source": [
    "## 1.2 乱数の生成"
   ]
  },
  {
   "cell_type": "markdown",
   "metadata": {
    "courseId": 4040,
    "exerciseId": "SyvLRwx0mz",
    "id": "code_session_name",
    "important": false,
    "isDL": false,
    "timeoutSecs": 10
   },
   "source": [
    "### 1.2.1 シードを設定する"
   ]
  },
  {
   "cell_type": "markdown",
   "metadata": {
    "id": "description"
   },
   "source": [
    "このセクションでは様々な種類の乱数の生成方法を学びます。<br>\n",
    "<br>\n",
    "コンピュータは「シード」を元に乱数を生成します。<b style='color:#AA0000'>シード</b>とは乱数生成の基となる初期値であり、一番最初の乱数を求めるのに使われる値です。シードの値を固定すると次の乱数も同じ値を生成するので<b>常に同じ乱数列の生成が可能</b>です。`numpy.random.seed()`に毎回同じシード値（整数）を指定することで、実行の都度同じ乱数列を生成するので、同条件であれば乱数を用いていても同じ計算結果を得ることが可能です。そのため、デバッグ時など再現性が必要な出力をする際に利用されます。<br>\n",
    "<br> \n",
    "シードを設定しない場合、コンピュータの時刻を初期値として使用するため実行するごとに異なる乱数列を生成します。"
   ]
  },
  {
   "cell_type": "markdown",
   "metadata": {},
   "source": [
    "#### 実行"
   ]
  },
  {
   "cell_type": "markdown",
   "metadata": {
    "id": "question"
   },
   "source": [
    "シードの設定をしない場合と、した場合の結果の違いを確認してください<br>\n",
    "- 次のコードを実行して結果を出力してください"
   ]
  },
  {
   "cell_type": "code",
   "execution_count": null,
   "metadata": {
    "id": "index"
   },
   "outputs": [],
   "source": [
    "import numpy as np\n",
    "\n",
    "# 初期化せず適当な乱数が一致するかを確認\n",
    "# X, Y にそれぞれ5つの乱数を格納\n",
    "X = np.random.randn(5)\n",
    "Y = np.random.randn(5)\n",
    "\n",
    "# X, Y の値を出力する\n",
    "print(\"シードを設定しない場合\")\n",
    "print(\"X:\", X)\n",
    "print(\"Y:\", Y)\n",
    "print()\n",
    "\n",
    "# シードを設定\n",
    "np.random.seed(0)\n",
    "\n",
    "# 乱数列を変数x に代入\n",
    "x = np.random.randn(5)\n",
    "\n",
    "# 同じシードを与えて初期化\n",
    "np.random.seed(0)\n",
    "\n",
    "# 再び乱数列を作り別の変数y に代入\n",
    "y = np.random.randn(5)\n",
    "\n",
    "# x, y の値を出力し、一致するか確認します\n",
    "print(\"シードを設定した場合\")\n",
    "print(\"x:\", x)\n",
    "print(\"y:\", y)\n",
    "\n",
    "# 何も書き込まずに実行してください"
   ]
  },
  {
   "cell_type": "markdown",
   "metadata": {},
   "source": [
    "#### ヒント"
   ]
  },
  {
   "cell_type": "markdown",
   "metadata": {
    "id": "hint"
   },
   "source": [
    "- `np.random.seed()`にシード値（整数）を指定します。"
   ]
  },
  {
   "cell_type": "markdown",
   "metadata": {},
   "source": [
    "#### 解答例"
   ]
  },
  {
   "cell_type": "code",
   "execution_count": null,
   "metadata": {
    "id": "answer",
    "scrolled": false
   },
   "outputs": [],
   "source": [
    "import numpy as np\n",
    "\n",
    "# 初期化せず適当な乱数が一致するかを確認\n",
    "# X, Y にそれぞれ5つの乱数を格納\n",
    "X = np.random.randn(5)\n",
    "Y = np.random.randn(5)\n",
    "\n",
    "# X, Y の値を出力する\n",
    "print(\"シードを設定しない場合\")\n",
    "print(\"X:\", X)\n",
    "print(\"Y:\", Y)\n",
    "print()\n",
    "\n",
    "# シードを設定\n",
    "np.random.seed(0)\n",
    "\n",
    "# 乱数列を変数x に代入\n",
    "x = np.random.randn(5)\n",
    "\n",
    "# 同じシードを与えて初期化\n",
    "np.random.seed(0)\n",
    "\n",
    "# 再び乱数列を作り別の変数y に代入\n",
    "y = np.random.randn(5)\n",
    "\n",
    "# x, y の値を出力し、一致するか確認します\n",
    "print(\"シードを設定した場合\")\n",
    "print(\"x:\", x)\n",
    "print(\"y:\", y)\n",
    "\n",
    "# 何も書き込まずに実行してください"
   ]
  },
  {
   "cell_type": "markdown",
   "metadata": {},
   "source": [
    "***"
   ]
  },
  {
   "cell_type": "markdown",
   "metadata": {
    "courseId": 4040,
    "exerciseId": "r1OL0DeR7M",
    "id": "code_session_name",
    "important": false,
    "isDL": false,
    "timeoutSecs": 10
   },
   "source": [
    "### 1.2.2 正規分布に従う乱数を生成する"
   ]
  },
  {
   "cell_type": "markdown",
   "metadata": {
    "id": "description"
   },
   "source": [
    "`numpy.random.randn()`で生成した数値をプロットしたヒストグラムは<b style='color:#AA0000'>正規分布</b>と呼ばれる式により描画されるグラフに近い形をしています。<b style='color:#AA0000'>正規分布</b>のグラフは中央が一番高く、両側に向かって低くなっていく左右対称の釣鐘型をしていて、中央の一番高い位置に平均値がきます。\n",
    "\n",
    "`numpy.random.randn()`に整数を指定すると<b style='color:#AA0000'>正規分布</b>に従った乱数を、指定した整数値の数分返します。"
   ]
  },
  {
   "cell_type": "markdown",
   "metadata": {},
   "source": [
    "#### 問題"
   ]
  },
  {
   "cell_type": "markdown",
   "metadata": {
    "id": "question"
   },
   "source": [
    "- シードの値を0に設定してください。\n",
    "- 正規分布に従う乱数を10,000個生成し、変数x に代入してください。"
   ]
  },
  {
   "cell_type": "code",
   "execution_count": null,
   "metadata": {
    "id": "index"
   },
   "outputs": [],
   "source": [
    "import numpy as np\n",
    "import matplotlib.pyplot as plt\n",
    "\n",
    "# シードの値を0に設定してください\n",
    "\n",
    "\n",
    "# 正規分布に従う乱数を10,000個生成し、変数x に代入してください\n",
    "x = \n",
    "\n",
    "# 可視化\n",
    "plt.hist(x, bins='auto')\n",
    "plt.show()"
   ]
  },
  {
   "cell_type": "markdown",
   "metadata": {},
   "source": [
    "#### ヒント"
   ]
  },
  {
   "cell_type": "markdown",
   "metadata": {
    "id": "hint"
   },
   "source": [
    "- `np.random.randn()`に整数を指定すると、標準正規分布に従った乱数を指定した整数値の数分 返します。"
   ]
  },
  {
   "cell_type": "markdown",
   "metadata": {},
   "source": [
    "#### 解答例"
   ]
  },
  {
   "cell_type": "code",
   "execution_count": null,
   "metadata": {
    "id": "answer",
    "scrolled": true
   },
   "outputs": [],
   "source": [
    "import numpy as np\n",
    "import matplotlib.pyplot as plt\n",
    "\n",
    "# シードの値を0に設定してください\n",
    "np.random.seed(0)\n",
    "\n",
    "# 正規分布に従う乱数を10,000個生成し、変数x に代入してください\n",
    "x = np.random.randn(10000)\n",
    "\n",
    "# 可視化\n",
    "plt.hist(x, bins='auto')\n",
    "plt.show()"
   ]
  },
  {
   "cell_type": "markdown",
   "metadata": {},
   "source": [
    "***"
   ]
  },
  {
   "cell_type": "markdown",
   "metadata": {
    "courseId": 4040,
    "exerciseId": "rkt8ADxRmz",
    "id": "code_session_name",
    "important": false,
    "isDL": false,
    "timeoutSecs": 10
   },
   "source": [
    "### 1.2.3 二項分布に従う乱数を生成する"
   ]
  },
  {
   "cell_type": "markdown",
   "metadata": {
    "id": "description"
   },
   "source": [
    "`numpy.random.binomial()`はある試行が成功か失敗か いずれかを返します。<br>\n",
    "例えば、コインを投げた時は必ず表か裏しか出ません。失敗も成功も確率は0.5です。このような試行を<b style='color:#AA0000'>ベルヌーイ試行</b>といい、互いに独立したベルヌーイ試行をn回行ったときにある事象が何回起こるかの確率分布を<b style='color:#AA0000'>二項分布</b> といいます。<br>\n",
    "<br>\n",
    "`numpy.random.binomial()`に整数`n`と0以上1以下の実数`p`を指定すると、指定した整数`n`の回数だけ成功率`p`の試行を行い、成功する回数を返します。つまり、試行回数n、確率pの <b style='color: #AA0000'>二項分布</b> を求めることになります。<br>\n",
    "第3引数に`整数値`を指定すると、`n`回試行したときの成功数を指定した整数値の数分 返します。<br>\n",
    "<br>\n",
    "例えば、100回コインを投げたときの、表がでる回数を10000回出力したい時は以下のように記述します。\n",
    "\n",
    "```python\n",
    "import numpy\n",
    "\n",
    "numpy.random.binomial(100, 0.5, 10000)\n",
    "\n",
    ">>出力結果\n",
    "[52 51 61 ..., 57 53 52]\n",
    "```"
   ]
  },
  {
   "cell_type": "markdown",
   "metadata": {},
   "source": [
    "#### 問題"
   ]
  },
  {
   "cell_type": "markdown",
   "metadata": {
    "id": "question"
   },
   "source": [
    "- 0.5の確率で成功する試行を100回行なったときの成功数を10,000回分求めて変数nums に代入してください。\n",
    "- nums の成功数から、成功率の平均を出力してください。"
   ]
  },
  {
   "cell_type": "code",
   "execution_count": null,
   "metadata": {
    "id": "index"
   },
   "outputs": [],
   "source": [
    "import numpy as np\n",
    "\n",
    "# シードを設定\n",
    "np.random.seed(0)\n",
    "\n",
    "# 0.5の確率で成功する試行を100回行なったときの成功数を10,000回分求めて変数nums に代入してください\n",
    "nums = \n",
    "\n",
    "# 成功率の平均を出力します\n",
    "print(nums.mean()/100)"
   ]
  },
  {
   "cell_type": "markdown",
   "metadata": {},
   "source": [
    "#### ヒント"
   ]
  },
  {
   "cell_type": "markdown",
   "metadata": {
    "id": "hint"
   },
   "source": [
    "- `np.random.binomial()`に整数`n`と0以上1以下の実数`p`を指定すると、指定した整数`n`の回数だけ成功率`p`の試行を行い、成功する回数を返します。\n",
    "- `size=整数値`を指定すると、`n`回試行したときの成功数を指定した整数値の数分 返します。"
   ]
  },
  {
   "cell_type": "markdown",
   "metadata": {},
   "source": [
    "#### 解答例"
   ]
  },
  {
   "cell_type": "code",
   "execution_count": null,
   "metadata": {
    "id": "answer",
    "scrolled": true
   },
   "outputs": [],
   "source": [
    "import numpy as np\n",
    "\n",
    "# シードを設定\n",
    "np.random.seed(0)\n",
    "\n",
    "# 0.5の確率で成功する試行を100回行なったときの成功数を10,000回分求めて変数nums に代入してください\n",
    "nums = np.random.binomial(100, 0.5, 10000)\n",
    "\n",
    "# 成功率の平均を出力します\n",
    "print(nums.mean()/100)"
   ]
  },
  {
   "cell_type": "markdown",
   "metadata": {},
   "source": [
    "***"
   ]
  },
  {
   "cell_type": "markdown",
   "metadata": {
    "courseId": 4040,
    "exerciseId": "HJ5I0ve0mf",
    "id": "code_session_name",
    "important": false,
    "isDL": false,
    "timeoutSecs": 10
   },
   "source": [
    "### 1.2.4 リストからランダムに選択する"
   ]
  },
  {
   "cell_type": "markdown",
   "metadata": {
    "id": "description"
   },
   "source": [
    "`numpy.random.choice()`にリスト型のデータ`x`と整数値`n`を指定すると、指定したリスト型のデータ`x`の中からランダムに選んだ結果を、指定した整数値`n`の数だけ返します。\n",
    "\n",
    "```python\n",
    "numpy.random.choice(x, n)\n",
    "```"
   ]
  },
  {
   "cell_type": "markdown",
   "metadata": {},
   "source": [
    "#### 問題"
   ]
  },
  {
   "cell_type": "markdown",
   "metadata": {
    "id": "question"
   },
   "source": [
    "- リストx の中からランダムに5個選んだ結果を変数y に代入してください。"
   ]
  },
  {
   "cell_type": "code",
   "execution_count": null,
   "metadata": {
    "id": "index"
   },
   "outputs": [],
   "source": [
    "import numpy as np\n",
    "\n",
    "x = ['Apple', 'Orange', 'Banana', 'Pineapple', 'Kiwifruit', 'Strawberry']\n",
    "\n",
    "# シードを設定\n",
    "np.random.seed(0)\n",
    "\n",
    "# リストx の中からランダムに5個選んで変数y に代入してください\n",
    "y = \n",
    "\n",
    "print(y)"
   ]
  },
  {
   "cell_type": "markdown",
   "metadata": {},
   "source": [
    "#### ヒント"
   ]
  },
  {
   "cell_type": "markdown",
   "metadata": {
    "id": "hint"
   },
   "source": [
    "- `np.random.choice()`にリスト型のデータ`x`と整数値`n`を指定すると、指定したリスト型のデータ`x`の中からランダムに選んだ結果を、指定した整数値`n`の数分 返します。"
   ]
  },
  {
   "cell_type": "markdown",
   "metadata": {},
   "source": [
    "#### 解答例"
   ]
  },
  {
   "cell_type": "code",
   "execution_count": null,
   "metadata": {
    "id": "answer",
    "scrolled": false
   },
   "outputs": [],
   "source": [
    "import numpy as np\n",
    "\n",
    "x = ['Apple', 'Orange', 'Banana', 'Pineapple', 'Kiwifruit', 'Strawberry']\n",
    "\n",
    "# シードを設定\n",
    "np.random.seed(0)\n",
    "\n",
    "# リストx の中からランダムに5個選んで変数y に代入してください\n",
    "y = np.random.choice(x, 5)\n",
    "\n",
    "print(y)"
   ]
  },
  {
   "cell_type": "markdown",
   "metadata": {},
   "source": [
    "***"
   ]
  },
  {
   "cell_type": "markdown",
   "metadata": {
    "id": "section_name",
    "sectionId": "SyiL0wxC7G"
   },
   "source": [
    "## 1.3 時系列データ"
   ]
  },
  {
   "cell_type": "markdown",
   "metadata": {
    "courseId": 4040,
    "exerciseId": "HkhI0vxCmz",
    "id": "code_session_name",
    "important": false,
    "isDL": false,
    "timeoutSecs": 10
   },
   "source": [
    "### 1.3.1 datetime型"
   ]
  },
  {
   "cell_type": "markdown",
   "metadata": {
    "id": "description"
   },
   "source": [
    "時系列データを扱う際、<b>時を表す方法が必要</b>です。Pythonには日付や時刻を扱う`datetime`というデータ型が用意されています。<br>\n",
    "`datetime.datetime(year, month, day, hour=0, minute=0, second=0, microsecond=0)` と指定すると、指定した日付、時刻を持つ`datetime`オブジェクトを返します。<br>\n",
    "年(year)、月(month)、日(day) の指定は必須です。その他の引数は省略でき、省略した場合は <b>0</b> になります。\n",
    "```Python\n",
    "import datetime\n",
    "\n",
    "dt = datetime.datetime(2018, 12, 20, hour=10, second=30, microsecond=200)\n",
    "print(dt)\n",
    "```\n",
    "\n",
    "```python\n",
    ">>> 出力結果\n",
    "2018-12-20 10:00:30.000200\n",
    "```\n",
    "なお、現在の日付と時刻を取得するには、`datetime.datetime.now()` と指定します。"
   ]
  },
  {
   "cell_type": "markdown",
   "metadata": {},
   "source": [
    "#### 問題"
   ]
  },
  {
   "cell_type": "markdown",
   "metadata": {
    "id": "question"
   },
   "source": [
    "- 1992年10月22日を表す`datetime`オブジェクトを作成して、変数x に代入してください。"
   ]
  },
  {
   "cell_type": "code",
   "execution_count": null,
   "metadata": {
    "id": "index"
   },
   "outputs": [],
   "source": [
    "import datetime as dt\n",
    "\n",
    "# 1992年10月22日を表すdatetimeオブジェクトを作成して、変数x に代入してください\n",
    "x = \n",
    "\n",
    "# 出力\n",
    "print(x)"
   ]
  },
  {
   "cell_type": "markdown",
   "metadata": {},
   "source": [
    "#### ヒント"
   ]
  },
  {
   "cell_type": "markdown",
   "metadata": {
    "id": "hint"
   },
   "source": [
    "- `dt.datetime(year, month, day)`と指定すると、指定の年月日を表す`datetime`オブジェクトを作成できます。"
   ]
  },
  {
   "cell_type": "markdown",
   "metadata": {},
   "source": [
    "#### 解答例"
   ]
  },
  {
   "cell_type": "code",
   "execution_count": null,
   "metadata": {
    "id": "answer",
    "scrolled": true
   },
   "outputs": [],
   "source": [
    "import datetime as dt\n",
    "\n",
    "# 1992年10月22日を表すdatetimeオブジェクトを作成して、変数x に代入してください\n",
    "x = dt.datetime(1992, 10, 22)\n",
    "\n",
    "# 出力\n",
    "print(x)"
   ]
  },
  {
   "cell_type": "markdown",
   "metadata": {},
   "source": [
    "***"
   ]
  },
  {
   "cell_type": "markdown",
   "metadata": {
    "courseId": 4040,
    "exerciseId": "H1TIAPxAXf",
    "id": "code_session_name",
    "important": false,
    "isDL": false,
    "timeoutSecs": 10
   },
   "source": [
    "### 1.3.2 timedelta型"
   ]
  },
  {
   "cell_type": "markdown",
   "metadata": {
    "id": "description"
   },
   "source": [
    "`datetime.timedelta`型は経過時間や時間差を表すデータ型です。`datetime.timedelta(days=0, seconds=0, microseconds=0, milliseconds=0, minutes=0, hours=0, weeks=0)` と指定すると、指定した時間を持つ`timedelta`オブジェクトを返します。<br>\n",
    "すべての引数が省略でき、省略した場合は <b>0</b> になります。\n",
    "\n",
    "```Python\n",
    "import datetime\n",
    "\n",
    "td = datetime.timedelta(days=1, seconds=2, microseconds=3, milliseconds=4, minutes=5, hours=6, weeks=7)\n",
    "print(td)\n",
    "```\n",
    "\n",
    "```python\n",
    ">>> 出力結果\n",
    "50 days, 6:05:02.004003\n",
    "```\n",
    "負数を指定することも可能です。\n",
    "\n",
    "```Python\n",
    "td = datetime.timedelta(days=-1, hours=-10)\n",
    "print(td)\n",
    "```\n",
    "\n",
    "```python\n",
    ">>> 出力結果\n",
    "-2 days, 14:00:00\n",
    "```"
   ]
  },
  {
   "cell_type": "markdown",
   "metadata": {},
   "source": [
    "#### 問題"
   ]
  },
  {
   "cell_type": "markdown",
   "metadata": {
    "id": "question"
   },
   "source": [
    "- 1時間半を表す`timedelta`オブジェクトを作成して、変数x に代入してください。"
   ]
  },
  {
   "cell_type": "code",
   "execution_count": null,
   "metadata": {
    "id": "index"
   },
   "outputs": [],
   "source": [
    "import datetime as dt\n",
    "\n",
    "# 1時間半を表すtimedeltaオブジェクトを作成して、変数x に代入してください\n",
    "x = \n",
    "\n",
    "# 出力\n",
    "print(x)"
   ]
  },
  {
   "cell_type": "markdown",
   "metadata": {},
   "source": [
    "#### ヒント"
   ]
  },
  {
   "cell_type": "markdown",
   "metadata": {
    "id": "hint"
   },
   "source": [
    "- `dt.timedelta(days=0, seconds=0, microseconds=0, milliseconds=0, minutes=0, hours=0, weeks=0)`と指定すると、指定の年月日を表す`datetime`オブジェクトを作成できます。"
   ]
  },
  {
   "cell_type": "markdown",
   "metadata": {},
   "source": [
    "#### 解答例"
   ]
  },
  {
   "cell_type": "code",
   "execution_count": null,
   "metadata": {
    "id": "answer"
   },
   "outputs": [],
   "source": [
    "import datetime as dt\n",
    "\n",
    "# 1時間半を表すtimedeltaオブジェクトを作成して、変数x に代入してください\n",
    "x = dt.timedelta(hours=1, minutes=30)\n",
    "\n",
    "# 出力\n",
    "print(x)"
   ]
  },
  {
   "cell_type": "markdown",
   "metadata": {},
   "source": [
    "***"
   ]
  },
  {
   "cell_type": "markdown",
   "metadata": {
    "courseId": 4040,
    "exerciseId": "ryCLAPeAXM",
    "id": "code_session_name",
    "important": false,
    "isDL": false,
    "timeoutSecs": 10
   },
   "source": [
    "### 1.3.3 datetime型とtimedelta型の演算"
   ]
  },
  {
   "cell_type": "markdown",
   "metadata": {
    "id": "description"
   },
   "source": [
    "`datetime`オブジェクト同士の差を求めることで日時を比較することができます。その結果は`timedelta`オブジェクトで得られます。<br>\n",
    "同様に`timedelta`オブジェクト同士の演算も可能で、この場合も`timedelta`オブジェクトで結果を得られます。<br>\n",
    "`timedelta`オブジェクトで足し算や引き算などを行うと、設定した日付や時間までの日数や時間を簡単に取得することが可能です。\n",
    "\n",
    "```Python\n",
    "import datetime\n",
    "\n",
    "d1 = datetime.datetime.now()\n",
    "d2 = datetime.datetime(2019, 9, 20, 19, 45, 0)\n",
    "td = d2 - d1\n",
    "print(td)\n",
    "print(type(td))\n",
    "```\n",
    "\n",
    "```python\n",
    ">>> 出力結果\n",
    "243 days, 5:38:45.159115\n",
    "<class 'datetime.timedelta'>\n",
    "```"
   ]
  },
  {
   "cell_type": "markdown",
   "metadata": {},
   "source": [
    "#### 問題"
   ]
  },
  {
   "cell_type": "markdown",
   "metadata": {
    "id": "question"
   },
   "source": [
    "- 1992年10月22日を表す`datetime`オブジェクトを生成して、変数x に代入してください。\n",
    "- 変数x から1日後を表す`datetime`オブジェクトを変数y に代入してください。"
   ]
  },
  {
   "cell_type": "code",
   "execution_count": null,
   "metadata": {
    "id": "index"
   },
   "outputs": [],
   "source": [
    "import datetime as dt\n",
    "\n",
    "# 1992年10月22日を表すdatetimeオブジェクトを生成して、変数x に代入してください\n",
    "x = \n",
    "\n",
    "# 変数x から1日後を表すdatetimeオブジェクトを変数y に代入してください\n",
    "y = \n",
    "\n",
    "# 出力\n",
    "print(y)"
   ]
  },
  {
   "cell_type": "markdown",
   "metadata": {},
   "source": [
    "#### ヒント"
   ]
  },
  {
   "cell_type": "markdown",
   "metadata": {
    "id": "hint"
   },
   "source": [
    "- `datetime`オブジェクトと`timedelta`オブジェクト間で足し算や引き算をすることができます。\n",
    "- `dt.timedelta(1)` と指定すると、一日分の`timedelta`オブジェクトを生成できます。"
   ]
  },
  {
   "cell_type": "markdown",
   "metadata": {},
   "source": [
    "#### 解答例"
   ]
  },
  {
   "cell_type": "code",
   "execution_count": null,
   "metadata": {
    "id": "answer",
    "scrolled": false
   },
   "outputs": [],
   "source": [
    "import datetime as dt\n",
    "\n",
    "# 1992年10月22日を表すdatetimeオブジェクトを生成して、変数x に代入してください\n",
    "x = dt.datetime(1992, 10, 22)\n",
    "\n",
    "# 変数x から1日後を表すdatetimeオブジェクトを変数y に代入してください\n",
    "y = x + dt.timedelta(1)\n",
    "\n",
    "# 出力\n",
    "print(y)"
   ]
  },
  {
   "cell_type": "markdown",
   "metadata": {},
   "source": [
    "***"
   ]
  },
  {
   "cell_type": "markdown",
   "metadata": {
    "courseId": 4040,
    "exerciseId": "rkkeLCPx07f",
    "id": "code_session_name",
    "important": false,
    "isDL": false,
    "timeoutSecs": 10
   },
   "source": [
    "### 1.3.4 時を表す文字列からdatetimeオブジェクトを作成する"
   ]
  },
  {
   "cell_type": "markdown",
   "metadata": {
    "id": "description"
   },
   "source": [
    "`strptime() メソッド`を使うと、文字列から`datetime`オブジェクトを生成して返します。この際、元の文字列に対応する書式化コードを指定する必要があります。<br>\n",
    "書式化コードの詳細はPython公式サイトをご覧ください。<br>\n",
    "<a href=\"https://docs.python.org/ja/3/library/datetime.html?highlight=strptime#strftime-strptime-behavior\" target='_blank'>datetime --- 基本的な日付型および時間型・strftime() と strptime() の振る舞い</a>\n",
    "```Python\n",
    "import datetime\n",
    "\n",
    "s = \"2017-12-20 10:00:00\"\n",
    "str_dt = datetime.datetime.strptime(s, \"%Y-%m-%d %H:%M:%S\")\n",
    "print(str_dt)\n",
    "print(type(str_dt))\n",
    "```\n",
    "\n",
    "```python\n",
    ">>> 出力結果\n",
    "2017-12-20 10:00:00\n",
    "<class 'datetime.datetime'>\n",
    "```"
   ]
  },
  {
   "cell_type": "markdown",
   "metadata": {},
   "source": [
    "#### 問題"
   ]
  },
  {
   "cell_type": "markdown",
   "metadata": {
    "id": "question"
   },
   "source": [
    "- 1992年10月22日を表す文字列を`\"年-月-日\"`の形式で変数s に代入してください。\n",
    "- 変数s を1992年10月22日を表す`datetime`オブジェクトに変換して、変数x に代入してください。"
   ]
  },
  {
   "cell_type": "code",
   "execution_count": null,
   "metadata": {
    "id": "index"
   },
   "outputs": [],
   "source": [
    "import datetime as dt\n",
    "\n",
    "# 1992年10月22日を表す文字列を\"年-月-日\"の形式で変数s に代入してください\n",
    "s = \n",
    "\n",
    "# 変数s を1992年10月22日を表すdatetimeオブジェクトに変換して、変数x に代入してください\n",
    "x = \n",
    "\n",
    "# 出力\n",
    "print(x)"
   ]
  },
  {
   "cell_type": "markdown",
   "metadata": {},
   "source": [
    "#### ヒント"
   ]
  },
  {
   "cell_type": "markdown",
   "metadata": {
    "id": "hint"
   },
   "source": [
    "- 文字列`s`が`\"年-月-日 時-分-秒\"`の形式の場合、`dt.datetime.strptime(s, \"%Y-%m-%d %H-%M-%S\")`と指定すると`datetime`オブジェクトを生成して返します。"
   ]
  },
  {
   "cell_type": "markdown",
   "metadata": {},
   "source": [
    "#### 解答例"
   ]
  },
  {
   "cell_type": "code",
   "execution_count": null,
   "metadata": {
    "id": "answer",
    "scrolled": false
   },
   "outputs": [],
   "source": [
    "import datetime as dt\n",
    "\n",
    "# 1992年10月22日を表す文字列を\"年-月-日\"の形式で変数s に代入してください\n",
    "s = \"1992-10-22\"\n",
    "\n",
    "# 変数s を1992年10月22日を表すdatetimeオブジェクトに変換して、変数x に代入してください\n",
    "x = dt.datetime.strptime(s, \"%Y-%m-%d\")\n",
    "\n",
    "# 出力\n",
    "print(x)"
   ]
  },
  {
   "cell_type": "markdown",
   "metadata": {},
   "source": [
    "***"
   ]
  },
  {
   "cell_type": "markdown",
   "metadata": {
    "id": "section_name",
    "sectionId": "r1gxUAwe07G"
   },
   "source": [
    "## 1.4 データの操作"
   ]
  },
  {
   "cell_type": "markdown",
   "metadata": {
    "courseId": 4040,
    "exerciseId": "SyZe80DlRmG",
    "id": "code_session_name",
    "important": false,
    "isDL": false,
    "timeoutSecs": 10
   },
   "source": [
    "### 1.4.1 文字列型から数値型へ型変換する"
   ]
  },
  {
   "cell_type": "markdown",
   "metadata": {
    "id": "description"
   },
   "source": [
    "このセクションでは<b style='color:#AA0000'>データの整形</b>の基本を学びます。<br>\n",
    "ファイルなどから読み取った数値を計算するには、読み取ったデータの型が`int`型や`float`型でなければなりせん。数字のみの文字列を`int()`や`float()`に渡すとそれらを数値型に変換することができます。<br>\n",
    "<br>\n",
    "※複数のソースから得たデータを結合したり、データの利用方法について吟味するといったデータの整形の詳しい内容は別コースの「<a href='https://aidemy.net/courses/4050' target='_blank'>データクレンジング</a>」で学んでいただけます。"
   ]
  },
  {
   "cell_type": "markdown",
   "metadata": {},
   "source": [
    "#### 問題"
   ]
  },
  {
   "cell_type": "markdown",
   "metadata": {
    "id": "question"
   },
   "source": [
    "- 数字の文字列が入っている変数x, y を `int()` を用いて数値型に変換し、数値的な和を変数z に代入してください。\n",
    "- 変数x, yを文字列のまま足したものを変数cに代入してください。"
   ]
  },
  {
   "cell_type": "code",
   "execution_count": null,
   "metadata": {
    "id": "index"
   },
   "outputs": [],
   "source": [
    "# 変数x, y に文字列を代入\n",
    "x = '64'\n",
    "y = '16'\n",
    "\n",
    "# 変数x, y を int() を用いて数値型に変換し、数値的な和を変数z に代入してください\n",
    "z = \n",
    "\n",
    "# 変数x, yを文字列のまま足したものを変数cに代入してください。\n",
    "c = \n",
    "\n",
    "# 変数の値を出力\n",
    "print(z)\n",
    "print(c)"
   ]
  },
  {
   "cell_type": "markdown",
   "metadata": {},
   "source": [
    "#### ヒント"
   ]
  },
  {
   "cell_type": "markdown",
   "metadata": {
    "id": "hint"
   },
   "source": [
    "- 数字のみの文字列を`int()`や`float()`に渡すとそれらを数値型に変換することができます。"
   ]
  },
  {
   "cell_type": "markdown",
   "metadata": {},
   "source": [
    "#### 解答例"
   ]
  },
  {
   "cell_type": "code",
   "execution_count": null,
   "metadata": {
    "id": "answer"
   },
   "outputs": [],
   "source": [
    "# 変数x, y に文字列を代入\n",
    "x = '64'\n",
    "y = '16'\n",
    "\n",
    "# 変数x, y を int() を用いて数値型に変換し、数値的な和を変数z に代入してください\n",
    "z = int(x) + int(y)\n",
    "\n",
    "# 変数x, yを文字列のまま足したものを変数cに代入してください。\n",
    "c = x + y\n",
    "\n",
    "# 変数の値を出力\n",
    "print(z)\n",
    "print(c)"
   ]
  },
  {
   "cell_type": "markdown",
   "metadata": {},
   "source": [
    "***"
   ]
  },
  {
   "cell_type": "markdown",
   "metadata": {
    "courseId": 4040,
    "exerciseId": "rkGe8RPe07z",
    "id": "code_session_name",
    "important": false,
    "isDL": false,
    "timeoutSecs": 10
   },
   "source": [
    "### 1.4.2 等間隔の数列を生成する1"
   ]
  },
  {
   "cell_type": "markdown",
   "metadata": {
    "id": "description"
   },
   "source": [
    "リストの要素に順番をつけたいときや偶数列 (0, 2, 4, ...) を取得したい時などは`numpy.arange()`を使用すると便利です。<br>\n",
    "`numpy.arange(始まりの値, 終わりの値, 間隔の値)`のように指定すると<b>始まりの値から終わりの値 -1 までの数値を指定した間隔</b>で返します。<br>\n",
    "<br>\n",
    "例えば0から4までの偶数列を取得したい時は `np.arange(0, 5, 2)` と指定します。終わりの値は<b>指定した値から1引いた値</b>となるため`np.arange(0, 4, 2)` と指定すると0から2までの偶数列になってしまうことに注意してください。"
   ]
  },
  {
   "cell_type": "markdown",
   "metadata": {},
   "source": [
    "#### 問題"
   ]
  },
  {
   "cell_type": "markdown",
   "metadata": {
    "id": "question"
   },
   "source": [
    "- `np.arange()` を用いて変数x に0から10までの偶数列を代入してください。"
   ]
  },
  {
   "cell_type": "code",
   "execution_count": null,
   "metadata": {
    "id": "index"
   },
   "outputs": [],
   "source": [
    "import numpy as np\n",
    "\n",
    "# 変数x に0から10までの偶数列を代入してください\n",
    "x = \n",
    "\n",
    "# 出力\n",
    "print(x)"
   ]
  },
  {
   "cell_type": "markdown",
   "metadata": {},
   "source": [
    "#### ヒント"
   ]
  },
  {
   "cell_type": "markdown",
   "metadata": {
    "id": "hint"
   },
   "source": [
    "- `np.arange()`に始まり、終わり、間隔の値を渡すと、始まりから終わり -1 の数値を指定した間隔で返します。\n",
    "- 終わりから1を引いた数値を指定することに注意します。"
   ]
  },
  {
   "cell_type": "markdown",
   "metadata": {},
   "source": [
    "#### 解答例"
   ]
  },
  {
   "cell_type": "code",
   "execution_count": null,
   "metadata": {
    "id": "answer"
   },
   "outputs": [],
   "source": [
    "import numpy as np\n",
    "\n",
    "# 変数x に0から10までの偶数列を代入してください\n",
    "x = np.arange(0, 11, 2)\n",
    "\n",
    "# 出力\n",
    "print(x)"
   ]
  },
  {
   "cell_type": "markdown",
   "metadata": {},
   "source": [
    "***"
   ]
  },
  {
   "cell_type": "markdown",
   "metadata": {
    "courseId": 4040,
    "exerciseId": "BJmgUAvgRmf",
    "id": "code_session_name",
    "important": false,
    "isDL": false,
    "timeoutSecs": 10
   },
   "source": [
    "### 1.4.3 等間隔の数列を生成する2"
   ]
  },
  {
   "cell_type": "markdown",
   "metadata": {
    "id": "description"
   },
   "source": [
    "指定の範囲を指定した個数に分割したいときは、`numpy.linspace()`を使用すると便利です。<br>\n",
    "`numpy.linspace(始まりの値, 終わりの値, 分割したい個数の値)`のように指定すると<b>指定した個数に分割する点</b>を返します。<br>\n",
    "<br>\n",
    "例えば0から15の範囲を等間隔に分ける4点 `0, 5, 10, 15` を得たい場合は `np.linspace(0, 15, 4)` と指定します。"
   ]
  },
  {
   "cell_type": "markdown",
   "metadata": {},
   "source": [
    "#### 問題"
   ]
  },
  {
   "cell_type": "markdown",
   "metadata": {
    "id": "question"
   },
   "source": [
    "- `np.linspace()` を用いて0から10までの範囲を等間隔に分ける5点を変数x に代入してください。"
   ]
  },
  {
   "cell_type": "code",
   "execution_count": null,
   "metadata": {
    "id": "index"
   },
   "outputs": [],
   "source": [
    "import numpy as np\n",
    "\n",
    "# 0から10までの範囲を等間隔に分ける5点を変数x に代入してください\n",
    "x = \n",
    "\n",
    "# 出力\n",
    "print(x)"
   ]
  },
  {
   "cell_type": "markdown",
   "metadata": {},
   "source": [
    "#### ヒント"
   ]
  },
  {
   "cell_type": "markdown",
   "metadata": {
    "id": "hint"
   },
   "source": [
    "- `numpy.linspace()`に始まり、終わり、分割したい個数の数値を渡すと、指定した個数に分割する点を返します。"
   ]
  },
  {
   "cell_type": "markdown",
   "metadata": {},
   "source": [
    "#### 解答例"
   ]
  },
  {
   "cell_type": "code",
   "execution_count": null,
   "metadata": {
    "id": "answer",
    "scrolled": true
   },
   "outputs": [],
   "source": [
    "import numpy as np\n",
    "\n",
    "# 0から10までの範囲を等間隔に分ける5点を変数x に代入してください\n",
    "x = np.linspace(0, 10, 5)\n",
    "\n",
    "# 出力\n",
    "print(x)"
   ]
  },
  {
   "cell_type": "markdown",
   "metadata": {},
   "source": [
    "***"
   ]
  },
  {
   "cell_type": "markdown",
   "metadata": {
    "id": "chapter_exam"
   },
   "source": [
    "## まとめ問題(提出不要)"
   ]
  },
  {
   "cell_type": "markdown",
   "metadata": {
    "id": "description"
   },
   "source": [
    " 本チャプターで学んだことを参考にし、挑戦しましょう。"
   ]
  },
  {
   "cell_type": "markdown",
   "metadata": {},
   "source": [
    "#### 問題"
   ]
  },
  {
   "cell_type": "markdown",
   "metadata": {
    "id": "question"
   },
   "source": [
    "- 0から1の一様乱数、正規分布に従う乱数、二項分布に従う乱数をそれぞれ10000個生成し、ヒストグラムで形状を確認してみましょう。各ヒストグラムのbinsは50を指定してください。"
   ]
  },
  {
   "cell_type": "code",
   "execution_count": null,
   "metadata": {
    "id": "index"
   },
   "outputs": [],
   "source": [
    "import matplotlib.pyplot as plt\n",
    "import numpy as np\n",
    "\n",
    "np.random.seed(100)\n",
    "\n",
    "# 一様乱数を10000個生成して、random_number_1に代入してください。\n",
    "\n",
    "# 正規分布に従う乱数を10000個生成して、random_number_2に代入してください。\n",
    "\n",
    "# 二項分布に従う乱数を10000個生成して、random_number_3に代入してください。成功確率は0.5としてください。\n",
    "\n",
    "\n",
    "plt.figure(figsize=(5, 5))\n",
    "# 一様乱数をヒストグラムで表示させてください。binsは50に指定してください。\n",
    "\n",
    "plt.title('uniform_distribution')\n",
    "plt.grid(True)\n",
    "plt.show()\n",
    "\n",
    "plt.figure(figsize=(5, 5))\n",
    "# 正規分布に従う乱数をヒストグラムで表示します。\n",
    "plt.hist(random_number_1, bins=50)\n",
    "plt.title('normal_distribution')\n",
    "plt.grid(True)\n",
    "plt.show()\n",
    "\n",
    "plt.figure(figsize=(5, 5))\n",
    "# 二項分布に従う乱数をヒストグラムで表示させてください。binsは50に指定してください。\n",
    "\n",
    "plt.title('binomial_distribution')\n",
    "plt.grid(True)\n",
    "plt.show()"
   ]
  },
  {
   "cell_type": "markdown",
   "metadata": {},
   "source": [
    "#### ヒント"
   ]
  },
  {
   "cell_type": "markdown",
   "metadata": {
    "id": "hint"
   },
   "source": [
    "- 一様乱数、正規分布に従う乱数、二項分布に従う乱数は、それぞれ、np.random.rand(100)、np.random.randn(100)、np.random.binomial(100)で生成することができます。"
   ]
  },
  {
   "cell_type": "markdown",
   "metadata": {},
   "source": [
    "#### 解答例"
   ]
  },
  {
   "cell_type": "code",
   "execution_count": null,
   "metadata": {
    "id": "answer"
   },
   "outputs": [],
   "source": [
    "import matplotlib.pyplot as plt\n",
    "import numpy as np\n",
    "\n",
    "np.random.seed(100)\n",
    "\n",
    "# 一様乱数を10000個生成してください。\n",
    "random_number_1 = np.random.rand(10000)\n",
    "# 正規分布に従う乱数を10000個生成してください。\n",
    "random_number_2 = np.random.randn(10000)\n",
    "# 二項分布に従う乱数を10000個生成してください。成功確率は0.5としてください。\n",
    "random_number_3 = np.random.binomial(100, 0.5, size=(10000))\n",
    "\n",
    "plt.figure(figsize=(5, 5))\n",
    "# 一様乱数をヒストグラムで表示させてください。binsは50に指定してください。\n",
    "plt.hist(random_number_1, bins=50)\n",
    "plt.title('uniform_distribution')\n",
    "plt.grid(True)\n",
    "plt.show()\n",
    "\n",
    "plt.figure(figsize=(5, 5))\n",
    "# 正規分布に従う乱数をヒストグラムで表示します。\n",
    "plt.hist(random_number_2, bins=50)\n",
    "plt.title('normal_distribution')\n",
    "plt.grid(True)\n",
    "plt.show()\n",
    "\n",
    "plt.figure(figsize=(5, 5))\n",
    "# 二項分布に従う乱数をヒストグラムで表示させてください。binsは50に指定してください。\n",
    "plt.hist(random_number_3, bins=50)\n",
    "plt.title('binomial_distribution')\n",
    "plt.grid(True)\n",
    "plt.show()"
   ]
  },
  {
   "cell_type": "markdown",
   "metadata": {},
   "source": [
    "***"
   ]
  }
 ],
 "metadata": {
  "celltoolbar": "Edit Metadata",
  "kernelspec": {
   "display_name": "Python 3",
   "language": "python",
   "name": "python3"
  },
  "language_info": {
   "codemirror_mode": {
    "name": "ipython",
    "version": 3
   },
   "file_extension": ".py",
   "mimetype": "text/x-python",
   "name": "python",
   "nbconvert_exporter": "python",
   "pygments_lexer": "ipython3",
   "version": "3.6.4"
  },
  "toc": {
   "base_numbering": 1,
   "nav_menu": {},
   "number_sections": true,
   "sideBar": true,
   "skip_h1_title": false,
   "title_cell": "Table of Contents",
   "title_sidebar": "Contents",
   "toc_cell": false,
   "toc_position": {
    "height": "calc(100% - 180px)",
    "left": "10px",
    "top": "150px",
    "width": "317.188px"
   },
   "toc_section_display": true,
   "toc_window_display": true
  }
 },
 "nbformat": 4,
 "nbformat_minor": 2
}