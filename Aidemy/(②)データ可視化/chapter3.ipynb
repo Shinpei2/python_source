{
 "cells": [
  {
   "cell_type": "code",
   "execution_count": null,
   "metadata": {},
   "outputs": [],
   "source": [
    "# plt.show()で可視化されない人はこのセルを実行してください。\n",
    "%matplotlib inline"
   ]
  },
  {
   "cell_type": "markdown",
   "metadata": {
    "chapterId": "B1IbIAPe07z",
    "id": "chapter_name"
   },
   "source": [
    "# 様々なグラフを作る"
   ]
  },
  {
   "cell_type": "markdown",
   "metadata": {
    "id": "table"
   },
   "source": [
    "- **[3.1 折れ線グラフ](#3.1-折れ線グラフ)**\n",
    "    - **[3.1.1 マーカーの種類と色を設定する](#3.1.1-マーカーの種類と色を設定する)**\n",
    "    - **[3.1.2 線のスタイルと色を設定する](#3.1.2-線のスタイルと色を設定する)**\n",
    "<br><br>\n",
    "- **[3.2 棒グラフ](#3.2-棒グラフ)**\n",
    "    - **[3.2.1 棒グラフを作成する](#3.2.1-棒グラフを作成する)**\n",
    "    - **[3.2.2 横軸にラベルを設定する](#3.2.2-横軸にラベルを設定する)**\n",
    "    - **[3.2.3 積み上げ棒グラフを作成する](#3.2.3-積み上げ棒グラフを作成する)**\n",
    "<br><br>\n",
    "- **[3.3 ヒストグラム](#3.3-ヒストグラム)**\n",
    "    - **[3.3.1 ヒストグラムを作成する](#3.3.1-ヒストグラムを作成する)**\n",
    "    - **[3.3.2 ビン数を設定する](#3.3.2-ビン数を設定する)**\n",
    "    - **[3.3.3 正規化を行う](#3.3.3-正規化を行う)**\n",
    "    - **[3.3.4 累積ヒストグラムを作成する](#3.3.4-累積ヒストグラムを作成する)**\n",
    "<br><br>\n",
    "- **[3.4 散布図](#3.4-散布図)**\n",
    "    - **[3.4.1 散布図を作成する](#3.4.1-散布図を作成する)**\n",
    "    - **[3.4.2 マーカーの種類と色を設定する](#3.4.2-マーカーの種類と色を設定する)**\n",
    "    - **[3.4.3 値に応じてマーカーの大きさを設定する](#3.4.3-値に応じてマーカーの大きさを設定する)**\n",
    "    - **[3.4.4 値に応じてマーカーの濃さを設定する](#3.4.4-値に応じてマーカーの濃さを設定する)**\n",
    "    - **[3.4.5 カラーバーを表示する](#3.4.5-カラーバーを表示する)**\n",
    "<br><br>\n",
    "- **[3.5 円グラフ](#3.5-円グラフ)**\n",
    "    - **[3.5.1 円グラフを作成する](#3.5.1-円グラフを作成する)**\n",
    "    - **[3.5.2 円グラフにラベルを設定する](#3.5.2-円グラフにラベルを設定する)**\n",
    "    - **[3.5.3 特定の要素を目立たせる](#3.5.3-特定の要素を目立たせる)**\n",
    "<br><br>\n",
    "- **[3.6 3Dグラフ](#3.6-3Dグラフ)**\n",
    "    - **[3.6.1 3D Axesを作成する](#3.6.1-3D-Axesを作成する)**\n",
    "    - **[3.6.2 曲面を作成する](#3.6.2-曲面を作成する)**\n",
    "    - **[3.6.3 3Dヒストグラムを作成する](#3.6.3-3Dヒストグラムを作成する)**\n",
    "    - **[3.6.4 3D散布図を作成する](#3.6.4-3D散布図を作成する)**\n",
    "    - **[3.6.5 3Dグラフにカラーマップを適用する](#3.6.5-3Dグラフにカラーマップを適用する)**"
   ]
  },
  {
   "cell_type": "markdown",
   "metadata": {},
   "source": [
    "***"
   ]
  },
  {
   "cell_type": "markdown",
   "metadata": {
    "id": "section_name",
    "sectionId": "HkD-80weRXM"
   },
   "source": [
    "## 3.1 折れ線グラフ"
   ]
  },
  {
   "cell_type": "markdown",
   "metadata": {
    "courseId": 4040,
    "exerciseId": "H1uWUAwxA7M",
    "id": "code_session_name",
    "important": false,
    "isDL": false,
    "timeoutSecs": 10
   },
   "source": [
    "### 3.1.1 マーカーの種類と色を設定する"
   ]
  },
  {
   "cell_type": "markdown",
   "metadata": {
    "id": "description"
   },
   "source": [
    "<b>折れ線グラフ</b>は`matplotlib.pyplot.plot()`を用いて描画します。<br>\n",
    "<br>\n",
    "横軸のデータ`x`、縦軸のデータ`y`に加え、`marker=\"指定子\"`を指定すると<b>マーカーの種類（形）を設定でき</b>、`markerfacecolor=\"指定子\"`を指定すると<b>マーカーの色を設定できます</b>。<br>\n",
    "```Python\n",
    "matplotlib.pyplot.plot(x, y, marker=\"マーカーの種類\", markerfacecolor=\"マーカーの色\")\n",
    "```\n",
    "以下は指定できるマーカーの種類とその色の一部です。<br>\n",
    "<br>\n",
    "<b>マーカー</b>\n",
    "- `\"o\"`: 円\n",
    "- `\"s\"`: 四角\n",
    "- `\"p\"`: 五角形\n",
    "- `\"*\"`: 星\n",
    "- `\"+\"`: プラス\n",
    "- `\"D\"`: ダイアモンド\n",
    "\n",
    "<b>色</b>\n",
    "- `\"b\"` : 青\n",
    "- `\"g\"` : 緑\n",
    "- `\"r\"` : 赤\n",
    "- `\"c\"` : シアン\n",
    "- `\"m\"` : マゼンタ\n",
    "- `\"y\"` : 黄色\n",
    "- `\"k\"` : 黒\n",
    "- `\"w\"` : 白"
   ]
  },
  {
   "cell_type": "markdown",
   "metadata": {},
   "source": [
    "#### 問題"
   ]
  },
  {
   "cell_type": "markdown",
   "metadata": {
    "id": "question"
   },
   "source": [
    "- 赤色の円マーカーを用いて折れ線グラフを作成してください。<br>\n",
    "x軸に対応するデータは変数`days`、y軸に対応するデータは変数`weight`が用意されています。<br>\n",
    "赤色は `\"r\"` で指定してください。"
   ]
  },
  {
   "cell_type": "code",
   "execution_count": null,
   "metadata": {
    "id": "index"
   },
   "outputs": [],
   "source": [
    "import numpy as np\n",
    "import matplotlib.pyplot as plt\n",
    "\n",
    "days = np.arange(1, 11)\n",
    "weight = np.array([10, 14, 18, 20, 18, 16, 17, 18, 20, 17])\n",
    "\n",
    "# 表示の設定\n",
    "plt.ylim([0, weight.max()+1])\n",
    "plt.xlabel(\"days\")\n",
    "plt.ylabel(\"weight\")\n",
    "\n",
    "# 円マーカーを赤色でプロットし折れ線グラフを作成してください\n",
    "plt.plot(days, weight, marker=, markerfacecolor=)\n",
    "\n",
    "plt.show()"
   ]
  },
  {
   "cell_type": "markdown",
   "metadata": {},
   "source": [
    "#### ヒント"
   ]
  },
  {
   "cell_type": "markdown",
   "metadata": {
    "id": "hint"
   },
   "source": [
    "- `\"marker=\"指定子\"`、`markerfacecolor=\"色指定\"`でマーカーの種類と色を設定できます。"
   ]
  },
  {
   "cell_type": "markdown",
   "metadata": {},
   "source": [
    "#### 解答例"
   ]
  },
  {
   "cell_type": "code",
   "execution_count": null,
   "metadata": {
    "id": "answer"
   },
   "outputs": [],
   "source": [
    "import numpy as np\n",
    "import matplotlib.pyplot as plt\n",
    "\n",
    "days = np.arange(1, 11)\n",
    "weight = np.array([10, 14, 18, 20, 18, 16, 17, 18, 20, 17])\n",
    "\n",
    "# 表示の設定\n",
    "plt.ylim([0, weight.max()+1])\n",
    "plt.xlabel(\"days\")\n",
    "plt.ylabel(\"weight\")\n",
    "\n",
    "# 円マーカーを赤色でプロットし折れ線グラフを作成してください\n",
    "plt.plot(days, weight, marker=\"o\", markerfacecolor=\"r\")\n",
    "\n",
    "plt.show()"
   ]
  },
  {
   "cell_type": "markdown",
   "metadata": {},
   "source": [
    "***"
   ]
  },
  {
   "cell_type": "markdown",
   "metadata": {
    "courseId": 4040,
    "exerciseId": "SkYbURweC7G",
    "id": "code_session_name",
    "important": false,
    "isDL": false,
    "timeoutSecs": 10
   },
   "source": [
    "### 3.1.2 線のスタイルと色を設定する"
   ]
  },
  {
   "cell_type": "markdown",
   "metadata": {
    "id": "description"
   },
   "source": [
    "`matplotlib.pyplot.plot()`に`linestyle=\"指定子\"`を指定すると<b>線のスタイルを設定でき</b>、`color=\"指定子\"`を指定すると<b>線の色を設定できます</b>。<br>\n",
    "```Python\n",
    "matplotlib.pyplot.plot(x, y, linestyle=\"線のスタイル\", color=\"線の色\")\n",
    "```\n",
    "以下は指定できる線の種類とその色の一部です。<br>\n",
    "<br>\n",
    "<b>線のスタイル</b>\n",
    "- `\"-\"`: 実線\n",
    "- `\"--\"`: 破線\n",
    "- `\"-.\"`: 破線（点入り）\n",
    "- `\":\"`: 点線\n",
    "\n",
    "<b>色</b>\n",
    "- `\"b\"` : 青\n",
    "- `\"g\"` : 緑\n",
    "- `\"r\"` : 赤\n",
    "- `\"c\"` : シアン\n",
    "- `\"m\"` : マゼンタ\n",
    "- `\"y\"` : 黄色\n",
    "- `\"k\"` : 黒\n",
    "- `\"w\"` : 白"
   ]
  },
  {
   "cell_type": "markdown",
   "metadata": {},
   "source": [
    "#### 問題"
   ]
  },
  {
   "cell_type": "markdown",
   "metadata": {
    "id": "question"
   },
   "source": [
    "- 円マーカーを赤色でプロットし、青の破線の折れ線グラフを作成してください。<br>\n",
    "x軸に対応するデータは変数`days`、y軸に対応するデータは変数`weight`が用意されています。"
   ]
  },
  {
   "cell_type": "code",
   "execution_count": null,
   "metadata": {
    "id": "index"
   },
   "outputs": [],
   "source": [
    "import numpy as np\n",
    "import matplotlib.pyplot as plt\n",
    "\n",
    "days = np.arange(1, 11)\n",
    "weight = np.array([10, 14, 18, 20, 18, 16, 17, 18, 20, 17])\n",
    "\n",
    "# 表示の設定\n",
    "plt.ylim([0, weight.max()+1])\n",
    "plt.xlabel(\"days\")\n",
    "plt.ylabel(\"weight\")\n",
    "\n",
    "# 円マーカーを赤色でプロットし、青の破線の折れ線グラフを作成してください\n",
    "plt.plot(days, weight, linestyle=, color=, marker=\"o\", markerfacecolor=\"r\")\n",
    "\n",
    "plt.show()"
   ]
  },
  {
   "cell_type": "markdown",
   "metadata": {},
   "source": [
    "#### ヒント"
   ]
  },
  {
   "cell_type": "markdown",
   "metadata": {
    "id": "hint"
   },
   "source": [
    "- `linestyle=\"指定子\"`、`color=\"指定子\"`で線の種類と色を設定できます。"
   ]
  },
  {
   "cell_type": "markdown",
   "metadata": {},
   "source": [
    "#### 解答例"
   ]
  },
  {
   "cell_type": "code",
   "execution_count": null,
   "metadata": {
    "id": "answer",
    "scrolled": true
   },
   "outputs": [],
   "source": [
    "import numpy as np\n",
    "import matplotlib.pyplot as plt\n",
    "\n",
    "days = np.arange(1, 11)\n",
    "weight = np.array([10, 14, 18, 20, 18, 16, 17, 18, 20, 17])\n",
    "\n",
    "# 表示の設定\n",
    "plt.ylim([0, weight.max()+1])\n",
    "plt.xlabel(\"days\")\n",
    "plt.ylabel(\"weight\")\n",
    "\n",
    "# 円マーカーを赤色でプロットし、青の破線の折れ線グラフを作成してください\n",
    "plt.plot(days, weight, linestyle=\"--\", color=\"b\",marker=\"o\", markerfacecolor=\"r\")\n",
    "\n",
    "plt.show()"
   ]
  },
  {
   "cell_type": "markdown",
   "metadata": {},
   "source": [
    "***"
   ]
  },
  {
   "cell_type": "markdown",
   "metadata": {
    "id": "section_name",
    "sectionId": "ry9b8CveCQG"
   },
   "source": [
    "## 3.2 棒グラフ"
   ]
  },
  {
   "cell_type": "markdown",
   "metadata": {
    "courseId": 4040,
    "exerciseId": "HkiWLAvgAQG",
    "id": "code_session_name",
    "important": false,
    "isDL": false,
    "timeoutSecs": 10
   },
   "source": [
    "### 3.2.1 棒グラフを作成する"
   ]
  },
  {
   "cell_type": "markdown",
   "metadata": {
    "id": "description"
   },
   "source": [
    "<b>棒グラフ</b>は`matplotlib.pyplot.bar()`を用いて描画します。<br>\n",
    "横軸のデータ`x`とこれに対応する縦軸のデータ`y`を指定します。\n",
    "```Python\n",
    "matplotlib.pyplot.bar(x, y)\n",
    "```"
   ]
  },
  {
   "cell_type": "markdown",
   "metadata": {},
   "source": [
    "#### 問題"
   ]
  },
  {
   "cell_type": "markdown",
   "metadata": {
    "id": "question"
   },
   "source": [
    "- 横軸に`x`、縦軸に`y`が対応する棒グラフを作成してください。"
   ]
  },
  {
   "cell_type": "code",
   "execution_count": null,
   "metadata": {
    "id": "index"
   },
   "outputs": [],
   "source": [
    "import numpy as np\n",
    "import matplotlib.pyplot as plt\n",
    "\n",
    "x = [1, 2, 3, 4, 5, 6]\n",
    "y = [12, 41, 32, 36, 21, 17]\n",
    "\n",
    "# 棒グラフを作成してください\n",
    "\n",
    "\n",
    "plt.show()"
   ]
  },
  {
   "cell_type": "markdown",
   "metadata": {},
   "source": [
    "#### ヒント"
   ]
  },
  {
   "cell_type": "markdown",
   "metadata": {
    "id": "hint"
   },
   "source": [
    "- 横軸の値とそれに対応する縦軸のデータを`plt.bar()`に渡すことで棒グラフを作成できます。"
   ]
  },
  {
   "cell_type": "markdown",
   "metadata": {},
   "source": [
    "#### 解答例"
   ]
  },
  {
   "cell_type": "code",
   "execution_count": null,
   "metadata": {
    "id": "answer",
    "scrolled": false
   },
   "outputs": [],
   "source": [
    "import numpy as np\n",
    "import matplotlib.pyplot as plt\n",
    "\n",
    "x = [1, 2, 3, 4, 5, 6]\n",
    "y = [12, 41, 32, 36, 21, 17]\n",
    "\n",
    "# 棒グラフを作成してください\n",
    "plt.bar(x, y)\n",
    "\n",
    "plt.show()"
   ]
  },
  {
   "cell_type": "markdown",
   "metadata": {},
   "source": [
    "***"
   ]
  },
  {
   "cell_type": "markdown",
   "metadata": {
    "courseId": 4040,
    "exerciseId": "Hk3-LRvgAQG",
    "id": "code_session_name",
    "important": false,
    "isDL": false,
    "timeoutSecs": 10
   },
   "source": [
    "### 3.2.2 横軸にラベルを設定する"
   ]
  },
  {
   "cell_type": "markdown",
   "metadata": {
    "id": "description"
   },
   "source": [
    "棒グラフの横軸にラベルをつける方法は、折れ線グラフやその他のグラフと異なります。<br>\n",
    "`matplotlib.pyplot.bar()`に`tick_label=[ラベルのリスト]`を指定すると<b>横軸のラベルを設定できます</b>。\n",
    "```Python\n",
    "matplotlib.pyplot.bar(x, y, tick_label=[ラベルのリスト])\n",
    "```"
   ]
  },
  {
   "cell_type": "markdown",
   "metadata": {},
   "source": [
    "#### 問題"
   ]
  },
  {
   "cell_type": "markdown",
   "metadata": {
    "id": "question"
   },
   "source": [
    "- 横軸に`x`、縦軸に`y`のデータが対応する棒グラフを作成し、横軸にラベルを設定してください。<br>\n",
    "ラベルのリストは変数`labels`が用意されています。"
   ]
  },
  {
   "cell_type": "code",
   "execution_count": null,
   "metadata": {
    "id": "index"
   },
   "outputs": [],
   "source": [
    "import numpy as np\n",
    "import matplotlib.pyplot as plt\n",
    "\n",
    "x = [1, 2, 3, 4, 5, 6]\n",
    "y = [12, 41, 32, 36, 21, 17]\n",
    "labels = [\"Apple\", \"Orange\", \"Banana\", \"Pineapple\", \"Kiwifruit\", \"Strawberry\"]\n",
    "\n",
    "# 棒グラフを作成し、横軸にラベルを設定してください\n",
    "plt.bar(x, y, tick_label=)\n",
    "\n",
    "plt.show()"
   ]
  },
  {
   "cell_type": "markdown",
   "metadata": {},
   "source": [
    "#### ヒント"
   ]
  },
  {
   "cell_type": "markdown",
   "metadata": {
    "id": "hint"
   },
   "source": [
    "- `plt.bar()`に`tick_label= ラベルのリスト名` と指定するとラベルを設定できます。"
   ]
  },
  {
   "cell_type": "markdown",
   "metadata": {},
   "source": [
    "#### 解答例"
   ]
  },
  {
   "cell_type": "code",
   "execution_count": null,
   "metadata": {
    "id": "answer",
    "scrolled": false
   },
   "outputs": [],
   "source": [
    "import numpy as np\n",
    "import matplotlib.pyplot as plt\n",
    "\n",
    "x = [1, 2, 3, 4, 5, 6]\n",
    "y = [12, 41, 32, 36, 21, 17]\n",
    "labels = [\"Apple\", \"Orange\", \"Banana\", \"Pineapple\", \"Kiwifruit\", \"Strawberry\"]\n",
    "\n",
    "# 棒グラフを作成し、横軸にラベルを設定してください\n",
    "plt.bar(x, y, tick_label=labels)\n",
    "\n",
    "plt.show()"
   ]
  },
  {
   "cell_type": "markdown",
   "metadata": {},
   "source": [
    "***"
   ]
  },
  {
   "cell_type": "markdown",
   "metadata": {
    "courseId": 4040,
    "exerciseId": "SkpW8ADlAXf",
    "id": "code_session_name",
    "important": false,
    "isDL": false,
    "timeoutSecs": 10
   },
   "source": [
    "### 3.2.3 積み上げ棒グラフを作成する"
   ]
  },
  {
   "cell_type": "markdown",
   "metadata": {
    "id": "description"
   },
   "source": [
    "2系列以上のデータを同じ項目について積み上げて表現したグラフを<b style='color: #AA0000'>積み上げ棒グラフ</b>と呼びます。<br>\n",
    "`matplotlib.pyplot.bar()`に`bottom=[データ列のリスト]`を指定すると、対応するインデックスで<b>下側に余白を設定できます。</b><br>\n",
    "すなわち、2系列目以降をプロットする際に下に表示したい系列を`bottom`に指定することで積み上げ棒グラフが作成できます。<br>\n",
    "\n",
    "\n",
    "また、`plt.legend(\"系列1のラベル\", \"系列2のラベル\")` と指定すると凡例を設定できます。\n",
    "```Python\n",
    "matplotlib.pyplot.bar(x, y, bottom=[データ列のリスト])\n",
    "```"
   ]
  },
  {
   "cell_type": "markdown",
   "metadata": {},
   "source": [
    "#### 問題"
   ]
  },
  {
   "cell_type": "markdown",
   "metadata": {
    "id": "question"
   },
   "source": [
    "- 横軸に`x`、縦軸に`y1`、`y2`のデータが対応する積み上げ棒グラフを作成し、横軸にラベルを設定してください。<br>\n",
    "ラベルのリストは 変数`labels`が用意されています。"
   ]
  },
  {
   "cell_type": "code",
   "execution_count": null,
   "metadata": {
    "id": "index"
   },
   "outputs": [],
   "source": [
    "import numpy as np\n",
    "import matplotlib.pyplot as plt\n",
    "\n",
    "x = [1, 2, 3, 4, 5, 6]\n",
    "y1 = [12, 41, 32, 36, 21, 17]\n",
    "y2 = [43, 1, 6, 17, 17, 9]\n",
    "labels = [\"Apple\", \"Orange\", \"Banana\", \"Pineapple\", \"Kiwifruit\", \"Strawberry\"]\n",
    "\n",
    "# 積み上げ棒グラフを作成し、横軸にラベルを設定してください\n",
    "plt.bar(, , tick_label=)\n",
    "plt.bar(, , bottom=)\n",
    "\n",
    "# 系列ラベルの設定が可能\n",
    "plt.legend((\"y1\", \"y2\"))\n",
    "\n",
    "plt.show()"
   ]
  },
  {
   "cell_type": "markdown",
   "metadata": {},
   "source": [
    "#### ヒント"
   ]
  },
  {
   "cell_type": "markdown",
   "metadata": {
    "id": "hint"
   },
   "source": [
    "- `plt.bar()`に`bottom=データ列` と指定すると、対応するインデックスで下側の余白を設定できます。"
   ]
  },
  {
   "cell_type": "markdown",
   "metadata": {},
   "source": [
    "#### 解答例"
   ]
  },
  {
   "cell_type": "code",
   "execution_count": null,
   "metadata": {
    "id": "answer",
    "scrolled": false
   },
   "outputs": [],
   "source": [
    "import numpy as np\n",
    "import matplotlib.pyplot as plt\n",
    "\n",
    "x = [1, 2, 3, 4, 5, 6]\n",
    "y1 = [12, 41, 32, 36, 21, 17]\n",
    "y2 = [43, 1, 6, 17, 17, 9]\n",
    "labels = [\"Apple\", \"Orange\", \"Banana\", \"Pineapple\", \"Kiwifruit\", \"Strawberry\"]\n",
    "\n",
    "# 積み上げ棒グラフを作成し、横軸にラベルを設定してください\n",
    "plt.bar(x, y1, tick_label=labels)\n",
    "plt.bar(x, y2, bottom=y1)\n",
    "\n",
    "# 系列ラベルの設定が可能\n",
    "plt.legend((\"y1\", \"y2\"))\n",
    "\n",
    "plt.show()"
   ]
  },
  {
   "cell_type": "markdown",
   "metadata": {},
   "source": [
    "***"
   ]
  },
  {
   "cell_type": "markdown",
   "metadata": {
    "id": "section_name",
    "sectionId": "HyA-8Cvg0mM"
   },
   "source": [
    "## 3.3 ヒストグラム"
   ]
  },
  {
   "cell_type": "markdown",
   "metadata": {
    "courseId": 4040,
    "exerciseId": "BJkzI0wxA7M",
    "id": "code_session_name",
    "important": false,
    "isDL": false,
    "timeoutSecs": 10
   },
   "source": [
    "### 3.3.1 ヒストグラムを作成する"
   ]
  },
  {
   "cell_type": "markdown",
   "metadata": {
    "id": "description"
   },
   "source": [
    "データを扱う際には最初に<b>データの全体的な傾向</b>を掴む事が非常に大切です。<br>\n",
    "\n",
    "例えば、あるクラスの身長の傾向を把握することを考えてみましょう。各生徒の身長を個々1cm単位で眺めても、全体の傾向は掴めません。身長を10cm単位で区切って各区間の生徒数をカウントすると、全体の傾向を掴めます。<br>\n",
    "このように、各区間に収まるデータ件数をカウントしたものを<b style='color:#AA0000'>度数分布</b>と呼びます。\n",
    "<br>\n",
    "\n",
    "<b style='color: #AA0000'>度数分布</b>を可視化する際には`ヒストグラム`という、<b>縦軸に度数（回数）、横軸に階級（範囲）をとった統計グラフ</b>が多く使われます。<br>\n",
    "ヒストグラムは`matplotlib.pyplot.hist()`を用いて描画します。\n",
    "\n",
    "```Python\n",
    "matplotlib.pyplot.hist(リスト型のデータ配列)\n",
    "```"
   ]
  },
  {
   "cell_type": "markdown",
   "metadata": {},
   "source": [
    "#### 問題"
   ]
  },
  {
   "cell_type": "markdown",
   "metadata": {
    "id": "question"
   },
   "source": [
    "- データ列の変数`data`に入っているデータのヒストグラムを作成してください。"
   ]
  },
  {
   "cell_type": "code",
   "execution_count": null,
   "metadata": {
    "id": "index"
   },
   "outputs": [],
   "source": [
    "import numpy as np\n",
    "import matplotlib.pyplot as plt\n",
    "\n",
    "np.random.seed(0)\n",
    "data = np.random.randn(10000)\n",
    "\n",
    "# データ列の変数dataのヒストグラムを作成してください\n",
    "\n",
    "\n",
    "plt.show()"
   ]
  },
  {
   "cell_type": "markdown",
   "metadata": {},
   "source": [
    "#### ヒント"
   ]
  },
  {
   "cell_type": "markdown",
   "metadata": {
    "id": "hint"
   },
   "source": [
    "- `plt.hist(リスト型のデータ列)`でヒストグラムが作成できます。"
   ]
  },
  {
   "cell_type": "markdown",
   "metadata": {},
   "source": [
    "#### 解答例"
   ]
  },
  {
   "cell_type": "code",
   "execution_count": null,
   "metadata": {
    "id": "answer",
    "scrolled": true
   },
   "outputs": [],
   "source": [
    "import numpy as np\n",
    "import matplotlib.pyplot as plt\n",
    "\n",
    "np.random.seed(0)\n",
    "data = np.random.randn(10000)\n",
    "\n",
    "# データ列の変数dataのヒストグラムを作成してください\n",
    "plt.hist(data)\n",
    "\n",
    "plt.show()"
   ]
  },
  {
   "cell_type": "markdown",
   "metadata": {},
   "source": [
    "***"
   ]
  },
  {
   "cell_type": "markdown",
   "metadata": {
    "courseId": 4040,
    "exerciseId": "r1eG8RPe0QG",
    "id": "code_session_name",
    "important": false,
    "isDL": false,
    "timeoutSecs": 10
   },
   "source": [
    "### 3.3.2 ビン数を設定する"
   ]
  },
  {
   "cell_type": "markdown",
   "metadata": {
    "id": "description"
   },
   "source": [
    "ヒストグラムを作成する際、<b>データをいくつの階級に分けるか</b>が重要になります。<br>\n",
    "その階級の数を<b style='color: #AA0000'>ビン数</b>と言います。<br>\n",
    "ビン数を正しく決定することでヒストグラムの特徴を正しく掴むことができます。<br>\n",
    "\n",
    "\n",
    "`matplotlib.pyplot.hist()`に`bins`を指定すると<b>任意のビン数の階級に分けることができます</b>。`bins=\"auto\"`と指定すると、ビン数が自動で設定されます。\n",
    "```Python\n",
    "matplotlib.pyplot.hist(リスト型のデータ列, bins=ビン数)\n",
    "```"
   ]
  },
  {
   "cell_type": "markdown",
   "metadata": {},
   "source": [
    "#### 問題"
   ]
  },
  {
   "cell_type": "markdown",
   "metadata": {
    "id": "question"
   },
   "source": [
    "- データ列の変数`data`を用いて、ビン数100のヒストグラムを作成してください。"
   ]
  },
  {
   "cell_type": "code",
   "execution_count": null,
   "metadata": {
    "id": "index"
   },
   "outputs": [],
   "source": [
    "import numpy as np\n",
    "import matplotlib.pyplot as plt\n",
    "\n",
    "np.random.seed(0)\n",
    "data = np.random.randn(10000)\n",
    "\n",
    "# ビン数100のヒストグラムを作成してください\n",
    "\n",
    "\n",
    "plt.show()"
   ]
  },
  {
   "cell_type": "markdown",
   "metadata": {},
   "source": [
    "#### ヒント"
   ]
  },
  {
   "cell_type": "markdown",
   "metadata": {
    "id": "hint"
   },
   "source": [
    "- `plt.hist()`に`bins=`を指定すると、ビン数を設定できます。"
   ]
  },
  {
   "cell_type": "markdown",
   "metadata": {},
   "source": [
    "#### 解答例"
   ]
  },
  {
   "cell_type": "code",
   "execution_count": null,
   "metadata": {
    "id": "answer",
    "scrolled": false
   },
   "outputs": [],
   "source": [
    "import numpy as np\n",
    "import matplotlib.pyplot as plt\n",
    "\n",
    "np.random.seed(0)\n",
    "data = np.random.randn(10000)\n",
    "\n",
    "# ビン数100のヒストグラムを作成してください\n",
    "plt.hist(data, bins=100)\n",
    "\n",
    "plt.show()"
   ]
  },
  {
   "cell_type": "markdown",
   "metadata": {},
   "source": [
    "***"
   ]
  },
  {
   "cell_type": "markdown",
   "metadata": {
    "courseId": 4040,
    "exerciseId": "rk-GUAwlAQf",
    "id": "code_session_name",
    "important": false,
    "isDL": false,
    "timeoutSecs": 10
   },
   "source": [
    "### 3.3.3 正規化を行う"
   ]
  },
  {
   "cell_type": "markdown",
   "metadata": {
    "id": "description"
   },
   "source": [
    "偏差値のツリガネ型のグラフを見た事がある方は多いと思います。あのグラフ（正規分布と言います）は平均が0, 分散が1となるように調整されたグラフで、その結果面積が1となり「偏差値60以上の人は上位15.87%である」等の分布の計算が便利になります。<br>\n",
    "成績や身長など、自然界の多くのデータは正規分布に近い形になる事が知られています。<br>\n",
    "<br>\n",
    "ヒストグラムもデータの分布が正規分布であると仮定すると計算が便利になります。ヒストグラムの分布を正規分布と仮定したとき、合計値が1になるようにヒストグラムを操作することを<b style='color: #AA0000'>正規化</b>または<b style='color: #AA0000'>標準化</b>と呼びます。<br>\n",
    "`matplotlib.pyplot.hist()`に`density=True`を指定すると<b>ヒストグラムの正規化を行えます</b>。\n",
    "```Python\n",
    "matplotlib.pyplot.hist(リスト型のデータ列, density=True)\n",
    "```"
   ]
  },
  {
   "cell_type": "markdown",
   "metadata": {},
   "source": [
    "#### 問題"
   ]
  },
  {
   "cell_type": "markdown",
   "metadata": {
    "id": "question"
   },
   "source": [
    "- データ列の変数`data`を用いて、正規化されたビン数100のヒストグラムを作成してください。"
   ]
  },
  {
   "cell_type": "code",
   "execution_count": null,
   "metadata": {
    "id": "index"
   },
   "outputs": [],
   "source": [
    "import numpy as np\n",
    "import matplotlib.pyplot as plt\n",
    "\n",
    "np.random.seed(0)\n",
    "data = np.random.randn(10000)\n",
    "\n",
    "# 正規化されたビン数100のヒストグラムを作成してください\n",
    "\n",
    "\n",
    "plt.show()"
   ]
  },
  {
   "cell_type": "markdown",
   "metadata": {},
   "source": [
    "#### ヒント"
   ]
  },
  {
   "cell_type": "markdown",
   "metadata": {
    "id": "hint"
   },
   "source": [
    "- `plt.hist()`に`density=True`を指定するとヒストグラムの正規化を行えます。"
   ]
  },
  {
   "cell_type": "markdown",
   "metadata": {},
   "source": [
    "#### 解答例"
   ]
  },
  {
   "cell_type": "code",
   "execution_count": null,
   "metadata": {
    "id": "answer",
    "scrolled": false
   },
   "outputs": [],
   "source": [
    "import numpy as np\n",
    "import matplotlib.pyplot as plt\n",
    "\n",
    "np.random.seed(0)\n",
    "data = np.random.randn(10000)\n",
    "\n",
    "# 正規化されたビン数100のヒストグラムを作成してください\n",
    "plt.hist(data, bins=100, density=True)\n",
    "\n",
    "plt.show()"
   ]
  },
  {
   "cell_type": "markdown",
   "metadata": {},
   "source": [
    "***"
   ]
  },
  {
   "cell_type": "markdown",
   "metadata": {
    "courseId": 4040,
    "exerciseId": "SkzzIRPlAQf",
    "id": "code_session_name",
    "important": false,
    "isDL": false,
    "timeoutSecs": 10
   },
   "source": [
    "### 3.3.4 累積ヒストグラムを作成する"
   ]
  },
  {
   "cell_type": "markdown",
   "metadata": {
    "id": "description"
   },
   "source": [
    "度数を全体の割合で表したものを<b style='color: #AA0000'>相対度数</b>と言い、その階級までの相対度数の和を<b style='color: #AA0000'>累積相対度数</b>といいます。<br>\n",
    "累積相対度数は最終的に1となります。<br>\n",
    "累積相対度数をヒストグラムで表したものを累積ヒストグラムと呼びます。<br>\n",
    "累積ヒストグラムの増減を調べることによってそれが公平かどうかがわかります。<br>\n",
    "\n",
    "\n",
    "`matplotlib.pyplot.hist()`に`cumulative=True`を指定すると累積ヒストグラムを作成することができます。\n",
    "\n",
    "```Python\n",
    "matplotlib.pyplot.hist(リスト型のデータ列, cumulative=True)\n",
    "```"
   ]
  },
  {
   "cell_type": "markdown",
   "metadata": {},
   "source": [
    "#### 問題"
   ]
  },
  {
   "cell_type": "markdown",
   "metadata": {
    "id": "question"
   },
   "source": [
    "- データ列の変数`data`を用いて、正規化されたビン数100の累積ヒストグラムを作成してください。"
   ]
  },
  {
   "cell_type": "code",
   "execution_count": null,
   "metadata": {
    "id": "index"
   },
   "outputs": [],
   "source": [
    "import numpy as np\n",
    "import matplotlib.pyplot as plt\n",
    "\n",
    "np.random.seed(0)\n",
    "data = np.random.randn(10000)\n",
    "\n",
    "# 正規化されたビン数100の累積ヒストグラムを作成してください\n",
    "\n",
    "\n",
    "plt.show()"
   ]
  },
  {
   "cell_type": "markdown",
   "metadata": {},
   "source": [
    "#### ヒント"
   ]
  },
  {
   "cell_type": "markdown",
   "metadata": {
    "id": "hint"
   },
   "source": [
    "- `plt.hist()`に`cumulative=True`を指定すると累積ヒストグラムを作成できます。"
   ]
  },
  {
   "cell_type": "markdown",
   "metadata": {},
   "source": [
    "#### 解答例"
   ]
  },
  {
   "cell_type": "code",
   "execution_count": null,
   "metadata": {
    "id": "answer",
    "scrolled": false
   },
   "outputs": [],
   "source": [
    "import numpy as np\n",
    "import matplotlib.pyplot as plt\n",
    "\n",
    "np.random.seed(0)\n",
    "data = np.random.randn(10000)\n",
    "\n",
    "# 正規化されたビン数100の累積ヒストグラムを作成してください\n",
    "plt.hist(data, bins=100, density=True, cumulative=True)\n",
    "\n",
    "plt.show()"
   ]
  },
  {
   "cell_type": "markdown",
   "metadata": {},
   "source": [
    "***"
   ]
  },
  {
   "cell_type": "markdown",
   "metadata": {
    "id": "section_name",
    "sectionId": "HyXfICwx07z"
   },
   "source": [
    "## 3.4 散布図"
   ]
  },
  {
   "cell_type": "markdown",
   "metadata": {
    "courseId": 4040,
    "exerciseId": "HyEf8AvgR7f",
    "id": "code_session_name",
    "important": false,
    "isDL": false,
    "timeoutSecs": 10
   },
   "source": [
    "### 3.4.1 散布図を作成する"
   ]
  },
  {
   "cell_type": "markdown",
   "metadata": {
    "id": "description"
   },
   "source": [
    "<b style='color: #AA0000'>散布図</b>は`matplotlib.pyplot.scatter()`を用いて描画します。<br>\n",
    "横軸のデータ`x`とこれに対応する縦軸のデータ`y`を指定します。\n",
    "```Python\n",
    "matplotlib.pyplot.scatter(x, y)\n",
    "```"
   ]
  },
  {
   "cell_type": "markdown",
   "metadata": {},
   "source": [
    "#### 問題"
   ]
  },
  {
   "cell_type": "markdown",
   "metadata": {
    "id": "question"
   },
   "source": [
    "- リスト型の変数`x`、`y`のデータを平面上のx軸、y軸にそれぞれ対応させた散布図を作成してください。"
   ]
  },
  {
   "cell_type": "code",
   "execution_count": null,
   "metadata": {
    "id": "index"
   },
   "outputs": [],
   "source": [
    "import numpy as np\n",
    "import matplotlib.pyplot as plt\n",
    "\n",
    "np.random.seed(0)\n",
    "x = np.random.choice(np.arange(100), 100)\n",
    "y = np.random.choice(np.arange(100), 100)\n",
    "\n",
    "# 散布図を作成してください\n",
    "\n",
    "\n",
    "plt.show()"
   ]
  },
  {
   "cell_type": "markdown",
   "metadata": {},
   "source": [
    "#### ヒント"
   ]
  },
  {
   "cell_type": "markdown",
   "metadata": {
    "id": "hint"
   },
   "source": [
    "- `plt.scatter()`にx軸、y軸に対応するデータを指定すると散布図を作成できます。"
   ]
  },
  {
   "cell_type": "markdown",
   "metadata": {},
   "source": [
    "#### 解答例"
   ]
  },
  {
   "cell_type": "code",
   "execution_count": null,
   "metadata": {
    "id": "answer"
   },
   "outputs": [],
   "source": [
    "import numpy as np\n",
    "import matplotlib.pyplot as plt\n",
    "\n",
    "np.random.seed(0)\n",
    "x = np.random.choice(np.arange(100), 100)\n",
    "y = np.random.choice(np.arange(100), 100)\n",
    "\n",
    "# 散布図を作成してください\n",
    "plt.scatter(x, y)\n",
    "\n",
    "plt.show()"
   ]
  },
  {
   "cell_type": "markdown",
   "metadata": {},
   "source": [
    "***"
   ]
  },
  {
   "cell_type": "markdown",
   "metadata": {
    "courseId": 4040,
    "exerciseId": "ryHzL0vgAQz",
    "id": "code_session_name",
    "important": false,
    "isDL": false,
    "timeoutSecs": 10
   },
   "source": [
    "### 3.4.2 マーカーの種類と色を設定する"
   ]
  },
  {
   "cell_type": "markdown",
   "metadata": {
    "id": "description"
   },
   "source": [
    "横軸のデータ`x`、縦軸のデータ`y`に加え、`marker=\"指定子\"`を指定すると<b>マーカーの種類（形）を設定でき</b>、`color=\"指定子\"`を指定すると<b>マーカーの色を設定できます</b>。<br>\n",
    "```Python\n",
    "matplotlib.pyplot.scatter(x, y, marker=\"マーカーの種類\", color=\"マーカーの色\")\n",
    "```\n",
    "以下は指定できるマーカーの種類とその色の一部です。<br>\n",
    "<br>\n",
    "<b>マーカー</b>\n",
    "- `\"o\"`: 円\n",
    "- `\"s\"`: 四角\n",
    "- `\"p\"`: 五角形\n",
    "- `\"*\"`: 星\n",
    "- `\"+\"`: プラス\n",
    "- `\"D\"`: ダイアモンド\n",
    "\n",
    "<b>色</b>\n",
    "- `\"b\"` : 青\n",
    "- `\"g\"` : 緑\n",
    "- `\"r\"` : 赤\n",
    "- `\"c\"` : シアン\n",
    "- `\"m\"` : マゼンタ\n",
    "- `\"y\"` : 黄色\n",
    "- `\"k\"` : 黒\n",
    "- `\"w\"` : 白"
   ]
  },
  {
   "cell_type": "markdown",
   "metadata": {},
   "source": [
    "#### 問題"
   ]
  },
  {
   "cell_type": "markdown",
   "metadata": {
    "id": "question"
   },
   "source": [
    "- リスト型の変数`x`、`y`のデータを平面上のx軸、y軸にそれぞれ対応させた散布図を作成してください。<br>\n",
    "- マーカーの種類を四角、色を赤に設定してプロットしてください。<br>\n",
    "赤色は `\"r\"` で指定してください。"
   ]
  },
  {
   "cell_type": "code",
   "execution_count": null,
   "metadata": {
    "id": "index"
   },
   "outputs": [],
   "source": [
    "import numpy as np\n",
    "import matplotlib.pyplot as plt\n",
    "\n",
    "np.random.seed(0)\n",
    "x = np.random.choice(np.arange(100), 100)\n",
    "y = np.random.choice(np.arange(100), 100)\n",
    "\n",
    "# マーカーの種類を四角、色を赤に設定して散布図を作成してください\n",
    "\n",
    "\n",
    "plt.show()"
   ]
  },
  {
   "cell_type": "markdown",
   "metadata": {},
   "source": [
    "#### ヒント"
   ]
  },
  {
   "cell_type": "markdown",
   "metadata": {
    "id": "hint"
   },
   "source": [
    "- `marker=\"指定子\"`でマーカーの種類を設定できます。\n",
    "- `color=\"指定子\"`でマーカーの色を設定できます。"
   ]
  },
  {
   "cell_type": "markdown",
   "metadata": {},
   "source": [
    "#### 解答例"
   ]
  },
  {
   "cell_type": "code",
   "execution_count": null,
   "metadata": {
    "id": "answer"
   },
   "outputs": [],
   "source": [
    "import numpy as np\n",
    "import matplotlib.pyplot as plt\n",
    "\n",
    "np.random.seed(0)\n",
    "x = np.random.choice(np.arange(100), 100)\n",
    "y = np.random.choice(np.arange(100), 100)\n",
    "\n",
    "# マーカーの種類を四角、色を赤に設定して散布図を作成してください\n",
    "plt.scatter(x, y, marker=\"s\", color=\"r\")\n",
    "\n",
    "plt.show()"
   ]
  },
  {
   "cell_type": "markdown",
   "metadata": {},
   "source": [
    "***"
   ]
  },
  {
   "cell_type": "markdown",
   "metadata": {
    "courseId": 4040,
    "exerciseId": "S1UG80PeCQf",
    "id": "code_session_name",
    "important": false,
    "isDL": false,
    "timeoutSecs": 10
   },
   "source": [
    "### 3.4.3 値に応じてマーカーの大きさを設定する"
   ]
  },
  {
   "cell_type": "markdown",
   "metadata": {
    "id": "description"
   },
   "source": [
    "横軸のデータ`x`、縦軸のデータ`y`に加え、`s=マーカーのサイズ`を指定すると<b>マーカーの大きさを設定できます</b>。デフォルト値は`20`です。<br>\n",
    "これを応用して、プロットデータに対応するリスト型のデータを`s`に指定します。すると指定した<b>リスト型のデータの値に応じてマーカーの大きさを個々に設定することができます</b>。<br>\n",
    "```Python\n",
    "matplotlib.pyplot.scatter(x, y, s=マーカーのサイズ)\n",
    "```"
   ]
  },
  {
   "cell_type": "markdown",
   "metadata": {},
   "source": [
    "#### 問題"
   ]
  },
  {
   "cell_type": "markdown",
   "metadata": {
    "id": "question"
   },
   "source": [
    "- 変数`x`、`y`の値を散布図にプロットし、マーカーの大きさを変数`z`に応じた値に設定してください。"
   ]
  },
  {
   "cell_type": "code",
   "execution_count": null,
   "metadata": {
    "id": "index"
   },
   "outputs": [],
   "source": [
    "import numpy as np\n",
    "import matplotlib.pyplot as plt\n",
    "\n",
    "np.random.seed(0)\n",
    "x = np.random.choice(np.arange(100), 100)\n",
    "y = np.random.choice(np.arange(100), 100)\n",
    "z = np.random.choice(np.arange(100), 100)\n",
    "\n",
    "# マーカーの大きさを変数zに応じた値で個々に変わるようプロットしてください\n",
    "\n",
    "\n",
    "plt.show()"
   ]
  },
  {
   "cell_type": "markdown",
   "metadata": {},
   "source": [
    "#### ヒント"
   ]
  },
  {
   "cell_type": "markdown",
   "metadata": {
    "id": "hint"
   },
   "source": [
    "- `s=マーカーのサイズ`でマーカーの大きさを設定できます。"
   ]
  },
  {
   "cell_type": "markdown",
   "metadata": {},
   "source": [
    "#### 解答例"
   ]
  },
  {
   "cell_type": "code",
   "execution_count": null,
   "metadata": {
    "id": "answer"
   },
   "outputs": [],
   "source": [
    "import numpy as np\n",
    "import matplotlib.pyplot as plt\n",
    "\n",
    "np.random.seed(0)\n",
    "x = np.random.choice(np.arange(100), 100)\n",
    "y = np.random.choice(np.arange(100), 100)\n",
    "z = np.random.choice(np.arange(100), 100)\n",
    "\n",
    "# マーカーの大きさを変数zに応じた値で個々に変わるようプロットしてください\n",
    "plt.scatter(x, y, s=z)\n",
    "\n",
    "plt.show()"
   ]
  },
  {
   "cell_type": "markdown",
   "metadata": {},
   "source": [
    "***"
   ]
  },
  {
   "cell_type": "markdown",
   "metadata": {
    "courseId": 4040,
    "exerciseId": "r1wMIRvxAXM",
    "id": "code_session_name",
    "important": false,
    "isDL": false,
    "timeoutSecs": 10
   },
   "source": [
    "### 3.4.4 値に応じてマーカーの濃さを設定する"
   ]
  },
  {
   "cell_type": "markdown",
   "metadata": {
    "id": "description"
   },
   "source": [
    "プロットデータに応じてマーカーの大きさを変えると、見難くなることがあります。その場合は、プロットデータに応じてマーカーの色の濃さを変えると効果的です。<br>\n",
    "<br>\n",
    "横軸のデータ`x`、縦軸のデータ`y`に加え、`c=マーカーの色`を指定すると<b>マーカーの色を設定できます</b>。<br>\n",
    "また、プロットデータに対応するリスト型のデータを`c`に指定し、さらに`cmap=\"色系統指定子\"`を指定すると、<b>`c`の値に応じた濃さでマーカーをグラデーション表示することができます</b>。<br>\n",
    "```Python\n",
    "matplotlib.pyplot.scatter(x, y, c=マーカーの色 または プロットデータに対応するリスト型のデータ, cmap=\"色系統指定子\")\n",
    "```\n",
    "以下は使用できる色系統のうちの一部です。<br>\n",
    "<br>\n",
    "<b>色系統指定子</b>\n",
    "- \"Reds\": 赤\n",
    "- \"Blues\": 青\n",
    "- \"Greens\": 緑\n",
    "- \"Purples\": 紫"
   ]
  },
  {
   "cell_type": "markdown",
   "metadata": {},
   "source": [
    "#### 問題"
   ]
  },
  {
   "cell_type": "markdown",
   "metadata": {
    "id": "question"
   },
   "source": [
    "- 変数`x`、`y`の値を散布図にプロットし、変数`z`に応じた値で青系統の色でグラデーション表示してください。"
   ]
  },
  {
   "cell_type": "code",
   "execution_count": null,
   "metadata": {
    "id": "index"
   },
   "outputs": [],
   "source": [
    "import numpy as np\n",
    "import matplotlib.pyplot as plt\n",
    "\n",
    "np.random.seed(0)\n",
    "x = np.random.choice(np.arange(100), 100)\n",
    "y = np.random.choice(np.arange(100), 100)\n",
    "z = np.random.choice(np.arange(100), 100)\n",
    "\n",
    "# 変数zに応じた値で、マーカーの色を青系統のグラデーションで表示してください\n",
    "\n",
    "\n",
    "plt.show()"
   ]
  },
  {
   "cell_type": "markdown",
   "metadata": {},
   "source": [
    "#### ヒント"
   ]
  },
  {
   "cell_type": "markdown",
   "metadata": {
    "id": "hint"
   },
   "source": [
    "- `c=マーカーの色`でマーカーの色を設定できます。\n",
    "- `c=プロットデータに対応するリスト型のデータ`と`cmap=\"色系統\"`でプロットデータをグラデーション表示できます。\n",
    "- 色系統を青に設定するには\"Blues\"を指定します。"
   ]
  },
  {
   "cell_type": "markdown",
   "metadata": {},
   "source": [
    "#### 解答例"
   ]
  },
  {
   "cell_type": "code",
   "execution_count": null,
   "metadata": {
    "id": "answer"
   },
   "outputs": [],
   "source": [
    "import numpy as np\n",
    "import matplotlib.pyplot as plt\n",
    "\n",
    "np.random.seed(0)\n",
    "x = np.random.choice(np.arange(100), 100)\n",
    "y = np.random.choice(np.arange(100), 100)\n",
    "z = np.random.choice(np.arange(100), 100)\n",
    "\n",
    "# 変数zに応じた値で、マーカーの色を青系統のグラデーションで表示してください\n",
    "plt.scatter(x, y, c=z, cmap=\"Blues\")\n",
    "\n",
    "plt.show()"
   ]
  },
  {
   "cell_type": "markdown",
   "metadata": {},
   "source": [
    "***"
   ]
  },
  {
   "cell_type": "markdown",
   "metadata": {
    "courseId": 4040,
    "exerciseId": "BJOz80vx07G",
    "id": "code_session_name",
    "important": false,
    "isDL": false,
    "timeoutSecs": 10
   },
   "source": [
    "### 3.4.5 カラーバーを表示する"
   ]
  },
  {
   "cell_type": "markdown",
   "metadata": {
    "id": "description"
   },
   "source": [
    "プロットデータの大小に応じてマーカーを着色するだけでは、そのデータの水準や格差が分かりません。そこで、カラーバーを表示するとマーカーの濃さでだいたいの値が分かるようになります。<br>\n",
    "```Python\n",
    "matplotlib.pyplot.colorbar()\n",
    "```"
   ]
  },
  {
   "cell_type": "markdown",
   "metadata": {},
   "source": [
    "#### 問題"
   ]
  },
  {
   "cell_type": "markdown",
   "metadata": {
    "id": "question"
   },
   "source": [
    "- 変数`x`、`y`の値を散布図にプロットし、変数`z`に応じた値で青系統の色でグラデーション表示してください。\n",
    "- カラーバーを表示してください。"
   ]
  },
  {
   "cell_type": "code",
   "execution_count": null,
   "metadata": {
    "id": "index"
   },
   "outputs": [],
   "source": [
    "import numpy as np\n",
    "import matplotlib.pyplot as plt\n",
    "\n",
    "np.random.seed(0)\n",
    "x = np.random.choice(np.arange(100), 100)\n",
    "y = np.random.choice(np.arange(100), 100)\n",
    "z = np.random.choice(np.arange(100), 100)\n",
    "\n",
    "# 変数zに応じた値で、マーカーの色を青系統のグラデーションで表示してください\n",
    "plt.scatter(x, y, c=z, cmap=\"Blues\")\n",
    "\n",
    "# カラーバーを表示してください\n",
    "\n",
    "\n",
    "plt.show()"
   ]
  },
  {
   "cell_type": "markdown",
   "metadata": {},
   "source": [
    "#### ヒント"
   ]
  },
  {
   "cell_type": "markdown",
   "metadata": {
    "id": "hint"
   },
   "source": [
    "- `plt.colorbar()`でカラーバーを表示できます。"
   ]
  },
  {
   "cell_type": "markdown",
   "metadata": {},
   "source": [
    "#### 解答例"
   ]
  },
  {
   "cell_type": "code",
   "execution_count": null,
   "metadata": {
    "id": "answer"
   },
   "outputs": [],
   "source": [
    "import numpy as np\n",
    "import matplotlib.pyplot as plt\n",
    "\n",
    "np.random.seed(0)\n",
    "x = np.random.choice(np.arange(100), 100)\n",
    "y = np.random.choice(np.arange(100), 100)\n",
    "z = np.random.choice(np.arange(100), 100)\n",
    "\n",
    "# 変数zに応じた値で、マーカーの色を青系統のグラデーションで表示してください\n",
    "plt.scatter(x, y, c=z, cmap=\"Blues\")\n",
    "\n",
    "# カラーバーを表示してください\n",
    "plt.colorbar()\n",
    "\n",
    "plt.show()"
   ]
  },
  {
   "cell_type": "markdown",
   "metadata": {},
   "source": [
    "***"
   ]
  },
  {
   "cell_type": "markdown",
   "metadata": {
    "id": "section_name",
    "sectionId": "ryKMLRvg0Xz"
   },
   "source": [
    "## 3.5 円グラフ"
   ]
  },
  {
   "cell_type": "markdown",
   "metadata": {
    "courseId": 4040,
    "exerciseId": "SJcG8RvgC7f",
    "id": "code_session_name",
    "important": false,
    "isDL": false,
    "timeoutSecs": 10
   },
   "source": [
    "### 3.5.1 円グラフを作成する"
   ]
  },
  {
   "cell_type": "markdown",
   "metadata": {
    "id": "description"
   },
   "source": [
    "<b style='color: #AA0000'>円グラフ</b>は`matplotlib.pyplot.pie()`を用いて描画します。グラフを円形にするには、`matplotlib.pyplot.axis(\"equal\")`が必要です。<b>このコードがないと楕円になって</b>しまいます。<br>\n",
    "```Python\n",
    "plt.pie(リスト型のデータ)\n",
    "plt.axis(\"equal\")\n",
    "```"
   ]
  },
  {
   "cell_type": "markdown",
   "metadata": {},
   "source": [
    "#### 問題"
   ]
  },
  {
   "cell_type": "markdown",
   "metadata": {
    "id": "question"
   },
   "source": [
    "- 変数`data`を円グラフで描画してください。"
   ]
  },
  {
   "cell_type": "code",
   "execution_count": null,
   "metadata": {
    "id": "index"
   },
   "outputs": [],
   "source": [
    "import matplotlib.pyplot as plt\n",
    "\n",
    "data = [60, 20, 10, 5, 3, 2]\n",
    "\n",
    "# 変数dataを円グラフで描画してください\n",
    "\n",
    "\n",
    "# 円グラフを楕円から円形にしてください\n",
    "\n",
    "\n",
    "plt.show()"
   ]
  },
  {
   "cell_type": "markdown",
   "metadata": {},
   "source": [
    "#### ヒント"
   ]
  },
  {
   "cell_type": "markdown",
   "metadata": {
    "id": "hint"
   },
   "source": [
    "- `plt.pie()`にリスト型のデータを指定すると円グラフを作成できます。\n",
    "- グラフを円形にするには、`plt.axis(\"equal\")`が必要です。"
   ]
  },
  {
   "cell_type": "markdown",
   "metadata": {},
   "source": [
    "#### 解答例"
   ]
  },
  {
   "cell_type": "code",
   "execution_count": null,
   "metadata": {
    "id": "answer"
   },
   "outputs": [],
   "source": [
    "import matplotlib.pyplot as plt\n",
    "\n",
    "data = [60, 20, 10, 5, 3, 2]\n",
    "\n",
    "# 変数dataを円グラフで描画してください\n",
    "plt.pie(data)\n",
    "\n",
    "# 円グラフを楕円から円形にしてください\n",
    "plt.axis(\"equal\")\n",
    "\n",
    "plt.show()"
   ]
  },
  {
   "cell_type": "markdown",
   "metadata": {},
   "source": [
    "***"
   ]
  },
  {
   "cell_type": "markdown",
   "metadata": {
    "courseId": 4040,
    "exerciseId": "ByoMU0vx07G",
    "id": "code_session_name",
    "important": false,
    "isDL": false,
    "timeoutSecs": 10
   },
   "source": [
    "### 3.5.2 円グラフにラベルを設定する"
   ]
  },
  {
   "cell_type": "markdown",
   "metadata": {
    "id": "description"
   },
   "source": [
    "`matplotlib.pyplot.pie()`に`labels=[ラベルのリスト]`を指定すると<b>ラベルを設定できます</b>。\n",
    "```Python\n",
    "matplotlib.pyplot.pie(データ, labels=[ラベルのリスト])\n",
    "```"
   ]
  },
  {
   "cell_type": "markdown",
   "metadata": {},
   "source": [
    "#### 問題"
   ]
  },
  {
   "cell_type": "markdown",
   "metadata": {
    "id": "question"
   },
   "source": [
    "- 変数`data`を円グラフで描画してください。\n",
    "- ラベルとして変数`labels`を設定してください。"
   ]
  },
  {
   "cell_type": "code",
   "execution_count": null,
   "metadata": {
    "id": "index"
   },
   "outputs": [],
   "source": [
    "import matplotlib.pyplot as plt\n",
    "\n",
    "data = [60, 20, 10, 5, 3, 2]\n",
    "labels = [\"Apple\", \"Orange\", \"Banana\", \"Pineapple\", \"Kiwifruit\", \"Strawberry\"]\n",
    "\n",
    "# 変数dataを円グラフで描画してください。ラベルは変数labelsです\n",
    "\n",
    "\n",
    "plt.axis(\"equal\")\n",
    "plt.show()"
   ]
  },
  {
   "cell_type": "markdown",
   "metadata": {},
   "source": [
    "#### ヒント"
   ]
  },
  {
   "cell_type": "markdown",
   "metadata": {
    "id": "hint"
   },
   "source": [
    "- `labels=ラベルのリスト型データ`でラベルを設定できます。"
   ]
  },
  {
   "cell_type": "markdown",
   "metadata": {},
   "source": [
    "#### 解答例"
   ]
  },
  {
   "cell_type": "code",
   "execution_count": null,
   "metadata": {
    "id": "answer"
   },
   "outputs": [],
   "source": [
    "import matplotlib.pyplot as plt\n",
    "\n",
    "data = [60, 20, 10, 5, 3, 2]\n",
    "labels = [\"Apple\", \"Orange\", \"Banana\", \"Pineapple\", \"Kiwifruit\", \"Strawberry\"]\n",
    "\n",
    "# 変数dataを円グラフで描画してください。ラベルは変数labelsです\n",
    "plt.pie(data, labels=labels)\n",
    "\n",
    "plt.axis(\"equal\")\n",
    "plt.show()"
   ]
  },
  {
   "cell_type": "markdown",
   "metadata": {},
   "source": [
    "***"
   ]
  },
  {
   "cell_type": "markdown",
   "metadata": {
    "courseId": 4040,
    "exerciseId": "HJnGIRwl07f",
    "id": "code_session_name",
    "important": false,
    "isDL": false,
    "timeoutSecs": 10
   },
   "source": [
    "### 3.5.3 特定の要素を目立たせる"
   ]
  },
  {
   "cell_type": "markdown",
   "metadata": {
    "id": "description"
   },
   "source": [
    "円グラフの特徴的な要素だけを切り離して目立たせたい場合があります。\n",
    "`matplotlib.pyplot.pie()`に`explode=[目立たせ度合いのリスト]`を指定すると<b>任意の要素を切り離して表示できます</b>。<br>\n",
    "「目立たせ度合い」には0から1の値をリスト型のデータで指定します。\n",
    "```Python\n",
    "matplotlib.pyplot.pie(データ, explode=[目立たせ度合いのリスト])\n",
    "```"
   ]
  },
  {
   "cell_type": "markdown",
   "metadata": {},
   "source": [
    "#### 問題"
   ]
  },
  {
   "cell_type": "markdown",
   "metadata": {
    "id": "question"
   },
   "source": [
    "- 変数`data`を円グラフで描画してください。\n",
    "- ラベルとして変数`labels`を設定してください。\n",
    "- 「目立たせ度合い」のリスト型のデータは変数`explode`です。"
   ]
  },
  {
   "cell_type": "code",
   "execution_count": null,
   "metadata": {
    "id": "index"
   },
   "outputs": [],
   "source": [
    "import matplotlib.pyplot as plt\n",
    "\n",
    "data = [60, 20, 10, 5, 3, 2]\n",
    "labels = [\"Apple\", \"Orange\", \"Banana\", \"Pineapple\", \"Kiwifruit\", \"Strawberry\"]\n",
    "explode = [0, 0, 0.1, 0, 0, 0]\n",
    "\n",
    "# 変数dataに変数labelsのラベルを指定し、Bananaを目立たせた円グラフを描画してください\n",
    "\n",
    "\n",
    "plt.axis(\"equal\")\n",
    "plt.show()"
   ]
  },
  {
   "cell_type": "markdown",
   "metadata": {},
   "source": [
    "#### ヒント"
   ]
  },
  {
   "cell_type": "markdown",
   "metadata": {
    "id": "hint"
   },
   "source": [
    "- `explode=目立たせ度合い(0から1の値)のリスト型データ`でラベルを設定できます。"
   ]
  },
  {
   "cell_type": "markdown",
   "metadata": {},
   "source": [
    "#### 解答例"
   ]
  },
  {
   "cell_type": "code",
   "execution_count": null,
   "metadata": {
    "id": "answer"
   },
   "outputs": [],
   "source": [
    "import matplotlib.pyplot as plt\n",
    "\n",
    "data = [60, 20, 10, 5, 3, 2]\n",
    "labels = [\"Apple\", \"Orange\", \"Banana\", \"Pineapple\", \"Kiwifruit\", \"Strawberry\"]\n",
    "explode = [0, 0, 0.1, 0, 0, 0]\n",
    "\n",
    "# 変数dataに変数labelsのラベルを指定し、Bananaを目立たせた円グラフを描画してください\n",
    "plt.pie(data, labels=labels, explode=explode)\n",
    "\n",
    "plt.axis(\"equal\")\n",
    "plt.show()"
   ]
  },
  {
   "cell_type": "markdown",
   "metadata": {},
   "source": [
    "***"
   ]
  },
  {
   "cell_type": "markdown",
   "metadata": {
    "id": "section_name",
    "sectionId": "SJaG8APeRQM"
   },
   "source": [
    "## 3.6 3Dグラフ"
   ]
  },
  {
   "cell_type": "markdown",
   "metadata": {
    "courseId": 4040,
    "exerciseId": "rkAfI0DeA7z",
    "id": "code_session_name",
    "important": false,
    "isDL": false,
    "timeoutSecs": 10
   },
   "source": [
    "### 3.6.1 3D Axesを作成する"
   ]
  },
  {
   "cell_type": "markdown",
   "metadata": {
    "id": "description"
   },
   "source": [
    "このセクションでは<b>3Dグラフの描画</b>について学びます。<br>\n",
    "<br>\n",
    "3Dグラフを描画するには、<b>3D描画機能を持ったサブプロット</b>を作成する必要があり、サブプロットを作成する際に`projection=\"3d\"`と指定します。\n",
    "```Python\n",
    "matplotlib.figure().add_subplot(1, 1, 1, projection=\"3d\")\n",
    "```"
   ]
  },
  {
   "cell_type": "markdown",
   "metadata": {},
   "source": [
    "#### 問題"
   ]
  },
  {
   "cell_type": "markdown",
   "metadata": {
    "id": "question"
   },
   "source": [
    "- 用意された変数`fig`を用いて、3D描画機能を持ったサブプロット`ax`を追加してください。追加する際、図は分割しないでください。"
   ]
  },
  {
   "cell_type": "code",
   "execution_count": null,
   "metadata": {
    "id": "index"
   },
   "outputs": [],
   "source": [
    "import numpy as np\n",
    "import matplotlib.pyplot as plt\n",
    "\n",
    "# 3D描画を行うために必要なライブラリ\n",
    "from mpl_toolkits.mplot3d import Axes3D\n",
    "\n",
    "t = np.linspace(-2*np.pi, 2*np.pi)\n",
    "X, Y = np.meshgrid(t, t)\n",
    "R = np.sqrt(X**2 + Y**2)\n",
    "Z = np.sin(R)\n",
    "\n",
    "# Figureオブジェクトを作成\n",
    "fig = plt.figure(figsize=(6, 6))\n",
    "\n",
    "# 3D描画機能を持ったサブプロットaxを追加してください\n",
    "ax =\n",
    "\n",
    "# プロットして表示\n",
    "ax.plot_surface(X, Y, Z)\n",
    "plt.show()"
   ]
  },
  {
   "cell_type": "markdown",
   "metadata": {},
   "source": [
    "#### ヒント"
   ]
  },
  {
   "cell_type": "markdown",
   "metadata": {
    "id": "hint"
   },
   "source": [
    "- `add_subplot()`に`projection=\"3d\"`を指定すると、3D描画が可能なサブプロットを追加できます。"
   ]
  },
  {
   "cell_type": "markdown",
   "metadata": {},
   "source": [
    "#### 解答例"
   ]
  },
  {
   "cell_type": "code",
   "execution_count": null,
   "metadata": {
    "id": "answer",
    "scrolled": true
   },
   "outputs": [],
   "source": [
    "import numpy as np\n",
    "import matplotlib.pyplot as plt\n",
    "\n",
    "# 3D描画を行うために必要なライブラリ\n",
    "from mpl_toolkits.mplot3d import Axes3D\n",
    "\n",
    "t = np.linspace(-2*np.pi, 2*np.pi)\n",
    "X, Y = np.meshgrid(t, t)\n",
    "R = np.sqrt(X**2 + Y**2)\n",
    "Z = np.sin(R)\n",
    "\n",
    "# Figureオブジェクトを作成\n",
    "fig = plt.figure(figsize=(6, 6))\n",
    "\n",
    "# 3D描画機能を持ったサブプロットaxを追加してください\n",
    "ax = fig.add_subplot(1, 1, 1, projection=\"3d\")\n",
    "\n",
    "# プロットして表示\n",
    "ax.plot_surface(X, Y, Z)\n",
    "plt.show()"
   ]
  },
  {
   "cell_type": "markdown",
   "metadata": {},
   "source": [
    "***"
   ]
  },
  {
   "cell_type": "markdown",
   "metadata": {
    "courseId": 4040,
    "exerciseId": "Syk7U0Dg07G",
    "id": "code_session_name",
    "important": false,
    "isDL": false,
    "timeoutSecs": 10
   },
   "source": [
    "### 3.6.2 曲面を作成する"
   ]
  },
  {
   "cell_type": "markdown",
   "metadata": {
    "id": "description"
   },
   "source": [
    "できるだけ真に近い見た目のグラフを描画したい場合、`plot_surface()` にx軸、y軸、z軸に対応するデータを指定して<b>曲面を描画</b>します。\n",
    "\n",
    "```Python\n",
    "# サブプロットが変数`ax`の場合\n",
    "ax.plot_surface(X, Y, Z)\n",
    "```\n",
    "描画したグラフは`matplotlib.pyplot.show()`を用いて画面に出力します。"
   ]
  },
  {
   "cell_type": "markdown",
   "metadata": {},
   "source": [
    "#### 問題"
   ]
  },
  {
   "cell_type": "markdown",
   "metadata": {
    "id": "question"
   },
   "source": [
    "- 変数`X`,`Y`,`Z`のデータをそれぞれx軸、y軸、z軸に対応させて曲面をグラフに描画してください。"
   ]
  },
  {
   "cell_type": "code",
   "execution_count": null,
   "metadata": {
    "id": "index"
   },
   "outputs": [],
   "source": [
    "import numpy as np\n",
    "import matplotlib.pyplot as plt\n",
    "\n",
    "# 3D描画を行うために必要なライブラリ\n",
    "from mpl_toolkits.mplot3d import Axes3D\n",
    "\n",
    "x = y = np.linspace(-5, 5)\n",
    "X, Y = np.meshgrid(x, y)\n",
    "Z = np.exp(-(X**2 + Y**2)/2) / (2*np.pi)\n",
    "\n",
    "# Figureオブジェクトを作成\n",
    "fig = plt.figure(figsize=(6, 6))\n",
    "# 3D描画機能を持ったサブプロットaxを追加\n",
    "ax = fig.add_subplot(1, 1, 1, projection=\"3d\")\n",
    "\n",
    "# 曲面を描画して表示してください\n",
    "\n",
    "\n",
    "plt.show()"
   ]
  },
  {
   "cell_type": "markdown",
   "metadata": {},
   "source": [
    "#### ヒント"
   ]
  },
  {
   "cell_type": "markdown",
   "metadata": {
    "id": "hint"
   },
   "source": [
    "- `plot_surface()`に軸に対応したデータを指定すると、曲面の描画が可能です。"
   ]
  },
  {
   "cell_type": "markdown",
   "metadata": {},
   "source": [
    "#### 解答例"
   ]
  },
  {
   "cell_type": "code",
   "execution_count": null,
   "metadata": {
    "id": "answer",
    "scrolled": false
   },
   "outputs": [],
   "source": [
    "import numpy as np\n",
    "import matplotlib.pyplot as plt\n",
    "\n",
    "# 3D描画を行うために必要なライブラリ\n",
    "from mpl_toolkits.mplot3d import Axes3D\n",
    "\n",
    "x = y = np.linspace(-5, 5)\n",
    "X, Y = np.meshgrid(x, y)\n",
    "Z = np.exp(-(X**2 + Y**2)/2) / (2*np.pi)\n",
    "\n",
    "# Figureオブジェクトを作成\n",
    "fig = plt.figure(figsize=(6, 6))\n",
    "# 3D描画機能を持ったサブプロットaxを追加\n",
    "ax = fig.add_subplot(1, 1, 1, projection=\"3d\")\n",
    "\n",
    "# 曲面を描画して表示してください\n",
    "ax.plot_surface(X, Y, Z)\n",
    "\n",
    "plt.show()"
   ]
  },
  {
   "cell_type": "markdown",
   "metadata": {},
   "source": [
    "***"
   ]
  },
  {
   "cell_type": "markdown",
   "metadata": {
    "courseId": 4040,
    "exerciseId": "SyemIADeCmf",
    "id": "code_session_name",
    "important": false,
    "isDL": false,
    "timeoutSecs": 10
   },
   "source": [
    "### 3.6.3 3Dヒストグラムを作成する"
   ]
  },
  {
   "cell_type": "markdown",
   "metadata": {
    "id": "description"
   },
   "source": [
    "<b>3次元のヒストグラムや棒グラフ</b>は2つの要素の関係性を見出すのに有効な手法で、データセットの各要素をそれぞれx軸とy軸に対応させ、z軸方向に積み上げて表現します。<br>\n",
    "`bar3d()`にx軸、y軸、z軸の位置と変化量に対応するデータを指定します。\n",
    "```Python\n",
    "# サブプロットが変数`ax`の場合\n",
    "ax.bar3d(xpos, ypos, zpos, dx, dy, dz)\n",
    "```"
   ]
  },
  {
   "cell_type": "markdown",
   "metadata": {},
   "source": [
    "#### 問題"
   ]
  },
  {
   "cell_type": "markdown",
   "metadata": {
    "id": "question"
   },
   "source": [
    "3Dヒストグラムを作成してください。<br>\n",
    "- x軸, y軸, z軸に対応する位置データはそれぞれ変数xpos, ypos, zpos です。\n",
    "- 増加量は変数dx, dy, dz です。"
   ]
  },
  {
   "cell_type": "code",
   "execution_count": null,
   "metadata": {
    "id": "index"
   },
   "outputs": [],
   "source": [
    "import matplotlib.pyplot as plt\n",
    "import numpy as np\n",
    "\n",
    "# 3D描画を行うために必要なライブラリ\n",
    "from mpl_toolkits.mplot3d import Axes3D\n",
    "\n",
    "# Figureオブジェクトを作成\n",
    "fig = plt.figure(figsize=(5, 5))\n",
    "# サブプロットaxを追加\n",
    "ax = fig.add_subplot(111, projection=\"3d\")\n",
    "\n",
    "# x, y, zの位置を決める\n",
    "xpos = [i for i in range(10)]\n",
    "ypos = [i for i in range(10)]\n",
    "zpos = np.zeros(10)\n",
    "\n",
    "# x, y, zの変化量を決める\n",
    "dx = np.ones(10)\n",
    "dy = np.ones(10)\n",
    "dz = [i for i in range(10)]\n",
    "\n",
    "# 3次元のbarを作成してください\n",
    "\n",
    "\n",
    "plt.show()"
   ]
  },
  {
   "cell_type": "markdown",
   "metadata": {},
   "source": [
    "#### ヒント"
   ]
  },
  {
   "cell_type": "markdown",
   "metadata": {
    "id": "hint"
   },
   "source": [
    "- `bar3d()`に軸の位置データと値の変化量データを指定すると、3Dヒストグラムや棒グラフの描画が可能です。"
   ]
  },
  {
   "cell_type": "markdown",
   "metadata": {},
   "source": [
    "#### 解答例"
   ]
  },
  {
   "cell_type": "code",
   "execution_count": null,
   "metadata": {
    "id": "answer",
    "scrolled": true
   },
   "outputs": [],
   "source": [
    "import matplotlib.pyplot as plt\n",
    "import numpy as np\n",
    "\n",
    "# 3D描画を行うために必要なライブラリ\n",
    "from mpl_toolkits.mplot3d import Axes3D\n",
    "\n",
    "# Figureオブジェクトを作成\n",
    "fig = plt.figure(figsize=(5, 5))\n",
    "# サブプロットaxを追加\n",
    "ax = fig.add_subplot(111, projection=\"3d\")\n",
    "\n",
    "# x, y, zの位置を決める\n",
    "xpos = [i for i in range(10)]\n",
    "ypos = [i for i in range(10)]\n",
    "zpos = np.zeros(10)\n",
    "\n",
    "# x, y, zの変化量を決める\n",
    "dx = np.ones(10)\n",
    "dy = np.ones(10)\n",
    "dz = [i for i in range(10)]\n",
    "\n",
    "# 3次元のbarを作成してください\n",
    "ax.bar3d(xpos, ypos, zpos, dx, dy, dz)\n",
    "\n",
    "plt.show()"
   ]
  },
  {
   "cell_type": "markdown",
   "metadata": {},
   "source": [
    "***"
   ]
  },
  {
   "cell_type": "markdown",
   "metadata": {
    "courseId": 4040,
    "exerciseId": "BJbXU0vxC7M",
    "id": "code_session_name",
    "important": false,
    "isDL": false,
    "timeoutSecs": 10
   },
   "source": [
    "### 3.6.4 3D散布図を作成する"
   ]
  },
  {
   "cell_type": "markdown",
   "metadata": {
    "id": "description"
   },
   "source": [
    "<b>3次元の散布図</b>は互いに関係を持っている（または持っていると思われる）3種類のデータを3次元の空間上にプロットすることで<b>データの傾向を視覚的に予測するのに有効</b>です。<br>\n",
    "`scatter3D()`にx軸、y軸、z軸に対応するデータを指定します。ただし、指定するデータは1次元でなければならないため、1次元のデータではない場合あらかじめ`np.ravel()`を用いてデータを変換します。\n",
    "```Python\n",
    "x = np.ravel(X)\n",
    "# サブプロットが変数`ax`の場合\n",
    "ax.scatter3D(x, y, z)\n",
    "```"
   ]
  },
  {
   "cell_type": "markdown",
   "metadata": {},
   "source": [
    "#### 問題"
   ]
  },
  {
   "cell_type": "markdown",
   "metadata": {
    "id": "question"
   },
   "source": [
    "変数`X`, `Y`, `Z`ついてあらかじめ`np.ravel()`を用いて、それぞれ変数`x`, `y`, `z`に一次元に変換したデータをおいています。\n",
    "- 3D散布図を作成してください。x軸, y軸, z軸に対応するデータはそれぞれ変数`x`, `y`, `z`です。"
   ]
  },
  {
   "cell_type": "code",
   "execution_count": null,
   "metadata": {
    "id": "index"
   },
   "outputs": [],
   "source": [
    "import numpy as np\n",
    "import matplotlib.pyplot as plt\n",
    "\n",
    "# 3D描画を行うために必要なライブラリ\n",
    "from mpl_toolkits.mplot3d import Axes3D\n",
    "\n",
    "np.random.seed(0)\n",
    "X = np.random.randn(1000)\n",
    "Y = np.random.randn(1000)\n",
    "Z = np.random.randn(1000)\n",
    "\n",
    "# Figureオブジェクトを作成\n",
    "fig = plt.figure(figsize=(6, 6))\n",
    "# サブプロットaxを追加\n",
    "ax = fig.add_subplot(111, projection=\"3d\")\n",
    "\n",
    "# X, Y, Z を1次元に変換します\n",
    "x = np.ravel(X)\n",
    "y = np.ravel(Y)\n",
    "z = np.ravel(Z)\n",
    "\n",
    "# 3D散布図を作成してください\n",
    "\n",
    "\n",
    "plt.show()"
   ]
  },
  {
   "cell_type": "markdown",
   "metadata": {},
   "source": [
    "#### ヒント"
   ]
  },
  {
   "cell_type": "markdown",
   "metadata": {
    "id": "hint"
   },
   "source": [
    "- `scatter3D()`に軸のデータを指定すると、3D散布図の描画が可能です。"
   ]
  },
  {
   "cell_type": "markdown",
   "metadata": {},
   "source": [
    "#### 解答例"
   ]
  },
  {
   "cell_type": "code",
   "execution_count": null,
   "metadata": {
    "id": "answer",
    "scrolled": false
   },
   "outputs": [],
   "source": [
    "import numpy as np\n",
    "import matplotlib.pyplot as plt\n",
    "\n",
    "# 3D描画を行うために必要なライブラリ\n",
    "from mpl_toolkits.mplot3d import Axes3D\n",
    "\n",
    "np.random.seed(0)\n",
    "X = np.random.randn(1000)\n",
    "Y = np.random.randn(1000)\n",
    "Z = np.random.randn(1000)\n",
    "\n",
    "# Figureオブジェクトを作成\n",
    "fig = plt.figure(figsize=(6, 6))\n",
    "# サブプロットaxを追加\n",
    "ax = fig.add_subplot(111, projection=\"3d\")\n",
    "\n",
    "# X, Y, Z を1次元に変換します\n",
    "x = np.ravel(X)\n",
    "y = np.ravel(Y)\n",
    "z = np.ravel(Z)\n",
    "\n",
    "# 3D散布図を作成してください\n",
    "ax.scatter3D(x, y, z)\n",
    "\n",
    "plt.show()"
   ]
  },
  {
   "cell_type": "markdown",
   "metadata": {},
   "source": [
    "***"
   ]
  },
  {
   "cell_type": "markdown",
   "metadata": {
    "courseId": 4040,
    "exerciseId": "r1MmU0Pl0QG",
    "id": "code_session_name",
    "important": false,
    "isDL": false,
    "timeoutSecs": 10
   },
   "source": [
    "### 3.6.5 3Dグラフにカラーマップを適用する"
   ]
  },
  {
   "cell_type": "markdown",
   "metadata": {
    "id": "description"
   },
   "source": [
    "色が単調な3Dグラフは凹凸が多い部分など見にくい場合があります。その場合は<b>グラフの点がとる座標に応じて表示する色を変える機能</b>を使用して見やすくすることができます。<br>\n",
    "あらかじめ`matplotlib`から`cm`を`import`しておきます。データをプロットする際、`plot_surface()`に`cmap=cm.coolwarm`を指定すると、<b>z軸の値にカラーマップを適用できます</b>。\n",
    "```Python\n",
    "import matplotlib.cm as cm\n",
    "# サブプロットが変数`ax`の場合\n",
    "ax.plot_surface(X, Y, Z, cmap=cm.coolwarm)\n",
    "```"
   ]
  },
  {
   "cell_type": "markdown",
   "metadata": {},
   "source": [
    "#### 問題"
   ]
  },
  {
   "cell_type": "markdown",
   "metadata": {
    "id": "question"
   },
   "source": [
    "変数`X`, `Y`, `Z` にはそれぞれx軸、y軸、z軸に対応したデータが用意されています。<br>\n",
    "- サブプロットax にX, Y, Z をプロットし、z軸の値にカラーマップを適用してください。"
   ]
  },
  {
   "cell_type": "code",
   "execution_count": null,
   "metadata": {
    "id": "index"
   },
   "outputs": [],
   "source": [
    "import numpy as np\n",
    "import matplotlib.pyplot as plt\n",
    "\n",
    "# 3D描画を行うために必要なライブラリ\n",
    "from mpl_toolkits.mplot3d import Axes3D\n",
    "# カラーマップを表示するためのライブラリ\n",
    "from matplotlib import cm\n",
    "\n",
    "t = np.linspace(-2*np.pi, 2*np.pi)\n",
    "X, Y = np.meshgrid(t, t)\n",
    "R = np.sqrt(X**2 + Y**2)\n",
    "Z = np.sin(R)\n",
    "\n",
    "# Figureオブジェクトを作成\n",
    "fig = plt.figure(figsize=(6, 6))\n",
    "# サブプロットaxを追加\n",
    "ax = fig.add_subplot(111, projection=\"3d\")\n",
    "\n",
    "# サブプロットaxにzの値にカラーマップを適用してください\n",
    "\n",
    "\n",
    "plt.show()"
   ]
  },
  {
   "cell_type": "markdown",
   "metadata": {},
   "source": [
    "#### ヒント"
   ]
  },
  {
   "cell_type": "markdown",
   "metadata": {
    "id": "hint"
   },
   "source": [
    "- プロット時に`plot_surface()`に`cmap=cm.coolwarm`を指定すると、z軸の値にカラーマップを適用できます。"
   ]
  },
  {
   "cell_type": "markdown",
   "metadata": {},
   "source": [
    "#### 解答例"
   ]
  },
  {
   "cell_type": "code",
   "execution_count": null,
   "metadata": {
    "id": "answer",
    "scrolled": false
   },
   "outputs": [],
   "source": [
    "import numpy as np\n",
    "import matplotlib.pyplot as plt\n",
    "\n",
    "# 3D描画を行うために必要なライブラリ\n",
    "from mpl_toolkits.mplot3d import Axes3D\n",
    "# カラーマップを表示するためのライブラリ\n",
    "from matplotlib import cm\n",
    "\n",
    "t = np.linspace(-2*np.pi, 2*np.pi)\n",
    "X, Y = np.meshgrid(t, t)\n",
    "R = np.sqrt(X**2 + Y**2)\n",
    "Z = np.sin(R)\n",
    "\n",
    "# Figureオブジェクトを作成\n",
    "fig = plt.figure(figsize=(6, 6))\n",
    "# サブプロットaxを追加\n",
    "ax = fig.add_subplot(111, projection=\"3d\")\n",
    "\n",
    "# サブプロットaxにzの値にカラーマップを適用してください\n",
    "ax.plot_surface(X, Y, Z, cmap=cm.coolwarm)\n",
    "\n",
    "plt.show()"
   ]
  },
  {
   "cell_type": "markdown",
   "metadata": {},
   "source": [
    "***"
   ]
  },
  {
   "cell_type": "markdown",
   "metadata": {
    "id": "chapter_exam"
   },
   "source": [
    "## まとめ問題(提出不要)"
   ]
  },
  {
   "cell_type": "markdown",
   "metadata": {
    "id": "description"
   },
   "source": [
    " 　このまとめ問題(提出不要)では、セトサ(setosa)、バーシクル(versicolor)、バージニカ(virginica)という3種類のあやめの4個の計測値(がく片長(Sepal Length)、がく片幅(Sepal Width)、花びら長(Petal Length)、花びら幅(Petal Width)と種(Species)からなる。)を用います。データを取得するには以下のコードが必要になります。\n",
    "```python\n",
    "import pandas as pd\n",
    "# url元からirisデータを取得\n",
    "df_iris = pd.read_csv(\"http://archive.ics.uci.edu/ml/machine-learning-databases/iris/iris.data\", header=None)\n",
    "df_iris.columns = [\"sepal length\", \"sepal width\", \"petal length\", \"petal width\", \"class\"]\n",
    "```\n",
    "　df_irisは150行5列からなるデータとなっており、0行目から50行目はセトサ、51行目から100行目まではバーシクル、101行目から150行目まではバージニカとなっています。"
   ]
  },
  {
   "cell_type": "markdown",
   "metadata": {},
   "source": [
    "#### 問題"
   ]
  },
  {
   "cell_type": "markdown",
   "metadata": {
    "id": "question"
   },
   "source": [
    "- irisデータを読み込み、変数x、yの値をそれぞれsepal length, sepal widthとしてプロットしてください。この作業を、setosa, versicolor, virginicaごとに行ってください。プロットの色はsetosaは赤、versicolorは青、virginicaは緑に対応させてください。それぞれへのラベルづけもしてください。図の体裁も指示にしたがって整えてください。"
   ]
  },
  {
   "cell_type": "code",
   "execution_count": null,
   "metadata": {
    "id": "index"
   },
   "outputs": [],
   "source": [
    "import matplotlib.pyplot as plt\n",
    "import pandas as pd\n",
    "# irisデータを取得\n",
    "df_iris = pd.read_csv(\n",
    "    \"http://archive.ics.uci.edu/ml/machine-learning-databases/iris/iris.data\", header=None)\n",
    "df_iris.columns = [\"sepal length\", \"sepal width\",\n",
    "                   \"petal length\", \"petal width\", \"class\"]\n",
    "\n",
    "# setosa, versicolor, verginicaに分割\n",
    "df_setosa = df_iris.iloc[:50, :]\n",
    "df_versicolor = df_iris.iloc[50:100, :]\n",
    "df_verginica = df_iris.iloc[100: 150, :]\n",
    "\n",
    "# 図のサイズを指定\n",
    "fig = plt.figure(figsize=(10, 10))\n",
    "\n",
    "# setosa の sepal length - sepal width の関係図を描いてください。\n",
    "# ラベルをsetosa、色はredを指定してください。\n",
    "\n",
    "\n",
    "# versicolor の sepal length - sepal width の関係図を描いてください。\n",
    "# ラベルをversicolor、色はblueを指定してください。\n",
    "\n",
    "\n",
    "# virginica の sepal length - sepal width の関係図を描いてください。\n",
    "# ラベルをvirginica、色はgreenを指定してください。\n",
    "\n",
    "\n",
    "# x軸名を sepal length にしてください。\n",
    "\n",
    "# y軸名を sepal width にしてください。\n",
    "\n",
    "\n",
    "# 図の表示をする。\n",
    "plt.legend(loc=\"best\")\n",
    "plt.grid(True)\n",
    "plt.show()"
   ]
  },
  {
   "cell_type": "markdown",
   "metadata": {},
   "source": [
    "#### ヒント"
   ]
  },
  {
   "cell_type": "markdown",
   "metadata": {
    "id": "hint"
   },
   "source": [
    "- 例えば、`pandas.DataFrame`型である`df`という変数の`\"sepal length\"`というカラムを抜き出したい時は`df[\"sepal length\"]`とすればできます。\n"
   ]
  },
  {
   "cell_type": "markdown",
   "metadata": {},
   "source": [
    "#### 解答例"
   ]
  },
  {
   "cell_type": "code",
   "execution_count": null,
   "metadata": {
    "id": "answer"
   },
   "outputs": [],
   "source": [
    "import matplotlib.pyplot as plt\n",
    "import pandas as pd\n",
    "# irisデータを取得\n",
    "df_iris = pd.read_csv(\n",
    "    \"http://archive.ics.uci.edu/ml/machine-learning-databases/iris/iris.data\", header=None)\n",
    "df_iris.columns = [\"sepal length\", \"sepal width\",\n",
    "                   \"petal length\", \"petal width\", \"class\"]\n",
    "\n",
    "# setosa, versicolor, verginicaに分割\n",
    "df_setosa = df_iris.iloc[:50, :]\n",
    "df_versicolor = df_iris.iloc[50:100, :]\n",
    "df_verginica = df_iris.iloc[100: 150, :]\n",
    "\n",
    "# 図のサイズを指定\n",
    "fig = plt.figure(figsize=(10, 10))\n",
    "\n",
    "# setosa の sepal length - sepal width の関係図を描いてください。\n",
    "# ラベルをsetosa、色はredを指定してください。\n",
    "plt.scatter(df_setosa[\"sepal length\"], df_setosa[\"sepal width\"],  label=\"setosa\", color=\"r\")\n",
    "\n",
    "# versicolor の sepal length - sepal width の関係図を描いてください。\n",
    "# ラベルをversicolor、色はblueを指定してください。\n",
    "plt.scatter(df_versicolor[\"sepal length\"], df_versicolor[\"sepal width\"], label=\"versicolor\", color=\"b\")\n",
    "\n",
    "# virginica の sepal length - sepal width の関係図を描いてください。\n",
    "# ラベルをvirginica、色はgreenを指定してください。\n",
    "plt.scatter(df_verginica[\"sepal length\"], df_verginica[\"sepal width\"], label=\"virginica\", color=\"g\")\n",
    "\n",
    "# x軸名を sepal length にしてください。\n",
    "plt.xlabel(\"sepal length\")\n",
    "# y軸名を sepal width にしてください。\n",
    "plt.ylabel(\"sepal width\")\n",
    "\n",
    "# 図の表示をする。\n",
    "plt.legend(loc=\"best\")\n",
    "plt.grid(True)\n",
    "plt.show()"
   ]
  },
  {
   "cell_type": "markdown",
   "metadata": {
    "id": "commentary"
   },
   "source": []
  },
  {
   "cell_type": "markdown",
   "metadata": {},
   "source": [
    "***"
   ]
  }
 ],
 "metadata": {
  "celltoolbar": "Edit Metadata",
  "kernelspec": {
   "display_name": "Python 3",
   "language": "python",
   "name": "python3"
  },
  "language_info": {
   "codemirror_mode": {
    "name": "ipython",
    "version": 3
   },
   "file_extension": ".py",
   "mimetype": "text/x-python",
   "name": "python",
   "nbconvert_exporter": "python",
   "pygments_lexer": "ipython3",
   "version": "3.6.4"
  },
  "toc": {
   "base_numbering": 1,
   "nav_menu": {},
   "number_sections": true,
   "sideBar": true,
   "skip_h1_title": false,
   "title_cell": "Table of Contents",
   "title_sidebar": "Contents",
   "toc_cell": false,
   "toc_position": {
    "height": "calc(100% - 180px)",
    "left": "10px",
    "top": "150px",
    "width": "310.188px"
   },
   "toc_section_display": true,
   "toc_window_display": true
  }
 },
 "nbformat": 4,
 "nbformat_minor": 2
}