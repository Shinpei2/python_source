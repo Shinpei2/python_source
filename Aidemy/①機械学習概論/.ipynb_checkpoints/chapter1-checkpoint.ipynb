{
 "cells": [
  {
   "cell_type": "code",
   "execution_count": null,
   "metadata": {},
   "outputs": [],
   "source": [
    "# plt.show()で可視化されない人はこのセルを実行してください。\n",
    "%matplotlib inline"
   ]
  },
  {
   "cell_type": "markdown",
   "metadata": {
    "chapterId": "r1CZdA7-e-z",
    "id": "chapter_name"
   },
   "source": [
    "#  機械学習概論"
   ]
  },
  {
   "cell_type": "markdown",
   "metadata": {
    "id": "table"
   },
   "source": [
    "- **[1.1 機械学習概論](#1.1-機械学習概論)**\n",
    "    - **[1.1.1 人工知能と機械学習とは？(1)](#1.1.1-人工知能と機械学習とは？(1))**\n",
    "    - **[1.1.2 人工知能と機械学習とは？(2)](#1.1.2-人工知能と機械学習とは？(2))**\n",
    "    - **[1.1.3 なぜいま「機械学習」が注目されているのか](#1.1.3-なぜいま「機械学習」が注目されているのか)**\n",
    "    - **[1.1.4 機械学習とは](#1.1.4-機械学習とは)**\n",
    "<br><br>\n",
    "- **[1.2 機械学習の3分類](#1.2-機械学習の3分類)**    \n",
    "    - **[1.2.1 教師あり学習を理解する](#1.2.1-教師あり学習を理解する)**\n",
    "    - **[1.2.2 教師あり学習を理解する](#1.2.2-教師あり学習を理解する)**\n",
    "    - **[1.2.3 教師なし学習を理解する](#1.2.3-教師なし学習を理解する)**\n",
    "    - **[1.2.4 強化学習を理解する](#1.2.4-強化学習を理解する)**"
   ]
  },
  {
   "cell_type": "markdown",
   "metadata": {},
   "source": [
    "***"
   ]
  },
  {
   "cell_type": "markdown",
   "metadata": {
    "id": "section_name",
    "sectionId": "BJ1fuRm-gbz"
   },
   "source": [
    "## 1.1 機械学習概論"
   ]
  },
  {
   "cell_type": "markdown",
   "metadata": {
    "exerciseId": "mrYFB4aR2",
    "id": "movie_session_name",
    "important": false,
    "isDL": false,
    "timeoutSecs": 10
   },
   "source": [
    "### 1.1.1 人工知能と機械学習とは？(1)"
   ]
  },
  {
   "cell_type": "markdown",
   "metadata": {
    "id": "description"
   },
   "source": [
    "この動画で学べること\n",
    "- 人工知能とは\n",
    "- 人工知能と機械学習と深層学習\n",
    "- 機械学習とは\n",
    "\n",
    "\n",
    "【バーチャルYouTuber版動画】<br>\n",
    "この動画は、バーチャルYouTuber版の動画も配信されています。<br>\n",
    "https://www.youtube.com/watch?v=1ZayHhLu_Zw"
   ]
  },
  {
   "cell_type": "markdown",
   "metadata": {},
   "source": [
    "#### 問題"
   ]
  },
  {
   "cell_type": "markdown",
   "metadata": {
    "id": "question"
   },
   "source": [
    "- 次の動画をみてください。"
   ]
  },
  {
   "cell_type": "markdown",
   "metadata": {
    "id": "movielink"
   },
   "source": [
    "https://aidemystorageprd.blob.core.windows.net/movies/2010-mrYFB4aR2.m3u8"
   ]
  },
  {
   "cell_type": "markdown",
   "metadata": {},
   "source": [
    "Premium Planを受講している方は以下のリンクから受講してください。<br>\n",
    "https://aidemy.net/courses/2010/exercises/mrYFB4aR2"
   ]
  },
  {
   "cell_type": "markdown",
   "metadata": {},
   "source": [
    "***"
   ]
  },
  {
   "cell_type": "markdown",
   "metadata": {
    "exerciseId": "_ziuSKKis3",
    "id": "movie_session_name",
    "important": false,
    "isDL": false,
    "timeoutSecs": 10
   },
   "source": [
    "### 1.1.2 人工知能と機械学習とは？(2)"
   ]
  },
  {
   "cell_type": "markdown",
   "metadata": {
    "id": "description"
   },
   "source": [
    "この動画で学べること\n",
    "- 人工知能の歴史\n",
    "- ディープラーニングのブレイクスルー\n",
    "- ディープラーニングとは\n",
    "\n",
    "\n",
    "【バーチャルYouTuber版動画】<br>\n",
    "この動画は、バーチャルYouTuber版の動画も配信されています。<br>\n",
    "https://www.youtube.com/watch?v=RLo3F21rItY"
   ]
  },
  {
   "cell_type": "markdown",
   "metadata": {},
   "source": [
    "#### 問題"
   ]
  },
  {
   "cell_type": "markdown",
   "metadata": {
    "id": "question"
   },
   "source": [
    "- 次の動画をみてください。"
   ]
  },
  {
   "cell_type": "markdown",
   "metadata": {
    "id": "movielink"
   },
   "source": [
    "https://aidemystorageprd.blob.core.windows.net/movies/2010-_ziuSKKis3.m3u8"
   ]
  },
  {
   "cell_type": "markdown",
   "metadata": {},
   "source": [
    "Premium Planを受講している方は以下のリンクから受講してください。<br>\n",
    "https://aidemy.net/courses/2010/exercises/_ziuSKKis3"
   ]
  },
  {
   "cell_type": "markdown",
   "metadata": {},
   "source": [
    "***"
   ]
  },
  {
   "cell_type": "markdown",
   "metadata": {
    "courseId": 2010,
    "exerciseId": "BkKhIi8xf",
    "id": "quiz_session_name",
    "important": true,
    "isDL": false,
    "timeoutSecs": 5
   },
   "source": [
    "### 1.1.3 なぜいま「機械学習」が注目されているのか"
   ]
  },
  {
   "cell_type": "markdown",
   "metadata": {
    "id": "description"
   },
   "source": [
    "これまでは大量の複雑なデータを分析するために、多大なコストや時間が必要でした。しかし、機械学習という新しい技術によって、「 **人間には到底実現できないほどの短時間で正確な分析結果を得ること** 」が可能になりました。大量のデータからパターンを読み取ることで、求められるデータの取得を実現したのです。\n",
    "\n",
    "機械学習は人間と同じ知能を持つ「人工知能」の研究課題のひとつで、画像、音声、マーケティング、自然言語、医療など、多岐に渡る分野で活用できる技術ということで注目を集めています。さらに、近年のコンピュータの処理速度向上が後押しとなり、機械学習を取り入れようという動きが盛んになっています。\n",
    "\n",
    "「**機械学習(マシンラーニング)**」以外にも、「**人工知能(AI)**」や「**深層学習(ディープラーニング)**」も同様に注目される技術です。それぞれの関係性は下記の図の通りです。\n",
    " \n",
    "<img src='https://aidemyexcontentspic.blob.core.windows.net/contents-pic/2010_ml_introduction/img_1_10.png' width=500>\n",
    "\n",
    "**<center>図1.1.3-1 機械学習について</center>**\n",
    "\n",
    "図からも分かるように、人工知能(AI)はかなり広義に解釈される言葉です。例えば、ひたすら条件を並べて分類するだけの「If-Then形式の知識表現アルゴリズム」なども人工知能に分類されます。このような以前から存在するアルゴリズムについては今回Aidemyでは取り扱いませんが、理解しておきましょう。\n"
   ]
  },
  {
   "cell_type": "markdown",
   "metadata": {},
   "source": [
    "#### 問題"
   ]
  },
  {
   "cell_type": "markdown",
   "metadata": {
    "id": "question"
   },
   "source": [
    "- 人工知能に関する説明文のなかで、 **誤っているもの** を選んでください。"
   ]
  },
  {
   "cell_type": "markdown",
   "metadata": {
    "id": "choices"
   },
   "source": [
    "1. 人工知能は画像、音声、マーケティングなどの様々な分野で活用されます。\n",
    "1. 機械学習は大量のデータからパターンを読み取り、問題を解決する手法です。\n",
    "1. 深層学習(ディープラーニング)手法のなかの一部が機械学習(マシンラーニング)手法です。\n",
    "1. 人工知能(AI)アルゴリズムには、If-Then形式のみで知識表現を行うものも含まれる。"
   ]
  },
  {
   "cell_type": "markdown",
   "metadata": {},
   "source": [
    "#### ヒント"
   ]
  },
  {
   "cell_type": "markdown",
   "metadata": {
    "id": "hint"
   },
   "source": [
    "「誤っている」ものを選ぶ問題なので気をつけてください。答えは文章の中に記載されています。"
   ]
  },
  {
   "cell_type": "markdown",
   "metadata": {},
   "source": [
    "#### 解答"
   ]
  },
  {
   "cell_type": "markdown",
   "metadata": {
    "id": "answer"
   },
   "source": [
    "深層学習(ディープラーニング)手法のなかの一部が機械学習(マシンラーニング)手法です。"
   ]
  },
  {
   "cell_type": "markdown",
   "metadata": {},
   "source": [
    "***"
   ]
  },
  {
   "cell_type": "markdown",
   "metadata": {
    "courseId": 2010,
    "exerciseId": "SyeYhIo8xf",
    "id": "quiz_session_name",
    "important": true,
    "isDL": false,
    "timeoutSecs": 5
   },
   "source": [
    "### 1.1.4 機械学習とは"
   ]
  },
  {
   "cell_type": "markdown",
   "metadata": {
    "id": "description"
   },
   "source": [
    "「機械学習」を簡単に説明すると、「 **データから反復的に学習し、そこに潜むパターンを探し出すこと** 」になります。この場合の「データに潜むパターン」について考えてみましょう。\n",
    "\n",
    "人間は網膜で光の信号を受け取り、瞳に何が写っているかを高速で認識します。例えば、木製の机の上にりんごが置かれている場合、りんごと机を見間違うことはありません。\n",
    "実はそれぞれの特徴(パターン)から、りんごと机を瞬時に認識しているのです。\n",
    "\n",
    "机のパターン\n",
    "- 四角\n",
    "- 茶色\n",
    "\n",
    "りんごのパターン\n",
    "- 丸\n",
    "- 赤\n",
    "\n",
    "しかし、人間には簡単でも、コンピュータにとっては、りんごと椅子の画像からパターンを見つけ出すことはとても難しいことです。<br>\n",
    "「りんごは赤色で半径5cm程の球体」というパターンが分かっていたとしても、5cmの赤いボールをりんごと誤認してしまうのです。<br>\n",
    "このように、文字(記号)と実物を対応させることができないという問題は、 **「記号接地問題」** と呼ばれ、人工知能が解決すべき難題のひとつでした。\n",
    " \n",
    "コンピュータがりんごを認識するためには、大量のりんごの写真から共通するパターンを取得する必要があります。これを実現するための機械学習の主な手法は下記の3つです。\n",
    "\n",
    "- 教師あり学習 (Supervised Learning)\n",
    "- 教師なし学習 (Unsupervised Learning)\n",
    "- 強化学習 (Reinforcement Learning)\n",
    "\n",
    "次項では3つの手法をひとつずつ詳しく説明します。"
   ]
  },
  {
   "cell_type": "markdown",
   "metadata": {},
   "source": [
    "#### 問題"
   ]
  },
  {
   "cell_type": "markdown",
   "metadata": {
    "id": "question"
   },
   "source": [
    "- 次の文の「」に当てはまる語句の組み合わせを選びましょう。\n",
    "- 機械学習の手法を大きく3つに分けると、「」「」「強化学習」となります。"
   ]
  },
  {
   "cell_type": "markdown",
   "metadata": {
    "id": "choices"
   },
   "source": [
    "1. 「教師あり学習」、「記号接地問題」\n",
    "1. 「記号接地問題」、「教師なし学習」\n",
    "1. 「教師なし学習」、「記号接地問題」\n",
    "1. 「教師あり学習」、「教師なし学習」"
   ]
  },
  {
   "cell_type": "markdown",
   "metadata": {},
   "source": [
    "#### ヒント"
   ]
  },
  {
   "cell_type": "markdown",
   "metadata": {
    "id": "hint"
   },
   "source": [
    "- 「記号接地問題」は人工知能が解決すべき難解な問題のひとつでした。"
   ]
  },
  {
   "cell_type": "markdown",
   "metadata": {},
   "source": [
    "#### 解答"
   ]
  },
  {
   "cell_type": "markdown",
   "metadata": {
    "id": "answer"
   },
   "source": [
    "「教師あり学習」、「教師なし学習」"
   ]
  },
  {
   "cell_type": "markdown",
   "metadata": {},
   "source": [
    "***"
   ]
  },
  {
   "cell_type": "markdown",
   "metadata": {
    "id": "section_name",
    "sectionId": "SklfOAmZl-z"
   },
   "source": [
    "## 1.2 機械学習の各手法"
   ]
  },
  {
   "cell_type": "markdown",
   "metadata": {
    "exerciseId": "5c01Gob_NY",
    "id": "movie_session_name",
    "important": false,
    "isDL": false,
    "timeoutSecs": 10
   },
   "source": [
    "### 1.2.1 機械学習の3分類"
   ]
  },
  {
   "cell_type": "markdown",
   "metadata": {
    "id": "description"
   },
   "source": [
    "この動画で学べること\n",
    "- 機械学習の3分類\n",
    "- 教師あり学習\n",
    "- 教師あり学習(分類)\n",
    "- 教師あり学習(回帰)\n",
    "- 教師なし学習\n",
    "- 強化学習\n",
    "\n",
    "\n",
    "【訂正】2019/05/10記載<br>\n",
    "52秒あたりで「5」の画像を１番右側と話しておりますが、**左側**の間違いとなっております。<br>\n",
    "\n",
    "\n",
    "【バーチャルYouTuber版動画】<br>\n",
    "この動画は、バーチャルYouTuber版の動画も配信されています。<br>\n",
    "https://www.youtube.com/watch?v=hC5LARSaAwA&t="
   ]
  },
  {
   "cell_type": "markdown",
   "metadata": {},
   "source": [
    "#### 問題"
   ]
  },
  {
   "cell_type": "markdown",
   "metadata": {
    "id": "question"
   },
   "source": [
    "- 次の動画をみてください。"
   ]
  },
  {
   "cell_type": "markdown",
   "metadata": {
    "id": "movielink"
   },
   "source": [
    "https://aidemystorageprd.blob.core.windows.net/movies/2010-5c01Gob_NY.m3u8"
   ]
  },
  {
   "cell_type": "markdown",
   "metadata": {},
   "source": [
    "Premium Planを受講している方は以下のリンクから受講してください。<br>\n",
    "https://aidemy.net/courses/2010/exercises/5c01Gob_NY"
   ]
  },
  {
   "cell_type": "markdown",
   "metadata": {},
   "source": [
    "***"
   ]
  },
  {
   "cell_type": "markdown",
   "metadata": {
    "courseId": 2010,
    "exerciseId": "H1WFhUs8eM",
    "id": "quiz_session_name",
    "important": true,
    "isDL": false,
    "timeoutSecs": 5
   },
   "source": [
    "### 1.2.2 教師あり学習を理解する"
   ]
  },
  {
   "cell_type": "markdown",
   "metadata": {
    "id": "description"
   },
   "source": [
    "**「教師あり学習」** は機械学習の代表的な手法のひとつです。この場合の「教師」は「データに付随する正解ラベル」を指します。<br>\n",
    "仕組みは、「学習データ」で学習し「機械学習アルゴリズム」という手法を用いて答えを出した後、正しい答えである「正解ラベル」を見て答え合せをします。<br>\n",
    "「学習データ」と「正解ラベル」がまとまったデータのことを「ラベル付き学習データ（教師データ）」と呼びます。\n",
    "\n",
    "<img src='https://aidemyexcontentspic.blob.core.windows.net/contents-pic/2010_ml_introduction/img_1_20.png' width=700>\n",
    "\n",
    "**<center>図1.2.2-1 教師データ</center>**\n",
    "\n",
    "**「正解ラベル」** はデータに対して答えとなるラベルです。<br>\n",
    "データ①の手書き文字の画像データには、正解ラベルとして「5」が付けられています。そして、データ②はぼんやりとした馬の画像データで、「horse」が正解ラベルです。このように画像を認識する技術は「画像認識」と呼ばれ、ディープラーニングの得意分野です。\n",
    "\n",
    "一方、データ③は画像ではなくテキストで、正解ラベルも「夏目漱石」というテキストです。この技術は、「自然言語処理」と呼ばれます。自然言語処理の学習では、言語ごとにデータセットを用意する必要があります。\n",
    "\n",
    "また、データ①〜③のように、最終的に**カテゴリを予測するものを「分類問題」** 、データ④のように定量データをもとに、家賃などの **数値を予測するものを「回帰問題」** といいます。\n",
    "\n",
    "教師あり学習の流れは下記の通りです。\n",
    " \n",
    "1. 教師データをコンピュータに複数入力し、データのパターンモデルを学習\n",
    "2. 学習したモデルに別の教師データを入力して出力を検証。\n",
    "\n",
    "学習したモデルから、新しいデータがどのように分類されるのかを予想し、判別できるようにするのが教師あり学習の基本です。"
   ]
  },
  {
   "cell_type": "markdown",
   "metadata": {},
   "source": [
    "#### 問題"
   ]
  },
  {
   "cell_type": "markdown",
   "metadata": {
    "id": "question"
   },
   "source": [
    "- 回帰問題の組み合わせを選んでください。"
   ]
  },
  {
   "cell_type": "markdown",
   "metadata": {
    "id": "choices"
   },
   "source": [
    "1. 「家賃予測」と「気温予測」\n",
    "1. 「売上予測」と「０〜９の手書き文字認識」\n",
    "1. 「画像に写っているものの識別」と「文章の著者予測」\n",
    "1. 「顔写真の男女識別」と「株価予測」"
   ]
  },
  {
   "cell_type": "markdown",
   "metadata": {},
   "source": [
    "#### ヒント"
   ]
  },
  {
   "cell_type": "markdown",
   "metadata": {
    "id": "hint"
   },
   "source": [
    "- 数値の予測は「家賃予測」「気温予測」「売上予測」「株価予測」で、カテゴリの予測は「０〜９の手書き文字認識」「画像に写っているものの識別」「文章の著者予測」「顔写真の男女識別」になります。"
   ]
  },
  {
   "cell_type": "markdown",
   "metadata": {},
   "source": [
    "#### 解答"
   ]
  },
  {
   "cell_type": "markdown",
   "metadata": {
    "id": "answer"
   },
   "source": [
    "「家賃予測」と「気温予測」"
   ]
  },
  {
   "cell_type": "markdown",
   "metadata": {},
   "source": [
    "***"
   ]
  },
  {
   "cell_type": "markdown",
   "metadata": {
    "courseId": 2010,
    "exerciseId": "ryMK28jIgz",
    "id": "quiz_session_name",
    "important": true,
    "isDL": false,
    "timeoutSecs": 5
   },
   "source": [
    "### 1.2.3 教師なし学習を理解する"
   ]
  },
  {
   "cell_type": "markdown",
   "metadata": {
    "id": "description"
   },
   "source": [
    "教師あり学習には正解ラベルという教師が存在するのに対し、 **教師なし学習には教師が存在しません。** <br>\n",
    "教師なし学習では与えられたデータからコンピュータ自身が類似性や規則性を見いだして、モデルを学習します。そのため、教師なし学習の場合は正解・不正解が存在しないのが特徴です。\n",
    " \n",
    "<img src='https://aidemyexcontentspic.blob.core.windows.net/contents-pic/2010_ml_introduction/img_1_30.png' width=300>\n",
    "\n",
    "**<center>図1.2.3-1 クラスタリング</center>**\n",
    "\n",
    "図の点に3つのまとまりがあるのがわかると思います。この3つのまとまりをコンピュータに認識させるために、教師なし学習のひとつ <b style='color: #AA0000'>クラスタリング</b>という手法を用います。クラスタリングではデータのグループ化が可能となります。\n",
    "\n",
    "また、クラスタリングと同じくらい利用される <b style='color: #AA0000'>「主成分分析」</b>という手法もあります。主成分分析は種類の多いデータを要約（次元削減）するために使用される手法です。データの傾向や特徴が把握しやすくなるというメリットがあります。\n",
    "\n",
    "その他、「1つのパターンに当てはまるデータは、もう1つのパターンにも当てはまる」といった*データのルール*を見つけ出す手法である <b style='color: #AA0000'>アソシエーション分析</b>もよく使われます。アソシエーション分析が使われるのは、ネットショップなどで見かける「この商品を見た人は、こちらの商品を購入しています」といったレコメンデーションなどです。\n",
    "\n",
    "このように、教師なし学習はデータの法則性を導き出したり、グループ分けしたりする場合に使用されます。実際の分析では複数の手法を組み合わせて使用されることが多いです。"
   ]
  },
  {
   "cell_type": "markdown",
   "metadata": {},
   "source": [
    "#### 問題"
   ]
  },
  {
   "cell_type": "markdown",
   "metadata": {
    "id": "question"
   },
   "source": [
    "- 次の文の「」に当てはまる語句を選んでください\n",
    "- 教師なし学習は、正解ラベルが「」を扱い、代表的手法に「」があります。"
   ]
  },
  {
   "cell_type": "markdown",
   "metadata": {
    "id": "choices"
   },
   "source": [
    "1. 「与えられているデータ」、「ランダムフォレスト」\n",
    "1. 「与えられていないデータ」、「ランダムフォレスト」\n",
    "1. 「与えられているデータ」、「クラスタリング」\n",
    "1. 「与えられていないデータ」、「クラスタリング」"
   ]
  },
  {
   "cell_type": "markdown",
   "metadata": {},
   "source": [
    "#### ヒント"
   ]
  },
  {
   "cell_type": "markdown",
   "metadata": {
    "id": "hint"
   },
   "source": [
    "- 「ランダムフォレスト」とは、「教師あり学習」の手法の一つです。"
   ]
  },
  {
   "cell_type": "markdown",
   "metadata": {},
   "source": [
    "#### 解答"
   ]
  },
  {
   "cell_type": "markdown",
   "metadata": {
    "id": "answer"
   },
   "source": [
    "「与えられていないデータ」、「クラスタリング」"
   ]
  },
  {
   "cell_type": "markdown",
   "metadata": {},
   "source": [
    "***"
   ]
  },
  {
   "cell_type": "markdown",
   "metadata": {
    "courseId": 2010,
    "exerciseId": "ry7t3LsLeM",
    "id": "quiz_session_name",
    "important": true,
    "isDL": false,
    "timeoutSecs": 5
   },
   "source": [
    "### 1.2.4 強化学習を理解する"
   ]
  },
  {
   "cell_type": "markdown",
   "metadata": {
    "id": "description"
   },
   "source": [
    "教師あり学習、教師なし学習以外に、最近注目の手法として「**強化学習**」があります。<br>\n",
    "強化学習は利益を最大化するための方法で、 **正解ラベルも大量のデータも必要としない自律的な機械学習**です。 最近ではディープラーニングと組み合わせられることも多く、ゲームなどの対戦プログラムや、歩行ロボットの制御プログラムなどに用いられます。\n",
    "\n",
    "強化学習には下記のようなキーワードが登場します。\n",
    "\n",
    "- エージェント\n",
    "- 環境\n",
    "- 行動\n",
    "- 報酬\n",
    "\n",
    "簡単に説明すると、強化学習では**エージェント**（行動主体）が与えられた**環境**を取得・観測し、行動を起こします。そして、行動による環境の変化によって得られる報酬（結果）の価値を最大化していくというものです。エージェントがより価値の高い報酬を得るために、試行錯誤しながら意思決定を繰り返して自律的に学習します。\n",
    "\n",
    "<img src='https://aidemyexcontentspic.blob.core.windows.net/contents-pic/2010_ml_introduction/img_1_40.png' width=500>\n",
    "\n",
    "**<center>図1.2.4-1 報酬</center>**\n",
    "\n",
    "例えば、以前AIが人間のプロを破ったと話題になった囲碁の対戦プログラムでは、エージェントはプレイヤー、環境は盤面、行動は囲碁における一手、報酬は勝負の結果といったイメージです。\n",
    "\n",
    "強化学習のモデルとしては、<a href='https://www.youtube.com/watch?v=ATXJ5dzOcDw' target=\"_blank\">こちらの動画</a>を見ると分かりやすいでしょう。0:16の時点では、ロボットは円柱の部品を上手くピッキングできません。しかし、0:55の時点には学習が進み、9割以上の確率で部品をピッキングできるようになります。\n",
    "\n",
    "つまり、強化学習とはエージェント（ロボットなど）の動作やシミュレーションを通じ、自動的に「良い」評価になるような動き方を選択できるようにする学習なのです。"
   ]
  },
  {
   "cell_type": "markdown",
   "metadata": {},
   "source": [
    "#### 問題"
   ]
  },
  {
   "cell_type": "markdown",
   "metadata": {
    "id": "question"
   },
   "source": [
    "- 次の文の「」に当てはまる語句の組み合わせを選びましょう。\n",
    "- 強化学習は「」を必要としない学習手法で、画像認識と組み合わせて「」などで使われています。"
   ]
  },
  {
   "cell_type": "markdown",
   "metadata": {
    "id": "choices"
   },
   "source": [
    "- 「正解ラベル」、「ロボットの制御」\n",
    "- 「報酬」、「ロボットの制御」\n",
    "- 「正解ラベル」、「手書き文字認識」\n",
    "- 「報酬」、「手書き文字認識」"
   ]
  },
  {
   "cell_type": "markdown",
   "metadata": {},
   "source": [
    "#### ヒント"
   ]
  },
  {
   "cell_type": "markdown",
   "metadata": {
    "id": "hint"
   },
   "source": [
    "- 「手書き文字認識」は主に「教師あり学習」のアルゴリズムで実現できます。"
   ]
  },
  {
   "cell_type": "markdown",
   "metadata": {},
   "source": [
    "#### 解答"
   ]
  },
  {
   "cell_type": "markdown",
   "metadata": {
    "id": "answer"
   },
   "source": [
    "- 「正解ラベル」、「ロボットの制御」"
   ]
  },
  {
   "cell_type": "markdown",
   "metadata": {},
   "source": [
    "***"
   ]
  },
  {
   "cell_type": "markdown",
   "metadata": {
    "id": "chapter_exam"
   },
   "source": [
    "## まとめ問題(提出不要)"
   ]
  },
  {
   "cell_type": "markdown",
   "metadata": {
    "id": "description"
   },
   "source": [
    "Chapter1で学んだ知識を総結集して挑んでみましょう。空白に当てはまる語句をそれぞれ考えてください。"
   ]
  },
  {
   "cell_type": "markdown",
   "metadata": {
    "id": "question"
   },
   "source": [
    "- 機械学習には、主に「1.」「2.」「3.」という3つの手法があります。中でも最も代表的な手法が「4.」です。「4.」は人間の脳内でも用いられる手法です。仕組みは、「5.」で学習し「6.」という手法を用いて答えを出した後、正しい答えである「7.」を見て答え合せをします。結果が間違っていれば再度計算を行い、正解を出力するまで何度も学習を繰り返します。「5.」と「7.」がまとまったデータのことを「8.」と呼びます。"
   ]
  },
  {
   "cell_type": "code",
   "execution_count": null,
   "metadata": {
    "id": "index"
   },
   "outputs": [],
   "source": [
    "#機械学習には、主に「1.」「2.」「3.」という3つの手法があります。\n",
    "#中でも最も代表的な手法が「4.」です。「4.」は人間の脳内でも用いられる手法です。\n",
    "#仕組みは、「5.」で学習し「6.」という手法を用いて答えを出した後、正しい答えである「7.」を見て答え合せをします。\n",
    "#結果が間違っていれば再度計算を行い、正解を出力するまで何度も学習を繰り返します。\n",
    "#「5.」と「7.」がまとまったデータのことを「8.」と呼びます。"
   ]
  },
  {
   "cell_type": "markdown",
   "metadata": {},
   "source": [
    "#### ヒント"
   ]
  },
  {
   "cell_type": "markdown",
   "metadata": {
    "id": "hint"
   },
   "source": [
    "すべて今回のChapterで説明した内容です。分からないものがある場合には、もう一度振り返ってみましょう。\n",
    "\n",
    "解答には以下の語句群を用います。（１つの語句を何度用いても構いません。）\n",
    "\n",
    "- 学習データ\n",
    "- ラベル付き学習データ（教師データ）\n",
    "- 正解ラベル\n",
    "- 機械学習アルゴリズム\n",
    "- 教師あり学習\n",
    "- 教師なし学習\n",
    "- 強化学習"
   ]
  },
  {
   "cell_type": "markdown",
   "metadata": {},
   "source": [
    "#### 解答例"
   ]
  },
  {
   "cell_type": "markdown",
   "metadata": {
    "id": "answer"
   },
   "source": [
    "- 機械学習には、主に「教師あり学習」「強化学習」「教師なし学習」という3つの手法があります。中でも最も代表的な手法が「教師あり学習」です。「教師あり学習」は人間の脳内でも用いられる手法です。仕組みは、「学習データ」で学習し「機械学習アルゴリズム」という手法を用いて答えを出した後、正しい答えである「正解ラベル」を見て答え合せをします。結果が間違っていれば再度計算を行い、正解を出力するまで何度も学習を繰り返します。「学習データ」と「正解ラベル」がまとまったデータのことを「ラベル付き学習データ（教師データ）」と呼びます。"
   ]
  },
  {
   "cell_type": "markdown",
   "metadata": {
    "id": "commentary"
   },
   "source": [
    "　機械学習における代表格「教師あり学習」の本質は、やはり「教師データ」といった問題と問題の答えが付属したデータを扱う点です。学習データから機械学習アルゴリズムを用いて答えを出したのち、ラベルデータを用いて答え合せを行い、正解するまでなんども答え合せをするのが一番の特徴です。「強化学習」は最近になって注目され始めた技術で、ボードゲームに応用すると高い精度を誇っています。最近では、囲碁の世界での成長が目覚ましいです。「教師あり学習」「強化学習」「教師なし学習」は詳しく後のコースで解説するので、楽しみにしていてください。"
   ]
  },
  {
   "cell_type": "markdown",
   "metadata": {},
   "source": [
    "「教師あり学習」「強化学習」「教師なし学習」については、後のコースでも解説いたします。"
   ]
  },
  {
   "cell_type": "markdown",
   "metadata": {},
   "source": [
    "***"
   ]
  }
 ],
 "metadata": {
  "celltoolbar": "Edit Metadata",
  "kernelspec": {
   "display_name": "Python 3",
   "language": "python",
   "name": "python3"
  },
  "language_info": {
   "codemirror_mode": {
    "name": "ipython",
    "version": 3
   },
   "file_extension": ".py",
   "mimetype": "text/x-python",
   "name": "python",
   "nbconvert_exporter": "python",
   "pygments_lexer": "ipython3",
   "version": "3.7.3"
  },
  "toc": {
   "base_numbering": 1,
   "nav_menu": {},
   "number_sections": true,
   "sideBar": true,
   "skip_h1_title": false,
   "title_cell": "Table of Contents",
   "title_sidebar": "Contents",
   "toc_cell": false,
   "toc_position": {
    "height": "calc(100% - 180px)",
    "left": "10px",
    "top": "150px",
    "width": "341px"
   },
   "toc_section_display": true,
   "toc_window_display": true
  }
 },
 "nbformat": 4,
 "nbformat_minor": 2
}
