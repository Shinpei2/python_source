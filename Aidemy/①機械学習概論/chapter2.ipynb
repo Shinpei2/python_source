{
 "cells": [
  {
   "cell_type": "code",
   "execution_count": null,
   "metadata": {},
   "outputs": [],
   "source": [
    "# plt.show()で可視化されない人はこのセルを実行してください。\n",
    "%matplotlib inline"
   ]
  },
  {
   "cell_type": "markdown",
   "metadata": {
    "chapterId": "ry-G_A7Wxbf",
    "id": "chapter_name"
   },
   "source": [
    "#  機械学習の流れ"
   ]
  },
  {
   "cell_type": "markdown",
   "metadata": {
    "id": "table"
   },
   "source": [
    "- **[2.1 機械学習の流れ](#2.1-機械学習の流れ)**\n",
    "    - **[2.1.1 機械学習を行うフロー](#2.1.1-機械学習を行うフロー)**\n",
    "    - **[2.1.2 機械学習を行うまでの全体の流れ](#2.1.2-機械学習を行うまでの全体の流れ)**\n",
    "    - **[2.1.3 データはどれくらい必要なのか？](#2.1.1-データはどれくらい必要なのか？)**\n",
    "    - **[2.1.4 データの学習](#2.1.2-データの学習)**\n",
    "<br><br>\n",
    "- **[2.2 学習データの使い方](#2.2-学習データの使い方)**\n",
    "    - **[2.2.1 データの分割](#2.2.1-データの分割)**\n",
    "    - **[2.2.2 学習データとテストデータ](#2.2.2-学習データとテストデータ)**\n",
    "    - **[2.2.3 ホールドアウト法の理論と実践](#2.2.3-ホールドアウト法の理論と実践)**\n",
    "    - **[2.2.4 k-分割交差検証の理論](#2.2.4-k-分割交差検証の理論)**\n",
    "    - **[2.2.5 k-分割交差検証の実践](#2.2.5-k-分割交差検証の実践)**\n",
    "<br><br>\n",
    "- **[2.3 過学習](#2.3-過学習)**\n",
    "    - **[2.3.1 過学習とは](#2.3.1-過学習とは)**\n",
    "    - **[2.3.2 過学習とは](#2.3.2-過学習とは)**\n",
    "    - **[2.3.3 過学習の回避](#2.3.3-過学習の回避)**\n",
    "<br><br>\n",
    "- **[2.4 アンサンブル学習](#2.4-アンサンブル学習)**\n",
    "    - **[2.4.1 アンサンブル学習とは](#2.4.1-アンサンブル学習とは)**"
   ]
  },
  {
   "cell_type": "markdown",
   "metadata": {},
   "source": [
    "***"
   ]
  },
  {
   "cell_type": "markdown",
   "metadata": {
    "id": "section_name",
    "sectionId": "HkzM_0Xbl-f"
   },
   "source": [
    "## 2.1 機械学習の流れ"
   ]
  },
  {
   "cell_type": "markdown",
   "metadata": {
    "exerciseId": "RvZL3ha_7T",
    "id": "movie_session_name",
    "important": false,
    "isDL": false,
    "timeoutSecs": 10
   },
   "source": [
    "### 2.1.1 機械学習を行うフロー"
   ]
  },
  {
   "cell_type": "markdown",
   "metadata": {
    "id": "description"
   },
   "source": [
    "この動画で学べること\n",
    "- 機械学習を行うフロー\n",
    "\n",
    "\n",
    "【バーチャルYouTuber版動画】<br>\n",
    "この動画は、バーチャルYouTuber版の動画も配信されています。<br>\n",
    "https://www.youtube.com/watch?v=RJTnhhIqTuY"
   ]
  },
  {
   "cell_type": "markdown",
   "metadata": {},
   "source": [
    "#### 問題"
   ]
  },
  {
   "cell_type": "markdown",
   "metadata": {
    "id": "question"
   },
   "source": [
    "- 次の動画をみてください。"
   ]
  },
  {
   "cell_type": "markdown",
   "metadata": {
    "id": "movielink"
   },
   "source": [
    "https://aidemystorageprd.blob.core.windows.net/movies/2010-RvZL3ha_7T.m3u8"
   ]
  },
  {
   "cell_type": "markdown",
   "metadata": {},
   "source": [
    "Premium Planを受講している方は以下のリンクから受講してください。<br>\n",
    "https://aidemy.net/courses/2010/exercises/RvZL3ha_7T"
   ]
  },
  {
   "cell_type": "markdown",
   "metadata": {},
   "source": [
    "***"
   ]
  },
  {
   "cell_type": "markdown",
   "metadata": {
    "courseId": 2010,
    "exerciseId": "rJNY2Ui8xM",
    "id": "quiz_session_name",
    "important": true,
    "isDL": false,
    "timeoutSecs": 5
   },
   "source": [
    "### 2.1.2 機械学習を行うまでの全体の流れ"
   ]
  },
  {
   "cell_type": "markdown",
   "metadata": {
    "id": "description"
   },
   "source": [
    "<a href='https://aidemy.net/courses/2010/exercises/mrYFB4aR2' target='_blank'>Chapter1</a>では、機械学習を大きく分けて3種類に大別されることを学びました。ここでは、機械学習を使えるようになるための一連の流れを確認しましょう。Chapter2では、「教師あり学習」「教師なし学習」「強化学習」のなかで最も適応例が多い **「教師あり学習」** の一連の流れを追っていきます。教師あり学習で行うことの流れを以下にまとめます。\n",
    " \n",
    "1. データ収集\n",
    "1. データクレンジング（重複や欠損データなどを取り除いて、データの精度を高めること。データの前処理。）\n",
    "1. <b style='color: #AA0000'>機械学習手法でデータを学習（基準の取得）</b>\n",
    "1. テストデータで性能をテスト\n",
    "1. 機械学習モデルをWEBなどに実装\n",
    "\n",
    "**機械学習を行うといっても事前の準備や、結果の考察が必要** になってきます。<br>\n",
    "大抵は、1と2にかなりの時間がかかります。例えば、画像認識分野では、用意する写真のデータだけで、数万枚もの写真データが必要なことがあります。<br>\n",
    "データ量が多ければたとえコンピュータだとしてもデータの事前準備にかかる時間は増えますし、その結果を人間が確認し、再度1や2の処理にかけることもあります。<br>\n",
    "機械学習を行う上では、地道な作業が必要になるのです。（データサイエンティストの仕事にかかる時間の**8割以上は 「データの収集やクレンジング」** と言われています。）"
   ]
  },
  {
   "cell_type": "markdown",
   "metadata": {},
   "source": [
    "#### 問題"
   ]
  },
  {
   "cell_type": "markdown",
   "metadata": {
    "id": "question"
   },
   "source": [
    "- 次の選択肢の内、最も時間のかかる部分はどこでしょうか。次の中から選んでください。"
   ]
  },
  {
   "cell_type": "markdown",
   "metadata": {
    "id": "choices"
   },
   "source": [
    "1. データ収集とクレンジング\n",
    "1. 機械学習手法でデータを学習（基準の取得）\n",
    "1. テストデータで手法をテスト\n",
    "1. 機械学習モデルをWEBなどに実装"
   ]
  },
  {
   "cell_type": "markdown",
   "metadata": {},
   "source": [
    "#### ヒント"
   ]
  },
  {
   "cell_type": "markdown",
   "metadata": {
    "id": "hint"
   },
   "source": [
    "データサイエンティストの仕事にかかる時間の8割以上は「データの収集やクレンジング」と言われています"
   ]
  },
  {
   "cell_type": "markdown",
   "metadata": {},
   "source": [
    "#### 解答"
   ]
  },
  {
   "cell_type": "markdown",
   "metadata": {
    "id": "answer"
   },
   "source": [
    "データ収集とクレンジング"
   ]
  },
  {
   "cell_type": "markdown",
   "metadata": {},
   "source": [
    "***"
   ]
  },
  {
   "cell_type": "markdown",
   "metadata": {
    "exerciseId": "R3t0Oc0lpu",
    "id": "movie_session_name",
    "important": false,
    "isDL": false,
    "timeoutSecs": 10
   },
   "source": [
    "### 2.1.3 データはどれくらい必要なのか？"
   ]
  },
  {
   "cell_type": "markdown",
   "metadata": {
    "id": "description"
   },
   "source": [
    "この動画で学べること\n",
    "- データの枚数がどれくらい必要なのか？\n",
    "- ディープラーニング以外の機械学習\n",
    "- ディープラーニングの場合\n",
    "- そもそもデータが無い時は？\n",
    "- データを作る\n",
    "- APIを利用\n",
    "- 転移学習を利用\n",
    "\n",
    "\n",
    "【バーチャルYouTuber版動画】<br>\n",
    "この動画は、バーチャルYouTuber版の動画も配信されています。<br>\n",
    "https://www.youtube.com/watch?v=oeSGPm8v8gI"
   ]
  },
  {
   "cell_type": "markdown",
   "metadata": {},
   "source": [
    "#### 問題"
   ]
  },
  {
   "cell_type": "markdown",
   "metadata": {
    "id": "question"
   },
   "source": [
    "- 次の動画をみてください。"
   ]
  },
  {
   "cell_type": "markdown",
   "metadata": {
    "id": "movielink"
   },
   "source": [
    "https://aidemystorageprd.blob.core.windows.net/movies/2010-R3t0Oc0lpu.m3u8"
   ]
  },
  {
   "cell_type": "markdown",
   "metadata": {},
   "source": [
    "Premium Planを受講している方は以下のリンクから受講してください。<br>\n",
    "https://aidemy.net/courses/2010/exercises/R3t0Oc0lpu"
   ]
  },
  {
   "cell_type": "markdown",
   "metadata": {},
   "source": [
    "***"
   ]
  },
  {
   "cell_type": "markdown",
   "metadata": {
    "courseId": 2010,
    "exerciseId": "BkSKh8oLxf",
    "id": "quiz_session_name",
    "important": true,
    "isDL": false,
    "timeoutSecs": 5
   },
   "source": [
    "### 2.1.4 データの学習"
   ]
  },
  {
   "cell_type": "markdown",
   "metadata": {
    "id": "description"
   },
   "source": [
    "機械学習では **「Iris（あやめ）」** というサンプルデータセットがよく使用されます。Irisには3品種150サンプルのあやめの「がく片(sepal)」・「花弁(petal)」の長さと幅のデータがセンチメートル（cm）単位で格納されています。\n",
    "\n",
    "今回は3品種のあやめのうち、 **「setosa」「versicolor」の2つを取り上げます。** まずはこの2品種を、がく片と花弁の長さ・幅のデータを元に分類しましょう。\n",
    " \n",
    "下記は、2品種のがく片のデータを5つずつピックアップし、がく片の長さを横軸、幅を縦軸とした場合の散布図です。\n",
    " \n",
    "<img src='https://aidemyexcontentspic.blob.core.windows.net/contents-pic/2010_ml_introduction/img_2_10.png' width=300>\n",
    "\n",
    "**<center>図2.1.4-1 がく片の散布図</center>**\n",
    "\n",
    "setosaは赤点、versicolorは青点で表示されています。分布図では、赤と青の点が一本の線によって分けられることがわかります。\n",
    " \n",
    "<img src='https://aidemyexcontentspic.blob.core.windows.net/contents-pic/2010_ml_introduction/img_2_20.png' width=300>\n",
    "\n",
    "**<center>図2.1.4-2 がく片の境界</center>**\n",
    "\n",
    "この図を見れば、setosaとversicolorの分類は容易です。しかし、人と違ってコンピュータは、分布図を与えられただけでは判断できません。下記の流れにそって学習を進めていきます。\n",
    " \n",
    "1. 分布図に適当に線を引く。\n",
    " \n",
    "<img src='https://aidemyexcontentspic.blob.core.windows.net/contents-pic/2010_ml_introduction/img_2_30.png' width=300>\n",
    "\n",
    "**<center>図2.1.4-3 線引</center>**\n",
    "2. 引いた線の位置の妥当性を計算する。\n",
    " \n",
    "<img src='https://aidemyexcontentspic.blob.core.windows.net/contents-pic/2010_ml_introduction/img_2_40.png' width=300>\n",
    "\n",
    "**<center>図2.1.4-4 妥当性の計算</center>**\n",
    "\n",
    "3. 計算結果に従って、線の位置を調整する。\n",
    "\n",
    "4. 適切な位置に線を引けるまで1～3を繰り返す。\n",
    "\n",
    "<img src='https://aidemyexcontentspic.blob.core.windows.net/contents-pic/2010_ml_introduction/img_2_25.png' width=300>\n",
    "\n",
    "**<center>図2.1.4-6 最終的な境界</center>**\n",
    "\n",
    "このように機械学習では、 **コンピュータ自身がデータのパターンを見つけ、分類のための基準としてモデルを構築** し、学習を繰り返すことでモデルの精度を高めていくのです。\n",
    "\n",
    "今回説明した以外にも、分類の学習にはたくさんの方法があります。そちらは、<a href='https://aidemy.net/courses/5020' target='_blank'>教師あり学習(分類)コース</a>でご紹介します。"
   ]
  },
  {
   "cell_type": "markdown",
   "metadata": {},
   "source": [
    "#### 問題"
   ]
  },
  {
   "cell_type": "markdown",
   "metadata": {
    "id": "question"
   },
   "source": [
    "- 以下の文の「」に当てはまる言葉の組み合わせを選んでください。\n",
    "- 教師あり学習では、コンピュータはデータの中から「」を見つけ、分類するための「」を構築する。"
   ]
  },
  {
   "cell_type": "markdown",
   "metadata": {
    "id": "choices"
   },
   "source": [
    "1. 「パターン」「モデル」\n",
    "1. 「パターン」「データ」\n",
    "1. 「データ」「モデル」\n",
    "1. 「データ」「サンプル」"
   ]
  },
  {
   "cell_type": "markdown",
   "metadata": {},
   "source": [
    "#### ヒント"
   ]
  },
  {
   "cell_type": "markdown",
   "metadata": {
    "id": "hint"
   },
   "source": [
    "コンピュータ自身が、自分で答えを見つけ、データのパターンから作られた基準をモデルと言います。"
   ]
  },
  {
   "cell_type": "markdown",
   "metadata": {},
   "source": [
    "#### 解答"
   ]
  },
  {
   "cell_type": "markdown",
   "metadata": {
    "id": "answer"
   },
   "source": [
    "「パターン」「モデル」"
   ]
  },
  {
   "cell_type": "markdown",
   "metadata": {},
   "source": [
    "***"
   ]
  },
  {
   "cell_type": "markdown",
   "metadata": {
    "id": "section_name",
    "sectionId": "SyXzu0mbeZM"
   },
   "source": [
    "## 2.2 学習データの使い方"
   ]
  },
  {
   "cell_type": "markdown",
   "metadata": {
    "exerciseId": "PC1OYw6nUX",
    "id": "movie_session_name",
    "important": false,
    "isDL": false,
    "timeoutSecs": 10
   },
   "source": [
    "### 2.2.1 データの分割"
   ]
  },
  {
   "cell_type": "markdown",
   "metadata": {
    "id": "description"
   },
   "source": [
    "この動画で学べること\n",
    "- 機械学習と統計学の違い\n",
    "- データを予測するために\n",
    "- データ分割の方法\n",
    "- データ分割の注意点\n",
    "\n",
    "\n",
    "【バーチャルYouTuber版動画】<br>\n",
    "この動画は、バーチャルYouTuber版の動画も配信されています。<br>\n",
    "https://www.youtube.com/watch?v=YwiWzGYvooQ"
   ]
  },
  {
   "cell_type": "markdown",
   "metadata": {},
   "source": [
    "#### 問題"
   ]
  },
  {
   "cell_type": "markdown",
   "metadata": {
    "id": "question"
   },
   "source": [
    "- 次の動画をみてください。"
   ]
  },
  {
   "cell_type": "markdown",
   "metadata": {
    "id": "movielink"
   },
   "source": [
    "https://aidemystorageprd.blob.core.windows.net/movies/2010-PC1OYw6nUX.m3u8"
   ]
  },
  {
   "cell_type": "markdown",
   "metadata": {},
   "source": [
    "Premium Planを受講している方は以下のリンクから受講してください。<br>\n",
    "https://aidemy.net/courses/2010/exercises/PC1OYw6nUX"
   ]
  },
  {
   "cell_type": "markdown",
   "metadata": {},
   "source": [
    "***"
   ]
  },
  {
   "cell_type": "markdown",
   "metadata": {
    "courseId": 2010,
    "exerciseId": "H1UYnIsUgG",
    "id": "quiz_session_name",
    "important": true,
    "isDL": false,
    "timeoutSecs": 10
   },
   "source": [
    "### 2.2.2 学習データとテストデータ"
   ]
  },
  {
   "cell_type": "markdown",
   "metadata": {
    "id": "description"
   },
   "source": [
    "「教師あり学習」では、 <b style='color: #AA0000'>トレーニングデータ</b>と <b style='color: #AA0000'>テストデータ</b>の2つを用意します。トレーニングデータは**学習**に使用し、テストデータは学習したモデルの**精度評価**に使用します。\n",
    "\n",
    "機械学習では多くの場合、全データの20％ほどをテストデータに使用します。\n",
    "例えば、**MNIST**(エムニスト)という手書き文字認識の学習用データセットでは、7万枚の画像のうち、 **6万枚がトレーニングデータ、1万枚がテストデータ** と分けられています。\n",
    "\n",
    "<img src='https://aidemyexcontentspic.blob.core.windows.net/contents-pic/2010_ml_introduction/img_2_60.png' width=500>\n",
    "\n",
    "**<center>図2.2.2-1 データセットの割合</center>**\n",
    "\n",
    "「テストデータ」を別に用意する理由としては、 **機械学習が「未知のデータについて予測する」ことを目的とした学問体系** であることが挙げられます。\n",
    "\n",
    "「画像認識」「株価予測」「ニュース記事のカテゴリ分け」など、機械学習は様々な用途に活用されますが、どの場合でも「未知のデータ」を、学習済みモデルに当てはめて予想データを出力するという部分は共通です。\n",
    "\n",
    "そのため、 **構築した学習モデルの評価には、テストデータという未知のデータが必要**となります。\n",
    "\n",
    "ちなみに、統計学は機械学習と似ていますが、テストデータを別に用意することはほとんどありません。それは、統計学の目的が「**データを元に起きている現象を説明すること**」だからです。\n",
    "\n",
    "<img src='https://aidemyexcontentspic.blob.core.windows.net/contents-pic/2010_ml_introduction/img_2_50.png' width=500>\n",
    "\n",
    "**<center>図2.2.2-2 機械学習と統計学</center>**\n"
   ]
  },
  {
   "cell_type": "markdown",
   "metadata": {},
   "source": [
    "#### 問題"
   ]
  },
  {
   "cell_type": "markdown",
   "metadata": {
    "id": "question"
   },
   "source": [
    "- 次の選択肢のうち **誤りを含む** 選択肢を選んでください。"
   ]
  },
  {
   "cell_type": "markdown",
   "metadata": {
    "id": "choices"
   },
   "source": [
    "1. 機械学習とは、おもに未知のデータを予測することを目的とした学問体系である。\n",
    "1. 統計学とは、おもにデータから現象を説明することを目的とした学問体系である。\n",
    "1. 「MNIST」というデータセットでは、おもにトレーニングデータに60,000枚のデータが使われる。\n",
    "1. 一般的にはトレーニングデータよりテストデータの分量の方が多い。"
   ]
  },
  {
   "cell_type": "markdown",
   "metadata": {},
   "source": [
    "#### ヒント"
   ]
  },
  {
   "cell_type": "markdown",
   "metadata": {
    "id": "hint"
   },
   "source": [
    "全体のデータの20％ほどをテストデータに用いることが多いです。"
   ]
  },
  {
   "cell_type": "markdown",
   "metadata": {},
   "source": [
    "#### 解答"
   ]
  },
  {
   "cell_type": "markdown",
   "metadata": {
    "collapsed": true,
    "id": "answer"
   },
   "source": [
    "- 一般的にはトレーニングデータよりテストデータの分量の方が多い。"
   ]
  },
  {
   "cell_type": "markdown",
   "metadata": {
    "courseId": 2010,
    "exerciseId": "S1PtnLoIgM",
    "id": "code_session_name",
    "important": true,
    "isDL": false,
    "timeoutSecs": 10
   },
   "source": [
    "### 2.2.3 ホールドアウト法の理論と実践"
   ]
  },
  {
   "cell_type": "markdown",
   "metadata": {
    "id": "description"
   },
   "source": [
    "<b style='color: #AA0000'>ホールドアウト法</b>は、与えられたデータセットをトレーニングデータとテストデータの**2つ**に分けて使用するというシンプルな手法です。\n",
    "<br><br>\n",
    "Pythonのオープンソース機械学習ライブラリ`scikit-learn`を使って、ホールドアウト法を実践してみましょう。ホールドアウト法の実践には、`train_test_split`関数を使用します。書き方のサンプルは下記の通りです。\n",
    "\n",
    "　`X_train, X_test, y_train, y_test = train_test_split(X, y, test_size=0.2, random_state=0)`\n",
    "\n",
    "・`X`...正解ラベル以外の配列<br>\n",
    "・`y`...`X`に対する正解ラベルの配列<br>\n",
    "・`X_train`...トレーニングデータのデータセット（正解ラベル以外）<br>\n",
    "・`y_train`...トレーニングデータの正解ラベル<br>\n",
    "・`X_test`...テストデータのデータセット（正解ラベル以外）<br>\n",
    "・`y_test`...テストデータの正解ラベル<br>\n",
    "・`test_size`...テストデータの割合\n",
    "\n",
    "`test_size`には **テストデータの割合を0から1までの数値で指定** します。0.2を指定した場合は、全データの20％、0.3を指定すれば30％がテストデータとなります。\n",
    "\n",
    "`random_state=0`は指定しなくても良い引数ですが、通常は指定します。指定しない場合は、テストデータが毎回ランダムで選ばれることになります。データセットが毎回変わってしまうと精度も変わるので、**実験の再現性が担保できなく**なってしまいます。\n",
    "\n",
    "`train_test_split`関数には引数がたくさんありますが、 **テストデータの割合を指定する`test_size `がもっとも重要** と覚えておきましょう。"
   ]
  },
  {
   "cell_type": "markdown",
   "metadata": {},
   "source": [
    "#### 問題"
   ]
  },
  {
   "cell_type": "markdown",
   "metadata": {
    "id": "question"
   },
   "source": [
    "- `___`を埋め、データの全体の20％をテストサイズに指定して出力してください。"
   ]
  },
  {
   "cell_type": "code",
   "execution_count": null,
   "metadata": {
    "id": "index"
   },
   "outputs": [],
   "source": [
    "# コードの実行に必要なモジュールを読み込みます。\n",
    "from sklearn import datasets\n",
    "from sklearn.model_selection import train_test_split\n",
    "\n",
    "# 「IRIS」というデータセットを読み込みます。\n",
    "iris = datasets.load_iris()\n",
    "X = iris.data\n",
    "y = iris.target\n",
    "\n",
    "# 「X_train, X_test, y_train, y_test」にデータを格納します。\n",
    "X_train, X_test, y_train, y_test = train_test_split(X, y, test_size=___, random_state=0)\n",
    "\n",
    "# トレーニングデータとテストデータのサイズを確認します。\n",
    "print (\"X_train :\", X_train.shape)\n",
    "print (\"y_train :\", y_train.shape)\n",
    "print (\"X_test :\", X_test.shape)\n",
    "print (\"y_test :\", y_test.shape)"
   ]
  },
  {
   "cell_type": "markdown",
   "metadata": {},
   "source": [
    "#### ヒント"
   ]
  },
  {
   "cell_type": "markdown",
   "metadata": {
    "id": "hint"
   },
   "source": [
    "- 以下のコードでtest_sizeを例えば0.3とすることで全データの3割をテストデータにできます"
   ]
  },
  {
   "cell_type": "markdown",
   "metadata": {},
   "source": [
    "#### 解答例"
   ]
  },
  {
   "cell_type": "code",
   "execution_count": null,
   "metadata": {
    "id": "answer"
   },
   "outputs": [],
   "source": [
    "# コードの実行に必要なモジュールを読み込みます。\n",
    "from sklearn import datasets\n",
    "from sklearn.model_selection import train_test_split\n",
    "\n",
    "# 「IRIS」というデータセットを読み込みます。\n",
    "iris = datasets.load_iris()\n",
    "X = iris.data\n",
    "y = iris.target\n",
    "\n",
    "# 「X_train, X_test, y_train, y_test」にデータを格納します。\n",
    "X_train, X_test, y_train, y_test = train_test_split(X, y, test_size=0.2, random_state=0)\n",
    "\n",
    "# トレーニングデータとテストデータのサイズを確認します。\n",
    "print (\"X_train :\", X_train.shape)\n",
    "print (\"y_train :\", y_train.shape)\n",
    "print (\"X_test :\", X_test.shape)\n",
    "print (\"y_test :\", y_test.shape)"
   ]
  },
  {
   "cell_type": "markdown",
   "metadata": {},
   "source": [
    " ***"
   ]
  },
  {
   "cell_type": "markdown",
   "metadata": {
    "courseId": 2010,
    "exerciseId": "r1dtn8oLgz",
    "id": "quiz_session_name",
    "important": true,
    "isDL": false,
    "timeoutSecs": 10
   },
   "source": [
    "### 2.2.4 k-分割交差検証の理論"
   ]
  },
  {
   "cell_type": "markdown",
   "metadata": {
    "id": "description"
   },
   "source": [
    "<b style='color: #AA0000'>k-分割交差検証（クロスバリデーション）</b>では、用意したトレーニングデータセットをk分割し、 そのうちの**1つをテストデータ**、**残りのk-1個を学習データ**として使用します。<br>\n",
    "そして、 **学習と評価を繰り返して得られるk個のモデルと性能評価から平均性能を算出** するという手法です。\n",
    "\n",
    "データを最大限に利用して検証できることがk-分割交差検証の強みですが、k回の検証を行うので**多くの時間が必要**になるという一面もあります。しかし、k-分割交差検証によって作られたk個のモデルから、**より正確で安定したモデルを選ぶ**ことが可能となるのです。\n",
    "\n",
    "下図は、k=10の場合のk-分割交差検証の様子を示しています。\n",
    "\n",
    "<img src='https://aidemyexcontentspic.blob.core.windows.net/contents-pic/2010_ml_introduction/img_2_70.png' width=600>\n",
    "\n",
    "<b><center>図2.2.4-1 k-分割交差検証</center></b>\n",
    "\n",
    "一般的にkの値は5～10の範囲で設定されます。データ数が多い場合は分割数を増やすことで、さらに正確なモデル選択が可能となります。\n",
    "\n",
    "k-分割交差検証には、 **一個抜き交差検証（Leave-One-Out：LOOクロスバリデーション)** という手法もあります。<br>\n",
    "LOOでは、kにデータ数と同じ値を設定して、データを1つずつ分割し、そのうちの1データのみをテストデータとして扱います。\n",
    "\n",
    "例えば、データセットに20個のデータがある場合に20分割し、19個で学習を行い、残りの1個でテストを行います。そして、20回の学習で得られた性能評価の平均値から精度を算出します。\n",
    "**50～100データ程度**のデータセットを扱う場合には、この手法が適しています。"
   ]
  },
  {
   "cell_type": "markdown",
   "metadata": {},
   "source": [
    "#### 問題"
   ]
  },
  {
   "cell_type": "markdown",
   "metadata": {
    "id": "question"
   },
   "source": [
    "- 次の選択肢の内、誤りを含む選択肢を選んでください。"
   ]
  },
  {
   "cell_type": "markdown",
   "metadata": {
    "id": "choices"
   },
   "source": [
    "1. k-分割交差検証では、全てのデータを使って学習を行い、k分割したデータセットをテストデータとして用いるといった手法のことである。\n",
    "1. k-分割交差検証とは、トレーニングデータセットをk分割し、そのうちのk-1個のデータを学習用のデータセットとして用い、残りの1個をモデルのテストに用いるといった手法のことである。\n",
    "1. k-分割交差検証はクロスバリデーションとも言われる。\n",
    "1. k-分割交差検証はホールドアウト法よりもk倍の演算が必要である。"
   ]
  },
  {
   "cell_type": "markdown",
   "metadata": {},
   "source": [
    "#### ヒント"
   ]
  },
  {
   "cell_type": "markdown",
   "metadata": {
    "id": "hint"
   },
   "source": [
    "- トレーニングデータとテストデータを分けるのは機械学習の基本です。"
   ]
  },
  {
   "cell_type": "markdown",
   "metadata": {},
   "source": [
    "#### 解答"
   ]
  },
  {
   "cell_type": "markdown",
   "metadata": {
    "id": "answer"
   },
   "source": [
    "- k-分割交差検証では、全てのデータを使って学習を行い、k分割したデータセットをテストデータとして用いるといった手法のことである。"
   ]
  },
  {
   "cell_type": "markdown",
   "metadata": {},
   "source": [
    "***"
   ]
  },
  {
   "cell_type": "markdown",
   "metadata": {
    "courseId": 2010,
    "exerciseId": "S1tYnIo8lz",
    "id": "code_session_name",
    "important": true,
    "isDL": false,
    "timeoutSecs": 10
   },
   "source": [
    "### 2.2.5 k-分割交差検証の実践"
   ]
  },
  {
   "cell_type": "markdown",
   "metadata": {
    "id": "description"
   },
   "source": [
    "実際に「**k-分割交差検証**」のコードを書いてみましょう。\n",
    "サンプルは以下の通りです。\n",
    " \n",
    "`scores = cross_validation.cross_val_score(svc, X, y, cv=5)`\n",
    "\n",
    "Xは正解ラベル以外のデータセットの配列、yは正解ラベルの配列です。\n",
    "\n",
    "このコードに登場する機械学習モデル「**SVM**」の概要や引数については<a href='https://aidemy.net/courses/5020' target='_blank'>教師あり学習(分類)</a>で詳しく取り上げます。"
   ]
  },
  {
   "cell_type": "markdown",
   "metadata": {},
   "source": [
    "#### 問題"
   ]
  },
  {
   "cell_type": "markdown",
   "metadata": {
    "id": "question"
   },
   "source": [
    "- ___を埋め、交差検証法の分割数を「5分割」に指定して出力してください。"
   ]
  },
  {
   "cell_type": "code",
   "execution_count": null,
   "metadata": {
    "id": "index"
   },
   "outputs": [],
   "source": [
    "# コードの実行に必要なモジュールを読み込みます。\n",
    "from sklearn import svm, datasets, cross_validation\n",
    "\n",
    "# 「IRIS」というデータセットを読み込みます。\n",
    "iris = datasets.load_iris()\n",
    "X = iris.data\n",
    "y = iris.target\n",
    "\n",
    "# 機械学習アルゴリズムSVMを使用\n",
    "svc = svm.SVC(C=1, kernel=\"rbf\", gamma=0.001)\n",
    "\n",
    "# 交差検証法を用いてスコアを求めます。\n",
    "# 内部では、X、yがそれぞれ「X_train, X_test, y_train, y_test」の様に分割され処理されます。\n",
    "scores = cross_validation.cross_val_score(svc, X, y, cv=__)\n",
    "\n",
    "# トレーニングデータとテストデータのサイズを確認します。\n",
    "print (scores)\n",
    "print (\"平均スコア :\", scores.mean())"
   ]
  },
  {
   "cell_type": "markdown",
   "metadata": {},
   "source": [
    "#### ヒント"
   ]
  },
  {
   "cell_type": "markdown",
   "metadata": {
    "id": "hint"
   },
   "source": [
    "- k分割の個数を調整すると、最終的なスコアの値が変動します。\n",
    "- 分類器SVMとありますが、これは機械学習における分類手法の一つです。学習データを渡すことで答えを予想し出力します。後ほどの教師あり学習コースで詳しく説明します。ここでは、データを分類するための手法の一つと覚えておきましょう。"
   ]
  },
  {
   "cell_type": "markdown",
   "metadata": {},
   "source": [
    "#### 解答例"
   ]
  },
  {
   "cell_type": "code",
   "execution_count": null,
   "metadata": {
    "id": "answer"
   },
   "outputs": [],
   "source": [
    "# コードの実行に必要なモジュールを読み込みます。\n",
    "from sklearn import svm, datasets, cross_validation\n",
    "\n",
    "# 「IRIS」というデータセットを読み込みます。\n",
    "iris = datasets.load_iris()\n",
    "X = iris.data\n",
    "y = iris.target\n",
    "\n",
    "# 機械学習アルゴリズムSVMを使用\n",
    "svc = svm.SVC(C=1, kernel=\"rbf\", gamma=0.001)\n",
    "\n",
    "# 交差検証法を用いてスコアを求めます。\n",
    "# 内部では、X、yがそれぞれ「X_train, X_test, y_train, y_test」の様に分割され処理されます。\n",
    "scores = cross_validation.cross_val_score(svc, X, y, cv=5)\n",
    "\n",
    "# トレーニングデータとテストデータのサイズを確認します。\n",
    "print (scores)\n",
    "print (\"平均スコア :\", scores.mean())"
   ]
  },
  {
   "cell_type": "markdown",
   "metadata": {},
   "source": [
    "***"
   ]
  },
  {
   "cell_type": "markdown",
   "metadata": {
    "id": "section_name",
    "sectionId": "SJEMdA7WgWf"
   },
   "source": [
    "## 2.3 過学習"
   ]
  },
  {
   "cell_type": "markdown",
   "metadata": {
    "exerciseId": "H4ac_xjnk",
    "id": "movie_session_name",
    "important": false,
    "isDL": false,
    "timeoutSecs": 10
   },
   "source": [
    "### 2.3.1 過学習とは？"
   ]
  },
  {
   "cell_type": "markdown",
   "metadata": {
    "id": "description"
   },
   "source": [
    "この動画で学べること\n",
    "- 過学習\n",
    "- 汎化\n",
    "- どのように過学習を防ぐのか\n",
    "- 正則化(線形回帰で利用可能)\n",
    "- ドロップアウト(ディープラーニングで利用可能)\n",
    "- 交差検証法(すべての手法で利用可能)\n",
    "\n",
    "\n",
    "【バーチャルYouTuber版動画】<br>\n",
    "この動画は、バーチャルYouTuber版の動画も配信されています。<br>\n",
    "https://www.youtube.com/watch?v=49hm-rCecr0"
   ]
  },
  {
   "cell_type": "markdown",
   "metadata": {},
   "source": [
    "#### 問題"
   ]
  },
  {
   "cell_type": "markdown",
   "metadata": {
    "id": "question"
   },
   "source": [
    "- 次の動画をみてください。"
   ]
  },
  {
   "cell_type": "markdown",
   "metadata": {
    "id": "movielink"
   },
   "source": [
    "https://aidemystorageprd.blob.core.windows.net/movies/2010-H4ac_xjnk.m3u8"
   ]
  },
  {
   "cell_type": "markdown",
   "metadata": {},
   "source": [
    "Premium Planを受講している方は以下のリンクから受講してください。<br>\n",
    "https://aidemy.net/courses/2010/exercises/H4ac_xjnk"
   ]
  },
  {
   "cell_type": "markdown",
   "metadata": {},
   "source": [
    "***"
   ]
  },
  {
   "cell_type": "markdown",
   "metadata": {
    "courseId": 2010,
    "exerciseId": "rJ9Yn8iIlM",
    "id": "quiz_session_name",
    "important": true,
    "isDL": false,
    "timeoutSecs": 5
   },
   "source": [
    "### 2.3.2 過学習とは"
   ]
  },
  {
   "cell_type": "markdown",
   "metadata": {
    "id": "description"
   },
   "source": [
    "同じデータの学習を過度に繰り返したことで、偏ったモデルが構築された状態を <b style='color: #AA0000'>過学習(オーバーフィッティング)</b>といいます。\n",
    "\n",
    "下図は、花をがく片の幅と長さによって分類したデータです。\n",
    " \n",
    " <img src='https://aidemyexcontentspic.blob.core.windows.net/contents-pic/2010_ml_introduction/img_2_80.png' width=300>\n",
    "\n",
    "**<center>図2.3.2-1 境界の偏り</center>**\n",
    "\n",
    "**一部の偏ったデータに影響されて、正しく線を引くことができていない** のが分かります。このように過学習の状態となったモデルは、テストデータに対しては異様に高い精度を誇りますが、未知のデータに対しては期待する結果を出力することができません。\n",
    "\n",
    "未知のデータに対して正しい結果を出力する能力を、 **汎化能力** といいます。機械学習の目的はモデルの精度をあげることですが、あまりにもテストデータに対する精度が高すぎる場合には汎化能力に問題がある可能性があります。\n",
    "\n",
    "また、過学習とは逆に「データが十分に学習できていない状態」を **学習不足** と呼びます。機械学習をやりすぎても不足しても、精度の高いモデルを作ることはできないのです。"
   ]
  },
  {
   "cell_type": "markdown",
   "metadata": {},
   "source": [
    "#### 問題"
   ]
  },
  {
   "cell_type": "markdown",
   "metadata": {
    "id": "question"
   },
   "source": [
    "- 次の選択肢からコンピュータがデータを学習し過ぎた状態を表す言葉を選んでください。"
   ]
  },
  {
   "cell_type": "markdown",
   "metadata": {
    "id": "choices"
   },
   "source": [
    "1. 過学習\n",
    "1. 学習不足\n",
    "1. 転移学習\n",
    "1. 強化学習"
   ]
  },
  {
   "cell_type": "markdown",
   "metadata": {},
   "source": [
    "#### ヒント"
   ]
  },
  {
   "cell_type": "markdown",
   "metadata": {
    "id": "hint"
   },
   "source": [
    "- 過学習と反対の状態、データを学習できていない状態を学習不足と言います。"
   ]
  },
  {
   "cell_type": "markdown",
   "metadata": {},
   "source": [
    "#### 解答"
   ]
  },
  {
   "cell_type": "markdown",
   "metadata": {
    "id": "answer"
   },
   "source": [
    "過学習"
   ]
  },
  {
   "cell_type": "markdown",
   "metadata": {},
   "source": [
    "***"
   ]
  },
  {
   "cell_type": "markdown",
   "metadata": {
    "courseId": 2010,
    "exerciseId": "HkiF2LsUlG",
    "id": "quiz_session_name",
    "important": true,
    "isDL": false,
    "timeoutSecs": 5
   },
   "source": [
    "### 2.3.3 過学習の回避"
   ]
  },
  {
   "cell_type": "markdown",
   "metadata": {
    "id": "description"
   },
   "source": [
    "過学習を避ける手法の1つとして、<b style='color: #AA0000'>Dropout（ドロップアウト）</b>は、ディープラーニングでよく使用されます。Dropoutでは学習結果をランダムに無効にすることで、トレーニングデータへの過度な適用を防ぎます。<br>\n",
    "\n",
    "また、教師あり学習における**正則化**も過学習を避ける手法です。\n",
    "正則化については<a href='https://aidemy.net/courses/5010/exercises/Bkl93IiUgz' target='_blank'>教師あり学習(回帰) 2.1.2 正則化</a>で詳しく説明いたします。<br>\n",
    "\n",
    "正則化にも細かく分けると手法がいくつかありますが、例えばそのうちの1つの手法を簡単にお見せすると、下図のような働きをしてくれます。\n",
    "この図のように、明らかに集合から外れたデータを無視することで過学習を回避できるのです。\n",
    "\n",
    "\n",
    "<img src='https://aidemyexcontentspic.blob.core.windows.net/contents-pic/2010_ml_introduction/img_2_90.png' width=300>\n",
    " \n",
    "<b><center>図2.3.3.-1 Dropout</center></b>\n",
    "\n",
    "なお、過学習の原因はモデルがトレーニングデータに過度に適用して、複雑になりすぎることです。このモデルの複雑さ（再現性の低さ）をバリアンスと呼び、過学習が起きている状態を<b>バリアンスが高い</b>と表現することもあります。\n",
    "\n",
    "そして、モデルのズレ（精度の低さ）をバイアスと言い、<b>バイアスが高い</b>と表現されるのが「学習不足」です。つまり「バイアスが高い」というのは、モデルの精度が低い（ズレが大きい）状態を指します。"
   ]
  },
  {
   "cell_type": "markdown",
   "metadata": {},
   "source": [
    "#### 問題"
   ]
  },
  {
   "cell_type": "markdown",
   "metadata": {
    "id": "question"
   },
   "source": [
    "- 次の「」を埋める適切な言葉を選んでください。\n",
    "- コンピュータがデータに対しモデルを構築する際、過学習に陥っている時の解決法の一つとして、「」がある。"
   ]
  },
  {
   "cell_type": "markdown",
   "metadata": {
    "id": "choices"
   },
   "source": [
    "1. 「正則化」\n",
    "1. 「カーネル化」\n",
    "1. 「対角化」\n",
    "1. 「関数化」"
   ]
  },
  {
   "cell_type": "markdown",
   "metadata": {},
   "source": [
    "#### ヒント"
   ]
  },
  {
   "cell_type": "markdown",
   "metadata": {
    "id": "hint"
   },
   "source": [
    "- データの集合から外れているデータの影響を正則化を用いることにより消しています。このようにすることで、データを学習しすぎることなく、データを分類することができます。"
   ]
  },
  {
   "cell_type": "markdown",
   "metadata": {},
   "source": [
    "#### 解答"
   ]
  },
  {
   "cell_type": "markdown",
   "metadata": {
    "id": "answer"
   },
   "source": [
    "「正則化」"
   ]
  },
  {
   "cell_type": "markdown",
   "metadata": {},
   "source": [
    "***"
   ]
  },
  {
   "cell_type": "markdown",
   "metadata": {
    "id": "section_name",
    "sectionId": "HJSMuR7bl-f"
   },
   "source": [
    "## 2.4 アンサンブル学習"
   ]
  },
  {
   "cell_type": "markdown",
   "metadata": {
    "courseId": 2010,
    "exerciseId": "SySDWeRgM",
    "id": "quiz_session_name",
    "important": true,
    "isDL": false,
    "timeoutSecs": 5
   },
   "source": [
    "### 2.4.1 アンサンブル学習とは"
   ]
  },
  {
   "cell_type": "markdown",
   "metadata": {
    "id": "description"
   },
   "source": [
    "<b style='color: #AA0000'>アンサンブル学習</b>は複数のモデルに学習させて、全ての予測結果を統合することで、汎化性能を高める手法です。\n",
    "代表的な手法には下記の2つがあります。\n",
    "\n",
    "-\t**バギング**<br>\n",
    "同時に複数のモデルに学習させて、予測結果の平均をとることで汎化能力を向上させる\n",
    "<br><br>\n",
    "-\t**ブースティング**<br>\n",
    "複数のモデルの異なる予測結果を統合することで、汎化性能を高める<br>\n",
    "学習結果を次のモデルの学習に反映させるため同時に処理することはできないが、精度は高まる場合が多い"
   ]
  },
  {
   "cell_type": "markdown",
   "metadata": {},
   "source": [
    "#### 問題"
   ]
  },
  {
   "cell_type": "markdown",
   "metadata": {
    "id": "question"
   },
   "source": [
    "- アンサンブル学習に関して説明している以下の文章のうち正しいものを選んでください。"
   ]
  },
  {
   "cell_type": "markdown",
   "metadata": {
    "id": "choices"
   },
   "source": [
    "- 強力な学習器を用いて全データを学習し続ける手法。\n",
    "- 複数のモデルを動かすことによってモデルを汎化させる手法。\n",
    "- バギングはモデルの学習結果を別のモデルに入力するため時間がかかる。\n",
    "- ブースティングはモデルの学習を加速させる方法である。"
   ]
  },
  {
   "cell_type": "markdown",
   "metadata": {},
   "source": [
    "#### ヒント"
   ]
  },
  {
   "cell_type": "markdown",
   "metadata": {
    "id": "hint"
   },
   "source": [
    "- バギングは複数のモデルを同時に動かすことができます。\n",
    "- アンサンブル学習は複数のモデルが異なるアプローチを取ります。"
   ]
  },
  {
   "cell_type": "markdown",
   "metadata": {},
   "source": [
    "#### 解答"
   ]
  },
  {
   "cell_type": "markdown",
   "metadata": {
    "id": "answer"
   },
   "source": [
    "複数のモデルを動かすことによってモデルを汎化させる手法。"
   ]
  },
  {
   "cell_type": "markdown",
   "metadata": {},
   "source": [
    "***"
   ]
  },
  {
   "cell_type": "markdown",
   "metadata": {
    "id": "chapter_exam"
   },
   "source": [
    "## まとめ問題(提出不要)"
   ]
  },
  {
   "cell_type": "markdown",
   "metadata": {},
   "source": [
    "#### 問題"
   ]
  },
  {
   "cell_type": "markdown",
   "metadata": {
    "id": "description"
   },
   "source": [
    "数字の入った部分に当てはまる語句を考えてみましょう。"
   ]
  },
  {
   "cell_type": "markdown",
   "metadata": {
    "id": "question"
   },
   "source": [
    "- 機械学習を実装する上で問題となることの一つに「1.」があります。「1.」はデータを「2.」状態を指します。「1.」の状態を「3.」が高いといい、逆に「4.」の状態を「5.」が高いといいます。「1.」を防ぐ方法の一つにホールドアウト法があります。ホールドアウト法を用いて、学習データを「6.」と「7.」に分割します。「6.」はモデルの学習に用いられ、「7.」を用いて学習済みのモデルの性能を評価します。ホールドアウト法の派生形として、「8.」や「9.」などがあります。"
   ]
  },
  {
   "cell_type": "markdown",
   "metadata": {
    "id": "index"
   },
   "source": [
    "#### ヒント"
   ]
  },
  {
   "cell_type": "markdown",
   "metadata": {
    "collapsed": true,
    "id": "hint"
   },
   "source": [
    "- 過学習の概念及び、過学習の解決法は機械学習をする上で最も重要な問題の一つです。しっかり復習するようにしましょう。"
   ]
  },
  {
   "cell_type": "markdown",
   "metadata": {},
   "source": [
    "#### 解答例"
   ]
  },
  {
   "cell_type": "markdown",
   "metadata": {
    "id": "answer"
   },
   "source": [
    "機械学習を実装する上で問題となることの一つに「過学習」があります。「過学習」はデータを「学習しすぎた」状態を指します。「過学習」の状態を「バリアンス」が高いといい、「学習不足」の状態を「バイアス」が高いといいます。「過学習」を防ぐ方法の一つにホールドアウト法があります。ホールドアウト法を用いて、学習データを「トレーニングデータ」と「テストデータ」に分割します。「トレーニングデータ」はモデルの学習に用いられ、「テストデータ」を用いて学習済みのモデルの性能を評価します。「ホールドアウト法」の派生形として、「k-分割交差検証」や「一個抜き交差検証(leave-one-out交差検証)」などがあります。\n",
    "\n",
    "<番号ごとの答え>\n",
    "\n",
    "1. 過学習\n",
    "1. 学習しすぎた状態\n",
    "1. バリアンス\n",
    "1. 学習不足\n",
    "1. バイアス\n",
    "1. テストデータ\n",
    "1. トレーニングデータ\n",
    "1. k分割交差検証\n",
    "1. 一個抜き交差検証(leave-one-out交差検証)"
   ]
  },
  {
   "cell_type": "markdown",
   "metadata": {
    "id": "commentary"
   },
   "source": [
    "過学習の概念及び、その解決法について簡単に理解できたでしょうか。詳しい正則化の使い方や、交差検証法の実践的な使い方は別のコースで説明します。このチャプターに記載されていることはどれも機械学習をする上で必要不可欠なものであるので、しっかり覚えるようにしましょう。"
   ]
  }
 ],
 "metadata": {
  "celltoolbar": "Edit Metadata",
  "kernelspec": {
   "display_name": "Python 3",
   "language": "python",
   "name": "python3"
  },
  "language_info": {
   "codemirror_mode": {
    "name": "ipython",
    "version": 3
   },
   "file_extension": ".py",
   "mimetype": "text/x-python",
   "name": "python",
   "nbconvert_exporter": "python",
   "pygments_lexer": "ipython3",
   "version": "3.6.4"
  },
  "toc": {
   "base_numbering": 1,
   "nav_menu": {},
   "number_sections": true,
   "sideBar": true,
   "skip_h1_title": false,
   "title_cell": "Table of Contents",
   "title_sidebar": "Contents",
   "toc_cell": false,
   "toc_position": {
    "height": "calc(100% - 180px)",
    "left": "10px",
    "top": "150px",
    "width": "261.188px"
   },
   "toc_section_display": true,
   "toc_window_display": true
  },
  "varInspector": {
   "cols": {
    "lenName": 16,
    "lenType": 16,
    "lenVar": 40
   },
   "kernels_config": {
    "python": {
     "delete_cmd_postfix": "",
     "delete_cmd_prefix": "del ",
     "library": "var_list.py",
     "varRefreshCmd": "print(var_dic_list())"
    },
    "r": {
     "delete_cmd_postfix": ") ",
     "delete_cmd_prefix": "rm(",
     "library": "var_list.r",
     "varRefreshCmd": "cat(var_dic_list()) "
    }
   },
   "types_to_exclude": [
    "module",
    "function",
    "builtin_function_or_method",
    "instance",
    "_Feature"
   ],
   "window_display": false
  }
 },
 "nbformat": 4,
 "nbformat_minor": 2
}