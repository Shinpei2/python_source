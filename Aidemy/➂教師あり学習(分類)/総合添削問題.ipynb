{
 "cells": [
  {
   "cell_type": "code",
   "execution_count": null,
   "metadata": {},
   "outputs": [],
   "source": [
    "# plt.show()で可視化されない人はこのセルを実行してください。\n",
    "%matplotlib inline"
   ]
  },
  {
   "cell_type": "markdown",
   "metadata": {
    "id": "final_exam",
    "timeout": 300
   },
   "source": [
    "# 総合添削問題"
   ]
  },
  {
   "cell_type": "markdown",
   "metadata": {
    "id": "description"
   },
   "source": [
    "教師あり学習（分類）の総合添削問題はこれまでの手法の特性とハイパーパラメーターのチューニングの重要性、そしてハイパーパラメーターのサーチ方法を理解しているかを問う問題となっています。  \n",
    "使用するデータセットは手書きの数字の画像であり、判別しにくい数字もあることからパラメーターサーチや手法選択がより重要になります。"
   ]
  },
  {
   "cell_type": "markdown",
   "metadata": {},
   "source": [
    "#### 問題"
   ]
  },
  {
   "cell_type": "markdown",
   "metadata": {
    "id": "question"
   },
   "source": [
    "- 手書きの数字の認識・分類をするための学習器をより高い精度で作成したいと思います。\n",
    "- 与えられるデータに対して手法を選び、ハイパーパラメーターを調整して学習能力の高い学習器を作ってください。\n",
    "- また、一番評価の高い手法の名前と、調整したパラメーターとその値を出力してください。\n",
    "----\n",
    "- 評価基準は問題文の条件を満たしている状態で、以下の事項を考慮して総合的に評価いたします。\n",
    "    - 評価値の高さ\n",
    "    - パラメーターの調整方法\n",
    "    - プログラムの実行時間\n",
    "- また、プログラムの実行時間は3分以内とします。"
   ]
  },
  {
   "cell_type": "code",
   "execution_count": null,
   "metadata": {
    "id": "index"
   },
   "outputs": [],
   "source": [
    "%%time\n",
    "# 必要なモジュールがあれば追記してください\n",
    "from sklearn.datasets import load_digits\n",
    "from sklearn.model_selection import train_test_split\n",
    "from sklearn.svm import SVC\n",
    "from sklearn.tree import DecisionTreeClassifier\n",
    "from sklearn.ensemble import RandomForestClassifier\n",
    "from sklearn.neighbors import KNeighborsClassifier\n",
    "from sklearn.model_selection import GridSearchCV\n",
    "from sklearn.model_selection import RandomizedSearchCV\n",
    "import scipy.stats\n",
    "from sklearn.metrics import f1_score\n",
    "\n",
    "data = load_digits()\n",
    "train_X, test_X, train_y, test_y = train_test_split(\n",
    "    data.data, data.target, random_state=42)\n",
    "\n",
    "# 以下にコードを記述してください\n",
    "#m{\"SVM\", \"決定木\", \"ランダムフォレスト\",\"k-NN\"}\n",
    "models = [SVC(), DecisionTreeClassifier(), RandomForestClassifier(),KNeighborsClassifier()]\n",
    "params = [{\"C\": [0.01, 0.1, 1.0, 10, 100],\n",
    "        \"kernel\": [\"linear\", \"poly\", \"rbf\", \"sigmoid\"],\n",
    "        \"decision_function_shape\": [\"ovr\", \"ovo\"],\n",
    "        \"random_state\": scipy.stats.randint(0, 100)},\n",
    "        {\"max_depth\": [i for i in range(1, 20)],\n",
    "        \"random_state\": [i for i in range(100)]},\n",
    "        {\"n_estimators\": [i for i in range(1, 10)],\n",
    "        \"max_depth\": [i for i in range(1, 20)],\n",
    "        \"random_state\": [i for i in range(100)]},\n",
    "        {\"n_neighbors\": [i for i in range(1, 20)]}\n",
    "       ]\n",
    "\n",
    "max_score = 0\n",
    "best_param = None\n",
    "\n",
    "#ランダムサーチでパラメーターサーチ\n",
    "for model, param in zip(models, params):\n",
    "    clf = RandomizedSearchCV(model, param)\n",
    "    clf.fit(train_X, train_y)\n",
    "    pred_y = clf.predict(test_X)\n",
    "    score = f1_score(test_y, pred_y, average=\"micro\")\n",
    "    if max_score < score:\n",
    "        max_score = score\n",
    "        best_param = clf.best_params_\n",
    "        best_model = model.__class__.__name__\n",
    "\n",
    "print(\"学習モデル:{},\\nパラメーター:{}\".format(best_model, best_param))\n",
    "# 最も成績のいいスコアを出力してください。\n",
    "print(\"最も良いスコアは{}\".format(max_score))"
   ]
  },
  {
   "cell_type": "markdown",
   "metadata": {},
   "source": [
    "#### ヒント"
   ]
  },
  {
   "cell_type": "markdown",
   "metadata": {
    "id": "hint"
   },
   "source": [
    "- プログラムの実行時間を計測するにはプログラムの先頭に`%%time`と記述してください。\n",
    "    - jupyter notebook上でのみ実行できるおまじないです。Pythonのプログラムでは実行できないので注意してください。\n",
    "- モデルの手法の名前をプログラムで取得するには`model_name = model.__class__.__name__`とします。\n",
    "- グリッドサーチ、ランダムサーチの結果得られるパラメーターセットを取得するには`best_params = clf.best_params_`とします。\n",
    "- 最高評価を得たモデルが複数ある場合、そのうちの一つだけ出力すれば良いです。\n",
    "- 採点時、モデルの評価にはF値という値を用います。\n",
    "    - F値はprecision(精度)とrecall(再現率)という二つの評価値の調和平均です。  \n",
    "    $$\n",
    "    \\begin{align}\n",
    "    & \\frac{2 ( precision \\times recall )}{precision + recall}\n",
    "    \\end{align}\n",
    "    $$\n",
    "    - プログラムを作る際には`model.score(test_X, test_y)`で構いませんが、  \n",
    "    自身で評価を確認したい場合はモデルに教師データを学習させたのち以下のようにします。\n",
    "    ```python\n",
    "    from sklearn.metrics import f1_score\n",
    "    # モデルにデータを予測させる\n",
    "    pred_y = clf.predict(testX)\n",
    "    \n",
    "    # モデルのF値を計算する\n",
    "    score = f1_score(test_y, pred_y, average=\"micro\")\n",
    "    ```\n",
    "- 今回のデータセットに関する情報は<a href='http://archive.ics.uci.edu/ml/datasets/Optical+Recognition+of+Handwritten+Digits' target='_blank'>UCI Machine Learning Repository(英語版サイト)</a>を参照してください。\n",
    "- 講座でいくつかのパラメーターを手法ごとに紹介しましたが、他にも調整可能なパラメーターが存在します。  \n",
    "<a href='http://scikit-learn.org/stable/modules/classes.html' target='_blank'>scikit-learnのドキュメント(英語版サイト)</a>を参照してください。  \n",
    "また、パラメーターに関してわからないことがあればチューターまでご質問ください。"
   ]
  },
  {
   "cell_type": "markdown",
   "metadata": {},
   "source": [
    "####  解答例"
   ]
  },
  {
   "cell_type": "code",
   "execution_count": null,
   "metadata": {},
   "outputs": [],
   "source": [
    "# 必要なモジュールがあれば追記してください\n",
    "import scipy.stats\n",
    "from sklearn.datasets import load_digits\n",
    "from sklearn.linear_model import LogisticRegression\n",
    "from sklearn.svm import LinearSVC\n",
    "from sklearn.svm import SVC\n",
    "from sklearn.tree import DecisionTreeClassifier\n",
    "from sklearn.ensemble import RandomForestClassifier\n",
    "from sklearn.neighbors import KNeighborsClassifier\n",
    "from sklearn.model_selection import GridSearchCV\n",
    "from sklearn.model_selection import RandomizedSearchCV\n",
    "from sklearn.model_selection import train_test_split\n",
    "from sklearn.metrics import f1_score\n",
    "\n",
    "data = load_digits()\n",
    "train_X, test_X, train_y, test_y = train_test_split(\n",
    "    data.data, data.target, random_state=42)\n",
    "\n",
    "# 以下にコードを記述してください\n",
    "# グリッドサーチ用にモデルとパラメーターセットをまとめた辞書を用意\n",
    "# 辞書のkeyにはオブジェクトのインスタンスを指定することができます\n",
    "model_param_set_grid = {\n",
    "    LogisticRegression(): {\n",
    "        \"C\": [10 ** i for i in range(-5, 5)],\n",
    "        \"random_state\": [42]\n",
    "    },\n",
    "    LinearSVC(): {\n",
    "        \"C\": [10 ** i for i in range(-5, 5)],\n",
    "        \"multi_class\": [\"ovr\", \"crammer_singer\"],\n",
    "        \"random_state\": [42]\n",
    "    },\n",
    "    SVC(): {\n",
    "        \"kernel\": [\"linear\", \"poly\", \"rbf\", \"sigmoid\"],\n",
    "        \"C\": [10 ** i for i in range(-5, 5)],\n",
    "        \"decision_function_shape\": [\"ovr\", \"ovo\"],\n",
    "        \"random_state\": [42]\n",
    "    },\n",
    "    DecisionTreeClassifier(): {\n",
    "        \"max_depth\": [i for i in range(1, 20)],\n",
    "    },\n",
    "    RandomForestClassifier(): {\n",
    "        \"n_estimators\": [i for i in range(10, 20)],\n",
    "        \"max_depth\": [i for i in range(1, 10)],\n",
    "    },\n",
    "    KNeighborsClassifier(): {\n",
    "        \"n_neighbors\": [i for i in range(1, 10)]\n",
    "    }\n",
    "}\n",
    "\n",
    "# ランダムサーチ用にモデルとパラメーターセットをまとめた辞書を用意\n",
    "model_param_set_random = {\n",
    "    LogisticRegression(): {\n",
    "        \"C\": scipy.stats.uniform(0.00001, 1000),\n",
    "        \"random_state\": scipy.stats.randint(0, 100)\n",
    "    },\n",
    "    LinearSVC(): {\n",
    "        \"C\": scipy.stats.uniform(0.00001, 1000),\n",
    "        \"multi_class\": [\"ovr\", \"crammer_singer\"],\n",
    "        \"random_state\": scipy.stats.randint(0, 100)\n",
    "    },\n",
    "    SVC(): {\n",
    "        \"kernel\": [\"linear\", \"poly\", \"rbf\", \"sigmoid\"],\n",
    "        \"C\": scipy.stats.uniform(0.00001, 1000),\n",
    "        \"decision_function_shape\": [\"ovr\", \"ovo\"],\n",
    "        \"random_state\": scipy.stats.randint(0, 100)\n",
    "    },\n",
    "    DecisionTreeClassifier(): {\n",
    "        \"max_depth\": scipy.stats.randint(1, 20),\n",
    "    },\n",
    "    RandomForestClassifier(): {\n",
    "        \"n_estimators\": scipy.stats.randint(10, 100),\n",
    "        \"max_depth\": scipy.stats.randint(1, 20),\n",
    "    },\n",
    "    KNeighborsClassifier(): {\n",
    "        \"n_neighbors\": scipy.stats.randint(1, 20)\n",
    "    }\n",
    "}\n",
    "\n",
    "# スコア比較用に変数を用意\n",
    "max_score = 0\n",
    "best_model = None\n",
    "best_param = None\n",
    "\n",
    "# グリッドサーチでパラメーターサーチ\n",
    "for model, param in model_param_set_grid.items():\n",
    "    clf = GridSearchCV(model, param)\n",
    "    clf.fit(train_X, train_y)\n",
    "    pred_y = clf.predict(test_X)\n",
    "    score = f1_score(test_y, pred_y, average=\"micro\")\n",
    "    # 最高評価更新時にモデルやパラメーターも更新\n",
    "    if max_score < score:\n",
    "        max_score = score\n",
    "        best_model = model.__class__.__name__\n",
    "        best_param = clf.best_params_\n",
    "\n",
    "# ランダムサーチでパラメーターサーチ\n",
    "for model, param in model_param_set_random.items():\n",
    "    clf = RandomizedSearchCV(model, param)\n",
    "    clf.fit(train_X, train_y)\n",
    "    pred_y = clf.predict(test_X)\n",
    "    score = f1_score(test_y, pred_y, average=\"micro\")\n",
    "    # 最高評価更新時にモデルやパラメーターも更新\n",
    "    if max_score < score:\n",
    "        max_score = score\n",
    "        best_model = model.__class__.__name__\n",
    "        best_param = clf.best_params_\n",
    "        \n",
    "print(\"学習モデル:{},\\nパラメーター:{}\".format(best_model, best_param))\n",
    "# 最も成績のいいスコアを出力してください。\n",
    "print(\"ベストスコア:\",max_score)"
   ]
  },
  {
   "cell_type": "markdown",
   "metadata": {
    "id": "commentary"
   },
   "source": [
    "添削課題の提出は以下のアドレスから提出いただきますようお願いします。<br>\n",
    "\b\n",
    "https://goo.gl/forms/fW7CAspZMwHuWuqk2<br><br>\n",
    "以下のアドレスからアンケートにご協力頂きたく存じます。<br>\n",
    "ご回答のほど、よろしくお願いいたします。\n",
    "\n",
    "https://goo.gl/forms/WHjJQYeodIndRvyz2"
   ]
  }
 ],
 "metadata": {
  "celltoolbar": "Edit Metadata",
  "kernelspec": {
   "display_name": "Python 3",
   "language": "python",
   "name": "python3"
  },
  "language_info": {
   "codemirror_mode": {
    "name": "ipython",
    "version": 3
   },
   "file_extension": ".py",
   "mimetype": "text/x-python",
   "name": "python",
   "nbconvert_exporter": "python",
   "pygments_lexer": "ipython3",
   "version": "3.7.3"
  },
  "toc": {
   "base_numbering": 1,
   "nav_menu": {},
   "number_sections": true,
   "sideBar": true,
   "skip_h1_title": false,
   "title_cell": "Table of Contents",
   "title_sidebar": "Contents",
   "toc_cell": false,
   "toc_position": {},
   "toc_section_display": true,
   "toc_window_display": false
  }
 },
 "nbformat": 4,
 "nbformat_minor": 2
}
