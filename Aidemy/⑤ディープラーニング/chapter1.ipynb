{
 "cells": [
  {
   "cell_type": "code",
   "execution_count": null,
   "metadata": {},
   "outputs": [],
   "source": [
    "# plt.show()で可視化されない人はこのセルを実行してください。\n",
    "%matplotlib inline"
   ]
  },
  {
   "cell_type": "markdown",
   "metadata": {
    "chapterId": "HkW8_RQ-gWM",
    "id": "chapter_name"
   },
   "source": [
    "#  深層学習の実践"
   ]
  },
  {
   "cell_type": "markdown",
   "metadata": {
    "id": "table"
   },
   "source": [
    "- **[1.1 深層学習の概要](#1.1-深層学習の概要)**\n",
    "    - **[1.1.1 深層学習を体験してみよう](#1.1.1-深層学習を体験してみよう)**\n",
    "    - **[1.1.2 深層学習とは](#1.1.2-深層学習とは)**\n",
    "    - **[1.1.3 深層学習を用いた分類の流れ](#1.1.3-深層学習を用いた分類の流れ)**\n",
    "    - **[1.1.4 ニューロンの計算方法と学習方法](#1.1.4-ニューロンの計算方法と学習方法)**\n",
    "    - **[1.1.5 深層学習とは(2)](#1.1.5-深層学習とは(2))**\n",
    "    - **[1.1.6 深層学習を用いた分類の流れ](#1.1.6-深層学習を用いた分類の流れ)**\n",
    "<br><br>\n",
    "- **[1.2 手書き数字の分類](#1.2-手書き数字の分類)**\n",
    "    - **[1.2.1 分類までの流れ](#1.2.1-分類までの流れ)**\n",
    "    - **[1.2.2 ディープニューラルネットワーク](#1.2.2-ディープニューラルネットワーク)**\n",
    "    - **[1.2.3 Keras+Tensorflow](#1.2.3-Keras+Tensorflow)**\n",
    "    - **[1.2.4 Kerasの導入](#1.2.4-Kerasの導入)**\n",
    "    - **[1.2.5 データの概要](#1.2.5-データの概要)**\n",
    "    - **[1.2.6 データの用意](#1.2.6-データの用意)**\n",
    "    - **[1.2.7 モデルの生成](#1.2.7-モデルの生成)**\n",
    "    - **[1.2.8 モデルの学習](#1.2.8-モデルの学習)**\n",
    "    - **[1.2.9 モデルの評価](#1.2.9-モデルの評価)**\n",
    "    - **[1.2.10 モデルによる分類](#1.2.10-モデルによる分類)**\n",
    "<br><br>\n",
    "- **[1.3 まとめ問題](#1.3-まとめ問題)**"
   ]
  },
  {
   "cell_type": "markdown",
   "metadata": {},
   "source": [
    "***"
   ]
  },
  {
   "cell_type": "markdown",
   "metadata": {
    "id": "section_name",
    "sectionId": "S1fLdCmZgWz"
   },
   "source": [
    "## 1.1 深層学習の概要"
   ]
  },
  {
   "cell_type": "markdown",
   "metadata": {
    "courseId": 5090,
    "exerciseId": "S1JPdmieG",
    "id": "code_session_name",
    "important": true,
    "isDL": false,
    "timeoutSecs": 30
   },
   "source": [
    "### 1.1.1 深層学習を体験してみよう"
   ]
  },
  {
   "cell_type": "markdown",
   "metadata": {
    "id": "description"
   },
   "source": [
    "この講座ではディープラーニングのなかでも最も基本的な **全結合層のみで作られる多層ニューラルネットワーク** を扱い、 **手書き数字画像データから数字を判別するコードを学びます。**\n",
    "\n",
    "**全結合層**については、<a href='https://aidemy.net/courses/5090/exercises/HJb8c38sIxz' target='_blank'>1.2.2 ディープニューラルネットワーク</a>で詳しく解説します。<br>\n",
    "\n",
    "本講座ではGoogle社製のディープラーニング用ライブラリで、最も人気のあるディープラーニングライブラリのひとつである **Tensorflow** と、 **Tensorflow** を扱いやすくするためのライブラリ **Keras** を使用します。<br>\n",
    "まずは、本講座のゴールを体験してみましょう。"
   ]
  },
  {
   "cell_type": "markdown",
   "metadata": {},
   "source": [
    "#### 問題"
   ]
  },
  {
   "cell_type": "markdown",
   "metadata": {
    "id": "question"
   },
   "source": [
    "次のコードを **RUN(実行)** し、エポック数が上がるにつれて**トレーニングデータに対する正解率** `acc` と**テストデータに対する正解率**`val_acc`も上がっている様子を確認してみましょう。"
   ]
  },
  {
   "cell_type": "code",
   "execution_count": null,
   "metadata": {
    "id": "index",
    "timeoutSecs": 30
   },
   "outputs": [],
   "source": [
    "import numpy as np\n",
    "import matplotlib.pyplot as plt\n",
    "from keras.datasets import mnist\n",
    "from keras.layers import Activation, Dense, Dropout\n",
    "from keras.models import Sequential, load_model\n",
    "from keras import optimizers\n",
    "from keras.utils.np_utils import to_categorical\n",
    "\n",
    "(X_train, y_train), (X_test, y_test) = mnist.load_data()\n",
    "\n",
    "X_train = X_train.reshape(X_train.shape[0], 784)[:6000]\n",
    "X_test = X_test.reshape(X_test.shape[0], 784)[:1000]\n",
    "y_train = to_categorical(y_train)[:6000]\n",
    "y_test = to_categorical(y_test)[:1000]\n",
    "\n",
    "model = Sequential()\n",
    "model.add(Dense(256, input_dim=784))\n",
    "model.add(Activation(\"sigmoid\"))\n",
    "model.add(Dense(128))\n",
    "model.add(Activation(\"sigmoid\"))\n",
    "model.add(Dropout(rate=0.5))\n",
    "model.add(Dense(10))\n",
    "model.add(Activation(\"softmax\"))\n",
    "\n",
    "sgd = optimizers.SGD(lr=0.1)\n",
    "model.compile(optimizer=sgd, loss=\"categorical_crossentropy\", metrics=[\"accuracy\"])\n",
    "\n",
    "# epochs数は5を指定\n",
    "history = model.fit(X_train, y_train, batch_size=500, epochs=5, verbose=1, validation_data=(X_test, y_test))\n",
    "\n",
    "#acc, val_accのプロット\n",
    "plt.plot(history.history[\"acc\"], label=\"acc\", ls=\"-\", marker=\"o\")\n",
    "plt.plot(history.history[\"val_acc\"], label=\"val_acc\", ls=\"-\", marker=\"x\")\n",
    "plt.ylabel(\"accuracy\")\n",
    "plt.xlabel(\"epoch\")\n",
    "plt.legend(loc=\"best\")\n",
    "plt.show()"
   ]
  },
  {
   "cell_type": "markdown",
   "metadata": {},
   "source": [
    "#### ヒント"
   ]
  },
  {
   "cell_type": "markdown",
   "metadata": {
    "id": "hint"
   },
   "source": [
    "- エポック数は、１つの学習データを何回繰り返し学習させるかを表します。"
   ]
  },
  {
   "cell_type": "markdown",
   "metadata": {},
   "source": [
    "#### 解答例"
   ]
  },
  {
   "cell_type": "code",
   "execution_count": null,
   "metadata": {
    "id": "answer",
    "timeoutSecs": 30
   },
   "outputs": [],
   "source": [
    "import numpy as np\n",
    "import matplotlib.pyplot as plt\n",
    "from keras.datasets import mnist\n",
    "from keras.layers import Activation, Dense, Dropout\n",
    "from keras.models import Sequential, load_model\n",
    "from keras import optimizers\n",
    "from keras.utils.np_utils import to_categorical\n",
    "\n",
    "(X_train, y_train), (X_test, y_test) = mnist.load_data()\n",
    "\n",
    "X_train = X_train.reshape(X_train.shape[0], 784)[:6000]\n",
    "X_test = X_test.reshape(X_test.shape[0], 784)[:1000]\n",
    "y_train = to_categorical(y_train)[:6000]\n",
    "y_test = to_categorical(y_test)[:1000]\n",
    "\n",
    "model = Sequential()\n",
    "model.add(Dense(256, input_dim=784))\n",
    "model.add(Activation(\"sigmoid\"))\n",
    "model.add(Dense(128))\n",
    "model.add(Activation(\"sigmoid\"))\n",
    "model.add(Dropout(rate=0.5))\n",
    "model.add(Dense(10))\n",
    "model.add(Activation(\"softmax\"))\n",
    "\n",
    "sgd = optimizers.SGD(lr=0.1)\n",
    "model.compile(optimizer=sgd, loss=\"categorical_crossentropy\", metrics=[\"accuracy\"])\n",
    "\n",
    "# epochs数は5を指定\n",
    "history = model.fit(X_train, y_train, batch_size=500, epochs=5, verbose=1, validation_data=(X_test, y_test))\n",
    "\n",
    "#acc, val_accのプロット\n",
    "plt.plot(history.history[\"acc\"], label=\"acc\", ls=\"-\", marker=\"o\")\n",
    "plt.plot(history.history[\"val_acc\"], label=\"val_acc\", ls=\"-\", marker=\"x\")\n",
    "plt.ylabel(\"accuracy\")\n",
    "plt.xlabel(\"epoch\")\n",
    "plt.legend(loc=\"best\")\n",
    "plt.show()"
   ]
  },
  {
   "cell_type": "markdown",
   "metadata": {},
   "source": [
    "***"
   ]
  },
  {
   "cell_type": "markdown",
   "metadata": {
    "exerciseId": "wHeeKlidI",
    "id": "movie_session_name",
    "important": false,
    "isDL": false,
    "timeoutSecs": 10
   },
   "source": [
    "### 1.1.2 ディープラーニングとは？"
   ]
  },
  {
   "cell_type": "markdown",
   "metadata": {
    "id": "description"
   },
   "source": [
    "- ディープラーニングの概要\n",
    "- ニューロンの概要\n",
    "- ディープラーニングの分野\n",
    "（DNN/CNN/RNN)<br>\n",
    "\n",
    "\n",
    "【バーチャルYouTuber版動画】<br>\n",
    "この動画は、バーチャルYouTuber版の動画も配信されています。<br>\n",
    "https://www.youtube.com/watch?v=M7exy0SSWfk"
   ]
  },
  {
   "cell_type": "markdown",
   "metadata": {},
   "source": [
    "#### 問題"
   ]
  },
  {
   "cell_type": "markdown",
   "metadata": {
    "id": "question"
   },
   "source": [
    "- 次の動画をみてください。"
   ]
  },
  {
   "cell_type": "markdown",
   "metadata": {
    "id": "movielink",
    "scrolled": true
   },
   "source": [
    "https://aidemystorageprd.blob.core.windows.net/movies/5090-wHeeKlidI.m3u8"
   ]
  },
  {
   "cell_type": "markdown",
   "metadata": {},
   "source": [
    "Premium Planを受講している方は以下のリンクから受講してください。<br>\n",
    "https://aidemy.net/courses/5090/exercises/wHeeKlidI"
   ]
  },
  {
   "cell_type": "markdown",
   "metadata": {},
   "source": [
    "***"
   ]
  },
  {
   "cell_type": "markdown",
   "metadata": {
    "courseId": 5090,
    "exerciseId": "HJRS53UiLlM",
    "id": "quiz_session_name",
    "important": true,
    "isDL": false,
    "timeoutSecs": 10
   },
   "source": [
    "### 1.1.3 深層学習とは(1)"
   ]
  },
  {
   "cell_type": "markdown",
   "metadata": {
    "id": "description"
   },
   "source": [
    "<b style='color: #AA0000'>深層学習</b>はディープラーニングとも呼ばれ、**機械学習の一種であり、さらに一歩進んだ技術** です。\n",
    "データの分類や回帰を行うために、生物の**神経ネットワーク**を参考に **ディープニューラルネットワーク** というモデルを使います。\n",
    "\n",
    "<img src='https://aidemyexcontentspic.blob.core.windows.net/contents-pic/5090_dnn/dnn_chap1_10.png'>\n",
    "\n",
    "**<center>図1.1.3-1 神経ニューラルネットワーク</center>**\n",
    "\n",
    "ただし、深層学習の目的は脳の神経ネットワークの再現ではなく、画像や音声などの **認識精度を高める** ことを目標として研究が行われています。画像認識、映像解析を利用した自動運転技術や、音声解析で実現するスマートスピーカー「Google Home」や「Siri」など、実は私たちの日常生活の多くの場面でこの技術が使われているのです。\n",
    "\n",
    "深層学習が注目を集めている理由のひとつに、従来、人が行っていた作業を自動化することで手間が少なくなり、精度も上がるということが挙げられます。<br>\n",
    "\n",
    "<img src='https://aidemyexcontentspic.blob.core.windows.net/contents-pic/5090_dnn/car.png' width=700>\n",
    "\n",
    "**<center>図1.1.3-2 車を検出する場合</center>**\n",
    "\n",
    "例えば、画像の中から「車」を検出するプログラムを作成する場合、機械学習ではいろいろな種類の車のタイヤやフロントガラスの特徴などの細かい情報をあらかじめ用意して、それを学習させたモデルを作る必要がありました。しかし、深層学習はそのようなモデルなしに、車のパーツの特徴を **自動** で見つけられるのです。"
   ]
  },
  {
   "cell_type": "markdown",
   "metadata": {},
   "source": [
    "#### 問題"
   ]
  },
  {
   "cell_type": "markdown",
   "metadata": {
    "id": "question"
   },
   "source": [
    "- 深層学習、ニューラルネットワークについて正しい記述を選択してください。"
   ]
  },
  {
   "cell_type": "markdown",
   "metadata": {
    "id": "choices"
   },
   "source": [
    "- ディープニューラルネットワークは動物の脳を完全に再現したモデルである。\n",
    "- ニューラルネットワークでは、人間がプログラムに注目すべき特徴を指定する必要がある。\n",
    "- ニューラルネットワークが注目されている理由は、人間のように知能を持つからである。\n",
    "- 深層学習は、機械学習の一手法である。"
   ]
  },
  {
   "cell_type": "markdown",
   "metadata": {},
   "source": [
    "#### ヒント"
   ]
  },
  {
   "cell_type": "markdown",
   "metadata": {
    "id": "hint"
   },
   "source": [
    "- 深層学習と機械学習の関係性をよく考えましょう。"
   ]
  },
  {
   "cell_type": "markdown",
   "metadata": {},
   "source": [
    "#### 解答"
   ]
  },
  {
   "cell_type": "markdown",
   "metadata": {
    "id": "answer"
   },
   "source": [
    "- 深層学習は、機械学習の一手法である。"
   ]
  },
  {
   "cell_type": "markdown",
   "metadata": {},
   "source": [
    "***"
   ]
  },
  {
   "cell_type": "markdown",
   "metadata": {
    "exerciseId": "Cz4GZjnmsf",
    "id": "movie_session_name",
    "important": false,
    "isDL": false,
    "timeoutSecs": 10
   },
   "source": [
    "### 1.1.4 ニューロンの計算方法と学習方法"
   ]
  },
  {
   "cell_type": "markdown",
   "metadata": {
    "id": "description"
   },
   "source": [
    "動画を見て、下記について学習しましょう。\n",
    "<br>\n",
    "- ニューロンの内部の処理\n",
    "- 活性化関数の処理の例\n",
    "\n",
    "\n",
    "【バーチャルYouTuber版動画】<br>\n",
    "この動画は、バーチャルYouTuber版の動画も配信されています。<br>\n",
    "https://www.youtube.com/watch?v=4ntNFqc4kRE"
   ]
  },
  {
   "cell_type": "markdown",
   "metadata": {},
   "source": [
    "#### 問題"
   ]
  },
  {
   "cell_type": "markdown",
   "metadata": {
    "id": "question"
   },
   "source": [
    "- 次の動画をみてください。"
   ]
  },
  {
   "cell_type": "markdown",
   "metadata": {
    "id": "movielink",
    "scrolled": true
   },
   "source": [
    "https://aidemystorageprd.blob.core.windows.net/movies/5090-Cz4GZjnmsf.m3u8"
   ]
  },
  {
   "cell_type": "markdown",
   "metadata": {},
   "source": [
    "Premium Planを受講している方は以下のリンクから受講してください。<br>\n",
    "https://aidemy.net/courses/5090/exercises/Cz4GZjnmsf"
   ]
  },
  {
   "cell_type": "markdown",
   "metadata": {},
   "source": [
    "***"
   ]
  },
  {
   "cell_type": "markdown",
   "metadata": {
    "courseId": 5090,
    "exerciseId": "SylrP-gAgf",
    "id": "quiz_session_name",
    "important": true,
    "isDL": false,
    "timeoutSecs": 10
   },
   "source": [
    "### 1.1.5 深層学習とは(2)"
   ]
  },
  {
   "cell_type": "markdown",
   "metadata": {
    "id": "description"
   },
   "source": [
    "下図はニューラルネットワークを構成するニューロンを表したもので、$x_1, x_2$が入力値で、$w_1, w_2$は **重みパラメータ** です。このモデルでは$x_1w_1 + x_2w_2$の値が 閾値$\\theta$よりも高ければニューロンが発火して1を出力し、それ以外の場合には0を出力します。\n",
    "\n",
    "<img src='https://aidemyexcontentspic.blob.core.windows.net/contents-pic/5090_dnn/dnn_chap1_30.png'>\n",
    "\n",
    "**<center>図1.1.5-1 ニューロン</center>**\n",
    "\n",
    "入力が閾値を超えると、ニューロンは次のニューロンへの情報伝達を行います。これを、ニューロンの発火と呼びます。ニューラルネットワークではベクトルや行列などの入力値を受け取り、発火の連鎖を経て最終的にスカラーやベクトルなどの値を出力するのです。これを画像認識で例えると、動物の画像のピクセルデータを入力することで、どのカテゴリ（ネコ、イヌ、トリなど）に属する確率が高いかという情報が出力されるイメージになります。\n",
    "\n",
    "そして、下図のようにニューロンの層を積み重ね、より複雑な問題を扱えるようにしたのが <b style='color: #AA0000'>ディープニューラルネットワーク</b>です。特に4層以上の構造を指すことが多く、その構造の深さから「ディープ」という名前を付けられました。<br>\n",
    "\n",
    "<img src='https://aidemyexcontentspic.blob.core.windows.net/contents-pic/5090_dnn/dnn_chap1_20.gif'>\n",
    "\n",
    "**<center>図1.1.5-2 ニューラルネットワーク</center>**\n",
    "\n",
    "実は **ニューラルネットワーク** という数学モデルは、1950年代から既に存在していました。\n",
    "そして近年、ディープニューラルネットワークを活用できる計算環境が整い、学習手法の研究も進んだため、かなり多くの注目を集めています。\n",
    "\n",
    "なお、深層学習では **各ニューロンの重みパラメータを機械的に調整する** ことで分類モデルや回帰モデルを作ります。\n",
    "\n",
    "> 出典：<a href='http://www.opennn.net/' target='_blank'>http://www.opennn.net/</a>"
   ]
  },
  {
   "cell_type": "markdown",
   "metadata": {},
   "source": [
    "#### 問題"
   ]
  },
  {
   "cell_type": "markdown",
   "metadata": {
    "id": "question"
   },
   "source": [
    "- 次のうち、ニューラルネットワーク、深層学習についての正しい説明を選んでください。 "
   ]
  },
  {
   "cell_type": "markdown",
   "metadata": {
    "id": "choices"
   },
   "source": [
    "- ディープラーニングが急激に盛んになったのは、高性能な計算機の登場が理由の一つに挙げられる。\n",
    "- ディープニューラルネットワークはニューロンを積み重ねて作られている。\n",
    "- ディープラーニングでは、重みパラメータが学習される。\n",
    "- 上記のすべて"
   ]
  },
  {
   "cell_type": "markdown",
   "metadata": {},
   "source": [
    "#### ヒント"
   ]
  },
  {
   "cell_type": "markdown",
   "metadata": {
    "id": "hint"
   },
   "source": [
    "- ディープラーニングが注目されているのは、計算環境が整い、ニューロンを積み重ねても重みパラメータがうまく学習できるようになったためです。"
   ]
  },
  {
   "cell_type": "markdown",
   "metadata": {},
   "source": [
    "#### 解答"
   ]
  },
  {
   "cell_type": "markdown",
   "metadata": {
    "id": "answer"
   },
   "source": [
    "- 上記のすべて"
   ]
  },
  {
   "cell_type": "markdown",
   "metadata": {},
   "source": [
    "***"
   ]
  },
  {
   "cell_type": "markdown",
   "metadata": {
    "courseId": 5090,
    "exerciseId": "HyJ8c2UiIlz",
    "id": "quiz_session_name",
    "important": true,
    "isDL": false,
    "timeoutSecs": 10
   },
   "source": [
    "### 1.1.6 深層学習を用いた分類の流れ"
   ]
  },
  {
   "cell_type": "markdown",
   "metadata": {
    "id": "description"
   },
   "source": [
    "深層学習を用いた分類の流れを見ていきましょう。\n",
    "\n",
    "- **ネットワークモデルを作る**\n",
    "\n",
    "いくつかのニューロンを束ねた層を図のように重ねていくことで、階層の深いネットワークモデルを構築します。\n",
    "\n",
    "<img src='https://aidemyexcontentspic.blob.core.windows.net/contents-pic/5090_dnn/dnn_chap1_40.gif'>\n",
    "\n",
    "**<center>図1.1.6-1 ディープニューラルネットワーク</center>**\n",
    "\n",
    "最初のうちは、入力に対してニューロンがランダムに反応し、意味をもたない値を出力します。\n",
    "\n",
    "- **モデルに訓練用のデータを与え、学習を行う**\n",
    "\n",
    "モデルは入力値Xを受け取り、出力値yを出力します。  \n",
    "\n",
    "<img src='https://aidemyexstorage.blob.core.windows.net/aidemycontents/1539649698690986.png'>\n",
    "\n",
    "**<center>図1.1.6-2 モデルにトレーニングデータを渡す</center>**\n",
    "\n",
    "このとき、yと正解データ(教師ラベル)Tの差分である$ΔE$が小さくなるように、誤差逆伝播法という方法で自動的にニューロンの重みを調整します。そして、 **画像などの生データXと正解データTを与えることで繰り返し重みを調整し、次第に求める出力値が得られるようになります。**\n",
    "うまく学習が進むと、適切な予測値を返すモデルができあがります。\n",
    "\n",
    "- **分類データをモデルに渡す**\n",
    "\n",
    "<img src='https://aidemyexcontentspic.blob.core.windows.net/contents-pic/5090_dnn/dnn_chap1_70.png'>\n",
    "\n",
    "**<center>図1.1.6-3 学習データを渡す</center>**\n",
    "\n",
    "図のような流れで、深層学習によるデータの分類ができます。\n",
    "つまり深層学習では、手順の詳細を理解しなくても、 **分類** や **回帰** のモデルを作ることができるのです。\n",
    "\n",
    "> 出典: <a href='http://opencv.jp/' target='_blank'>http://opencv.jp/</a>"
   ]
  },
  {
   "cell_type": "markdown",
   "metadata": {},
   "source": [
    "#### 問題"
   ]
  },
  {
   "cell_type": "markdown",
   "metadata": {
    "id": "question"
   },
   "source": [
    "- 以下のうち、ニューラルネットワークモデルを用いた分類についての正しい説明を選んでください。"
   ]
  },
  {
   "cell_type": "markdown",
   "metadata": {
    "id": "choices"
   },
   "source": [
    "- ニューラルネットワークモデルは分類モデルしか作ることができない。\n",
    "- ニューラルネットワークモデルは構築されてすぐ、入力に対して期待する反応を示す。\n",
    "- ニューラルネットワークモデルの各重みを自動的に更新する手法はない。\n",
    "- ニューラルネットワークモデルを使って様々な分類、回帰モデルを構築することができる。"
   ]
  },
  {
   "cell_type": "markdown",
   "metadata": {},
   "source": [
    "#### ヒント"
   ]
  },
  {
   "cell_type": "markdown",
   "metadata": {
    "id": "hint"
   },
   "source": [
    "ニューラルネットワークモデルでは大量のデータの入力によって繰り返し重みが調整され、次第に求めたい出力が得られるようになります。"
   ]
  },
  {
   "cell_type": "markdown",
   "metadata": {},
   "source": [
    "#### 解答"
   ]
  },
  {
   "cell_type": "markdown",
   "metadata": {
    "id": "answer"
   },
   "source": [
    "- ニューラルネットワークモデルを使って様々な分類、回帰モデルを構築することができる。"
   ]
  },
  {
   "cell_type": "markdown",
   "metadata": {},
   "source": [
    "***"
   ]
  },
  {
   "cell_type": "markdown",
   "metadata": {
    "id": "section_name",
    "sectionId": "BJmLOCmZl-f"
   },
   "source": [
    "## 1.2 手書き数字の分類"
   ]
  },
  {
   "cell_type": "markdown",
   "metadata": {
    "courseId": 5090,
    "exerciseId": "BylUqn8j8lM",
    "id": "quiz_session_name",
    "important": true,
    "isDL": false,
    "timeoutSecs": 10
   },
   "source": [
    "### 1.2.1 分類までの流れ"
   ]
  },
  {
   "cell_type": "markdown",
   "metadata": {
    "id": "description"
   },
   "source": [
    "<b style='color: #AA0000'>Keras</b>というライブラリを使用して、下記のようなニューラルネットワークモデルを実装してみましょう。まず、深層学習では定番ともいえる **手書き数字の分類** を下記の手順で行います。\n",
    "\n",
    "<img src='https://aidemyexcontentspic.blob.core.windows.net/contents-pic/5090_dnn/dnn_chap1_80.png'>\n",
    "\n",
    "**<center>図1.2.1-1 分類までの流れ</center>**\n",
    "\n",
    "1. データを準備する\n",
    "2. ニューラルネットワークモデルを構築\n",
    "3. モデルにデータを与え、学習させる\n",
    "4. モデルの分類精度を評価 \n",
    "\n",
    "最後に手書き数字の画像を与え、予測された値を確認します。"
   ]
  },
  {
   "cell_type": "markdown",
   "metadata": {},
   "source": [
    "#### 問題"
   ]
  },
  {
   "cell_type": "markdown",
   "metadata": {
    "id": "question"
   },
   "source": [
    "- 以下のうち、今回行う分類において必要ない作業を選んでください。"
   ]
  },
  {
   "cell_type": "markdown",
   "metadata": {
    "id": "choices"
   },
   "source": [
    "- データを用意する\n",
    "- データを分類する上で注目すべき部分を抽出する方法を考え、実装する\n",
    "- ネットワークモデルにデータを与え、学習を行う\n",
    "- 上記のすべて"
   ]
  },
  {
   "cell_type": "markdown",
   "metadata": {},
   "source": [
    "#### ヒント"
   ]
  },
  {
   "cell_type": "markdown",
   "metadata": {
    "id": "hint"
   },
   "source": [
    "ニューラルネットワークモデルを用います。前のセッションの内容を踏まえましょう。"
   ]
  },
  {
   "cell_type": "markdown",
   "metadata": {},
   "source": [
    "#### 解答"
   ]
  },
  {
   "cell_type": "markdown",
   "metadata": {
    "id": "answer"
   },
   "source": [
    "- データを分類する上で注目すべき部分を抽出する方法を考え、実装する"
   ]
  },
  {
   "cell_type": "markdown",
   "metadata": {},
   "source": [
    "***"
   ]
  },
  {
   "cell_type": "markdown",
   "metadata": {
    "courseId": 5090,
    "exerciseId": "HJb8c38sIxz",
    "id": "quiz_session_name",
    "important": true,
    "isDL": false,
    "timeoutSecs": 10
   },
   "source": [
    "### 1.2.2 ディープニューラルネットワーク"
   ]
  },
  {
   "cell_type": "markdown",
   "metadata": {
    "id": "description"
   },
   "source": [
    "ある程度深さのあるニューラルネットワークを、 <b style='color: #AA0000'>ディープニューラルネットワーク</b>と呼び、入力する層を **入力層** 、 出力する層を **出力層** 、入力層と出力層の間を **隠れ層** といいます。\n",
    "\n",
    "今回は、全てのニューロンが前の層のニューロンと結合した **全結合層** が2つあるシンプルな構造のニューラルネットワークを作成します。 <br>\n",
    "\n",
    "<img src='https://aidemyexcontentspic.blob.core.windows.net/contents-pic/5090_dnn/dnn_chap1_90.png'>\n",
    "\n",
    "**<center>図1.2.2-1 one-hot ベクトル</center>**\n",
    "\n",
    "入力された手書き画像データが「7」だった場合、クラスラベルが7に対応するラベルが1, それ以外は0となります。\n",
    "\n",
    "このようなデータのことを <b style='color: #AA0000'>one-hot ベクトル</b>、縦に並ぶベクトルの一つひとつの要素を **ノード** 、その次元数を **ノード数** と呼びます。\n",
    "\n",
    "今回のモデルで入力するのは、28x28のモノクロ画像を一次元配列に平坦化した784次元で出力は10次元のベクトルです。手書き数字を0~9の連続値よりは、10個のクラスに分類する方が一般的なので、図のように、出力ユニットの数を1でなく10にしています。"
   ]
  },
  {
   "cell_type": "markdown",
   "metadata": {},
   "source": [
    "#### 問題"
   ]
  },
  {
   "cell_type": "markdown",
   "metadata": {
    "id": "question"
   },
   "source": [
    "- 次のうち、説明文中のモデルの説明として間違ったものを選んでください。"
   ]
  },
  {
   "cell_type": "markdown",
   "metadata": {
    "id": "choices"
   },
   "source": [
    "- 入力層のノード数は784\n",
    "- 出力層のノード数は1\n",
    "- 隠れ層の数は1"
   ]
  },
  {
   "cell_type": "markdown",
   "metadata": {},
   "source": [
    "#### ヒント"
   ]
  },
  {
   "cell_type": "markdown",
   "metadata": {
    "id": "hint"
   },
   "source": [
    "- 手書き数字を0~9の連続値に分類するのではなく、0~9の10個のクラスに分類すると考えるのが自然です。"
   ]
  },
  {
   "cell_type": "markdown",
   "metadata": {},
   "source": [
    "#### 解答"
   ]
  },
  {
   "cell_type": "markdown",
   "metadata": {
    "id": "answer"
   },
   "source": [
    "- 出力層のノード数は1"
   ]
  },
  {
   "cell_type": "markdown",
   "metadata": {},
   "source": [
    "***"
   ]
  },
  {
   "cell_type": "markdown",
   "metadata": {
    "exerciseId": "YntEXJboEU",
    "id": "movie_session_name",
    "important": false,
    "isDL": false,
    "timeoutSecs": 10
   },
   "source": [
    "### 1.2.3 Keras+Tensorflow"
   ]
  },
  {
   "cell_type": "markdown",
   "metadata": {
    "id": "description"
   },
   "source": [
    "今回は下記の内容を動画で学習します。\n",
    "<br>\n",
    "- Tensorflowとは？\n",
    "- Kerasとは？\n",
    "- Kerasのメリットとデメリット\n",
    "\n",
    "\n",
    "【バーチャルYouTuber版動画】<br>\n",
    "この動画は、バーチャルYouTuber版の動画も配信されています。<br>\n",
    "https://www.youtube.com/watch?v=0ObCbapKWIs"
   ]
  },
  {
   "cell_type": "markdown",
   "metadata": {},
   "source": [
    "#### 問題"
   ]
  },
  {
   "cell_type": "markdown",
   "metadata": {
    "id": "question"
   },
   "source": [
    "- 次の動画をみてください。"
   ]
  },
  {
   "cell_type": "markdown",
   "metadata": {
    "id": "movielink",
    "scrolled": true
   },
   "source": [
    "https://aidemystorageprd.blob.core.windows.net/movies/5090-YntEXJboEU.m3u8"
   ]
  },
  {
   "cell_type": "markdown",
   "metadata": {},
   "source": [
    "Premium Planを受講している方は以下のリンクから受講してください。<br>\n",
    "https://aidemy.net/courses/5090/exercises/YntEXJboEU"
   ]
  },
  {
   "cell_type": "markdown",
   "metadata": {},
   "source": [
    "***"
   ]
  },
  {
   "cell_type": "markdown",
   "metadata": {
    "courseId": 5090,
    "exerciseId": "HyGUq3UiIxM",
    "id": "quiz_session_name",
    "important": true,
    "isDL": false,
    "timeoutSecs": 10
   },
   "source": [
    "### 1.2.4 Kerasの導入"
   ]
  },
  {
   "cell_type": "markdown",
   "metadata": {
    "id": "description"
   },
   "source": [
    "データマイニングの情報サイトKDNuggetsが行った調査<a href='https://www.kdnuggets.com/2018/09/deep-learning-framework-power-scores-2018.html?fbclid=IwAR3HfzSGw7qUN25i0Iv5ol-VJILURfeuMbtnaUT3t31PvNrAup824OX32lw#.W9ZJgzzSsR0.facebook' target='_blank'>Deep Learning Framework Power Scores 2018</a>では、**Keras**がTensorFlowに次いで2番目によく使われているという結果がでました。\n",
    "\n",
    "TensorFlowはGoogle社が提供する機械学習用のオープンソースソフトウェアライブラリで、Kerasはより**直感的で簡潔にコードを書くこと**を可能にしてくれるTensorFlowのラッパーライブラリです。\n",
    "この場合のラッパーはシステムを内包して、より使いやすくしたものという意味になります。"
   ]
  },
  {
   "cell_type": "markdown",
   "metadata": {},
   "source": [
    "#### 問題"
   ]
  },
  {
   "cell_type": "markdown",
   "metadata": {
    "id": "question"
   },
   "source": [
    "- Kerasの説明として正しいものを1つ選んでください。"
   ]
  },
  {
   "cell_type": "markdown",
   "metadata": {
    "id": "choices"
   },
   "source": [
    "- KerasはTensorflowを扱いやすくしてくれる。\n",
    "- Tensorflowのコア部分はC++で実装されているので、Kerasはpythonで使うことはできない。\n",
    "- Kerasは高水準なライブラリであるため、月々の使用料が発生する。\n",
    "- Kerasはオープンソースライブラリなので、著作権を気にせずに誰でも自由に使って良い。"
   ]
  },
  {
   "cell_type": "markdown",
   "metadata": {},
   "source": [
    "#### ヒント"
   ]
  },
  {
   "cell_type": "markdown",
   "metadata": {
    "id": "hint"
   },
   "source": [
    "- オープンソースライブラリでも、著作権は発生します。"
   ]
  },
  {
   "cell_type": "markdown",
   "metadata": {},
   "source": [
    "#### 解答"
   ]
  },
  {
   "cell_type": "markdown",
   "metadata": {
    "id": "answer"
   },
   "source": [
    "- KerasはTensorflowを扱いやすくしてくれる。"
   ]
  },
  {
   "cell_type": "markdown",
   "metadata": {},
   "source": [
    "***"
   ]
  },
  {
   "cell_type": "markdown",
   "metadata": {
    "exerciseId": "xAn5J4vMUg",
    "id": "movie_session_name",
    "important": false,
    "isDL": false,
    "timeoutSecs": 10
   },
   "source": [
    "### 1.2.5 データの概要"
   ]
  },
  {
   "cell_type": "markdown",
   "metadata": {
    "id": "description"
   },
   "source": [
    "動画を見て、下記について学習しましょう。\n",
    "<br>\n",
    "- 画像データの扱い\n",
    "- 画像データの数値への変換\n",
    "\n",
    "\n",
    "【バーチャルYouTuber版動画】<br>\n",
    "この動画は、バーチャルYouTuber版の動画も配信されています。<br>\n",
    "https://www.youtube.com/watch?v=VY3m1gfABcc"
   ]
  },
  {
   "cell_type": "markdown",
   "metadata": {},
   "source": [
    "#### 問題"
   ]
  },
  {
   "cell_type": "markdown",
   "metadata": {
    "id": "question"
   },
   "source": [
    "- 次の動画をみてください。"
   ]
  },
  {
   "cell_type": "markdown",
   "metadata": {
    "id": "movielink",
    "scrolled": true
   },
   "source": [
    "https://aidemystorageprd.blob.core.windows.net/movies/5090-xAn5J4vMUg.m3u8"
   ]
  },
  {
   "cell_type": "markdown",
   "metadata": {},
   "source": [
    "Premium Planを受講している方は以下のリンクから受講してください。<br>\n",
    "https://aidemy.net/courses/5090/exercises/xAn5J4vMUg"
   ]
  },
  {
   "cell_type": "markdown",
   "metadata": {},
   "source": [
    "***"
   ]
  },
  {
   "cell_type": "markdown",
   "metadata": {
    "courseId": 5090,
    "exerciseId": "S1QL9hIj8xf",
    "id": "code_session_name",
    "important": true,
    "isDL": false,
    "timeoutSecs": 30
   },
   "source": [
    "### 1.2.6 データの用意"
   ]
  },
  {
   "cell_type": "markdown",
   "metadata": {
    "id": "description"
   },
   "source": [
    "手書き数字の学習には、<a href='http://yann.lecun.com/exdb/mnist/' target='_blank'>Yann LeCun's website</a>で公開されている **MNIST(エムニスト)** というデータセットを使用します。MNISTは、Kerasで下記のコードを実行することでもダウンロードできます。\n",
    "\n",
    "```python\n",
    "from keras.datasets import mnist\n",
    "(X_train, y_train), (X_test, y_test) = mnist.load_data()\n",
    "```\n",
    "\n",
    "コードのXは **画像データ** 、yは **教師ラベルデータ** で、trainは学習用データ、testはモデルの性能を評価する際に使用するデータです。  \n",
    "ただし、trainデータとtestデータには、データとしての本質的な違いはありません。\n",
    "\n",
    "また、ダウンロード済みの状態でMNISTを実行すると、データの読み込みを行うことができます。"
   ]
  },
  {
   "cell_type": "markdown",
   "metadata": {},
   "source": [
    "#### 問題"
   ]
  },
  {
   "cell_type": "markdown",
   "metadata": {
    "id": "question"
   },
   "source": [
    "- X_train、y_train、X_test、y_test はすべてnumpy.ndarray型です。\n",
    "- X_train、y_train、X_test、y_test について、 **それぞれの大きさを出力する** ように変更してください。"
   ]
  },
  {
   "cell_type": "code",
   "execution_count": null,
   "metadata": {
    "id": "index",
    "timeoutSecs": 30
   },
   "outputs": [],
   "source": [
    "from keras.datasets import mnist\n",
    "\n",
    "(X_train, y_train), (X_test, y_test) = mnist.load_data()\n",
    "\n",
    "\n",
    "# 次の一行を変更してください\n",
    "print(X_train, y_train, X_test, y_test) \n"
   ]
  },
  {
   "cell_type": "markdown",
   "metadata": {},
   "source": [
    "#### ヒント"
   ]
  },
  {
   "cell_type": "markdown",
   "metadata": {
    "id": "hint"
   },
   "source": [
    "numpy.ndarray型は以下で大きさが取得できます。\n",
    "```python\n",
    "import numpy as np\n",
    "A = np.array([[1,2], [3,4], [5,6]])\n",
    "A.shape \n",
    "# 出力結果\n",
    "(3, 2)\n",
    "```"
   ]
  },
  {
   "cell_type": "markdown",
   "metadata": {},
   "source": [
    "#### 解答例"
   ]
  },
  {
   "cell_type": "code",
   "execution_count": null,
   "metadata": {
    "id": "answer",
    "timeoutSecs": 30
   },
   "outputs": [],
   "source": [
    "from keras.datasets import mnist\n",
    "\n",
    "(X_train, y_train), (X_test, y_test) = mnist.load_data()\n",
    "\n",
    "\n",
    "# 次の一行を変更してください\n",
    "print(X_train.shape, y_train.shape, X_test.shape, y_test.shape)       \n"
   ]
  },
  {
   "cell_type": "markdown",
   "metadata": {},
   "source": [
    "***"
   ]
  },
  {
   "cell_type": "markdown",
   "metadata": {
    "courseId": 5090,
    "exerciseId": "ryVLqhUsIgG",
    "id": "code_session_name",
    "important": true,
    "isDL": false,
    "timeoutSecs": 30
   },
   "source": [
    "### 1.2.7 モデルの生成"
   ]
  },
  {
   "cell_type": "markdown",
   "metadata": {
    "id": "description"
   },
   "source": [
    "**Keras** では、まずモデルを管理するインスタンスを作り、`add`メソッドで一層ずつ定義していきます。\n",
    "\n",
    "<img src='https://aidemyexcontentspic.blob.core.windows.net/contents-pic/5090_dnn/dnn_chap1_100.gif'>\n",
    "\n",
    "**<center>図1.2.7-1 ニューラルネットワーク</center>**\n",
    "\n",
    "インスタンスを作ります。\n",
    "\n",
    "```python\n",
    "from keras.models import Sequential\n",
    "from keras.layers import Dense, Activation\n",
    "\n",
    "model = Sequential()\n",
    "```\n",
    "\n",
    "今回は128のユニットの全結合層を定義します。下記のように`add`メソッドを使ってモデルを一層ずつ定義していきます。  \n",
    "\n",
    "```python\n",
    "model.add(Dense(128))\n",
    "```\n",
    "全結合層の出力には、 **活性化関数** と呼ばれる関数を適用します。   \n",
    "\n",
    "```python\n",
    "model.add(Activation(\"sigmoid\"))\n",
    "```\n",
    "これは、動物の神経の発火に相当する仕組みで、シグモイド関数 `sigmoid` やReLU関数 `relu` などを設定します。そして最後にコンパイルメソッド `compile()` で学習処理を設定して、モデルの生成が終了するのです。  \n",
    "\n",
    "```python\n",
    "model.compile(optimizer=sgd, loss=\"categorical_crossentropy\", metrics=[\"accuracy\"])\n",
    "```\n",
    "\n",
    "これらの関数やパラメータなどについては、<a href='https://aidemy.net/courses/5090/exercises/Syd8938sUlf' target='_blank'>Chapter2</a>で詳しく説明いたします。"
   ]
  },
  {
   "cell_type": "markdown",
   "metadata": {},
   "source": [
    "#### 問題"
   ]
  },
  {
   "cell_type": "markdown",
   "metadata": {
    "id": "question"
   },
   "source": [
    "-まずはネットワークモデルの構築イメージを掴みましょう。以下のコードでは、隠れ層1つのネットワークモデルを生成しています。空欄を埋めて、隠れ層を2つ持つ、下図のようなモデルを生成しましょう。活性化関数にはReLU関数 `relu` を使用します。\n",
    "\n",
    "<img src=\"https://aidemyexcontentspic.blob.core.windows.net/contents-pic/5090_dnn/dnn_chap1_110.png\" width=30%>\n",
    "\n",
    "**<center>図1.2.7-2 モデル</center>**"
   ]
  },
  {
   "cell_type": "code",
   "execution_count": null,
   "metadata": {
    "id": "index"
   },
   "outputs": [],
   "source": [
    "from keras.datasets import mnist\n",
    "from keras.models import Sequential\n",
    "from keras.layers import Dense, Activation\n",
    "from keras.utils.vis_utils import plot_model\n",
    "from keras.utils.np_utils import to_categorical\n",
    "import matplotlib.pyplot as plt\n",
    "\n",
    "(X_train, y_train), (X_test, y_test) = mnist.load_data()\n",
    "\n",
    "# (◯, 28, 28)のデータを(◯, 784)に次元削減します。(簡単のためデータ数を減らします)\n",
    "shapes = X_train.shape[1] * X_train.shape[2]\n",
    "X_train = X_train.reshape(X_train.shape[0], shapes)[:6000]\n",
    "X_test = X_test.reshape(X_test.shape[0], shapes)[:1000]\n",
    "y_train = to_categorical(y_train)[:6000]\n",
    "y_test = to_categorical(y_test)[:1000]\n",
    "\n",
    "model = Sequential()\n",
    "# 入力ユニット数は784, 1つ目の全結合層の出力ユニット数は256\n",
    "model.add(Dense(256, input_dim=784))\n",
    "model.add(Activation(\"sigmoid\"))\n",
    "\n",
    "# 2つ目の全結合層の出力ユニット数は128。活性化関数はrelu。\n",
    "#　---------------------------\n",
    "#　ここに書いて下さい\n",
    "\n",
    "#　ここまで書いて下さい\n",
    "#　---------------------------\n",
    "\n",
    "# 3つ目の全結合層（出力層）の出力ユニット数は10\n",
    "model.add(Dense(10))\n",
    "model.add(Activation(\"softmax\"))\n",
    "\n",
    "model.compile(optimizer=\"sgd\", loss=\"categorical_crossentropy\", metrics=[\"accuracy\"])\n",
    "\n",
    "# モデル構造の出力\n",
    "plot_model(model, \"model125.png\", show_layer_names=False)\n",
    "# モデル構造の可視化\n",
    "image = plt.imread(\"model125.png\")\n",
    "plt.figure(dpi=150)\n",
    "plt.imshow(image)\n",
    "plt.show()"
   ]
  },
  {
   "cell_type": "markdown",
   "metadata": {},
   "source": [
    "#### ヒント"
   ]
  },
  {
   "cell_type": "markdown",
   "metadata": {
    "id": "hint"
   },
   "source": [
    "- 以下の文でモデルの構造をpng画像に出力しています。  \n",
    "```python\n",
    "plot_model(model, \"model125.png\", show_layer_names=False)\n",
    "```\n",
    "出力画像が上の図と一致するように、モデルを定義してください。"
   ]
  },
  {
   "cell_type": "markdown",
   "metadata": {},
   "source": [
    "#### 解答例"
   ]
  },
  {
   "cell_type": "code",
   "execution_count": null,
   "metadata": {
    "id": "answer"
   },
   "outputs": [],
   "source": [
    "from keras.datasets import mnist\n",
    "from keras.models import Sequential\n",
    "from keras.layers import Dense, Activation\n",
    "from keras.utils.vis_utils import plot_model\n",
    "from keras.utils.np_utils import to_categorical\n",
    "import matplotlib.pyplot as plt\n",
    "\n",
    "(X_train, y_train), (X_test, y_test) = mnist.load_data()\n",
    "\n",
    "# (◯, 28, 28)のデータを(◯, 784)に次元削減します。(簡単のためデータ数を減らします)\n",
    "shapes = X_train.shape[1] * X_train.shape[2]\n",
    "X_train = X_train.reshape(X_train.shape[0], shapes)[:6000]\n",
    "X_test = X_test.reshape(X_test.shape[0], shapes)[:1000]\n",
    "y_train = to_categorical(y_train)[:6000]\n",
    "y_test = to_categorical(y_test)[:1000]\n",
    "\n",
    "model = Sequential()\n",
    "# 入力ユニット数は784, 1つ目の全結合層の出力ユニット数は256\n",
    "model.add(Dense(256, input_dim=784))\n",
    "model.add(Activation(\"sigmoid\"))\n",
    "\n",
    "# 2つ目の全結合層の出力ユニット数は128。活性化関数はrelu。\n",
    "#　---------------------------\n",
    "#　ここに書いて下さい\n",
    "model.add(Dense(128))\n",
    "model.add(Activation(\"relu\"))\n",
    "#　ここまで書いて下さい\n",
    "#　---------------------------\n",
    "\n",
    "# 3つ目の全結合層（出力層）の出力ユニット数は10\n",
    "model.add(Dense(10))\n",
    "model.add(Activation(\"softmax\"))\n",
    "\n",
    "model.compile(optimizer=\"sgd\", loss=\"categorical_crossentropy\", metrics=[\"accuracy\"])\n",
    "\n",
    "# モデル構造の出力\n",
    "plot_model(model, \"model125.png\", show_layer_names=False)\n",
    "# モデル構造の可視化\n",
    "image = plt.imread(\"model125.png\")\n",
    "plt.figure(dpi=150)\n",
    "plt.imshow(image)\n",
    "plt.show()"
   ]
  },
  {
   "cell_type": "markdown",
   "metadata": {},
   "source": [
    "***"
   ]
  },
  {
   "cell_type": "markdown",
   "metadata": {
    "courseId": 5090,
    "exerciseId": "BJB85hLsIlG",
    "id": "code_session_name",
    "important": true,
    "isDL": false,
    "timeoutSecs": 30
   },
   "source": [
    "### 1.2.8 モデルの学習"
   ]
  },
  {
   "cell_type": "markdown",
   "metadata": {
    "id": "description"
   },
   "source": [
    "`fit`メソッドを使用し、 **モデル** にトレーニングデータを渡すことで学習を行います。\n",
    "\n",
    "```python\n",
    "model.fit(X_train, y_train, verbose=1, epochs=3)\n",
    "```\n",
    "`fit`メソッドでは、学習用データを順にモデルに入力し、 **出力と教師データの差が小さくなるように各ニューロンの重みを更新し、モデルの予測精度を向上していきます。**\n",
    "戻り値としては、学習の記録を保持するHistoryオブジェクトを返します。\n",
    "\n",
    "引数のX_trainは学習用データ、y_trainは教師データです。`verbose` に `１` を指定した場合は学習の進捗度合いを出力し、 ` 0` の場合は出力しません。`epochs`は、同じデータセットで行う学習の回数を指定します。\n",
    "\n",
    "詳細については、<a href='https://aidemy.net/courses/5090/exercises/Sy4v9n8oUxz' target='_blank'>2.9.1 反復学習</a>で学びます。"
   ]
  },
  {
   "cell_type": "markdown",
   "metadata": {},
   "source": [
    "#### 問題"
   ]
  },
  {
   "cell_type": "markdown",
   "metadata": {
    "id": "question"
   },
   "source": [
    "- fitメソッドを使って学習した結果を変数historyに代入しましょう。また徐々に正解率 `acc：` が上がっていることを確認してください。"
   ]
  },
  {
   "cell_type": "code",
   "execution_count": null,
   "metadata": {
    "id": "index"
   },
   "outputs": [],
   "source": [
    "from keras.datasets import mnist\n",
    "from keras.layers import Activation, Dense\n",
    "from keras.models import Sequential\n",
    "from keras import optimizers\n",
    "from keras.utils.np_utils import to_categorical\n",
    "import matplotlib.pyplot as plt\n",
    "\n",
    "(X_train, y_train), (X_test, y_test) = mnist.load_data()\n",
    "\n",
    "X_train = X_train.reshape(X_train.shape[0], 784)[:6000]\n",
    "X_test = X_test.reshape(X_test.shape[0], 784)[:1000]\n",
    "y_train = to_categorical(y_train)[:6000]\n",
    "y_test = to_categorical(y_test)[:1000]\n",
    "\n",
    "model = Sequential()\n",
    "model.add(Dense(256, input_dim=784))\n",
    "model.add(Activation(\"sigmoid\"))\n",
    "model.add(Dense(128))\n",
    "model.add(Activation(\"sigmoid\"))\n",
    "model.add(Dense(10))\n",
    "model.add(Activation(\"softmax\"))\n",
    "\n",
    "model.compile(optimizer=\"sgd\", loss=\"categorical_crossentropy\", metrics=[\"accuracy\"])\n",
    "#---------------------------\n",
    "history = \n",
    "#---------------------------\n",
    "#acc, val_accのプロット\n",
    "plt.plot(history.history[\"acc\"], label=\"acc\", ls=\"-\", marker=\"o\")\n",
    "plt.ylabel(\"accuracy\")\n",
    "plt.xlabel(\"epoch\")\n",
    "plt.legend(loc=\"best\")\n",
    "plt.show()"
   ]
  },
  {
   "cell_type": "markdown",
   "metadata": {},
   "source": [
    "#### ヒント"
   ]
  },
  {
   "cell_type": "markdown",
   "metadata": {
    "id": "hint"
   },
   "source": [
    "- `model.fit(...)` の出力 `acc:` の後に正解率が表示されています。"
   ]
  },
  {
   "cell_type": "markdown",
   "metadata": {},
   "source": [
    "#### 解答例"
   ]
  },
  {
   "cell_type": "code",
   "execution_count": null,
   "metadata": {
    "id": "answer"
   },
   "outputs": [],
   "source": [
    "from keras.datasets import mnist\n",
    "from keras.layers import Activation, Dense\n",
    "from keras.models import Sequential\n",
    "from keras import optimizers\n",
    "from keras.utils.np_utils import to_categorical\n",
    "import matplotlib.pyplot as plt\n",
    "\n",
    "(X_train, y_train), (X_test, y_test) = mnist.load_data()\n",
    "\n",
    "X_train = X_train.reshape(X_train.shape[0], 784)[:6000]\n",
    "X_test = X_test.reshape(X_test.shape[0], 784)[:1000]\n",
    "y_train = to_categorical(y_train)[:6000]\n",
    "y_test = to_categorical(y_test)[:1000]\n",
    "\n",
    "model = Sequential()\n",
    "model.add(Dense(256, input_dim=784))\n",
    "model.add(Activation(\"sigmoid\"))\n",
    "model.add(Dense(128))\n",
    "model.add(Activation(\"sigmoid\"))\n",
    "model.add(Dense(10))\n",
    "model.add(Activation(\"softmax\"))\n",
    "\n",
    "model.compile(optimizer=\"sgd\", loss=\"categorical_crossentropy\", metrics=[\"accuracy\"])\n",
    "#---------------------------\n",
    "history = model.fit(X_train, y_train, verbose=True, epochs=3)\n",
    "#---------------------------\n",
    "#acc, val_accのプロット\n",
    "plt.plot(history.history[\"acc\"], label=\"acc\", ls=\"-\", marker=\"o\")\n",
    "plt.ylabel(\"accuracy\")\n",
    "plt.xlabel(\"epoch\")\n",
    "plt.legend(loc=\"best\")\n",
    "plt.show()"
   ]
  },
  {
   "cell_type": "markdown",
   "metadata": {},
   "source": [
    "***"
   ]
  },
  {
   "cell_type": "markdown",
   "metadata": {
    "courseId": 5090,
    "exerciseId": "BkLUq28iIlf",
    "id": "code_session_name",
    "important": true,
    "isDL": false,
    "timeoutSecs": 30
   },
   "source": [
    "### 1.2.9 モデルの評価"
   ]
  },
  {
   "cell_type": "markdown",
   "metadata": {
    "id": "description"
   },
   "source": [
    "学習によるチューニングが完了し、モデルの精度が上がったとしても、その性能がトレーニングデータでしか発揮できない可能性があります。したがって、学習済みのデータではモデルの性能の正しい評価はできません。<br>\n",
    "\n",
    "そこで、 **学習に使用していないテストデータを使用してモデルの評価** を行います。このときの精度を、 <b style='color: #AA0000'>汎化精度</b>(新規データに対する精度)といいます。<br>\n",
    "\n",
    "汎化精度の計算には **`evaluateメソッド`** を使用します。\n",
    "```python\n",
    "score = model.evaluate(X_test, y_test, verbose=1)\n",
    "```\n",
    "`X_test` は評価用 (テスト) の入力データ、 `y_test` は教師データです。`evaluateメソッド`で取得した損失関数の値と正解率は、 `score` に格納されます。<br>\n",
    "\n",
    "なお、テストデータは汎化精度の計算のためのもので、学習には使用しません。"
   ]
  },
  {
   "cell_type": "markdown",
   "metadata": {},
   "source": [
    "#### 問題"
   ]
  },
  {
   "cell_type": "markdown",
   "metadata": {
    "id": "question"
   },
   "source": [
    "- 空欄を埋めて実際に汎化精度を計算してださい。トレーニングデータを用いた時の正解率とテストデータを用いた時の正解率が異なることを確認してください。"
   ]
  },
  {
   "cell_type": "code",
   "execution_count": null,
   "metadata": {
    "id": "index"
   },
   "outputs": [],
   "source": [
    "import numpy as np\n",
    "import matplotlib.pyplot as plt\n",
    "from keras.datasets import mnist\n",
    "from keras.layers import Activation, Dense\n",
    "from keras.models import Sequential, load_model\n",
    "from keras import optimizers\n",
    "from keras.utils.np_utils import to_categorical\n",
    "\n",
    "(X_train, y_train), (X_test, y_test) = mnist.load_data()\n",
    "\n",
    "X_train = X_train.reshape(X_train.shape[0], 784)[:6000]\n",
    "X_test = X_test.reshape(X_test.shape[0], 784)[:1000]\n",
    "y_train = to_categorical(y_train)[:6000]\n",
    "y_test = to_categorical(y_test)[:1000]\n",
    "\n",
    "model = Sequential()\n",
    "model.add(Dense(256, input_dim=784))\n",
    "model.add(Activation(\"sigmoid\"))\n",
    "model.add(Dense(128))\n",
    "model.add(Activation(\"sigmoid\"))\n",
    "model.add(Dense(10))\n",
    "model.add(Activation(\"softmax\"))\n",
    "\n",
    "model.compile(optimizer=\"sgd\", loss=\"categorical_crossentropy\", metrics=[\"accuracy\"])\n",
    "\n",
    "model.fit(X_train, y_train, verbose=True)\n",
    "\n",
    "# ---------------------------\n",
    "# ここを書いて下さい\n",
    "# ---------------------------\n",
    "print(\"evaluate loss: {0[0]}\\nevaluate acc: {0[1]}\".format(score))"
   ]
  },
  {
   "cell_type": "markdown",
   "metadata": {},
   "source": [
    "#### ヒント"
   ]
  },
  {
   "cell_type": "markdown",
   "metadata": {
    "id": "hint"
   },
   "source": [
    "- `model.evaluate()`を用いて汎化精度の評価が行えます。"
   ]
  },
  {
   "cell_type": "markdown",
   "metadata": {},
   "source": [
    "#### 解答例"
   ]
  },
  {
   "cell_type": "code",
   "execution_count": null,
   "metadata": {
    "id": "answer",
    "scrolled": true
   },
   "outputs": [],
   "source": [
    "import numpy as np\n",
    "import matplotlib.pyplot as plt\n",
    "from keras.datasets import mnist\n",
    "from keras.layers import Activation, Dense\n",
    "from keras.models import Sequential, load_model\n",
    "from keras import optimizers\n",
    "from keras.utils.np_utils import to_categorical\n",
    "\n",
    "(X_train, y_train), (X_test, y_test) = mnist.load_data()\n",
    "\n",
    "X_train = X_train.reshape(X_train.shape[0], 784)[:6000]\n",
    "X_test = X_test.reshape(X_test.shape[0], 784)[:1000]\n",
    "y_train = to_categorical(y_train)[:6000]\n",
    "y_test = to_categorical(y_test)[:1000]\n",
    "\n",
    "model = Sequential()\n",
    "model.add(Dense(256, input_dim=784))\n",
    "model.add(Activation(\"sigmoid\"))\n",
    "model.add(Dense(128))\n",
    "model.add(Activation(\"sigmoid\"))\n",
    "model.add(Dense(10))\n",
    "model.add(Activation(\"softmax\"))\n",
    "\n",
    "model.compile(optimizer=\"sgd\", loss=\"categorical_crossentropy\", metrics=[\"accuracy\"])\n",
    "\n",
    "model.fit(X_train, y_train)\n",
    "\n",
    "# ---------------------------\n",
    "# ここを書いて下さい\n",
    "score = model.evaluate(X_test, y_test, verbose=True)\n",
    "# ---------------------------\n",
    "print(\"evaluate loss: {0[0]}\\nevaluate acc: {0[1]}\".format(score))"
   ]
  },
  {
   "cell_type": "markdown",
   "metadata": {
    "courseId": 5090,
    "exerciseId": "H1PL928jIxf",
    "id": "code_session_name",
    "important": true,
    "isDL": false,
    "timeoutSecs": 30
   },
   "source": [
    "### 1.2.10 モデルによる分類"
   ]
  },
  {
   "cell_type": "markdown",
   "metadata": {
    "id": "description"
   },
   "source": [
    "**`predictメソッド`** を使って、入力データの予測値を取得します。<br>\n",
    "```python\n",
    "predict(self, x, batch_size=None, verbose=0, steps=None)\n",
    "```\n",
    "**引数**<br>\n",
    "- x: 入力データ。Numpy配列の形式。\n",
    "- batch_size: 整数。デフォルトは32。\n",
    "- verbose: 進行状況メッセージ出力モード。0または1。\n",
    "- steps: 評価ラウンド終了を宣言するまでの総ステップ数（サンプルのバッチ）。None（デフォルト値）の場合は無視されます。\n",
    "\n",
    "**戻り値**<br>\n",
    "- 予測値を格納したNumpy 配列<br>\n",
    "\n",
    "例えば `X_test` の最初の画像の数字を予測する場合、下記のようになります。<br>\n",
    "\n",
    "```python\n",
    "import numpy as np\n",
    "# 学習済みのモデルを用意する。\n",
    "model = ...\n",
    "\n",
    "# 予測する\n",
    "pred = np.argmax(model.predict([X_test[0]]))\n",
    "print(\"予測値 :\" + str(pred))\n",
    "```\n",
    "\n",
    "なお、`predict` は複数枚の画像を想定しているため、一枚のみの予測は次元に注意する必要があります。MNISTでは `predictメソッド` の出力は10次元なので、配列の最大値のインデックスを返す `argmax関数` を使用して一番大きい値を返すニューロンの場所を取得します。<br>\n",
    "\n",
    "```python\n",
    "import numpy as np\n",
    "x = np.array([[0, 1, 2], [-1, 1000, 1]])\n",
    "print(np.argmax(x)) # 4を返します。\n",
    "print(np.argmax(x, axis=0)) # [0, 1, 0]を返します。\n",
    "print(np.argmax(x, axis=1)) # [2, 1]を返します。\n",
    "```\n",
    "`argmax関数`はオプション引数 `axis` で軸を指定し、第一引数で与えられた配列に対して最大値のインデックスを調べます。また、`axis`を指定しない場合は配列を一次元に `reshape` したときの最大値のインデックスを返します。"
   ]
  },
  {
   "cell_type": "markdown",
   "metadata": {},
   "source": [
    "#### 問題"
   ]
  },
  {
   "cell_type": "markdown",
   "metadata": {
    "id": "question"
   },
   "source": [
    "- 学習を行った上で、X_test[0:10]の予測値を出力をしてください。"
   ]
  },
  {
   "cell_type": "code",
   "execution_count": null,
   "metadata": {
    "id": "index"
   },
   "outputs": [],
   "source": [
    "import numpy as np\n",
    "import matplotlib.pyplot as plt\n",
    "from keras.datasets import mnist\n",
    "from keras.layers import Activation, Dense\n",
    "from keras.models import Sequential, load_model\n",
    "from keras.utils.np_utils import to_categorical\n",
    "\n",
    "(X_train, y_train), (X_test, y_test) = mnist.load_data()\n",
    "\n",
    "X_train = X_train.reshape(X_train.shape[0], 784)[:6000]\n",
    "X_test = X_test.reshape(X_test.shape[0], 784)[:1000]\n",
    "y_train = to_categorical(y_train)[:6000]\n",
    "y_test = to_categorical(y_test)[:1000]\n",
    "\n",
    "model = Sequential()\n",
    "model.add(Dense(256, input_dim=784))\n",
    "model.add(Activation(\"sigmoid\"))\n",
    "model.add(Dense(128))\n",
    "model.add(Activation(\"sigmoid\"))\n",
    "model.add(Dense(10))\n",
    "model.add(Activation(\"softmax\"))\n",
    "\n",
    "model.compile(optimizer=\"sgd\", loss=\"categorical_crossentropy\", metrics=[\"accuracy\"])\n",
    "\n",
    "model.fit(X_train, y_train, verbose=True)\n",
    "\n",
    "score = model.evaluate(X_test, y_test, verbose=False)\n",
    "print(\"evaluate loss: {0[0]}\\nevaluate acc: {0[1]}\".format(score))\n",
    "\n",
    "# テストデータの最初の10枚を表示します\n",
    "for i in range(10):\n",
    "    plt.subplot(1, 10, i+1)\n",
    "    plt.imshow(X_test[i].reshape((28,28)), \"gray\")\n",
    "plt.show()\n",
    "\n",
    "# X_testの最初の10枚の予測されたラベルを表示しましょう\n",
    "#---------------------------\n",
    "#        ここを書いて下さい\n",
    "#---------------------------"
   ]
  },
  {
   "cell_type": "markdown",
   "metadata": {},
   "source": [
    "#### ヒント"
   ]
  },
  {
   "cell_type": "markdown",
   "metadata": {
    "id": "hint"
   },
   "source": [
    "`model.predict()`を用いて予測を行うことができます。\n",
    "`argmax()`で行列の軸を指定するのを忘れないようにしましょう。\n",
    "`axis=1`を引数に指定することで行ごとの最大値のインデックスを取得できます。"
   ]
  },
  {
   "cell_type": "markdown",
   "metadata": {},
   "source": [
    "#### 解答例"
   ]
  },
  {
   "cell_type": "code",
   "execution_count": null,
   "metadata": {
    "id": "answer",
    "scrolled": true
   },
   "outputs": [],
   "source": [
    "import numpy as np\n",
    "import matplotlib.pyplot as plt\n",
    "from keras.datasets import mnist\n",
    "from keras.layers import Activation, Dense\n",
    "from keras.models import Sequential, load_model\n",
    "from keras.utils.np_utils import to_categorical\n",
    "\n",
    "(X_train, y_train), (X_test, y_test) = mnist.load_data()\n",
    "\n",
    "X_train = X_train.reshape(X_train.shape[0], 784)[:6000]\n",
    "X_test = X_test.reshape(X_test.shape[0], 784)[:1000]\n",
    "y_train = to_categorical(y_train)[:6000]\n",
    "y_test = to_categorical(y_test)[:1000]\n",
    "\n",
    "model = Sequential()\n",
    "model.add(Dense(256, input_dim=784))\n",
    "model.add(Activation(\"sigmoid\"))\n",
    "model.add(Dense(128))\n",
    "model.add(Activation(\"sigmoid\"))\n",
    "model.add(Dense(10))\n",
    "model.add(Activation(\"softmax\"))\n",
    "\n",
    "model.compile(optimizer=\"sgd\", loss=\"categorical_crossentropy\", metrics=[\"accuracy\"])\n",
    "\n",
    "model.fit(X_train, y_train, verbose=True)\n",
    "\n",
    "score = model.evaluate(X_test, y_test, verbose=False)\n",
    "print(\"evaluate loss: {0[0]}\\nevaluate acc: {0[1]}\".format(score))\n",
    "\n",
    "# テストデータの最初の10枚を表示します\n",
    "for i in range(10):\n",
    "    plt.subplot(1, 10, i+1)\n",
    "    plt.imshow(X_test[i].reshape((28,28)), \"gray\")\n",
    "plt.show()\n",
    "\n",
    "# X_testの最初の10枚の予測されたラベルを表示しましょう\n",
    "#---------------------------\n",
    "pred = np.argmax(model.predict(X_test[0:10]), axis=1)\n",
    "print(pred)\n",
    "#---------------------------"
   ]
  },
  {
   "cell_type": "markdown",
   "metadata": {},
   "source": [
    "***"
   ]
  },
  {
   "cell_type": "markdown",
   "metadata": {
    "exerciseId": "SyYJJT_Iez",
    "id": "chapter_exam"
   },
   "source": [
    "## 1.3 まとめ問題(提出不要)"
   ]
  },
  {
   "cell_type": "markdown",
   "metadata": {
    "id": "description"
   },
   "source": [
    "これまで学んだ深層学習手法の復習をします。"
   ]
  },
  {
   "cell_type": "markdown",
   "metadata": {},
   "source": [
    "#### 問題"
   ]
  },
  {
   "cell_type": "markdown",
   "metadata": {
    "id": "question"
   },
   "source": [
    "- 以下は、MNISTの分類のコードです。\n",
    "コードを見てモデルの生成、学習、モデルによる分類、がどの行（複数行選択可）で行われているかを考えましょう。"
   ]
  },
  {
   "cell_type": "code",
   "execution_count": null,
   "metadata": {
    "id": "index"
   },
   "outputs": [],
   "source": [
    "import numpy as np\n",
    "import matplotlib.pyplot as plt\n",
    "from keras.datasets import mnist\n",
    "from keras.layers import Activation, Dense\n",
    "from keras.models import Sequential, load_model\n",
    "from keras.utils.np_utils import to_categorical\n",
    "\n",
    "# データセットの読み込み\n",
    "(X_train, y_train), (X_test, y_test) = mnist.load_data()\n",
    "\n",
    "X_train = X_train.reshape(X_train.shape[0], 784)[:10000]\n",
    "X_test = X_test.reshape(X_test.shape[0], 784)[:1000]\n",
    "y_train = to_categorical(y_train)[:10000]\n",
    "y_test = to_categorical(y_test)[:1000]\n",
    "\n",
    "model = Sequential()\n",
    "model.add(Dense(256, input_dim=784))\n",
    "model.add(Activation(\"sigmoid\"))\n",
    "model.add(Dense(128))\n",
    "model.add(Activation(\"sigmoid\"))\n",
    "model.add(Dense(10))\n",
    "model.add(Activation(\"softmax\"))\n",
    "\n",
    "model.compile(optimizer=\"sgd\", loss=\"categorical_crossentropy\", metrics=[\"accuracy\"])\n",
    "\n",
    "model.fit(X_train, y_train, verbose=True)\n",
    "\n",
    "score = model.evaluate(X_test, y_test, verbose=False)\n",
    "print(\"evaluate loss: {0[0]}\\nevaluate acc: {0[1]}\".format(score))\n",
    "\n",
    "for i in range(10):\n",
    "    plt.subplot(1, 10, i+1)\n",
    "    plt.imshow(X_test[i].reshape((28,28)), \"gray\")\n",
    "plt.show()\n",
    "\n",
    "pred = np.argmax(model.predict(X_test[0:10]), axis=1)\n",
    "print(pred)"
   ]
  },
  {
   "cell_type": "markdown",
   "metadata": {},
   "source": [
    "#### ヒント"
   ]
  },
  {
   "cell_type": "markdown",
   "metadata": {
    "id": "hint"
   },
   "source": [
    "- modelに着目してみてください。"
   ]
  },
  {
   "cell_type": "markdown",
   "metadata": {},
   "source": [
    "#### 解答例"
   ]
  },
  {
   "cell_type": "code",
   "execution_count": null,
   "metadata": {
    "id": "answer"
   },
   "outputs": [],
   "source": [
    "import numpy as np\n",
    "import matplotlib.pyplot as plt\n",
    "from keras.datasets import mnist\n",
    "from keras.layers import Activation, Dense\n",
    "from keras.models import Sequential, load_model\n",
    "from keras.utils.np_utils import to_categorical\n",
    "\n",
    "# データセットの読み込み\n",
    "(X_train, y_train), (X_test, y_test) = mnist.load_data()\n",
    "\n",
    "X_train = X_train.reshape(X_train.shape[0], 784)[:10000]\n",
    "X_test = X_test.reshape(X_test.shape[0], 784)[:1000]\n",
    "y_train = to_categorical(y_train)[:10000]\n",
    "y_test = to_categorical(y_test)[:1000]\n",
    "\n",
    "#1.  モデルの生成\n",
    "model = Sequential()\n",
    "model.add(Dense(256, input_dim=784))\n",
    "model.add(Activation(\"sigmoid\"))\n",
    "model.add(Dense(128))\n",
    "model.add(Activation(\"sigmoid\"))\n",
    "model.add(Dense(10))\n",
    "model.add(Activation(\"softmax\"))\n",
    "\n",
    "model.compile(optimizer=\"sgd\", loss=\"categorical_crossentropy\", metrics=[\"accuracy\"])\n",
    "\n",
    "#2. 学習\n",
    "model.fit(X_train, y_train, verbose=True)\n",
    "\n",
    "score = model.evaluate(X_test, y_test, verbose=False)\n",
    "print(\"evaluate loss: {0[0]}\\nevaluate acc: {0[1]}\".format(score))\n",
    "\n",
    "for i in range(10):\n",
    "    plt.subplot(1, 10, i+1)\n",
    "    plt.imshow(X_test[i].reshape((28,28)), \"gray\")\n",
    "plt.show()\n",
    "\n",
    "# 3.　モデルによる分類\n",
    "pred = np.argmax(model.predict(X_test[0:10]), axis=1)\n",
    "print(pred)"
   ]
  },
  {
   "cell_type": "markdown",
   "metadata": {
    "id": "commentary"
   },
   "source": [
    "ここで改めて、深層学習の大まかな流れを確認しておきましょう。次のchapterでは、深層学習についてより細かく見ていきます！"
   ]
  },
  {
   "cell_type": "markdown",
   "metadata": {},
   "source": [
    "***"
   ]
  }
 ],
 "metadata": {
  "celltoolbar": "Edit Metadata",
  "kernelspec": {
   "display_name": "Python 3",
   "language": "python",
   "name": "python3"
  },
  "language_info": {
   "codemirror_mode": {
    "name": "ipython",
    "version": 3
   },
   "file_extension": ".py",
   "mimetype": "text/x-python",
   "name": "python",
   "nbconvert_exporter": "python",
   "pygments_lexer": "ipython3",
   "version": "3.6.4"
  },
  "toc": {
   "base_numbering": 1,
   "nav_menu": {},
   "number_sections": true,
   "sideBar": true,
   "skip_h1_title": false,
   "title_cell": "Table of Contents",
   "title_sidebar": "Contents",
   "toc_cell": false,
   "toc_position": {
    "height": "calc(100% - 180px)",
    "left": "10px",
    "top": "150px",
    "width": "261.188px"
   },
   "toc_section_display": true,
   "toc_window_display": true
  },
  "varInspector": {
   "cols": {
    "lenName": 16,
    "lenType": 16,
    "lenVar": 40
   },
   "kernels_config": {
    "python": {
     "delete_cmd_postfix": "",
     "delete_cmd_prefix": "del ",
     "library": "var_list.py",
     "varRefreshCmd": "print(var_dic_list())"
    },
    "r": {
     "delete_cmd_postfix": ") ",
     "delete_cmd_prefix": "rm(",
     "library": "var_list.r",
     "varRefreshCmd": "cat(var_dic_list()) "
    }
   },
   "types_to_exclude": [
    "module",
    "function",
    "builtin_function_or_method",
    "instance",
    "_Feature"
   ],
   "window_display": false
  }
 },
 "nbformat": 4,
 "nbformat_minor": 2
}