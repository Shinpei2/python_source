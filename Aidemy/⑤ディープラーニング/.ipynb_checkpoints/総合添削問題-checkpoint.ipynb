{
 "cells": [
  {
   "cell_type": "code",
   "execution_count": null,
   "metadata": {},
   "outputs": [],
   "source": [
    "# plt.show()で可視化されない人はこのセルを実行してください。\n",
    "%matplotlib inline"
   ]
  },
  {
   "cell_type": "markdown",
   "metadata": {},
   "source": [
    "# 総合添削問題"
   ]
  },
  {
   "cell_type": "markdown",
   "metadata": {},
   "source": [
    "Chapter1～3の技術を応用し、Boston house-pricesデータセットを使って「住宅の価格予想問題」に取り組んでみましょう。\n",
    "\n",
    "回帰分析については、KerasRegressorというAPIを使うことで、分類問題とほぼ同じようにコードを記述することが可能です。\n",
    "データの可視化コードを参考にしながら、より良い回帰モデルを作成してみましょう。"
   ]
  },
  {
   "cell_type": "markdown",
   "metadata": {},
   "source": [
    "#### 問題"
   ]
  },
  {
   "cell_type": "markdown",
   "metadata": {},
   "source": [
    "- KerasRegressorに渡す関数Reg_model()の内容を自由に書いてモデルを完成させてください。\n",
    "- エポック数、活性化関数などは、データサイズをもとに適切なものを決めていきます。\n",
    "- 平均平方二乗誤差(REG RMSE)については7以下になるようにします。"
   ]
  },
  {
   "cell_type": "code",
   "execution_count": null,
   "metadata": {
    "id": "index"
   },
   "outputs": [],
   "source": [
    "import numpy as np\n",
    "import pandas as pds\n",
    "from keras.models import Sequential\n",
    "from keras.layers import Input, Dense, Dropout, BatchNormalization\n",
    "from keras.wrappers.scikit_learn import KerasRegressor\n",
    "from sklearn.model_selection import cross_val_score\n",
    "from sklearn.model_selection import KFold\n",
    "from sklearn.model_selection import train_test_split\n",
    "from sklearn.pipeline import Pipeline\n",
    "from sklearn.metrics import mean_squared_error\n",
    "from sklearn.datasets import load_diabetes\n",
    "from sklearn.datasets import load_boston\n",
    "import matplotlib.pyplot as plt\n",
    "\n",
    "%matplotlib inline\n",
    "# sklearnからデータセットを読み込みます\n",
    "boston=load_boston()\n",
    "\n",
    "X = boston.data\n",
    "Y = boston.target\n",
    "#テストデータとトレーニングデータに分割します\n",
    "x_train, x_test, y_train, y_test = train_test_split(X, Y, test_size=0.25, random_state=42)\n",
    "#-------------------------------------------------------------------------------------------------------------\n",
    "def reg_model():\n",
    "    \n",
    "    model = Sequential()\n",
    "    #ここにコードを記入してください(model.add)\n",
    "    model.add(Dense(256, input_dim=13))\n",
    "    model.add(BatchNormalization())\n",
    "    model.add(Activation(\"relu\"))\n",
    "    model.add(Dense(128, input_dim=13))\n",
    "    model.add(BatchNormalization())\n",
    "    model.add(Activation(\"relu\"))\n",
    "    model.add(Dense(1))\n",
    "    \n",
    "    model.compile(loss='mse', optimizer='adam')\n",
    "    return model\n",
    "\n",
    "#epochs,batch_sizeを埋めてください\n",
    "estimator= KerasRegressor(build_fn=reg_model, epochs=15, batch_size=13, verbose=1,validation_data=(x_test, y_test))\n",
    "\n",
    "#モデルを学習させます\n",
    "history=estimator.fit(x_train, y_train)\n",
    "#予測値を出力します\n",
    "y_pred = estimator.predict(x_test)\n",
    "\n",
    "# 二乗誤差を出力します\n",
    "mse= mean_squared_error(y_test, y_pred)\n",
    "print(\"REG RMSE : %.2f\" % (mse** 0.5))"
   ]
  },
  {
   "cell_type": "markdown",
   "metadata": {},
   "source": [
    "### ヒント"
   ]
  },
  {
   "cell_type": "markdown",
   "metadata": {},
   "source": [
    "- Boston_house_pricesデータはとても小さいデータセットです。\n",
    "- 小さいデータセットには過学習しないように気を付けましょう。\n",
    "- 層が厚く、複雑なモデルほどモデルの表現力は増しますが、過学習しやすくなります。\n",
    "- 回帰分析の場合、出力層に活性化関数は必要ありません。"
   ]
  },
  {
   "cell_type": "markdown",
   "metadata": {},
   "source": [
    "### 参考"
   ]
  },
  {
   "cell_type": "code",
   "execution_count": null,
   "metadata": {
    "scrolled": true
   },
   "outputs": [],
   "source": [
    "#バリデーションデータと、学習データの実際の値と、予測値の散布図です\n",
    "#過学習していないか確認しましょう\n",
    "%matplotlib inline\n",
    "\n",
    "plt.figure()\n",
    "plt.scatter(y_train,estimator.predict(x_train),label='Train',c='blue')\n",
    "plt.scatter(y_test,y_pred,c='lightgreen',label='Test',alpha=0.8)\n",
    "plt.title('Neural Network Predictor')\n",
    "plt.xlabel('Measured')\n",
    "plt.ylabel('Predicted') \n",
    "plt.show()"
   ]
  },
  {
   "cell_type": "markdown",
   "metadata": {},
   "source": [
    "### 参考2"
   ]
  },
  {
   "cell_type": "code",
   "execution_count": null,
   "metadata": {},
   "outputs": [],
   "source": [
    "#epoch毎の予測値の正解データとの誤差を表しています\n",
    "#バリデーションデータのみ誤差が大きい場合、過学習を起こしています\n",
    "\n",
    "loss=history.history['loss']\n",
    "val_loss=history.history['val_loss']\n",
    "epochs=len(loss)\n",
    "\n",
    "plt.plot(range(epochs), loss, marker = '.', label = 'loss')\n",
    "plt.plot(range(epochs), val_loss, marker = '.', label = 'val_loss')\n",
    "plt.legend(loc = 'best')\n",
    "plt.grid()\n",
    "plt.xlabel('epoch')\n",
    "plt.ylabel('loss')\n",
    "plt.show()\n"
   ]
  },
  {
   "cell_type": "markdown",
   "metadata": {},
   "source": [
    "### 解答例"
   ]
  },
  {
   "cell_type": "code",
   "execution_count": null,
   "metadata": {},
   "outputs": [],
   "source": [
    "import numpy as np\n",
    "import pandas as pds\n",
    "from keras.models import Sequential\n",
    "from keras.layers import Input, Dense, Dropout, BatchNormalization\n",
    "from keras.wrappers.scikit_learn import KerasRegressor\n",
    "from sklearn.model_selection import cross_val_score\n",
    "from sklearn.model_selection import KFold\n",
    "from sklearn.model_selection import train_test_split\n",
    "from sklearn.pipeline import Pipeline\n",
    "from sklearn.metrics import mean_squared_error\n",
    "from sklearn.datasets import load_diabetes\n",
    "from sklearn.datasets import load_boston\n",
    "import matplotlib.pyplot as plt\n",
    "\n",
    "%matplotlib inline\n",
    "# sklearnからデータセットを読み込みます\n",
    "boston=load_boston()\n",
    "\n",
    "X = boston.data\n",
    "Y = boston.target\n",
    "#テストデータとトレーニングデータに分割します\n",
    "x_train, x_test, y_train, y_test = train_test_split(X, Y, test_size=0.25, random_state=42)\n",
    "def reg_model():\n",
    "\n",
    "    model = Sequential()\n",
    "    model.add(Dense(32, input_dim=13, activation='relu'))\n",
    "    model.add(Dense(128, activation='relu'))\n",
    "    model.add(Dense(1))\n",
    "    model.compile(loss='mse', optimizer='adam')\n",
    "    return model\n",
    "\n",
    "#epochs,batch_sizeを埋めてください\n",
    "estimator= KerasRegressor(build_fn=reg_model, epochs=75, batch_size=16, verbose=1,validation_data=(x_test, y_test))\n",
    "\n",
    "#モデルを学習させます\n",
    "history=estimator.fit(x_train, y_train)\n",
    "#予測値を出力します\n",
    "y_pred = estimator.predict(x_test)\n",
    "\n",
    "# 二乗誤差を出力します\n",
    "mse= mean_squared_error(y_test, y_pred)\n",
    "print(\"REG RMSE : %.2f\" % (mse** 0.5))\n",
    "%matplotlib inline\n",
    "\n",
    "plt.figure()\n",
    "plt.scatter(y_train,estimator.predict(x_train),label='Train',c='blue')\n",
    "plt.scatter(y_test,y_pred,c='lightgreen',label='Test',alpha=0.8)\n",
    "plt.title('Neural Network Predictor')\n",
    "plt.xlabel('Measured')\n",
    "plt.ylabel('Predicted')\n",
    "plt.show()\n",
    "loss=history.history['loss']\n",
    "val_loss=history.history['val_loss']\n",
    "epochs=len(loss)\n",
    "\n",
    "plt.plot(range(epochs), loss, marker = '.', label = 'loss')\n",
    "plt.plot(range(epochs), val_loss, marker = '.', label = 'val_loss')\n",
    "plt.legend(loc = 'best')\n",
    "plt.grid()\n",
    "plt.xlabel('epoch')\n",
    "plt.ylabel('loss')\n",
    "plt.show()"
   ]
  },
  {
   "cell_type": "code",
   "execution_count": null,
   "metadata": {
    "scrolled": false
   },
   "outputs": [],
   "source": [
    "%matplotlib inline\n",
    "\n",
    "plt.figure()\n",
    "plt.scatter(y_train,estimator.predict(x_train),label='Train',c='blue')\n",
    "plt.scatter(y_test,y_pred,c='lightgreen',label='Test',alpha=0.8)\n",
    "plt.title('Neural Network Predictor')\n",
    "plt.xlabel('Measured')\n",
    "plt.ylabel('Predicted') \n",
    "plt.show()"
   ]
  },
  {
   "cell_type": "code",
   "execution_count": null,
   "metadata": {},
   "outputs": [],
   "source": [
    "loss=history.history['loss']\n",
    "val_loss=history.history['val_loss']\n",
    "epochs=len(loss)\n",
    "\n",
    "plt.plot(range(epochs), loss, marker = '.', label = 'loss')\n",
    "plt.plot(range(epochs), val_loss, marker = '.', label = 'val_loss')\n",
    "plt.legend(loc = 'best')\n",
    "plt.grid()\n",
    "plt.xlabel('epoch')\n",
    "plt.ylabel('loss')\n",
    "plt.show()"
   ]
  },
  {
   "cell_type": "markdown",
   "metadata": {
    "id": "commentary"
   },
   "source": [
    "添削課題の提出は以下のアドレスから提出いただきますようお願いします。<br>\n",
    "\b\n",
    "https://goo.gl/forms/fW7CAspZMwHuWuqk2<br><br>\n",
    "以下のアドレスからアンケートにご協力頂きたく存じます。<br>\n",
    "ご回答のほど、よろしくお願いいたします。\n",
    "\n",
    "https://goo.gl/forms/WHjJQYeodIndRvyz2"
   ]
  }
 ],
 "metadata": {
  "celltoolbar": "Edit Metadata",
  "kernelspec": {
   "display_name": "Python 3",
   "language": "python",
   "name": "python3"
  },
  "language_info": {
   "codemirror_mode": {
    "name": "ipython",
    "version": 3
   },
   "file_extension": ".py",
   "mimetype": "text/x-python",
   "name": "python",
   "nbconvert_exporter": "python",
   "pygments_lexer": "ipython3",
   "version": "3.7.3"
  },
  "toc": {
   "base_numbering": 1,
   "nav_menu": {},
   "number_sections": true,
   "sideBar": true,
   "skip_h1_title": false,
   "title_cell": "Table of Contents",
   "title_sidebar": "Contents",
   "toc_cell": false,
   "toc_position": {},
   "toc_section_display": true,
   "toc_window_display": false
  }
 },
 "nbformat": 4,
 "nbformat_minor": 2
}
