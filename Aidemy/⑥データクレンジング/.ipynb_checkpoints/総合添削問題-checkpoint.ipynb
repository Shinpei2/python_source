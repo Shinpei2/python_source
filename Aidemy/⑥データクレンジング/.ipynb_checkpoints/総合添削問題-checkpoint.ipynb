{
 "cells": [
  {
   "cell_type": "code",
   "execution_count": null,
   "metadata": {},
   "outputs": [],
   "source": [
    "# plt.show()で可視化されない人はこのセルを実行してください。\n",
    "%matplotlib inline"
   ]
  },
  {
   "cell_type": "markdown",
   "metadata": {
    "id": "final_exam"
   },
   "source": [
    "# 総合添削問題"
   ]
  },
  {
   "cell_type": "markdown",
   "metadata": {
    "id": "description"
   },
   "source": [
    "機械学習における画像認識では、画像データとその画像に紐づけられたラベルの組み合わせが大量に必要となります。しかしながら、機械学習の入力とするには十分な数の画像とラベルの組み合わせを用意する事は、コストがかかるため困難なことであります。\n",
    "そこで、データの個数を十分量に増やす際に行われるテクニックとして、**画像の水増し**があります。\n",
    "\n",
    "画像の水増しといっても、ただ単にデータをコピーして量を増やすだけでは意味がありません。<br>\n",
    "そこで、例えば画像を反転したり、ずらしたりして新たなデータを作り出します。ここでは、主にChapter3で学んだ様々な関数を駆使して画像を水増しする関数を作成してもらいます。"
   ]
  },
  {
   "cell_type": "markdown",
   "metadata": {},
   "source": [
    "#### 問題"
   ]
  },
  {
   "cell_type": "markdown",
   "metadata": {
    "id": "question"
   },
   "source": [
    "- 画像を受け取ったら5つの方法で加工した画像データを作成し、まとめて配列にして返す関数`scratch_image`関数を作成して下さい。\n",
    "```python\n",
    "def scratch_image(img, flip=True, thr=True, filt=True, resize=True, erode=True):\n",
    "    \n",
    "    # 水増しの手法を配列にまとめる\n",
    "    methods = [flip, thr, filt, resize, erode]\n",
    "    \n",
    "    \"\"\"\n",
    "    flip は画像の左右反転\n",
    "    thr  は閾値処理\n",
    "    filt はぼかし\n",
    "    resizeはモザイク\n",
    "    erode は収縮\n",
    "        をするorしないを指定している\n",
    "        \n",
    "    imgの型はOpenCVのcv2.read()によって読み込まれた画像データの型\n",
    "    \n",
    "    水増しした画像データを配列にまとめて返す\n",
    "    \"\"\"\n",
    "```\n",
    "\n",
    "\n",
    "- 加工の方法は重ねあわせます。たとえば`flip=True, thr=True, filt=False, resize=False, erode=False`ならば画像の反転と閾値処理を行うので\n",
    "    1. オリジナルの画像\n",
    "    2. 左右反転した画像\n",
    "    3. 閾値処理を行った画像\n",
    "    4. 左右反転して閾値処理した画像\n",
    "    \n",
    "  と、四枚の画像データが配列にまとめられて返されます。\n",
    "- 全て`True`ならば $2^5 = 32$ 枚の画像データが返されます。\n",
    "- 作成した`scratch_image`関数を使ってcleansing_dataフォルダ内の画像データ（`cat_sample.png`）を水増しし、`scratch_images`フォルダに保存して下さい。\n",
    "- 各手法の仕様は以下のようにして下さい。\n",
    "    1. 反転: 左右で反転\n",
    "    2. 閾値処理: 閾値100, しきい値より大きい値はそのまま、小さい値は0にする\n",
    "    3. ぼかし: 自分自身のまわりの$5 \\times 5$個のピクセルを用いる\n",
    "    4. モザイク: 解像度を$1/5$にする\n",
    "    5. 収縮: 自身を囲む8ピクセルを用いる"
   ]
  },
  {
   "cell_type": "markdown",
   "metadata": {},
   "source": [
    "<div style=\"text-align: center;\">\n",
    "    <span style=\"font-size: 120%\">flipとthrのみTrueだった場合の例</span>\n",
    "</div>\n",
    "<img src = \"https://aidemyexstorage.blob.core.windows.net/aidemycontents/1539254347176308.png\t\" width=\"800px\">"
   ]
  },
  {
   "cell_type": "raw",
   "metadata": {},
   "source": [
    "■添削コメント\n",
    "\n",
    "添削問題お疲れ様です\n",
    "コード確認いたしました\n",
    "\n",
    ">下記エラーが出るのですが、原因が分かりませんでした。\n",
    "\n",
    "いくつか修正していただきたい箇所がございます\n",
    "\n",
    "まず\n",
    "# 手法に用いる関数　で\n",
    "閾値処理を実装するときに\n",
    "lambda x: cv2.threshold(x, 100, 255, cv2.THRESH_TOZERO)[1],\n",
    "と実装してください。[1]をつけなければ閾値結果も帰ってきてしまいます\n",
    "\n",
    "#モザイク処理のlambda関数を書いてください\n",
    "ここでは、\n",
    " lambda x: cv2.resize(cv2.resize(x, (img_size[1] // 5, img_size[0] // 5)),(img_size[1], img_size[0])),\n",
    " と実装くださいませ。具体的には .shapeを使った形状取得の実装は必要ないです\n",
    "\n",
    "次に\n",
    "# 関数と画像を引数に、加工した画像を元と合わせて水増しする関数\n",
    "ですが、ここではnp.r_を用いて\n",
    "doubling_images = lambda f, imag: np.r_[imag, [f(i) for i in imag]]\n",
    "と実装ください\n",
    "そうすることで、過去の結果を足し合わせる処理が記述できます\n",
    "\n",
    "最後\n",
    "# doubling_imagesを用いてmethodsがTrueの関数で水増ししてください\n",
    "ですが、\n",
    "ここではfor文内で宣言したfuncを用いて\n",
    "images = doubling_images(func, images)\n",
    "とし、 doubling_imagesを実行してください\n",
    "\n",
    "修正箇所については以上となります\n",
    "\n",
    "今回の添削問題では\n",
    "①水増しの手法をまとめる\n",
    "②手法に用いる関数をlamdbaで宣言し、まとめる\n",
    "③関数と画像を引数に、加工した画像を元と合わせて水増しする関数\n",
    "④methodsがTrueの関数で水増し\n",
    "\n",
    "が求められていて、実際に水増しができればデータセットを増やせるので\n",
    "機械学習時の精度向上に役立ちます\n",
    "\n",
    "引き続き頑張りましょう"
   ]
  },
  {
   "cell_type": "code",
   "execution_count": null,
   "metadata": {
    "collapsed": true,
    "id": "index"
   },
   "outputs": [],
   "source": [
    "import os\n",
    "\n",
    "import numpy as np\n",
    "import matplotlib.pyplot as plt\n",
    "import cv2\n",
    "\n",
    "# \n",
    "def scratch_image(img, flip=True, thr=True, filt=True, resize=True, erode=True):\n",
    "    \n",
    "    # 水増しの手法を配列にまとめる\n",
    "    methods = [flip, thr, filt, resize, erode]\n",
    "    \n",
    "    \"\"\"\n",
    "    flip は画像の左右反転\n",
    "    thr  は閾値処理\n",
    "    filt はぼかし\n",
    "    resizeはモザイク\n",
    "    erode は縮小\n",
    "        をするorしないを指定している\n",
    "\n",
    "    imgの型はOpenCVのcv2.read()によって読み込まれた画像データの型\n",
    "\n",
    "    水増しした画像データを配列にまとめて返す\n",
    "    \"\"\"\n",
    "    \n",
    "    # 画像のサイズを習得、ぼかしに使うフィルターの作成\n",
    "    img_size = img.shape\n",
    "    filter1 = np.ones((3, 3))\n",
    "    # オリジナルの画像データを配列に格納\n",
    "    images = [img]\n",
    "    \n",
    "    \n",
    "    # ----------------------------ここから書いて下さい----------------------------\n",
    "    # 手法に用いる関数\n",
    "    scratch = np.array([\n",
    "       \n",
    "        #画像の左右反転のlambda関数を書いてください\n",
    "        lambda x: cv2.flip(x, 0),\n",
    "        \n",
    "        #閾値処理のlambda関数を書いてください\n",
    "        lambda x: cv2.threshld(x, 100, 255, cv2.THRESH_TOZERO),\n",
    "        \n",
    "        #ぼかしのlambda関数を書いてください\n",
    "        lambda x: cv2.GaussianBlur(x, (77, 77), 0),\n",
    "        \n",
    "        #モザイク処理のlambda関数を書いてください\n",
    "        lambda x: cv2.resize( cv2.resize(x,(img_size.shape[1]/10, img_size.shape[0]/10)), (img_size.shape[1], img_size.shape[0])),\n",
    "        \n",
    "        #縮小するlambda関数を書いてください\n",
    "        lambda x: cv2.erode(x, filter1)\n",
    "        \n",
    "    ])\n",
    "    \n",
    "    # 関数と画像を引数に、加工した画像を元と合わせて水増しする関数\n",
    "    doubling_images = lambda f, imag: (imag + [f(i) for i in imag])\n",
    "    \n",
    "    # doubling_imagesを用いてmethodsがTrueの関数で水増ししてください\n",
    "    for func in scratch[methods]:\n",
    "        images = doubling_images(scratch, images)\n",
    "    \n",
    "    return images\n",
    "    \n",
    "    # ----------------------------ここまで書いて下さい----------------------------\n",
    "\n",
    "\n",
    "# 画像の読み込み\n",
    "cat_img = cv2.imread(\"./data/cat_sample.jpg\")\n",
    "\n",
    "# 画像の水増し\n",
    "scratch_cat_images = scratch_image(cat_img)\n",
    "\n",
    "# 画像を保存するフォルダーを作成\n",
    "if not os.path.exists(\"scratch_images\"):\n",
    "    os.mkdir(\"scratch_images\")\n",
    "\n",
    "for num, im in enumerate(scratch_cat_images):\n",
    "    # まず保存先のディレクトリ\"scratch_images/\"を指定、番号を付けて保存\n",
    "    cv2.imwrite(\"scratch_images/\" + str(num) + \".jpg\" ,im)  "
   ]
  },
  {
   "cell_type": "markdown",
   "metadata": {},
   "source": [
    "#### ヒント"
   ]
  },
  {
   "cell_type": "markdown",
   "metadata": {
    "id": "hint"
   },
   "source": [
    "- まずはChapter3を参考にして`cv2`のメソッドを記述します。その際に必要となるデータ（画像のサイズなど）も用意します。<br>\n",
    "例えば上下反転する関数は\n",
    "```python\n",
    "lambda x: cv2.flip(x, 0)\n",
    "```\n",
    "と書けます。これを配列`arr`に入れることで\n",
    "```python\n",
    "arr[0](image)\n",
    "```\n",
    "と、indexを指定するだけで`arr`中の所定の関数を使うことができます。\n",
    "- (発展)関数を格納した配列と`flip, thr, filt, resize, erode`を活用して加工に使う関数を取得しましょう。"
   ]
  },
  {
   "cell_type": "markdown",
   "metadata": {},
   "source": [
    "##  解答例"
   ]
  },
  {
   "cell_type": "code",
   "execution_count": null,
   "metadata": {},
   "outputs": [],
   "source": [
    "import os\n",
    "\n",
    "import numpy as np\n",
    "import matplotlib.pyplot as plt\n",
    "import cv2\n",
    "\n",
    "\n",
    "def scratch_image(img, flip=True, thr=True, filt=True, resize=True, erode=True):\n",
    "    # ----------------------------ここから書いて下さい----------------------------\n",
    "    # 水増しの手法を配列にまとめる\n",
    "    methods = [flip, thr, filt, resize, erode]\n",
    "    # 画像のサイズを習得、ぼかしに使うフィルターの作成\n",
    "    img_size = img.shape\n",
    "    filter1 = np.ones((3, 3))\n",
    "    # オリジナルの画像データを配列に格納\n",
    "    images = [img]\n",
    "    # 手法に用いる関数\n",
    "    scratch = np.array([\n",
    "        lambda x: cv2.flip(x, 1),\n",
    "        lambda x: cv2.threshold(x, 100, 255, cv2.THRESH_TOZERO)[1],\n",
    "        lambda x: cv2.GaussianBlur(x, (5, 5), 0),\n",
    "        lambda x: cv2.resize(cv2.resize(\n",
    "                        x, (img_size[1] // 5, img_size[0] // 5)\n",
    "                    ),(img_size[1], img_size[0])),\n",
    "        lambda x: cv2.erode(x, filter1)\n",
    "    ])\n",
    "    # 関数と画像を引数に、加工した画像を元と合わせて水増しする関数\n",
    "    doubling_images = lambda f, imag: np.r_[imag, [f(i) for i in imag]]\n",
    "    # methodsがTrueの関数で水増し\n",
    "    for func in scratch[methods]:\n",
    "        images = doubling_images(func, images)\n",
    "    \n",
    "    return images\n",
    "    # ----------------------------ここまで書いて下さい----------------------------\n",
    "\n",
    "    \n",
    "# 画像の読み込み\n",
    "cat_img = cv2.imread(\"cleansing_data/cat_sample.jpg\")\n",
    "\n",
    "# 画像の水増し\n",
    "scratch_cat_images = scratch_image(cat_img)\n",
    "\n",
    "# 画像を保存するフォルダーを作成\n",
    "if not os.path.exists(\"scratch_images\"):\n",
    "    os.mkdir(\"scratch_images\")\n",
    "\n",
    "for num, im in enumerate(scratch_cat_images):\n",
    "    # まず保存先のディレクトリ\"scratch_images/\"を指定、番号を付けて保存\n",
    "    cv2.imwrite(\"scratch_images/\" + str(num) + \".jpg\" ,im) \n"
   ]
  },
  {
   "cell_type": "markdown",
   "metadata": {},
   "source": [
    "### 解説"
   ]
  },
  {
   "cell_type": "markdown",
   "metadata": {
    "id": "commentary"
   },
   "source": [
    "添削課題の提出は以下のアドレスから提出いただきますようお願いします。<br>\n",
    "\b\n",
    "https://goo.gl/forms/fW7CAspZMwHuWuqk2<br><br>\n",
    "以下のアドレスからアンケートにご協力頂きたく存じます。<br>\n",
    "ご回答のほど、よろしくお願いいたします。\n",
    "\n",
    "https://goo.gl/forms/WHjJQYeodIndRvyz2"
   ]
  }
 ],
 "metadata": {
  "celltoolbar": "Edit Metadata",
  "kernelspec": {
   "display_name": "Python 3",
   "language": "python",
   "name": "python3"
  },
  "language_info": {
   "codemirror_mode": {
    "name": "ipython",
    "version": 3
   },
   "file_extension": ".py",
   "mimetype": "text/x-python",
   "name": "python",
   "nbconvert_exporter": "python",
   "pygments_lexer": "ipython3",
   "version": "3.7.3"
  },
  "toc": {
   "base_numbering": 1,
   "nav_menu": {
    "height": "84px",
    "width": "252px"
   },
   "number_sections": false,
   "sideBar": true,
   "skip_h1_title": false,
   "title_cell": "Table of Contents",
   "title_sidebar": "Contents",
   "toc_cell": false,
   "toc_position": {},
   "toc_section_display": "block",
   "toc_window_display": false
  }
 },
 "nbformat": 4,
 "nbformat_minor": 2
}
