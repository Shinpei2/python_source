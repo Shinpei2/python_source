{
 "cells": [
  {
   "cell_type": "code",
   "execution_count": null,
   "metadata": {},
   "outputs": [],
   "source": [
    "# plt.show()で可視化されない人はこのセルを実行してください。\n",
    "%matplotlib inline"
   ]
  },
  {
   "cell_type": "markdown",
   "metadata": {
    "chapterId": "B1tbd0Xbl-z",
    "id": "chapter_name"
   },
   "source": [
    "#  教師あり学習（回帰）の基礎"
   ]
  },
  {
   "cell_type": "markdown",
   "metadata": {
    "id": "table"
   },
   "source": [
    "- **[1.1 教師あり学習とは](#1.1-教師あり学習とは)**\n",
    "    - **[1.1.1 機械学習の種類](#1.1.1-機械学習の種類)**\n",
    "    - **[1.1.2 scikit-learnを用いた機械学習](#1.1.2-scikit-learnを用いた機械学習)**\n",
    "<br><br>\n",
    "- **[1.2 線形回帰](#1.2-線形回帰)**\n",
    "    - **[1.2.1 線形回帰とは](#1.2.1-線形回帰とは)**\n",
    "    - **[1.2.2 決定係数](#1.2.2-決定係数)**\n",
    "    - **[1.2.3 線形単回帰](#1.2.3-線形単回帰)**\n",
    "    - **[1.2.4 線形重回帰](#1.2.4-線形重回帰)**\n",
    "<br><br>\n",
    "- **[1.3 まとめ問題(提出不要)](#1.3-まとめ問題(提出不要))**\n",
    "\n",
    "<!--<span style=\"color: red; \">\n",
    "scikit-learnを用いた機械学習の節を設けているのは、どのような狙いでしょうか？<br></span>\n",
    "<span style=\"color: blue;\">→ 機械学習の流れを説明するためです。<br>\n",
    "流れを説明するときに具体的にソースコードを見せてどのようなことを行っているのかを見せておいたほうが後々の説明で不便になりにくいと考えた結果です。\n",
    "教師あり学習とはという章の中に、決定係数が含まれている点も違和感があります。なぜこの流れの中で決定係数の説明が必要になるのかを明らかにするか、別の箇所に移動させましょう。\n",
    "問題が作成できていな箇所が多くあります。完成させましょう。\n",
    "</span>-->"
   ]
  },
  {
   "cell_type": "markdown",
   "metadata": {},
   "source": [
    "***"
   ]
  },
  {
   "cell_type": "markdown",
   "metadata": {
    "id": "section_name",
    "sectionId": "By5WORQWgbG"
   },
   "source": [
    "## 1.1 教師あり学習（回帰）とは"
   ]
  },
  {
   "cell_type": "markdown",
   "metadata": {
    "courseId": 5010,
    "exerciseId": "BJIdt2LjUxf",
    "id": "quiz_session_name",
    "important": false,
    "isDL": false,
    "timeoutSecs": 5
   },
   "source": [
    "### 1.1.1 機械学習の種類"
   ]
  },
  {
   "cell_type": "markdown",
   "metadata": {
    "id": "description"
   },
   "source": [
    "機械学習は主に3つの分野に分かれます。\n",
    "\n",
    "1つは <b style='color: #AA0000'>教師あり学習</b>と呼ばれるものです。  蓄積されたデータを元に機械が新しいデータや未来のデータの予測、あるいは分類を行うことを指します。  株価の予測や画像識別などが当てはまります。\n",
    "\n",
    "<b>教師なし学習</b>と呼ばれる分野も存在します。  蓄積されたデータの構造や関係性を機械が見出すことを指します。  小売店の顧客の傾向やGoogleの画像認識などで用いられています。\n",
    "\n",
    "最後に<b>強化学習</b>です。  学習形態は教師なし学習に近いのですが、報酬や目標などを設定することで学習時に利益の最大化を図るように学習をする手法です。  囲碁などの対戦型AIとして用いられていることが多いです。\n",
    "\n",
    "このなかで、教師あり学習は2つの手法に大別されます。\n",
    "\n",
    "これから学ぶのは <b style='color: #AA0000'>回帰</b>です。  既存のデータから関係性を読み取り、その関係性を元にデータの予測を行う手法です。  予測される値は株価や宝石の時価などの連続値になります。\n",
    "\n",
    "もう一つの分野である<b>分類</b>については<a href='https://aidemy.net/courses/5020' target='_blank'>教師あり学習（分類）</a>という別講座を参照ください。  こちらもデータの予測を行うのが主目的ですが、予測される値はデータのカテゴリーであり、離散値となります。"
   ]
  },
  {
   "cell_type": "markdown",
   "metadata": {},
   "source": [
    "#### 問題"
   ]
  },
  {
   "cell_type": "markdown",
   "metadata": {
    "id": "question"
   },
   "source": [
    "- 次のうち教師あり学習の回帰について説明しているものを選んでください。"
   ]
  },
  {
   "cell_type": "markdown",
   "metadata": {
    "id": "choices"
   },
   "source": [
    "1. データの構造や関係性を機械が学習によって見出す手法。\n",
    "1. 株価の時間変化や家屋の敷地や装飾などによる価格の変化などの連続的関係性を見出しデータを予測する手法。\n",
    "1. データの特徴を学習し、データをカテゴライズする手法。\n",
    "1. 機械に具体的な目標を設定し、利益が最大となるように学習させる手法。"
   ]
  },
  {
   "cell_type": "markdown",
   "metadata": {},
   "source": [
    "#### ヒント"
   ]
  },
  {
   "cell_type": "markdown",
   "metadata": {
    "id": "hint"
   },
   "source": [
    "- 教師あり学習はデータの予測が主目的です。\n",
    "- 回帰は関係性が連続的なのが特徴です。"
   ]
  },
  {
   "cell_type": "markdown",
   "metadata": {},
   "source": [
    "#### 解答"
   ]
  },
  {
   "cell_type": "markdown",
   "metadata": {
    "id": "answer"
   },
   "source": [
    "株価の時間変化や家屋の敷地や装飾などによる価格の変化などの連続的関係性を見出しデータを予測する手法。"
   ]
  },
  {
   "cell_type": "markdown",
   "metadata": {},
   "source": [
    "***"
   ]
  },
  {
   "cell_type": "markdown",
   "metadata": {
    "courseId": 5010,
    "exerciseId": "r1wOF3LiLeM",
    "id": "code_session_name",
    "important": true,
    "isDL": false,
    "timeoutSecs": 5
   },
   "source": [
    "### 1.1.2 scikit-learnを用いた機械学習"
   ]
  },
  {
   "cell_type": "markdown",
   "metadata": {
    "id": "description"
   },
   "source": [
    "また、機械学習のためのモジュールである<b>scikit-learn</b>を利用します。\n",
    "\n",
    "scikit-learnを用いた機械学習の流れをサンプルコードとともに掲載します。\n",
    "\n",
    "```Python\n",
    "# 必要なモジュールのインポートします。\n",
    "import request\n",
    "from sklearn.linear_model import LinearRegression\n",
    "\n",
    "# 次に学習させたいデータの読み込みを行います。詳しいコードはこの問題にあるコードを参照ください。\n",
    "# 以下のようにtrain_X, test_X, train_y, test_yという4つのファイルに分けてデータがロードします。\n",
    "train_X, test_X, train_y, test_y = (データの情報)\n",
    "\n",
    "# 学習器の構築を行います。\n",
    "# 学習器とは、学習モデル(学習方法)に沿って学習を行うように設計されたオブジェクトのことです。\n",
    "# scikit-learnのLinearRegressionが学習して予測データを返してくれるのです。\n",
    "# このLinearRegressionの詳細は次以降のセッションで扱います。\n",
    "model = LinearRegression()\n",
    "\n",
    "# 教師データ(学習を行うための既存データ)を用いて学習器に学習させます。\n",
    "model.fit(train_X, train_y)\n",
    "\n",
    "# 教師データとは別に用意したテスト用データを用いて学習器に予測させます。\n",
    "pred_y = model.predict(test_X)\n",
    "\n",
    "# 学習器の性能を確認するため決定係数という評価値を算出します。\n",
    "score = model.score(test_X, test_y)\n",
    "```\n",
    "\n",
    "練習問題では簡単な学習の流れを確認してみましょう。"
   ]
  },
  {
   "cell_type": "markdown",
   "metadata": {},
   "source": [
    "#### 問題"
   ]
  },
  {
   "cell_type": "markdown",
   "metadata": {
    "id": "question"
   },
   "source": [
    "- 次のプログラムはデータを学習するために必要なコードが抜けているために実行するとエラーになります。\n",
    "- 必要なコードを埋めてプログラムを完成させてください。"
   ]
  },
  {
   "cell_type": "code",
   "execution_count": null,
   "metadata": {
    "id": "index"
   },
   "outputs": [],
   "source": [
    "# scikit-learnのLinearRegressionというモデルをインポートします。詳細は1.2で説明します\n",
    "from sklearn.linear_model import LinearRegression\n",
    "\n",
    "# scikit-learnに標準で搭載されている、ボストン市の住宅価格のデータセットをインポートします\n",
    "from sklearn.datasets import load_boston\n",
    "\n",
    "# scikit-learnに搭載されているデータセットを学習用と予測結果照合用に分けるツールをインポートします\n",
    "from sklearn.model_selection import train_test_split\n",
    "\n",
    "\n",
    "# データの読み込みです\n",
    "data = load_boston()\n",
    "\n",
    "# データを教師用とテスト用に分けます\n",
    "train_X, test_X, train_y, test_y = train_test_split(\n",
    "    data.data, data.target, random_state=42)\n",
    "\n",
    "# 学習器の構築です\n",
    "model = LinearRegression()\n",
    "\n",
    "# 教師データを用いて学習器に学習させてください\n",
    "\n",
    "\n",
    "# テスト用データを用いて学習結果をpred_yに格納してください\n",
    "\n",
    "\n",
    "# 予測結果を出力します\n",
    "print(pred_y)"
   ]
  },
  {
   "cell_type": "markdown",
   "metadata": {},
   "source": [
    "#### ヒント"
   ]
  },
  {
   "cell_type": "markdown",
   "metadata": {
    "id": "hint"
   },
   "source": [
    "- 出力するのは予測した値です。評価値ではありません。"
   ]
  },
  {
   "cell_type": "markdown",
   "metadata": {},
   "source": [
    "#### 解答例"
   ]
  },
  {
   "cell_type": "code",
   "execution_count": null,
   "metadata": {
    "id": "answer"
   },
   "outputs": [],
   "source": [
    "# scikit-learnのLinearRegressionというモデルをインポートします。詳細は1.2で説明します\n",
    "from sklearn.linear_model import LinearRegression\n",
    "\n",
    "# scikit-learnに標準で搭載されている、ボストン市の住宅価格のデータセットをインポートします\n",
    "from sklearn.datasets import load_boston\n",
    "\n",
    "# scikit-learnに搭載されているデータセットを学習用と予測結果照合用に分けるツールをインポートします\n",
    "from sklearn.model_selection import train_test_split\n",
    "\n",
    "\n",
    "# データの読み込みです\n",
    "data = load_boston()\n",
    "\n",
    "# データを教師用とテスト用に分けます\n",
    "train_X, test_X, train_y, test_y = train_test_split(\n",
    "    data.data, data.target, random_state=42)\n",
    "\n",
    "# 学習器の構築です\n",
    "model = LinearRegression()\n",
    "\n",
    "# 教師データを用いて学習器に学習させてください\n",
    "model.fit(train_X, train_y)\n",
    "\n",
    "# テスト用データを用いて学習結果をpred_yに格納してください\n",
    "pred_y = model.predict(test_X)\n",
    "\n",
    "# 予測結果を出力します\n",
    "print(pred_y)"
   ]
  },
  {
   "cell_type": "markdown",
   "metadata": {},
   "source": [
    "***"
   ]
  },
  {
   "cell_type": "markdown",
   "metadata": {
    "id": "section_name",
    "sectionId": "r1obdC7WebG"
   },
   "source": [
    "## 1.2 線形回帰"
   ]
  },
  {
   "cell_type": "markdown",
   "metadata": {
    "courseId": 5010,
    "exerciseId": "r1ddKnLj8gG",
    "id": "quiz_session_name",
    "important": true,
    "isDL": false,
    "timeoutSecs": 5
   },
   "source": [
    "### 1.2.1 線形回帰とは"
   ]
  },
  {
   "cell_type": "markdown",
   "metadata": {
    "id": "description"
   },
   "source": [
    "回帰分析とは、予測したいデータを、すでにわかっているデータとの関係性を元に推定するアプローチのことです。最終的には数値を予測する時に<b style='color: #AA0000'>「回帰」</b>という呼び方をします。\n",
    "\n",
    "例えば毎分4L水が溜まるタンクがあるとします。5分後には水の量はどれくらいになっているでしょうか。おそらく20Lと予想がつくと思います。なぜならば$V (L)$を水の容量、$t (m)$を時間とした時に\n",
    "\n",
    "$V = 4 t$\n",
    "\n",
    "というモデルを我々の頭の中で組んでいるからです。ここで線形（=グラフの形が直線）であるというのは$t$が1次（2乗などになっていない）ということを表します。（厳密には、機械学習における線形回帰では、$t$が2次以上のもの（=グラフの形が曲線）もその範囲として扱われます。これは、重みを調整する際の計算式を紐解くと1次式（=線形/グラフの形が直線）となるためです。）\n",
    "\n",
    "線形回帰では予測に用いる<b>データの係数（ここでは4）を見ることで予測したいデータに対するそのデータの寄与の大きさを見る</b>ことができます。\n",
    "\n",
    "データの寄与の大きさを見るもう一つの例を挙げてみます。\n",
    "\n",
    "あるレストランでは、アンケートが実施されていて、総合評価を100点満点、食べ物のおいしさを50点満点、接客の良さを50点満点でつけるとします。\n",
    "\n",
    "店長が、総合評価の点数を良くするためには、食べ物のおいしさと接客の良さ、どちらかに力を入れたら良いか悩んでいるとしましょう。\n",
    "\n",
    "また、利用客は、食べ物のおいしさの点数の点が高いと総合評価の点数も90点ぐらいをつけていて、接客の良さの点数が高くても食べ物のおいしさの点数の点が低いと、総合評価が30点くらいになるような点数のつけ方をしていたとします。\n",
    "\n",
    "この時、総合評価の点数を$T$(点)、食べ物のおいしさの点数を$P_1$(点)、接客の良さの点数を$P_2$(点)とすると、\n",
    "\n",
    "$T = 2 P_1 + 0.5 P_2$\n",
    "\n",
    "といったモデルを組むことができます。\n",
    "\n",
    "このモデルの$P_1$、$P_2$の係数を見ると、食べ物のおいしさの点数$P_1$の寄与は大きく、接客の良さの点数$P_2$の寄与は小さいことがわかります。\n",
    "\n",
    "そのため、店長は、接客の良さよりも食べ物のおいしさに力を入れるべきだ、と考えることができるのです。\n",
    "\n",
    "<img src=\"https://aidemyexcontentspic.blob.core.windows.net/contents-pic/5010_regression/linear.png\" width=\"600\">\n",
    "\n",
    "<b><center>図1.2.1-1 線形関数</center></b>"
   ]
  },
  {
   "cell_type": "markdown",
   "metadata": {},
   "source": [
    "#### 問題"
   ]
  },
  {
   "cell_type": "markdown",
   "metadata": {
    "id": "question"
   },
   "source": [
    "- 線形回帰に対する次の説明のうち正しいのはどれでしょうか。"
   ]
  },
  {
   "cell_type": "markdown",
   "metadata": {
    "id": "choices"
   },
   "source": [
    "- 線形回帰は予測するデータの値（数値）を関数を用いて予測する方法である。\n",
    "- 線形回帰は予測するデータの値（カテゴリ）を関数を用いて予測する方法である。\n",
    "- 線形回帰は回帰分析において唯一の方法である。\n",
    "- 線形回帰はデータによって分析したい事象を完全に分析できる。"
   ]
  },
  {
   "cell_type": "markdown",
   "metadata": {},
   "source": [
    "#### ヒント"
   ]
  },
  {
   "cell_type": "markdown",
   "metadata": {
    "id": "hint"
   },
   "source": [
    "- 線形回帰によるアプローチは事象を説明するための一つの方法です。\n",
    "- 線形は予測に用いるデータの一次関数(グラフにすると直線になります)の総和であることからその名前があります。"
   ]
  },
  {
   "cell_type": "markdown",
   "metadata": {},
   "source": [
    "#### 解答"
   ]
  },
  {
   "cell_type": "markdown",
   "metadata": {
    "id": "answer"
   },
   "source": [
    "線形回帰は予測するデータの値（数値）を関数を用いて予測する方法である。"
   ]
  },
  {
   "cell_type": "markdown",
   "metadata": {},
   "source": [
    "***"
   ]
  },
  {
   "cell_type": "markdown",
   "metadata": {
    "courseId": 5010,
    "exerciseId": "rJK_KnUiIlM",
    "id": "quiz_session_name",
    "important": true,
    "isDL": false,
    "timeoutSecs": 5
   },
   "source": [
    "### 1.2.2 決定係数"
   ]
  },
  {
   "cell_type": "markdown",
   "metadata": {
    "id": "description"
   },
   "source": [
    "<b style='color: #AA0000'>決定係数</b>とは、線形回帰で予測したデータと実際のデータが、どのくらい一致しているかを示す指標です。また、各データの係数(寄与の大きさ)をどれくらい信用していいかも示しています。\n",
    "\n",
    "先ほど(1.2.1)のレストランの総合評価の点数の例で説明します。\n",
    "\n",
    "アンケートの点数が、\n",
    "\n",
    "総合評価：80点　食べ物のおいしさ：40点　接客の良さ：20点\n",
    "\n",
    "だったとします。また、線形回帰で求めた関数に、食べ物のおいしさ：40点　接客の良さ：20点の情報を与えると、予測された総合評価の点数が50点だったとします。このとき、予測した点数と実際の点数に<b>大きく差</b>があるため、<b>決定係数の値は0</b>に近づきます。</b>\n",
    "\n",
    "逆に、予測された総合評価の点数が78点だった場合、予測した点数と実際の点数の差が<b>非常に小さい</b>ため、<b>決定係数の値も1</b>に近づきます。\n",
    "\n",
    "ここでは決定係数を求めるための詳しい数式は紹介しませんが、<b>決定係数は0から1までの数字</b>を取り、<b>値が大きければ大きいほど関数の精度が良い</b>ことを表しています。おおよそ0.8以上の数値であればその関数の精度は良いと見ることができます。  しかし、<b>0.8以下の数値であってもその関数が無駄なわけではありません。</b>\n",
    "\n",
    "店長の悩みは、食べ物のおいしさと接客の良さ、どちらに力を入れるべきかでした。決して、総合評価の点数を見事的中させたいわけではありません。\n",
    "\n",
    "決定係数がある程度の大きさ(人によって基準は変わるが、0.4以上くらい)であれば、<b>データの寄与の大きさはある程度信頼</b>できます。つまり、接客の良さよりも食べ物のおいしさに力を入れるべきだと考えても問題ありません。"
   ]
  },
  {
   "cell_type": "markdown",
   "metadata": {},
   "source": [
    "#### 問題"
   ]
  },
  {
   "cell_type": "markdown",
   "metadata": {
    "id": "question"
   },
   "source": [
    "- 決定係数に対する次の説明のうち正しいのはどれでしょうか。"
   ]
  },
  {
   "cell_type": "markdown",
   "metadata": {
    "id": "choices"
   },
   "source": [
    "- 決定係数が小さいほど関数の精度が良い。\n",
    "- 決定係数は関数が予測するデータと実際のデータにどれくらい差があるかを示している。\n",
    "- 決定係数が小さい場合入力するデータの数を増やせばよい。\n",
    "- 決定係数は機械学習において自分で定めることができる。"
   ]
  },
  {
   "cell_type": "markdown",
   "metadata": {},
   "source": [
    "#### ヒント"
   ]
  },
  {
   "cell_type": "markdown",
   "metadata": {
    "id": "hint"
   },
   "source": [
    "- 決定係数は関数の精度、データの寄与の大きさの信頼度を示します。\n",
    "- モデルが変わると決定係数も変わります。"
   ]
  },
  {
   "cell_type": "markdown",
   "metadata": {},
   "source": [
    "#### 解答"
   ]
  },
  {
   "cell_type": "markdown",
   "metadata": {
    "id": "answer"
   },
   "source": [
    "決定係数は関数が予測するデータと実際のデータにどれくらい差があるかを示している。"
   ]
  },
  {
   "cell_type": "markdown",
   "metadata": {},
   "source": [
    "***"
   ]
  },
  {
   "cell_type": "markdown",
   "metadata": {
    "courseId": 5010,
    "exerciseId": "rk5dFnUj8ez",
    "id": "code_session_name",
    "important": true,
    "isDL": false,
    "timeoutSecs": 5
   },
   "source": [
    "### 1.2.3 線形単回帰"
   ]
  },
  {
   "cell_type": "markdown",
   "metadata": {
    "id": "description"
   },
   "source": [
    "<b style='color: #AA0000'>線形単回帰</b>とは、1つの予測したいデータ(ex. 水の量)を<b>1つのデータ(ex. 時間)から求める回帰分析</b>です。データの関係性を調べるときに使うことが多く、予測を行うときに用いられることは稀です。\n",
    "\n",
    "ここでは予測したいデータを$y$、予測に用いるデータを$x$として、 \n",
    "\n",
    "$y=ax+b$\n",
    "\n",
    "という関係があると仮定して、$a$と$b$を推定します。このチャプターの「線形回帰とは」の水の量のたとえと同じ形の数式なのがわかります(a=4、b=0)。\n",
    "\n",
    "$a$と$b$の推定には様々な方法がありますが、今回は<b style='color: #AA0000'>最小二乗法</b>と呼ばれる方法を用いましょう。\n",
    "実際の$y$の値と推定する$y(=ax+b)$の値の差の<b>二乗の総和</b>が最小になるように$a$と$b$を定める方法です。下図で言うと、オレンジのデータ点からの距離の総和が最小になるようにa、bを決めます。\n",
    "このようにしてすでにあるデータに対して一番近い直線を引き、その直線から今後のデータを推測します。\n",
    "\n",
    "<img src=\"https://aidemyexcontentspic.blob.core.windows.net/contents-pic/5010_regression/least-square.png\" width=\"600\">\n",
    "\n",
    "<b><center>図1.2.3-1 線形単回帰</center></b>\n",
    "\n",
    "なお、ここで誤差を二乗するのは何故でしょうか？それは<b>二乗することによって、正負の相違による誤差の相殺</b>がされないようにするためです。例えば誤差が+2と-2のものを単純に足し合わせると、値が0になって誤差が相殺されてしまいます。\n",
    "\n",
    "さて、実際に回帰分析を行うには、scikit-learnのlinear_modelモジュール内にあるLinearRegressionというモデルを使うのが便利でしょう。\n",
    "\n",
    "```Python\n",
    "from sklearn.linear_model import LinearRegression\n",
    "from sklearn.datasets import make_regression\n",
    "from sklearn.model_selection import train_test_split\n",
    "\n",
    "# 1.1.2では既存のデータセットを用いましたが、ここでは回帰的なデータの生成をします。\n",
    "X, y = make_regression(n_samples=100, n_features=1, n_targets=1, noise=5.0, random_state=42)\n",
    "\n",
    "train_X, test_X, train_y, test_y = train_test_split(X, y, random_state=42)\n",
    "\n",
    "model = LinearRegression()\n",
    "\n",
    "model.fit(train_X, train_y)\n",
    "\n",
    "# 決定係数の出力です\n",
    "print(model.score(test_X, test_y))\n",
    "```"
   ]
  },
  {
   "cell_type": "markdown",
   "metadata": {},
   "source": [
    "#### 問題"
   ]
  },
  {
   "cell_type": "markdown",
   "metadata": {
    "id": "question"
   },
   "source": [
    "- 線形単回帰を実行してみます。\n",
    "- test_X, test_yに対する決定係数を出力してください。\n",
    "- 出力はprint関数を用いてください。"
   ]
  },
  {
   "cell_type": "code",
   "execution_count": null,
   "metadata": {
    "id": "index"
   },
   "outputs": [],
   "source": [
    "# 必要なモジュールのインポート\n",
    "from sklearn.linear_model import LinearRegression\n",
    "from sklearn.datasets import make_regression\n",
    "from sklearn.model_selection import train_test_split\n",
    "\n",
    "# データの生成\n",
    "X, y = make_regression(n_samples=100, n_features=1, n_targets=1, noise=5.0, random_state=42)\n",
    "train_X, test_X, train_y, test_y = train_test_split(X, y, random_state=42)\n",
    "\n",
    "# 以下にコードを記述してください。\n",
    "\n",
    "\n",
    "\n",
    "\n",
    "# test_X, test_yに対する決定係数を出力してください\n"
   ]
  },
  {
   "cell_type": "markdown",
   "metadata": {},
   "source": [
    "#### ヒント"
   ]
  },
  {
   "cell_type": "markdown",
   "metadata": {
    "id": "hint"
   },
   "source": [
    "- 決定係数は`model.score(data, target)`で算出できます。\n",
    "- モデル名は`LinearRegression()`です。"
   ]
  },
  {
   "cell_type": "markdown",
   "metadata": {},
   "source": [
    "#### 解答例"
   ]
  },
  {
   "cell_type": "code",
   "execution_count": null,
   "metadata": {
    "id": "answer"
   },
   "outputs": [],
   "source": [
    "# 必要なモジュールのインポート\n",
    "from sklearn.linear_model import LinearRegression\n",
    "from sklearn.datasets import make_regression\n",
    "from sklearn.model_selection import train_test_split\n",
    "\n",
    "# データの生成\n",
    "X, y = make_regression(n_samples=100, n_features=1, n_targets=1, noise=5.0, random_state=42)\n",
    "train_X, test_X, train_y, test_y = train_test_split(X, y, random_state=42)\n",
    "\n",
    "# 以下にコードを記述してください。\n",
    "# モデルの構築\n",
    "model = LinearRegression()\n",
    "# モデルの学習\n",
    "model.fit(train_X, train_y)\n",
    "# test_X, test_yに対する決定係数を出力してください\n",
    "print(model.score(test_X, test_y))"
   ]
  },
  {
   "cell_type": "markdown",
   "metadata": {},
   "source": [
    "***"
   ]
  },
  {
   "cell_type": "markdown",
   "metadata": {
    "courseId": 5010,
    "exerciseId": "H1juFh8jIeG",
    "id": "code_session_name",
    "important": true,
    "isDL": false,
    "timeoutSecs": 5
   },
   "source": [
    "### 1.2.4 線形重回帰"
   ]
  },
  {
   "cell_type": "markdown",
   "metadata": {
    "id": "description"
   },
   "source": [
    "<b style='color: #AA0000'>線形重回帰</b>とは、予測したいデータが1つ(ex2. レストランの総合評価の点数)に対し、<b>予測に用いるデータが複数個</b>(ex2. 食べ物のおいしさの点数と接客の良さの点数)となる回帰分析です。\n",
    "予測に用いられるデータ同士の関係性が薄いときには高い予測精度が得られます。\n",
    "\n",
    "ここでも最小二乗法をもちいて予測するデータと予測に用いるデータの関係性を推定します。  \n",
    "重回帰の場合は予測に用いるデータを$x_0$,$x_1$,$x_2$...として\n",
    "\n",
    "$y = \\beta_{0}x_{0} + \\beta_{1}x_{1} + \\beta_{2}x_{2} + \\cdots +\\epsilon$  \n",
    "\n",
    "となるような$\\beta_{0},\\beta_{1}, \\beta_{2}..., \\epsilon$を推定することになります。\n",
    "\n",
    "<a href='https://aidemy.net/courses/5010/exercises/rk5dFnUj8ez' target='_blank'>前のエクササイズ</a>で扱った数式に比べると、どうでしょう？$x$の種類が増えてそれに応じて係数（先ほどのセッション「線形単回帰」でいう$a$）をたくさん設定しなくてはならなくなった、というイメージがありますね。\n",
    "\n",
    "線形重回帰もscikit-learnの`linear_model`モジュール内にある`LinearRegression`というモデルを使って回帰分析を行うことが可能です。  自動的に、すでにあるデータに対して一番フィットするように$\\beta_0,\\beta_1, \\beta_2..., \\epsilon$が決定され、予測が行われます。\n",
    "\n",
    "```Python\n",
    "from sklearn.linear_model import LinearRegression\n",
    "from sklearn.datasets import make_regression\n",
    "from sklearn.model_selection import train_test_split\n",
    "\n",
    "# ここでn_features=10とすることでxを生成します\n",
    "# 実際に使用するxの数はn_informative=3といった様に指定します\n",
    "X, y = make_regression(n_samples=100, n_features=10, n_informative=3, n_targets=1, noise=5.0, random_state=42)\n",
    "train_X, test_X, train_y, test_y = train_test_split(X, y, random_state=42)\n",
    "\n",
    "model = LinearRegression()\n",
    "model.fit(train_X, train_y)\n",
    "model.score(test_X, test_y)\n",
    "```\n",
    "また、`model.predict(test_X)`と書くことで`test_X`に対する予測を行うことができます。"
   ]
  },
  {
   "cell_type": "markdown",
   "metadata": {},
   "source": [
    "#### 問題"
   ]
  },
  {
   "cell_type": "markdown",
   "metadata": {
    "id": "question"
   },
   "source": [
    "- 線形重回帰を実行してください。\n",
    "- test_Xに対する推測結果を出力してください。\n",
    "- 出力はprint関数を用いてください。"
   ]
  },
  {
   "cell_type": "code",
   "execution_count": null,
   "metadata": {
    "id": "index"
   },
   "outputs": [],
   "source": [
    "# 必要なモジュールのインポート\n",
    "from sklearn.linear_model import LinearRegression\n",
    "from sklearn.datasets import make_regression\n",
    "from sklearn.model_selection import train_test_split\n",
    "\n",
    "# データの生成\n",
    "X, y = make_regression(n_samples=100, n_features=10, n_informative=3, n_targets=1, noise=5.0, random_state=42)\n",
    "train_X, test_X, train_y, test_y = train_test_split(X, y, random_state=42)\n",
    "\n",
    "# 以下にコードを記述してください\n",
    "\n",
    "\n",
    "\n",
    "\n",
    "# test_Xに対する推測結果を出力してください\n"
   ]
  },
  {
   "cell_type": "markdown",
   "metadata": {},
   "source": [
    "#### ヒント"
   ]
  },
  {
   "cell_type": "markdown",
   "metadata": {
    "id": "hint"
   },
   "source": [
    "- 予測する値を算出するには`model.predict(X)`を用います。\n",
    "- 機械学習の流れは線形単回帰とおなじです。"
   ]
  },
  {
   "cell_type": "markdown",
   "metadata": {},
   "source": [
    "#### 解答例"
   ]
  },
  {
   "cell_type": "code",
   "execution_count": null,
   "metadata": {
    "id": "answer"
   },
   "outputs": [],
   "source": [
    "# 必要なモジュールのインポート\n",
    "from sklearn.linear_model import LinearRegression\n",
    "from sklearn.datasets import make_regression\n",
    "from sklearn.model_selection import train_test_split\n",
    "\n",
    "# データの生成\n",
    "X, y = make_regression(n_samples=100, n_features=10, n_informative=3, n_targets=1, noise=5.0, random_state=42)\n",
    "train_X, test_X, train_y, test_y = train_test_split(X, y, random_state=42)\n",
    "\n",
    "# 以下にコードを記述してください\n",
    "# モデルの構築\n",
    "model = LinearRegression()\n",
    "# モデルの学習\n",
    "model.fit(train_X, train_y)\n",
    "# test_Xに対する推測結果を出力してください\n",
    "print(model.predict(test_X))"
   ]
  },
  {
   "cell_type": "markdown",
   "metadata": {},
   "source": [
    "***"
   ]
  },
  {
   "cell_type": "markdown",
   "metadata": {
    "id": "chapter_exam",
    "timeout": 20
   },
   "source": [
    "## 1.3 まとめ問題(提出不要)"
   ]
  },
  {
   "cell_type": "markdown",
   "metadata": {
    "id": "description"
   },
   "source": [
    "線形単回帰と線形重回帰を同じデータセットに対して行います。"
   ]
  },
  {
   "cell_type": "markdown",
   "metadata": {},
   "source": [
    "#### 問題"
   ]
  },
  {
   "cell_type": "markdown",
   "metadata": {
    "id": "question"
   },
   "source": [
    "- 6種類のデータを内包する飛行機の風切り音を回帰分析するデータが渡されます。\n",
    "- 予測したい列データをScaled sound pressure levelとし、Scaled sound pressure levelに対する決定係数を線形重回帰によって算出してください。\n",
    "- また、各列のScaled sound pressure levelに対する決定係数を線形単回帰を用いて算出してください。"
   ]
  },
  {
   "cell_type": "code",
   "execution_count": null,
   "metadata": {
    "id": "index"
   },
   "outputs": [],
   "source": [
    "# 必要なモジュールのインポート\n",
    "import pandas as pd\n",
    "from sklearn.linear_model import LinearRegression\n",
    "from sklearn.model_selection import train_test_split\n",
    "\n",
    "# データの読み込み\n",
    "feature_names = [\"Frequency\", \"Angle of attack\", \"Chord length\", \"Free-stream velocity\",\n",
    "                 \"Suction side displacement thickness\", \"Scaled sound pressure level\"]\n",
    "noise_data = pd.read_csv(\n",
    "    \"http://archive.ics.uci.edu/ml/machine-learning-databases/00291/airfoil_self_noise.dat\", sep=\"\\t\")\n",
    "noise_data.columns = feature_names\n",
    "\n",
    "# 線形単回帰を各データについて行ってください。\n",
    "\n",
    "\n",
    "# 線形重回帰用の教師データ、テストデータを準備\n",
    "train_X, test_X, train_y, test_y = train_test_split(\n",
    "    noise_data.drop(\"Scaled sound pressure level\", axis=1), noise_data[\"Scaled sound pressure level\"], random_state=42)\n",
    "\n",
    "# 線形重回帰を行ってください。\n"
   ]
  },
  {
   "cell_type": "markdown",
   "metadata": {},
   "source": [
    "#### ヒント"
   ]
  },
  {
   "cell_type": "markdown",
   "metadata": {
    "id": "hint"
   },
   "source": [
    "(例) `Frequency`と`Scaled sound pressure level`の関係を見たいときを考えます。<br>\n",
    "- 各データの取り出し方は以下のようにします。\n",
    "\n",
    "```python\n",
    "train_X, test_X, train_y, test_y = train_test_split(\n",
    "    noise_data[\"Frequency\"], noise_data[\"Scaled sound pressure level\"]\n",
    "# Xのshapeを修正\n",
    "train_X = train_X.values.reshape((-1, 1))\n",
    "test_X = test_X.values.reshape((-1, 1))\n",
    "```\n",
    "- データセットの詳細は<a href='https://archive.ics.uci.edu/ml/datasets/Airfoil+Self-Noise' target='_blank'>こちら</a>をご覧ください。"
   ]
  },
  {
   "cell_type": "markdown",
   "metadata": {},
   "source": [
    "#### 解答例"
   ]
  },
  {
   "cell_type": "code",
   "execution_count": null,
   "metadata": {
    "id": "answer"
   },
   "outputs": [],
   "source": [
    "# 必要なモジュールのインポート\n",
    "import pandas as pd\n",
    "from sklearn.linear_model import LinearRegression\n",
    "from sklearn.model_selection import train_test_split\n",
    "\n",
    "# データの読み込み\n",
    "feature_names = [\"Frequency\", \"Angle of attack\", \"Chord length\", \"Free-stream velocity\",\n",
    "                 \"Suction side displacement thickness\", \"Scaled sound pressure level\"]\n",
    "noise_data = pd.read_csv(\n",
    "    \"https://archive.ics.uci.edu/ml/machine-learning-databases/00291/airfoil_self_noise.dat\", sep=\"\\t\")\n",
    "noise_data.columns = feature_names\n",
    "\n",
    "# 線形単回帰を各データについて行ってください。\n",
    "# for文を使用すると短いコードで処理ができます。\n",
    "for name in feature_names:\n",
    "    # それぞれの列ごとにtrain,testデータを作成します\n",
    "    train_X, test_X, train_y, test_y = train_test_split(\n",
    "        noise_data[name], noise_data[\"Scaled sound pressure level\"], random_state=42)\n",
    "    \n",
    "    # Xのデータの形を修正\n",
    "    train_X = train_X.values.reshape((-1, 1))\n",
    "    test_X = test_X.values.reshape((-1, 1))\n",
    "    # 線形単回帰モデルを定義します\n",
    "    model = LinearRegression()\n",
    "    model.fit(train_X, train_y)\n",
    "    \n",
    "    #どの列を対象にしたかを表示します\n",
    "    print(\"線形単回帰に用いた変数:{}\".format(name))\n",
    "    print(\"決定係数:{}\".format(model.score(test_X, test_y)))\n",
    "    print()\n",
    "\n",
    "# 線形重回帰用の教師データ、テストデータを準備\n",
    "train_X, test_X, train_y, test_y = train_test_split(\n",
    "    noise_data.drop(\"Scaled sound pressure level\", axis=1), noise_data[\"Scaled sound pressure level\"], random_state=42)\n",
    "\n",
    "# 線形重回帰を行ってください。\n",
    "# モデルの構築\n",
    "model = LinearRegression()\n",
    "# モデルの学習\n",
    "model.fit(train_X, train_y)\n",
    "# 決定係数の出力\n",
    "print(\"線形重回帰\")\n",
    "print(\"決定係数:{}\".format(model.score(test_X, test_y)))"
   ]
  },
  {
   "cell_type": "markdown",
   "metadata": {
    "id": "commentary"
   },
   "source": [
    "Scaled sound pressure levelは今回の予測したい値なので決定係数は必ず1になります。  \n",
    "それ以外の変数も単独では0.1以下ととても低い値ですが、線形重回帰によって0.5まで上昇していることから全ての変数が複雑に絡みあって  \n",
    "データの予測がなされていることがわかります。"
   ]
  },
  {
   "cell_type": "markdown",
   "metadata": {},
   "source": [
    "***"
   ]
  }
 ],
 "metadata": {
  "celltoolbar": "Edit Metadata",
  "kernelspec": {
   "display_name": "Python 3",
   "language": "python",
   "name": "python3"
  },
  "language_info": {
   "codemirror_mode": {
    "name": "ipython",
    "version": 3
   },
   "file_extension": ".py",
   "mimetype": "text/x-python",
   "name": "python",
   "nbconvert_exporter": "python",
   "pygments_lexer": "ipython3",
   "version": "3.6.4"
  },
  "toc": {
   "base_numbering": 1,
   "nav_menu": {},
   "number_sections": true,
   "sideBar": true,
   "skip_h1_title": false,
   "title_cell": "Table of Contents",
   "title_sidebar": "Contents",
   "toc_cell": false,
   "toc_position": {
    "height": "calc(100% - 180px)",
    "left": "10px",
    "top": "150px",
    "width": "317.188px"
   },
   "toc_section_display": true,
   "toc_window_display": true
  },
  "varInspector": {
   "cols": {
    "lenName": 16,
    "lenType": 16,
    "lenVar": 40
   },
   "kernels_config": {
    "python": {
     "delete_cmd_postfix": "",
     "delete_cmd_prefix": "del ",
     "library": "var_list.py",
     "varRefreshCmd": "print(var_dic_list())"
    },
    "r": {
     "delete_cmd_postfix": ") ",
     "delete_cmd_prefix": "rm(",
     "library": "var_list.r",
     "varRefreshCmd": "cat(var_dic_list()) "
    }
   },
   "types_to_exclude": [
    "module",
    "function",
    "builtin_function_or_method",
    "instance",
    "_Feature"
   ],
   "window_display": false
  }
 },
 "nbformat": 4,
 "nbformat_minor": 2
}