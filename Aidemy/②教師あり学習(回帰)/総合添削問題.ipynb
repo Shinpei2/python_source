{
 "cells": [
  {
   "cell_type": "code",
   "execution_count": null,
   "metadata": {},
   "outputs": [],
   "source": [
    "# plt.show()で可視化されない人はこのセルを実行してください。\n",
    "%matplotlib inline"
   ]
  },
  {
   "cell_type": "markdown",
   "metadata": {
    "id": "final_exam",
    "timeout": 30
   },
   "source": [
    "# 総合添削問題"
   ]
  },
  {
   "cell_type": "markdown",
   "metadata": {
    "id": "description"
   },
   "source": [
    "総合添削問題ではコンクリートのデータを用いて複雑な回帰分析に挑戦していただきます。"
   ]
  },
  {
   "cell_type": "markdown",
   "metadata": {},
   "source": [
    "#### 問題"
   ]
  },
  {
   "cell_type": "markdown",
   "metadata": {
    "id": "question"
   },
   "source": [
    "- コンクリートの圧縮強度について回帰分析を行いたいデータが渡されます。\n",
    "- 回帰分析(線形回帰, ridge回帰, lasso回帰,...)を行い、最もよい決定係数を算出したモデルとその値を出力してください。\n",
    "- また、concrete_train_X, concrete_test_Xに関しては処理を加えても構いません。"
   ]
  },
  {
   "cell_type": "code",
   "execution_count": null,
   "metadata": {
    "collapsed": true,
    "id": "index"
   },
   "outputs": [],
   "source": [
    "import pandas as pd\n",
    "from sklearn.model_selection import train_test_split\n",
    "# 必要なモジュールを追記してください。\n",
    "from sklearn.linear_model import LinearRegression\n",
    "from sklearn.linear_model import Lasso\n",
    "from sklearn.linear_model import Ridge\n",
    "from sklearn.linear_model import ElasticNet\n",
    "\n",
    "# データの読み込み\n",
    "concrete_data = pd.read_excel(\"https://archive.ics.uci.edu/ml/machine-learning-databases/concrete/compressive/Concrete_Data.xls\")\n",
    "\n",
    "concrete_train_X, concrete_test_X, concrete_train_y, concrete_test_y = train_test_split(\n",
    "    concrete_data.drop('Concrete compressive strength(MPa, megapascals) ', axis=1),\n",
    "    concrete_data['Concrete compressive strength(MPa, megapascals) '], random_state=42)\n",
    "\n",
    "# 以下にコードを記述してください。\n",
    "#辞書型scoreに各種回帰分析の結果を格納\n",
    "model = LinearRegression()\n",
    "model.fit(concrete_train_X, concrete_train_y)\n",
    "score = {\"線形回帰\" : model.score(concrete_test_X, concrete_test_y)}\n",
    "print(\"線形回帰{}\".format(model.score(concrete_test_X, concrete_test_y)))\n",
    "\n",
    "model = Lasso()\n",
    "model.fit(concrete_train_X, concrete_train_y)\n",
    "score[\"ラッソ回帰\"] = model.score(concrete_test_X, concrete_test_y)\n",
    "print(\"ラッソ回帰{}\".format(model.score(concrete_test_X, concrete_test_y)))\n",
    "\n",
    "model = Ridge()\n",
    "model.fit(concrete_train_X, concrete_train_y)\n",
    "score[\"リッジ回帰\"] = model.score(concrete_test_X, concrete_test_y)\n",
    "print(\"リッジ回帰{}\".format(model.score(concrete_test_X, concrete_test_y)))\n",
    "\n",
    "model = ElasticNet(l1_ratio=0.8)\n",
    "model.fit(concrete_train_X, concrete_train_y)\n",
    "score[\"ElasticNet回帰\"] = model.score(concrete_test_X, concrete_test_y)\n",
    "print(\"ElasticNet回帰{}\".format(model.score(concrete_test_X, concrete_test_y)))\n",
    "\n",
    "#scoreのバリューで最大のものを出力\n",
    "max_k = max(score, key=score.get)\n",
    "print(\"最も良い決定係数は{0}で、モデルは{1}である\".format(max(score.values()), max_k))"
   ]
  },
  {
   "cell_type": "markdown",
   "metadata": {},
   "source": [
    "#### ヒント"
   ]
  },
  {
   "cell_type": "markdown",
   "metadata": {
    "id": "hint"
   },
   "source": [
    "- 必要なモジュールは追記してください。\n",
    "- データの処理に関しては行わなくても問題ありません。"
   ]
  },
  {
   "cell_type": "markdown",
   "metadata": {},
   "source": [
    "##  解答例"
   ]
  },
  {
   "cell_type": "code",
   "execution_count": null,
   "metadata": {},
   "outputs": [],
   "source": [
    "import pandas as pd\n",
    "from sklearn.model_selection import train_test_split\n",
    "# 必要なモジュールを追記してください。\n",
    "from sklearn.linear_model import LinearRegression\n",
    "from sklearn.linear_model import Lasso\n",
    "from sklearn.linear_model import Ridge\n",
    "\n",
    "# データの読み込み\n",
    "concrete_data = pd.read_excel(\"https://archive.ics.uci.edu/ml/machine-learning-databases/concrete/compressive/Concrete_Data.xls\")\n",
    "\n",
    "concrete_train_X, concrete_test_X, concrete_train_y, concrete_test_y = train_test_split(\n",
    "    concrete_data.drop('Concrete compressive strength(MPa, megapascals) ', axis=1),\n",
    "    concrete_data['Concrete compressive strength(MPa, megapascals) '], random_state=42)\n",
    "\n",
    "# 以下にコードを記述してください。\n",
    "max_score = 0\n",
    "best_model = \"\"\n",
    "# 線形回帰\n",
    "model = LinearRegression()\n",
    "model.fit(concrete_train_X, concrete_train_y)\n",
    "score = model.score(concrete_test_X, concrete_test_y)\n",
    "if max_score < score:\n",
    "    max_score = score\n",
    "    best_model = \"線形回帰\"\n",
    "# ラッソ回帰\n",
    "model = Lasso()\n",
    "model.fit(concrete_train_X, concrete_train_y)\n",
    "score = model.score(concrete_test_X, concrete_test_y)\n",
    "if max_score < score:\n",
    "    max_score = score\n",
    "    best_model = \"ラッソ回帰\"\n",
    "# リッジ回帰\n",
    "model = Ridge()\n",
    "model.fit(concrete_train_X, concrete_train_y)\n",
    "score = model.score(concrete_test_X, concrete_test_y)\n",
    "if max_score < score:\n",
    "    max_score = score\n",
    "    best_model = \"リッジ回帰\"\n",
    "    \n",
    "print(\"モデル:{}\".format(best_model))\n",
    "print(\"決定係数:{}\".format(max_score))"
   ]
  },
  {
   "cell_type": "markdown",
   "metadata": {
    "id": "commentary"
   },
   "source": [
    "添削課題の提出は以下のアドレスから提出いただきますようお願いします。<br>\n",
    "\b\n",
    "https://goo.gl/forms/fW7CAspZMwHuWuqk2<br><br>\n",
    "以下のアドレスからアンケートにご協力頂きたく存じます。<br>\n",
    "ご回答のほど、よろしくお願いいたします。\n",
    "\n",
    "https://goo.gl/forms/WHjJQYeodIndRvyz2"
   ]
  }
 ],
 "metadata": {
  "celltoolbar": "Edit Metadata",
  "kernelspec": {
   "display_name": "Python 3",
   "language": "python",
   "name": "python3"
  },
  "language_info": {
   "codemirror_mode": {
    "name": "ipython",
    "version": 3
   },
   "file_extension": ".py",
   "mimetype": "text/x-python",
   "name": "python",
   "nbconvert_exporter": "python",
   "pygments_lexer": "ipython3",
   "version": "3.7.3"
  },
  "toc": {
   "base_numbering": 1,
   "nav_menu": {},
   "number_sections": true,
   "sideBar": true,
   "skip_h1_title": false,
   "title_cell": "Table of Contents",
   "title_sidebar": "Contents",
   "toc_cell": false,
   "toc_position": {},
   "toc_section_display": true,
   "toc_window_display": false
  }
 },
 "nbformat": 4,
 "nbformat_minor": 2
}
